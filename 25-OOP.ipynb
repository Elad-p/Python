{
 "cells": [
  {
   "cell_type": "markdown",
   "metadata": {},
   "source": [
    "# <font color=\"blue\"> Chapter 25 - Object Oriented Programming </font> "
   ]
  },
  {
   "cell_type": "code",
   "execution_count": null,
   "metadata": {},
   "outputs": [],
   "source": [
    "\"\"\"\n",
    "OOP Allows us to create our own objects in Python and use them\n",
    "as many times as we need.\n",
    "This objects are called \"classes\".\n",
    "Each time we create a new object from a class we defined we call it\n",
    "\"an instance\", because that object is an instance of our class.\n",
    "We can define properties that characterize our instance.\n",
    "We can also define methods which are actions we can perform on that\n",
    "specific class.\n",
    "\"\"\""
   ]
  },
  {
   "cell_type": "markdown",
   "metadata": {},
   "source": [
    "## Demo 1\n",
    "\n",
    "Our class is essentialy a blueprint for creating instances of it\n",
    "In this example, each monster we'll be created as an instnace of\n",
    "this class"
   ]
  },
  {
   "cell_type": "code",
   "execution_count": null,
   "metadata": {},
   "outputs": [],
   "source": [
    "class Monster:\n",
    "    pass\n",
    "\n",
    "\n",
    "monster_1 = Monster()\n",
    "monster_2 = Monster()"
   ]
  },
  {
   "cell_type": "markdown",
   "metadata": {},
   "source": [
    "By Printing these instances, you can see that each monster instance\n",
    "is unique, and each has different location in memory"
   ]
  },
  {
   "cell_type": "code",
   "execution_count": null,
   "metadata": {},
   "outputs": [],
   "source": [
    "print(monster_1)"
   ]
  },
  {
   "cell_type": "code",
   "execution_count": null,
   "metadata": {},
   "outputs": [],
   "source": [
    "print(monster_2)"
   ]
  },
  {
   "cell_type": "markdown",
   "metadata": {},
   "source": [
    "Demo 2 - Instance Variables\n",
    "\n",
    "Instance variable contains data that is unqiue to each instance\n",
    "We can manually create instance variables by doing something like this :"
   ]
  },
  {
   "cell_type": "code",
   "execution_count": null,
   "metadata": {},
   "outputs": [],
   "source": [
    "monster_1.race = 'orc'\n",
    "monster_1.name = 'Dancing Mouse'\n",
    "monster_1.weight = 73\n",
    "monster_1.height = 183\n",
    "monster_1.bmi = monster_1.weight / monster_1.height ** 2\n",
    "monster_1.power = 56\n",
    "\n",
    "monster_2.race = 'night_walker'\n",
    "monster_2.name = 'Yellow King'\n",
    "monster_2.weight = 53\n",
    "monster_2.height = 162\n",
    "monster_2.bmi = monster_1.weight / monster_1.height ** 2\n",
    "monster_2.power = 33"
   ]
  },
  {
   "cell_type": "markdown",
   "metadata": {},
   "source": [
    "Now, each of these instances has attributes that are unique to them"
   ]
  },
  {
   "cell_type": "code",
   "execution_count": null,
   "metadata": {},
   "outputs": [],
   "source": [
    "print(\"Monster race : \" + monster_2.race)"
   ]
  },
  {
   "cell_type": "code",
   "execution_count": null,
   "metadata": {},
   "outputs": [],
   "source": [
    "print(\"Monster name : \" + monster_2.name)"
   ]
  },
  {
   "cell_type": "code",
   "execution_count": null,
   "metadata": {},
   "outputs": [],
   "source": [
    "print(\"Monster weight : \" + str(monster_2.weight))"
   ]
  },
  {
   "cell_type": "code",
   "execution_count": null,
   "metadata": {},
   "outputs": [],
   "source": [
    "print(\"Monster height : \" + str(monster_2.height))"
   ]
  },
  {
   "cell_type": "markdown",
   "metadata": {},
   "source": [
    "Demo 3 - Class Initiator\n",
    "\n",
    "* Setting up attributes manually takes a lot of code, and proned to mistakes\n",
    "  Instead of setting up attributes manually, we can define them automatically\n",
    "  when we create a new instance\n",
    "\n",
    "* You can think of the init method as initiator. If you're coming with a\n",
    "  background in different programming language - think of it as the constructor"
   ]
  },
  {
   "cell_type": "code",
   "execution_count": null,
   "metadata": {},
   "outputs": [],
   "source": [
    "class Monster:\n",
    "    def __init__(self, race, name, height, weight, power):\n",
    "        self.race = race\n",
    "        self.name = name\n",
    "        self.height = height\n",
    "        self.weight = weight\n",
    "        self.bmi = weight / height ** 2\n",
    "        self.power = power"
   ]
  },
  {
   "cell_type": "markdown",
   "metadata": {},
   "source": [
    "* When we create methods within a class they receive the instance as the first\n",
    "  argument automatically\n",
    "* By convention, we call it self, you can call it whatever you want, but it's a\n",
    "  good idea to stick with the convention\n",
    "* After \"self\", we can define the other arguments we want to accept\n",
    "  Next, we initialize the instance variables\n",
    "\n",
    "* Note, \"self.race = race\" could also be written as \"self.monster_race = race\"\n",
    "  or any other name, but it is best to keep the same name\n",
    "\n",
    "* Good reference about the difference between Python's self and Java's this\n",
    "  https://stackoverflow.com/questions/21694901/difference-between-python-self-and-java-this"
   ]
  },
  {
   "cell_type": "code",
   "execution_count": null,
   "metadata": {},
   "outputs": [],
   "source": [
    "monster_1 = Monster('orc', 'Dancing Mouse', 73, 183, 56)\n",
    "monster_2 = Monster('night_walker', 'Yellow King', 53, 162, 33)"
   ]
  },
  {
   "cell_type": "code",
   "execution_count": null,
   "metadata": {},
   "outputs": [],
   "source": [
    "print(\"Monster race : \" + monster_1.race)"
   ]
  },
  {
   "cell_type": "code",
   "execution_count": null,
   "metadata": {},
   "outputs": [],
   "source": [
    "print(\"Monster name : \" + monster_1.name)"
   ]
  },
  {
   "cell_type": "code",
   "execution_count": null,
   "metadata": {},
   "outputs": [],
   "source": [
    "print(\"Monster weight : \" + str(monster_1.weight))"
   ]
  },
  {
   "cell_type": "code",
   "execution_count": null,
   "metadata": {},
   "outputs": [],
   "source": [
    "print(\"Monster height : \" + str(monster_1.height))"
   ]
  },
  {
   "cell_type": "markdown",
   "metadata": {},
   "source": [
    "Note there is no BMI specification, since it's automatically\n",
    "derived from height / weight\n",
    "\n",
    "Demo 4 - Actions (Methods)\n",
    "\n",
    "Adding action for a class,\n",
    "Instead of printing each monster information manually\n",
    "let say we want to give each monster the ability to display its details"
   ]
  },
  {
   "cell_type": "code",
   "execution_count": null,
   "metadata": {},
   "outputs": [],
   "source": [
    "class Monster:\n",
    "    def __init__(self, race, name, height, weight, power):\n",
    "        self.race = race\n",
    "        self.name = name\n",
    "        self.height = height\n",
    "        self.weight = weight\n",
    "        self.bmi = weight / height ** 2\n",
    "        self.power = power\n",
    "\n",
    "    def monster_details_prnt(self):\n",
    "        print(\"------------------------------------\")\n",
    "        print(\"Monster race : \" + self.race)\n",
    "        print(\"Monster name : \" + self.name)\n",
    "        print(\"Monster weight : \" + str(self.weight))\n",
    "        print(\"Monster height : \" + str(self.height))\n",
    "        print(\"Monster BMI : \" + str(self.bmi))\n",
    "        print(\"Monster power : \" + str(self.power))\n",
    "        print(\"------------------------------------\")\n",
    "\n",
    "    def monster_details_dict(self):\n",
    "        m_dict = dict()\n",
    "        m_dict[\"race\"] = self.race\n",
    "        m_dict[\"name\"] = self.name\n",
    "        m_dict[\"weight\"] = self.weight\n",
    "        m_dict[\"height\"] = self.height\n",
    "        m_dict[\"bmi\"] = self.bmi\n",
    "        m_dict[\"power\"] = self.power\n",
    "        return m_dict\n",
    "\n",
    "    def simple_greeting(self,greeting):\n",
    "        return greeting + ' ' + self.name\n",
    "\n",
    "\n",
    "monster_1 = Monster('orc', 'Dancing Mouse', 73, 183, 56)\n",
    "monster_2 = Monster('night_walker', 'Yellow King', 53, 162, 33)"
   ]
  },
  {
   "cell_type": "markdown",
   "metadata": {},
   "source": [
    "As a simple print"
   ]
  },
  {
   "cell_type": "code",
   "execution_count": null,
   "metadata": {},
   "outputs": [],
   "source": [
    "monster_1.monster_details_prnt()\n",
    "monster_2.monster_details_prnt()"
   ]
  },
  {
   "cell_type": "markdown",
   "metadata": {},
   "source": [
    "As a dictionary"
   ]
  },
  {
   "cell_type": "code",
   "execution_count": null,
   "metadata": {},
   "outputs": [],
   "source": [
    "monster_1_details = monster_1.monster_details_dict()"
   ]
  },
  {
   "cell_type": "code",
   "execution_count": null,
   "metadata": {},
   "outputs": [],
   "source": [
    "print(monster_1_details)"
   ]
  },
  {
   "cell_type": "markdown",
   "metadata": {},
   "source": [
    "Simple Greeting"
   ]
  },
  {
   "cell_type": "code",
   "execution_count": null,
   "metadata": {},
   "outputs": [],
   "source": [
    "print(monster_1.simple_greeting(\"hello\"))"
   ]
  },
  {
   "cell_type": "markdown",
   "metadata": {},
   "source": [
    "Demo 5 - Calling Methods\n",
    "\n",
    "There are two ways to call a method\n",
    "First, we can call the method on the instance, this way we don't have to specify\n",
    "the instance name, its being passed automatically :"
   ]
  },
  {
   "cell_type": "code",
   "execution_count": null,
   "metadata": {},
   "outputs": [],
   "source": [
    "monster_1.monster_details_prnt()"
   ]
  },
  {
   "cell_type": "markdown",
   "metadata": {},
   "source": [
    "We can also call the method on the class, in this case :"
   ]
  },
  {
   "cell_type": "code",
   "execution_count": null,
   "metadata": {},
   "outputs": [],
   "source": [
    "Monster.monster_details_prnt(monster_1)\n",
    "\n",
    "Monster.simple_greeting(monster_1,\"Yo Yo Whasup\")"
   ]
  },
  {
   "cell_type": "markdown",
   "metadata": {},
   "source": [
    "Demo 6 - Defining Class Variables\n",
    "Class variables are variables that are shared among all instances of a class.\n",
    "While instances variables can be unique for each instance, class variables should be the\n",
    "same for each instance\n",
    "\n",
    "Lets say that according the game difficulty (chosen by the player)\n",
    "our game increases the power of all monsters by an equal amount\n",
    "\n",
    "Attempt #1"
   ]
  },
  {
   "cell_type": "code",
   "execution_count": null,
   "metadata": {},
   "outputs": [],
   "source": [
    "class Monster:\n",
    "    def __init__(self, race, name, height, weight, power):\n",
    "        self.race = race\n",
    "\n",
    "        self.name = name\n",
    "        self.height = height\n",
    "        self.weight = weight\n",
    "        self.bmi = weight / height ** 2\n",
    "        self.power = power\n",
    "\n",
    "    def power_raise(self):\n",
    "        self.power = int(self.power * 1.5)\n",
    "\n",
    "\n",
    "monster_1 = Monster('orc', 'Dancing Mouse', 73, 183, 56)"
   ]
  },
  {
   "cell_type": "code",
   "execution_count": null,
   "metadata": {},
   "outputs": [],
   "source": [
    "print(monster_1.power)"
   ]
  },
  {
   "cell_type": "code",
   "execution_count": null,
   "metadata": {},
   "outputs": [],
   "source": [
    "monster_1.power_raise()"
   ]
  },
  {
   "cell_type": "code",
   "execution_count": null,
   "metadata": {},
   "outputs": [],
   "source": [
    "print(monster_1.power)"
   ]
  },
  {
   "cell_type": "markdown",
   "metadata": {},
   "source": [
    "This code has a few problems :\n",
    "1. There is no way to access the raise amount\n",
    "   * monster_1.raise_amount\n",
    "   * Monster.raise_amount\n",
    "2. There is no way to easily update the raise amount, its hardcoded within the class definition\n",
    "\n",
    "Instead lets re-write our code this way :\n",
    "\n",
    "Attempt 2"
   ]
  },
  {
   "cell_type": "code",
   "execution_count": null,
   "metadata": {},
   "outputs": [],
   "source": [
    "class Monster:\n",
    "    raise_amount = 1.5\n",
    "\n",
    "    def __init__(self, race, name, height, weight, power):\n",
    "        self.race = race\n",
    "        self.name = name\n",
    "        self.height = height\n",
    "        self.weight = weight\n",
    "        self.bmi = weight / height ** 2\n",
    "        self.power = power\n",
    "\n",
    "    def power_raise(self):\n",
    "        self.power = int(self.power * self.raise_amount)  # note the self.raise_amount\n",
    "\n",
    "\n",
    "monster_1 = Monster('orc', 'Dancing Mouse', 73, 183, 56)\n",
    "monster_2 = Monster('night_walker', 'Yellow King', 53, 162, 33)"
   ]
  },
  {
   "cell_type": "markdown",
   "metadata": {},
   "source": [
    "When we try to access an attribute on an instance, the instance will first check if it contains that attribute\n",
    "If not, it will see if the class has it, and inherit that attribute\n",
    "So when we're accessing the raise_amount on those instances, we're actually accessing the class attribute"
   ]
  },
  {
   "cell_type": "code",
   "execution_count": null,
   "metadata": {},
   "outputs": [],
   "source": [
    "print(Monster.raise_amount)"
   ]
  },
  {
   "cell_type": "code",
   "execution_count": null,
   "metadata": {},
   "outputs": [],
   "source": [
    "print(monster_1.raise_amount)"
   ]
  },
  {
   "cell_type": "code",
   "execution_count": null,
   "metadata": {},
   "outputs": [],
   "source": [
    "print(monster_2.raise_amount)"
   ]
  },
  {
   "cell_type": "markdown",
   "metadata": {},
   "source": [
    "Lets use the __dict__ method to verify these instances doesn't have raise_amount attribute"
   ]
  },
  {
   "cell_type": "code",
   "execution_count": null,
   "metadata": {},
   "outputs": [],
   "source": [
    "print(monster_1.__dict__)"
   ]
  },
  {
   "cell_type": "code",
   "execution_count": null,
   "metadata": {},
   "outputs": [],
   "source": [
    "print(monster_2.__dict__)"
   ]
  },
  {
   "cell_type": "markdown",
   "metadata": {},
   "source": [
    "In opposed to"
   ]
  },
  {
   "cell_type": "code",
   "execution_count": null,
   "metadata": {},
   "outputs": [],
   "source": [
    "print(Monster.__dict__)"
   ]
  },
  {
   "cell_type": "markdown",
   "metadata": {},
   "source": [
    "Demo 7 - Working with Class Variables\n",
    "\n",
    "Setting the attribute at the class level"
   ]
  },
  {
   "cell_type": "code",
   "execution_count": null,
   "metadata": {},
   "outputs": [],
   "source": [
    "Monster.raise_amount = 10"
   ]
  },
  {
   "cell_type": "code",
   "execution_count": null,
   "metadata": {},
   "outputs": [],
   "source": [
    "print(Monster.raise_amount)"
   ]
  },
  {
   "cell_type": "code",
   "execution_count": null,
   "metadata": {},
   "outputs": [],
   "source": [
    "print(monster_1.raise_amount)"
   ]
  },
  {
   "cell_type": "code",
   "execution_count": null,
   "metadata": {},
   "outputs": [],
   "source": [
    "print(monster_2.raise_amount)"
   ]
  },
  {
   "cell_type": "code",
   "execution_count": null,
   "metadata": {},
   "outputs": [],
   "source": [
    "print(monster_1.power)"
   ]
  },
  {
   "cell_type": "code",
   "execution_count": null,
   "metadata": {},
   "outputs": [],
   "source": [
    "monster_1.power_raise()"
   ]
  },
  {
   "cell_type": "code",
   "execution_count": null,
   "metadata": {},
   "outputs": [],
   "source": [
    "print(monster_1.power)"
   ]
  },
  {
   "cell_type": "markdown",
   "metadata": {},
   "source": [
    "Setting the attribute at the instance level"
   ]
  },
  {
   "cell_type": "code",
   "execution_count": null,
   "metadata": {},
   "outputs": [],
   "source": [
    "monster_1.raise_amount = 20"
   ]
  },
  {
   "cell_type": "code",
   "execution_count": null,
   "metadata": {},
   "outputs": [],
   "source": [
    "print(Monster.raise_amount)"
   ]
  },
  {
   "cell_type": "code",
   "execution_count": null,
   "metadata": {},
   "outputs": [],
   "source": [
    "print(monster_1.raise_amount)"
   ]
  },
  {
   "cell_type": "code",
   "execution_count": null,
   "metadata": {},
   "outputs": [],
   "source": [
    "print(monster_2.raise_amount)"
   ]
  },
  {
   "cell_type": "code",
   "execution_count": null,
   "metadata": {},
   "outputs": [],
   "source": [
    "print(monster_1.power)"
   ]
  },
  {
   "cell_type": "code",
   "execution_count": null,
   "metadata": {},
   "outputs": [],
   "source": [
    "monster_1.power_raise()"
   ]
  },
  {
   "cell_type": "code",
   "execution_count": null,
   "metadata": {},
   "outputs": [],
   "source": [
    "print(monster_1.power)"
   ]
  },
  {
   "cell_type": "markdown",
   "metadata": {},
   "source": [
    "Now, notice monster_1 has its own raise_amount attribute"
   ]
  },
  {
   "cell_type": "code",
   "execution_count": null,
   "metadata": {},
   "outputs": [],
   "source": [
    "print(monster_1.__dict__)"
   ]
  },
  {
   "cell_type": "markdown",
   "metadata": {},
   "source": [
    "Demo 8 - Another Class Variables Usage\n",
    "\n",
    "In our last example, it made sense to use self.class_attribute. Because we wanted to give each\n",
    "instance the ability to determine its own power_raise\n",
    "\n",
    "But, if for example we wanted to create a variable that counts the number of instances that we have\n",
    "In this case it would be more appropriate to use Class.attribute"
   ]
  },
  {
   "cell_type": "code",
   "execution_count": null,
   "metadata": {},
   "outputs": [],
   "source": [
    "class Monster:\n",
    "    raise_amount = 1.5\n",
    "    num_of_monsters = 0\n",
    "\n",
    "    def __init__(self, race, name, height, weight, power):\n",
    "        self.race = race\n",
    "        self.name = name\n",
    "        self.height = height\n",
    "        self.weight = weight\n",
    "        self.bmi = weight / height ** 2\n",
    "        self.power = power\n",
    "        Monster.num_of_monsters += 1"
   ]
  },
  {
   "cell_type": "code",
   "execution_count": null,
   "metadata": {},
   "outputs": [],
   "source": [
    "print(Monster.num_of_monsters)"
   ]
  },
  {
   "cell_type": "code",
   "execution_count": null,
   "metadata": {},
   "outputs": [],
   "source": [
    "monster_1 = Monster('orc', 'Dancing Mouse', 73, 183, 56)\n",
    "monster_2 = Monster('night_walker', 'Yellow King', 53, 162, 33)"
   ]
  },
  {
   "cell_type": "code",
   "execution_count": null,
   "metadata": {},
   "outputs": [],
   "source": [
    "print(Monster.num_of_monsters)"
   ]
  },
  {
   "cell_type": "markdown",
   "metadata": {},
   "source": [
    "Demo 9 - Class Methods : Simple Usecase\n",
    "\n",
    "Class method\n",
    "* In Python, regular methods in a class take the instance as the first argument\n",
    "* Class methods, on the other hand, takes the class name as the first argument\n",
    "\n",
    "So for example, we can define a class method for changing the raise_amount"
   ]
  },
  {
   "cell_type": "code",
   "execution_count": null,
   "metadata": {},
   "outputs": [],
   "source": [
    "class Monster:\n",
    "    raise_amount = 1.5\n",
    "    num_of_monsters = 0\n",
    "\n",
    "    @classmethod  # a decorator allowing us to modify the method functionality\n",
    "    def set_raise_amount(cls, amount):\n",
    "        cls.raise_amount = amount\n",
    "\n",
    "    def __init__(self, race, name, height, weight, power):\n",
    "        self.race = race\n",
    "        self.name = name\n",
    "        self.height = height\n",
    "        self.weight = weight\n",
    "        self.bmi = weight / height ** 2\n",
    "        self.power = power\n",
    "        Monster.num_of_monsters += 1\n",
    "\n",
    "    def power_raise(self):\n",
    "        self.power = int(self.power * self.raise_amount)  # note the self.raise_amount\n",
    "\n",
    "\n",
    "monster_1 = Monster('orc', 'Dancing Mouse', 73, 183, 56)\n",
    "monster_2 = Monster('night_walker', 'Yellow King', 53, 162, 33)"
   ]
  },
  {
   "cell_type": "markdown",
   "metadata": {},
   "source": [
    "Setting the attribute at the class level"
   ]
  },
  {
   "cell_type": "code",
   "execution_count": null,
   "metadata": {},
   "outputs": [],
   "source": [
    "Monster.set_raise_amount(10)"
   ]
  },
  {
   "cell_type": "code",
   "execution_count": null,
   "metadata": {},
   "outputs": [],
   "source": [
    "print(Monster.raise_amount)"
   ]
  },
  {
   "cell_type": "code",
   "execution_count": null,
   "metadata": {},
   "outputs": [],
   "source": [
    "print(monster_1.raise_amount)"
   ]
  },
  {
   "cell_type": "code",
   "execution_count": null,
   "metadata": {},
   "outputs": [],
   "source": [
    "print(monster_2.raise_amount)"
   ]
  },
  {
   "cell_type": "markdown",
   "metadata": {},
   "source": [
    "Demo 10 - Class Methods : Alternative Constructors\n",
    "Class method\n",
    "using classes as an alternative constructor\n",
    "\n",
    "Consider the following string :"
   ]
  },
  {
   "cell_type": "code",
   "execution_count": null,
   "metadata": {},
   "outputs": [],
   "source": [
    "monster_string_1 = \"Dragon,Drake Junior,153,163,2330\""
   ]
  },
  {
   "cell_type": "markdown",
   "metadata": {},
   "source": [
    "We would like to create a method for parsing it, and generate a new class out of it\n",
    "\n",
    "Basically we could say this :\n",
    "race, name, height, weight, power = monster_string_1.split(\",\")\n",
    "monster_3 = Monster(race, name, int(height), int(weight), int(power))\n",
    "monster_3.monster_details_prnt()\n",
    "\n",
    "Instead we can create an alternative constructor which will allow us to submit a string\n",
    "and parse it into variables"
   ]
  },
  {
   "cell_type": "code",
   "execution_count": null,
   "metadata": {},
   "outputs": [],
   "source": [
    "class Monster:\n",
    "    raise_amount = 1.5\n",
    "    num_of_monsters = 0\n",
    "\n",
    "    @classmethod\n",
    "    def set_raise_amount(cls, amount):\n",
    "        cls.raise_amount = amount\n",
    "\n",
    "    @classmethod\n",
    "    def from_string(cls, monster_str):\n",
    "        race, name, height, weight, power = monster_str.split(',')\n",
    "        return cls(race, name, int(height), int(weight), int(power))\n",
    "\n",
    "    def __init__(self, race, name, height, weight, power):\n",
    "        self.race = race\n",
    "        self.name = name\n",
    "        self.height = height\n",
    "        self.weight = weight\n",
    "        self.bmi = weight / height ** 2\n",
    "        self.power = power\n",
    "        Monster.num_of_monsters += 1\n",
    "\n",
    "    def monster_details_prnt(self):\n",
    "        print(\"------------------------------------\")\n",
    "        print(\"Monster race : \" + self.race)\n",
    "        print(\"Monster name : \" + self.name)\n",
    "        print(\"Monster weight : \" + str(self.weight))\n",
    "        print(\"Monster height : \" + str(self.height))\n",
    "        print(\"Monster BMI : \" + str(self.bmi))\n",
    "        print(\"Monster power : \" + str(self.power))\n",
    "        print(\"------------------------------------\")\n",
    "\n",
    "\n",
    "monster_string_1 = \"Dragon,Drake Junior,153,163,2330\"\n",
    "monster_3 = Monster.from_string(monster_string_1)\n",
    "monster_3.monster_details_prnt()"
   ]
  },
  {
   "cell_type": "markdown",
   "metadata": {},
   "source": [
    "Demo 11 - Static Methods\n",
    "Static Methods\n",
    "* Regular methods pass the instance as their first argument\n",
    "* Class methods pass the class as their first argument\n",
    "* Static methods on the other hand doesn't pass anything automatically.\n",
    "* Static methods behaves like a regular function, except we include them in our classes\n",
    "  because they have some logical connection with the class\n",
    "\n",
    "For example, lets create a function to print the number of instances"
   ]
  },
  {
   "cell_type": "code",
   "execution_count": null,
   "metadata": {},
   "outputs": [],
   "source": [
    "class Monster:\n",
    "    raise_amount = 1.5\n",
    "    num_of_monsters = 0\n",
    "\n",
    "    @staticmethod\n",
    "    def monster_count():\n",
    "        print(\"There are currently {} monsters\".format(Monster.num_of_monsters))\n",
    "\n",
    "    def __init__(self, race, name, height, weight, power):\n",
    "        self.race = race\n",
    "        self.name = name\n",
    "        self.height = height\n",
    "        self.weight = weight\n",
    "        self.bmi = weight / height ** 2\n",
    "        self.power = power\n",
    "        Monster.num_of_monsters += 1\n",
    "\n",
    "Monster.monster_count()\n",
    "\n",
    "monster_1 = Monster('orc', 'Dancing Mouse', 73, 183, 56)\n",
    "monster_2 = Monster('night_walker', 'Yellow King', 53, 162, 33)\n",
    "\n",
    "Monster.monster_count()"
   ]
  },
  {
   "cell_type": "markdown",
   "metadata": {},
   "source": [
    "Demo 12\n",
    "\n",
    "str() and  repr() in Python\n",
    "\n",
    "* str() and repr() both are used to get a string representation of object.\n",
    "* str() is used for creating output for end user while repr() is mainly\n",
    "  used for debugging and development.\n",
    "* repr’s goal is to be unambiguous and str’s is to be readable"
   ]
  },
  {
   "cell_type": "code",
   "execution_count": null,
   "metadata": {},
   "outputs": [],
   "source": [
    "import datetime\n",
    "\n",
    "today = datetime.datetime.now()"
   ]
  },
  {
   "cell_type": "code",
   "execution_count": null,
   "metadata": {},
   "outputs": [],
   "source": [
    "print(today)"
   ]
  },
  {
   "cell_type": "markdown",
   "metadata": {},
   "source": [
    "Prints readable format for date-time object"
   ]
  },
  {
   "cell_type": "code",
   "execution_count": null,
   "metadata": {},
   "outputs": [],
   "source": [
    "print(str(today))"
   ]
  },
  {
   "cell_type": "markdown",
   "metadata": {},
   "source": [
    "prints the official format of date-time object"
   ]
  },
  {
   "cell_type": "code",
   "execution_count": null,
   "metadata": {},
   "outputs": [],
   "source": [
    "print(repr(today))"
   ]
  },
  {
   "cell_type": "markdown",
   "metadata": {},
   "source": [
    "using __str__ and __repr__\n",
    "\n",
    "The __str__ method\n",
    "By default printing the instance object (print(monster_1)) returns an object\n",
    "We can change this behavior by modifying the __str__ method\n",
    "\n",
    "A user defined class should also have a __repr__ if\n",
    "we need detailed information for debugging"
   ]
  },
  {
   "cell_type": "code",
   "execution_count": null,
   "metadata": {},
   "outputs": [],
   "source": [
    "class Monster:\n",
    "    raise_amount = 1.5\n",
    "    num_of_monsters = 0\n",
    "\n",
    "    def __init__(self, race, name, height, weight, power):\n",
    "        self.race = race\n",
    "        self.name = name\n",
    "        self.height = height\n",
    "        self.weight = weight\n",
    "        self.bmi = weight / height ** 2\n",
    "        self.power = power\n",
    "        Monster.num_of_monsters += 1\n",
    "\n",
    "    def __str__(self):\n",
    "        value = (\"Monster basic details : Name: {}, Race: {}\".format(self.name, self.race))\n",
    "        return value\n",
    "\n",
    "    def __repr__(self):\n",
    "        value = (\n",
    "        \"Monster {}, {}, {}, {}, {}, {}\".format(self.race, self.name, self.weight, self.height, self.bmi, self.power))\n",
    "        return value\n",
    "\n",
    "    def power_raise(self):\n",
    "        self.power = int(self.power * self.raise_amount)  # note the self.raise_amount\n",
    "\n",
    "\n",
    "monster_1 = Monster('orc', 'Dancing Mouse', 73, 183, 56)\n",
    "monster_2 = Monster('night_walker', 'Yellow King', 53, 162, 33)"
   ]
  },
  {
   "cell_type": "code",
   "execution_count": null,
   "metadata": {},
   "outputs": [],
   "source": [
    "print(monster_1)"
   ]
  },
  {
   "cell_type": "code",
   "execution_count": null,
   "metadata": {},
   "outputs": [],
   "source": [
    "print(str(monster_1))"
   ]
  },
  {
   "cell_type": "code",
   "execution_count": null,
   "metadata": {},
   "outputs": [],
   "source": [
    "print(repr(monster_1))"
   ]
  },
  {
   "cell_type": "markdown",
   "metadata": {},
   "source": [
    "Demo 13 - Inheritance\n",
    "\n",
    "Let's re-write our code so we can be more specific when generating new monsters\n",
    "This time we'll have a Monster main class, and also sub-classes for creating\n",
    "Specific races\n",
    "\n",
    "The monster class is exactly as before, only without the race indication"
   ]
  },
  {
   "cell_type": "code",
   "execution_count": null,
   "metadata": {},
   "outputs": [],
   "source": [
    "class Monster:\n",
    "    raise_amount = 1.5\n",
    "    num_of_monsters = 0\n",
    "\n",
    "    @classmethod\n",
    "    def set_raise_amount(cls, amount):\n",
    "        cls.raise_amount = amount\n",
    "\n",
    "    @classmethod\n",
    "    def from_string(cls, monster_str):\n",
    "        name, height, weight, power = monster_str.split(',')\n",
    "        return cls(name, int(height), int(weight), int(power))\n",
    "\n",
    "    @staticmethod\n",
    "    def monster_count():\n",
    "        print(\"There are currently {} monsters\".format(Monster.num_of_monsters))\n",
    "\n",
    "    def __init__(self, name, height, weight, power):\n",
    "        self.name = name\n",
    "        self.height = height\n",
    "        self.weight = weight\n",
    "        self.bmi = weight / height ** 2\n",
    "        self.power = power\n",
    "        Monster.num_of_monsters += 1\n",
    "\n",
    "    def __str__(self):\n",
    "        value = (\"Monster basic details : Name: {}\".format(self.name))\n",
    "        return value\n",
    "\n",
    "    def monster_details_prnt(self):\n",
    "        print(\"------------------------------------\")\n",
    "        print(\"Monster name : \" + self.name)\n",
    "        print(\"Monster weight : \" + str(self.weight))\n",
    "        print(\"Monster height : \" + str(self.height))\n",
    "        print(\"Monster BMI : \" + str(self.bmi))\n",
    "        print(\"Monster power : \" + str(self.power))\n",
    "        print(\"------------------------------------\")\n",
    "\n",
    "    def monster_details_dict(self):\n",
    "        m_dict = dict()\n",
    "        m_dict[\"name\"] = self.name\n",
    "        m_dict[\"weight\"] = self.weight\n",
    "        m_dict[\"height\"] = self.height\n",
    "        m_dict[\"bmi\"] = self.bmi\n",
    "        m_dict[\"power\"] = self.power\n",
    "        return m_dict\n",
    "\n",
    "    def power_raise(self):\n",
    "        self.power = int(self.power * self.raise_amount)  # note the self.raise_amount\n",
    "\n",
    "\n",
    "class Dragon(Monster):\n",
    "    pass"
   ]
  },
  {
   "cell_type": "markdown",
   "metadata": {},
   "source": [
    "Even without defining any special functionality. the Dragon sub-class inherited everything from Monster main-class"
   ]
  },
  {
   "cell_type": "code",
   "execution_count": null,
   "metadata": {},
   "outputs": [],
   "source": [
    "dragon_1 = Dragon('Flying Mouse', 73, 1830, 560)\n",
    "dragon_1 = Dragon('The Hawk', 53, 1620, 330)"
   ]
  },
  {
   "cell_type": "code",
   "execution_count": null,
   "metadata": {},
   "outputs": [],
   "source": [
    "print(dragon_1)"
   ]
  },
  {
   "cell_type": "markdown",
   "metadata": {},
   "source": [
    "We can use the help function to see the Method Resolution Order"
   ]
  },
  {
   "cell_type": "code",
   "execution_count": null,
   "metadata": {},
   "outputs": [],
   "source": [
    "print(help(dragon_1))"
   ]
  },
  {
   "cell_type": "markdown",
   "metadata": {},
   "source": [
    "We can also see that class variables were inherited from the Monster Main Class"
   ]
  },
  {
   "cell_type": "code",
   "execution_count": null,
   "metadata": {},
   "outputs": [],
   "source": [
    "print(Dragon.raise_amount)"
   ]
  },
  {
   "cell_type": "code",
   "execution_count": null,
   "metadata": {},
   "outputs": [],
   "source": [
    "print(dragon_1.raise_amount)"
   ]
  },
  {
   "cell_type": "code",
   "execution_count": null,
   "metadata": {},
   "outputs": [],
   "source": [
    "print(dragon_1.raise_amount)"
   ]
  },
  {
   "cell_type": "markdown",
   "metadata": {},
   "source": [
    "Demo 14\n",
    "\n",
    "In this example we'll change the basic behavior of the Dragon sub-class\n",
    "1. the raise amount will be specified at the sub-class definition as well\n",
    "2. Our Dragon sub-class will have its own __init__ method\n",
    "3. Our Dragon sub-class will have its own monster_details_prnt method\n",
    "\n",
    "Class Monster stays the same"
   ]
  },
  {
   "cell_type": "code",
   "execution_count": null,
   "metadata": {},
   "outputs": [],
   "source": [
    "class Dragon(Monster):\n",
    "    raise_amount = 100\n",
    "\n",
    "    def __init__(self, name, height, weight, power, flying_speed):\n",
    "        super().__init__(name, height, weight, power)\n",
    "        # * The super __init__ method will pass the (name, height, weight, power) to the main class\n",
    "        #   and let it handle those arguments\n",
    "        # * Rest is the same, here we'll be also defining the monster flying speed\n",
    "        self.flying_speed = flying_speed\n",
    "\n",
    "    def monster_details_prnt(self):\n",
    "        print(\"------------------------------------\")\n",
    "        print(\"Dragon name : \" + self.name)\n",
    "        print(\"Dragon weight : \" + str(self.weight))\n",
    "        print(\"Dragon height : \" + str(self.height))\n",
    "        print(\"Dragon BMI : \" + str(self.bmi))\n",
    "        print(\"Dragon power : \" + str(self.power))\n",
    "        print(\"Dragon flying Speed : \" + str(self.flying_speed))\n",
    "        print(\"------------------------------------\")"
   ]
  },
  {
   "cell_type": "markdown",
   "metadata": {},
   "source": [
    "Instantiating the Dragon sub-class with flying speed"
   ]
  },
  {
   "cell_type": "code",
   "execution_count": null,
   "metadata": {},
   "outputs": [],
   "source": [
    "dragon_1 = Dragon('Flying Mouse', 73, 1830, 560, 330)\n",
    "dragon_2 = Dragon('The Hawk', 53, 1620, 330, 500)"
   ]
  },
  {
   "cell_type": "markdown",
   "metadata": {},
   "source": [
    "This time the raise_amount is defined at the sub-class"
   ]
  },
  {
   "cell_type": "code",
   "execution_count": null,
   "metadata": {},
   "outputs": [],
   "source": [
    "print(Dragon.raise_amount)"
   ]
  },
  {
   "cell_type": "code",
   "execution_count": null,
   "metadata": {},
   "outputs": [],
   "source": [
    "print(dragon_1.raise_amount)"
   ]
  },
  {
   "cell_type": "code",
   "execution_count": null,
   "metadata": {},
   "outputs": [],
   "source": [
    "print(dragon_1.raise_amount)"
   ]
  },
  {
   "cell_type": "code",
   "execution_count": null,
   "metadata": {},
   "outputs": [],
   "source": [
    "dragon_1.monster_details_prnt()"
   ]
  },
  {
   "cell_type": "markdown",
   "metadata": {},
   "source": [
    "Demo 15 - Overloading methods\n",
    "\n",
    "* Python do not support any function overloading.\n",
    "* However there is a way of doing that with the help of default arguments.\n",
    "  This way we can have function working in more than one way, according to the passed arguments."
   ]
  },
  {
   "cell_type": "code",
   "execution_count": null,
   "metadata": {},
   "outputs": [],
   "source": [
    "class Monster:\n",
    "    def __init__(self, race, name, height, weight, power=None):\n",
    "        self.race = race\n",
    "        self.name = name\n",
    "        self.height = height\n",
    "        self.weight = weight\n",
    "        self.bmi = weight / height ** 2\n",
    "        # self.power = None\n",
    "        if power is not None:\n",
    "            self.power = power\n",
    "        else:\n",
    "            self.power = None\n",
    "\n",
    "    def monster_details_prnt(self):\n",
    "        print(\"------------------------------------\")\n",
    "        print(\"Monster name : \" + self.name)\n",
    "        print(\"Monster weight : \" + str(self.weight))\n",
    "        print(\"Monster height : \" + str(self.height))\n",
    "        print(\"Monster BMI : \" + str(self.bmi))\n",
    "        print(\"Monster power : \" + str(self.power))\n",
    "        print(\"------------------------------------\")\n",
    "\n",
    "\n",
    "monster_1 = Monster('Orc', 'Flying Mouse', 73, 1830, 340)\n",
    "monster_2 = Monster('Dragon', 'The Hawk', 53, 1540) # Instantiating without Power\n",
    "\n",
    "monster_1.monster_details_prnt()\n",
    "\n",
    "monster_2.monster_details_prnt()"
   ]
  },
  {
   "cell_type": "markdown",
   "metadata": {},
   "source": [
    "Explicit argument naming"
   ]
  },
  {
   "cell_type": "code",
   "execution_count": null,
   "metadata": {},
   "outputs": [],
   "source": [
    "monster_3 = Monster(race='Orc', name='Flying Turtle', weight=73, height=1830)"
   ]
  },
  {
   "cell_type": "markdown",
   "metadata": {},
   "source": [
    "Demo 16 - Getters and Setters\n",
    "\n",
    "The long version\n",
    "https://www.python-course.eu/python3_properties.php\n",
    "\n",
    "Demo 1 - The Challenge"
   ]
  },
  {
   "cell_type": "code",
   "execution_count": null,
   "metadata": {},
   "outputs": [],
   "source": [
    "class Monster:\n",
    "    def __init__(self, race, name, height, weight, power=None):\n",
    "        self.race = race\n",
    "        self.name = name\n",
    "        self.height = height\n",
    "        self.weight = weight\n",
    "        self.bmi = round(self.weight / self.height ** 2, 2)\n",
    "        if power is not None:\n",
    "            self.power = power\n",
    "        else:\n",
    "            self.power = 30\n",
    "\n",
    "    def mon_email(self):\n",
    "        return self.name.replace(\" \", \"\") + \"@\" + self.race + \".com\"\n",
    "\n",
    "\n",
    "monster_1 = Monster('Orc', 'Flying Mouse', 73, 1830, 340)"
   ]
  },
  {
   "cell_type": "markdown",
   "metadata": {},
   "source": [
    "print the email"
   ]
  },
  {
   "cell_type": "code",
   "execution_count": null,
   "metadata": {},
   "outputs": [],
   "source": [
    "print(monster_1.mon_email())"
   ]
  },
  {
   "cell_type": "markdown",
   "metadata": {},
   "source": [
    "change the name"
   ]
  },
  {
   "cell_type": "code",
   "execution_count": null,
   "metadata": {},
   "outputs": [],
   "source": [
    "monster_1.name = \"Moshe\""
   ]
  },
  {
   "cell_type": "markdown",
   "metadata": {},
   "source": [
    "print the email again"
   ]
  },
  {
   "cell_type": "code",
   "execution_count": null,
   "metadata": {},
   "outputs": [],
   "source": [
    "print(monster_1.mon_email())"
   ]
  },
  {
   "cell_type": "markdown",
   "metadata": {},
   "source": [
    "print the bmi"
   ]
  },
  {
   "cell_type": "code",
   "execution_count": null,
   "metadata": {},
   "outputs": [],
   "source": [
    "print(monster_1.bmi)"
   ]
  },
  {
   "cell_type": "markdown",
   "metadata": {},
   "source": [
    "change the height"
   ]
  },
  {
   "cell_type": "code",
   "execution_count": null,
   "metadata": {},
   "outputs": [],
   "source": [
    "monster_1.height = 2000"
   ]
  },
  {
   "cell_type": "markdown",
   "metadata": {},
   "source": [
    "bmi stays the same"
   ]
  },
  {
   "cell_type": "code",
   "execution_count": null,
   "metadata": {},
   "outputs": [],
   "source": [
    "print(monster_1.bmi)"
   ]
  },
  {
   "cell_type": "markdown",
   "metadata": {},
   "source": [
    "How do we solve this problem ?\n",
    "1. First option would be to create a bmi function. But that would change the way people already interacts with\n",
    "   this class\n",
    "2. Second option would be to use a getter - a method which can be accessed exactly like any other attribute\n",
    "\n",
    "Demo 2 - Getters"
   ]
  },
  {
   "cell_type": "code",
   "execution_count": null,
   "metadata": {},
   "outputs": [],
   "source": [
    "class Monster:\n",
    "    def __init__(self, race, name, height, weight, power=None):\n",
    "        self.race = race\n",
    "        self.name = name\n",
    "        self.height = height\n",
    "        self.weight = weight\n",
    "        # self.bmi = round(self.weight / self.height ** 2, 2)\n",
    "        if power is not None:\n",
    "            self.power = power\n",
    "        else:\n",
    "            self.power = 30\n",
    "\n",
    "    def mon_email(self):\n",
    "        return self.name.replace(\" \", \"\") + \"@\" + self.race + \".com\"\n",
    "\n",
    "    @property  # getter\n",
    "    def bmi(self):\n",
    "        return round(self.weight / self.height ** 2, 2)\n",
    "\n",
    "\n",
    "monster_1 = Monster('Orc', 'Flying Mouse', 73, 1830, 340)"
   ]
  },
  {
   "cell_type": "markdown",
   "metadata": {},
   "source": [
    "print the bmi"
   ]
  },
  {
   "cell_type": "code",
   "execution_count": null,
   "metadata": {},
   "outputs": [],
   "source": [
    "print(monster_1.bmi)"
   ]
  },
  {
   "cell_type": "markdown",
   "metadata": {},
   "source": [
    "change the weight"
   ]
  },
  {
   "cell_type": "code",
   "execution_count": null,
   "metadata": {},
   "outputs": [],
   "source": [
    "monster_1.weight = 4000"
   ]
  },
  {
   "cell_type": "markdown",
   "metadata": {},
   "source": [
    "this time bmi has been changed"
   ]
  },
  {
   "cell_type": "code",
   "execution_count": null,
   "metadata": {},
   "outputs": [],
   "source": [
    "print(monster_1.bmi)"
   ]
  },
  {
   "cell_type": "markdown",
   "metadata": {},
   "source": [
    "We can use the same process to make mon_email to act like an attribute\n",
    "\n",
    "Is it possible to change the bmi ? and if so, what happens to weight and height ?\n",
    "AttributeError: can't set attribute"
   ]
  },
  {
   "cell_type": "code",
   "execution_count": null,
   "metadata": {},
   "outputs": [],
   "source": [
    "monster_1.bmi = 30"
   ]
  },
  {
   "cell_type": "markdown",
   "metadata": {},
   "source": [
    "Demo 2 - Setters"
   ]
  },
  {
   "cell_type": "code",
   "execution_count": null,
   "metadata": {},
   "outputs": [],
   "source": [
    "from math import sqrt\n",
    "\n",
    "\n",
    "class Monster:\n",
    "    def __init__(self, race, name, height, weight, power=None):\n",
    "        self.race = race\n",
    "        self.name = name\n",
    "        self.height = height\n",
    "        self.weight = weight\n",
    "        # self.bmi = round(self.weight / self.height ** 2, 2)\n",
    "        if power is not None:\n",
    "            self.power = power\n",
    "        else:\n",
    "            self.power = 30\n",
    "\n",
    "    def mon_email(self):\n",
    "        return self.name.replace(\" \", \"\") + \"@\" + self.race + \".com\"\n",
    "\n",
    "    @property  # getter\n",
    "    def bmi(self):\n",
    "        return round(self.weight / self.height ** 2, 2)\n",
    "\n",
    "    @bmi.setter  # setter\n",
    "    def bmi(self, bmi_value):\n",
    "        self.weight = 1\n",
    "        self.height = sqrt(1 / bmi_value)\n",
    "        print(\"Weight was reset to 1, Height was reset to {}\".format(self.height))\n",
    "\n",
    "\n",
    "monster_1 = Monster('Orc', 'Flying Mouse', 73, 1830, 340)"
   ]
  },
  {
   "cell_type": "markdown",
   "metadata": {},
   "source": [
    "print the bmi"
   ]
  },
  {
   "cell_type": "code",
   "execution_count": null,
   "metadata": {},
   "outputs": [],
   "source": [
    "print(monster_1.bmi)"
   ]
  },
  {
   "cell_type": "markdown",
   "metadata": {},
   "source": [
    "change the weight"
   ]
  },
  {
   "cell_type": "code",
   "execution_count": null,
   "metadata": {},
   "outputs": [],
   "source": [
    "monster_1.weight = 5000"
   ]
  },
  {
   "cell_type": "markdown",
   "metadata": {},
   "source": [
    "bmi has been changed"
   ]
  },
  {
   "cell_type": "code",
   "execution_count": null,
   "metadata": {},
   "outputs": [],
   "source": [
    "print(monster_1.bmi)"
   ]
  },
  {
   "cell_type": "markdown",
   "metadata": {},
   "source": [
    "Now, the other way around :"
   ]
  },
  {
   "cell_type": "code",
   "execution_count": null,
   "metadata": {},
   "outputs": [],
   "source": [
    "monster_1.bmi = 30"
   ]
  },
  {
   "cell_type": "code",
   "execution_count": null,
   "metadata": {},
   "outputs": [],
   "source": [
    "print(monster_1.bmi)"
   ]
  },
  {
   "cell_type": "code",
   "execution_count": null,
   "metadata": {},
   "outputs": [],
   "source": [
    "print(monster_1.height)"
   ]
  },
  {
   "cell_type": "code",
   "execution_count": null,
   "metadata": {},
   "outputs": [],
   "source": [
    "print(monster_1.weight)"
   ]
  }
 ],
 "metadata": {
  "kernelspec": {
   "display_name": "Python 3",
   "language": "python",
   "name": "python3"
  },
  "language_info": {
   "codemirror_mode": {
    "name": "ipython",
    "version": 3
   },
   "file_extension": ".py",
   "mimetype": "text/x-python",
   "name": "python",
   "nbconvert_exporter": "python",
   "pygments_lexer": "ipython3",
   "version": "3.6.4"
  },
  "toc": {
   "base_numbering": 1,
   "nav_menu": {},
   "number_sections": true,
   "sideBar": true,
   "skip_h1_title": false,
   "title_cell": "Table of Contents",
   "title_sidebar": "Contents",
   "toc_cell": true,
   "toc_position": {
    "height": "calc(100% - 180px)",
    "left": "10px",
    "top": "150px",
    "width": "196px"
   },
   "toc_section_display": true,
   "toc_window_display": true
  }
 },
 "nbformat": 4,
 "nbformat_minor": 2
}
