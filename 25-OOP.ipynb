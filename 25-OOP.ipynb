{
 "cells": [
  {
   "cell_type": "markdown",
   "metadata": {},
   "source": [
    "# Object Oriented Programming\n",
    "\n",
    "OOP Allows us to create our own objects in Python and use them<br/>\n",
    "as many times as we need. This objects are called \"classes\".<br/>\n",
    "Each time we create a new object from a class we defined we call it<br/>\n",
    "\"an instance\", because that object is an instance of our class.<br/>\n",
    "We can define properties that characterize our instance.<br/>\n",
    "We can also define methods which are actions we can perform on that<br/>\n",
    "specific class.\n",
    "\n",
    "***\n",
    "- **Demo 1** - *Creating an empty class*\n",
    "- **Demo 2** - *Instance Variables*\n",
    "- **Demo 3** - *Class Initiator*\n",
    "- **Demo 4** - *Defining Methods*\n",
    "- **Demo 5** - *Calling Methods*\n",
    "<br/>\n",
    "<br/>\n",
    "- **Demo 6**  - *Defining Class Variables*\n",
    "- **Demo 7**  - *Working with Class Variables (1)*\n",
    "- **Demo 8**  - *Working with Class Variables (2)*\n",
    "- **Demo 9**  -  *Class Methods (1)*\n",
    "- **Demo 10** - *Class Methods (2)*\n",
    "<br/>\n",
    "<br/>\n",
    "- **Demo 11** - *Static Methods*\n",
    "- **Demo 12** - *str() and  repr() in Python*\n",
    "- **Demo 13** - *Inheritance (1)*\n",
    "- **Demo 14** - *Inheritance (2)*\n",
    "- **Demo 15** - *Overloading methods*\n",
    "- **Demo 16** - *Getters and Setters*\n",
    "***\n",
    "\n",
    "## Demo 1\n",
    "\n",
    "Our class is essentially a blueprint for creating instances of it<br/>\n",
    "In this example, each customer will be created as an instance of\n",
    "this class"
   ]
  },
  {
   "cell_type": "code",
   "execution_count": 2,
   "metadata": {},
   "outputs": [],
   "source": [
    "class Customer:\n",
    "    pass\n",
    "\n",
    "\n",
    "David = Customer()\n",
    "Ben = Customer()"
   ]
  },
  {
   "cell_type": "markdown",
   "metadata": {},
   "source": [
    "By Printing these instances, you can see that each Customer instance<br/>\n",
    "is unique, and each has different location in memory"
   ]
  },
  {
   "cell_type": "code",
   "execution_count": 3,
   "metadata": {},
   "outputs": [
    {
     "name": "stdout",
     "output_type": "stream",
     "text": [
      "<__main__.Customer object at 0x05665A70>\n",
      "<__main__.Customer object at 0x05665A90>\n"
     ]
    }
   ],
   "source": [
    "print(David)\n",
    "print(Ben)"
   ]
  },
  {
   "cell_type": "code",
   "execution_count": 4,
   "metadata": {},
   "outputs": [
    {
     "name": "stdout",
     "output_type": "stream",
     "text": [
      "False\n"
     ]
    }
   ],
   "source": [
    "print(David == Ben)"
   ]
  },
  {
   "cell_type": "markdown",
   "metadata": {},
   "source": [
    "## Demo 2 - Instance Variables\n",
    "\n",
    "Instance variable contains data that is unique to each instance<br/>\n",
    "We can manually create instance variables by doing something like this:"
   ]
  },
  {
   "cell_type": "code",
   "execution_count": 5,
   "metadata": {},
   "outputs": [],
   "source": [
    "David.id = '123'\n",
    "David.city = 'Tel-Aviv'\n",
    "David.hourly_rate = 100\n",
    "David.unbilled_hours = 20\n",
    "David.current_debt = David.hourly_rate * David.unbilled_hours\n",
    "\n",
    "Ben.id = '543'\n",
    "Ben.city = 'Ramat-Gan'\n",
    "Ben.hourly_rate = 120\n",
    "Ben.unbilled_hours = 13\n",
    "Ben.current_debt = Ben.hourly_rate * Ben.unbilled_hours"
   ]
  },
  {
   "cell_type": "markdown",
   "metadata": {},
   "source": [
    "Now, each of these instances has attributes that are unique to them"
   ]
  },
  {
   "cell_type": "code",
   "execution_count": 6,
   "metadata": {},
   "outputs": [
    {
     "name": "stdout",
     "output_type": "stream",
     "text": [
      "David's City: Tel-Aviv\n",
      "David's ID: 123\n",
      "Ben's Hourly Rate: 120\n",
      "Ben's Current Debt: 1560\n"
     ]
    }
   ],
   "source": [
    "print(\"David's City: \" + David.city)\n",
    "print(\"David's ID: \" + David.id)\n",
    "print(\"Ben's Hourly Rate: \" + str(Ben.hourly_rate))\n",
    "print(\"Ben's Current Debt: \" + str(Ben.current_debt))"
   ]
  },
  {
   "cell_type": "markdown",
   "metadata": {},
   "source": [
    "## Demo 3 - Class Initiator\n",
    "\n",
    "* Setting up attributes manually takes a lot of code, and proned to mistakes\n",
    "  Instead of setting up attributes manually, we can define them automatically\n",
    "  when we create a new instance\n",
    "\n",
    "* You can think of the init method as initiator. If you're coming with a\n",
    "  background in different programming language - think of it as the constructor"
   ]
  },
  {
   "cell_type": "code",
   "execution_count": 7,
   "metadata": {},
   "outputs": [],
   "source": [
    "class Customer:\n",
    "    def __init__(self):\n",
    "        self.id = '01'\n",
    "        self.city = 'Tel-Aviv'\n",
    "        self.hourly_rate = 100\n",
    "        self.unbilled_hours = 0\n",
    "        self.current_debt = self.hourly_rate * self.unbilled_hours"
   ]
  },
  {
   "cell_type": "markdown",
   "metadata": {},
   "source": [
    "still not very efficient. we may have to define each of the attributes manually.<br/>\n",
    "instead we can accept the attributes from the user during initialization"
   ]
  },
  {
   "cell_type": "code",
   "execution_count": 9,
   "metadata": {},
   "outputs": [],
   "source": [
    "class Customer:\n",
    "    def __init__(self, id, city, hourly_rate, unbilled_hours):\n",
    "        self.id = id\n",
    "        self.city = city\n",
    "        self.hourly_rate = hourly_rate\n",
    "        self.unbilled_hours = unbilled_hours\n",
    "        self.current_debt = self.hourly_rate * self.unbilled_hours"
   ]
  },
  {
   "cell_type": "markdown",
   "metadata": {},
   "source": [
    "* When we create methods within a class they receive the instance as the first<br/>\n",
    "  argument automatically<br/>\n",
    "* By convention, we call it self, you can call it whatever you want, but it's a<br/>\n",
    "  good idea to stick with the convention<br/>\n",
    "* After \"self\", we can define the other arguments we want to accept<br/>\n",
    "  Next, we initialize the instance variables<br/>\n",
    "<br/>\n",
    "* Note, \"self.city = city\" could also be written as \"self.customer_city = city\"<br/>\n",
    "  or any other name, but it is best to keep the same name<br/>\n",
    "<br/>\n",
    "* Good reference about the difference between Python's self and Java's this<br/>\n",
    "  https://stackoverflow.com/questions/21694901/difference-between-python-self-and-java-this"
   ]
  },
  {
   "cell_type": "code",
   "execution_count": 11,
   "metadata": {},
   "outputs": [
    {
     "name": "stdout",
     "output_type": "stream",
     "text": [
      "Customer number 123's hourly rate is 100, \n",
      "he already recieved 20 consulting hours \n",
      "this month and owes 2000\n",
      "Customer number 453's hourly rate is 120, \n",
      "he already recieved 13 consulting hours \n",
      "this month and owes 1560\n"
     ]
    }
   ],
   "source": [
    "David = Customer('123', 'Tel-Aviv', 100, 20)\n",
    "Ben = Customer('453', 'Ramat-Gan', 120, 13)\n",
    "\n",
    "print(f'Customer number {David.id}\\'s hourly rate is {David.hourly_rate}, \\n'\n",
    "      f'he already recieved {David.unbilled_hours} '\n",
    "      f'consulting hours \\nthis month and owes {David.current_debt}')\n",
    "print(f'Customer number {Ben.id}\\'s hourly rate is {Ben.hourly_rate}, \\n'\n",
    "      f'he already recieved {Ben.unbilled_hours} '\n",
    "      f'consulting hours \\nthis month and owes {Ben.current_debt}')"
   ]
  },
  {
   "cell_type": "markdown",
   "metadata": {},
   "source": [
    "Note there is no debt specification, since it's automatically<br/>\n",
    "derived from unbilled hours * hourly_rate\n",
    "\n",
    "## Demo 4 - Actions (Methods)\n",
    "\n",
    "Adding action for a class. Instead of printing each monster information manually,<br/>\n",
    "let's say we want to give each customer the ability to display its details"
   ]
  },
  {
   "cell_type": "code",
   "execution_count": 17,
   "metadata": {},
   "outputs": [],
   "source": [
    "import json\n",
    "\n",
    "class Customer:\n",
    "    def __init__(self, id, city, hourly_rate, unbilled_hours):\n",
    "        self.id = id\n",
    "        self.city = city\n",
    "        self.hourly_rate = hourly_rate\n",
    "        self.unbilled_hours = unbilled_hours\n",
    "        self.current_debt = self.hourly_rate * self.unbilled_hours\n",
    "\n",
    "    def customer_report(self):\n",
    "        print(\"------------------------------------\")\n",
    "        print(f'Customer number {self.id}\\'s hourly rate is {self.hourly_rate}, \\n'\n",
    "              f'he already received {self.unbilled_hours} '\n",
    "              f'consulting hours \\nthis month and owes {self.current_debt}')\n",
    "        print(\"------------------------------------\")\n",
    "\n",
    "    def details(self):\n",
    "        c_dict = dict()\n",
    "        c_dict[\"ID\"] = self.id\n",
    "        c_dict[\"city\"] = self.city\n",
    "        c_dict[\"hourly rate\"] = self.hourly_rate\n",
    "        c_dict[\"unbilled hours\"] = self.unbilled_hours\n",
    "        c_dict[\"current debt\"] = self.current_debt\n",
    "        return json.dumps(c_dict, indent=4, sort_keys=True)\n",
    "\n",
    "    def simple_greeting(self,greeting):\n",
    "        return f'{greeting}, customer {self.id}!'\n",
    "    \n",
    "David = Customer('123', 'Tel-Aviv', 100, 20)\n",
    "Ben = Customer('453', 'Ramat-Gan', 120, 13)"
   ]
  },
  {
   "cell_type": "markdown",
   "metadata": {},
   "source": [
    "As a simple print"
   ]
  },
  {
   "cell_type": "code",
   "execution_count": 18,
   "metadata": {},
   "outputs": [
    {
     "name": "stdout",
     "output_type": "stream",
     "text": [
      "------------------------------------\n",
      "Customer number 123's hourly rate is 100, \n",
      "he already received 20 consulting hours \n",
      "this month and owes 2000\n",
      "------------------------------------\n",
      "------------------------------------\n",
      "Customer number 453's hourly rate is 120, \n",
      "he already received 13 consulting hours \n",
      "this month and owes 1560\n",
      "------------------------------------\n"
     ]
    }
   ],
   "source": [
    "David.customer_report()\n",
    "Ben.customer_report()"
   ]
  },
  {
   "cell_type": "markdown",
   "metadata": {},
   "source": [
    "As a dictionary"
   ]
  },
  {
   "cell_type": "code",
   "execution_count": 19,
   "metadata": {},
   "outputs": [
    {
     "name": "stdout",
     "output_type": "stream",
     "text": [
      "{\n",
      "    \"ID\": \"123\",\n",
      "    \"city\": \"Tel-Aviv\",\n",
      "    \"current debt\": 2000,\n",
      "    \"hourly rate\": 100,\n",
      "    \"unbilled hours\": 20\n",
      "}\n"
     ]
    }
   ],
   "source": [
    "david_details = David.details()\n",
    "print(david_details)"
   ]
  },
  {
   "cell_type": "code",
   "execution_count": null,
   "metadata": {},
   "outputs": [],
   "source": [
    "print(monster_1_details)"
   ]
  },
  {
   "cell_type": "markdown",
   "metadata": {},
   "source": [
    "Simple Greeting"
   ]
  },
  {
   "cell_type": "code",
   "execution_count": 20,
   "metadata": {},
   "outputs": [
    {
     "name": "stdout",
     "output_type": "stream",
     "text": [
      "hello, customer 123!\n",
      "Good evening, customer 453!\n"
     ]
    }
   ],
   "source": [
    "print(David.simple_greeting(\"hello\"))\n",
    "print(Ben.simple_greeting('Good evening'))"
   ]
  },
  {
   "cell_type": "markdown",
   "metadata": {},
   "source": [
    "## Demo 5 - Calling Methods\n",
    "\n",
    "There are two ways to call a method<br/>\n",
    "First, we can call the method on the instance, this way we don't have to specify<br/>\n",
    "the instance name, its being passed automatically :"
   ]
  },
  {
   "cell_type": "code",
   "execution_count": 21,
   "metadata": {},
   "outputs": [
    {
     "name": "stdout",
     "output_type": "stream",
     "text": [
      "------------------------------------\n",
      "Customer number 123's hourly rate is 100, \n",
      "he already received 20 consulting hours \n",
      "this month and owes 2000\n",
      "------------------------------------\n"
     ]
    }
   ],
   "source": [
    "David.customer_report()"
   ]
  },
  {
   "cell_type": "markdown",
   "metadata": {},
   "source": [
    "We can also call the method on the class, in this case :"
   ]
  },
  {
   "cell_type": "code",
   "execution_count": 22,
   "metadata": {},
   "outputs": [
    {
     "name": "stdout",
     "output_type": "stream",
     "text": [
      "------------------------------------\n",
      "Customer number 123's hourly rate is 100, \n",
      "he already received 20 consulting hours \n",
      "this month and owes 2000\n",
      "------------------------------------\n"
     ]
    },
    {
     "data": {
      "text/plain": [
       "'Howdy, customer 453!'"
      ]
     },
     "execution_count": 22,
     "metadata": {},
     "output_type": "execute_result"
    }
   ],
   "source": [
    "Customer.customer_report(David)\n",
    "\n",
    "Customer.simple_greeting(Ben,\"Howdy\")"
   ]
  },
  {
   "cell_type": "markdown",
   "metadata": {},
   "source": [
    "# Demo 6 - Defining Class Variables\n",
    "Class variables are variables that are shared among all instances of a class.<br/>\n",
    "While instances variables can be unique for each instance, class variables should be the<br/>\n",
    "same for each instance<br/><br/>\n",
    " \n",
    "Lets say that we want to apply a seniority-dependant discount to each customer<br/><br/>\n",
    "\n",
    "***Attempt 1***"
   ]
  },
  {
   "cell_type": "code",
   "execution_count": 28,
   "metadata": {},
   "outputs": [],
   "source": [
    "class Customer:\n",
    "    def __init__(self, id, city, hourly_rate, unbilled_hours, seniority):\n",
    "        self.id = id\n",
    "        self.city = city\n",
    "        self.hourly_rate = hourly_rate\n",
    "        self.unbilled_hours = unbilled_hours\n",
    "        self.current_debt = self.hourly_rate * self.unbilled_hours\n",
    "        self.seniority = seniority\n",
    "\n",
    "    def update_rate(self):\n",
    "        if 3 <= self.seniority <= 5 :\n",
    "            self.hourly_rate = int(self.hourly_rate - (self.hourly_rate*0.1)) # give 10% discount if customer joined between 3 and 5 years ago\n",
    "        elif self.seniority > 5:\n",
    "            self.hourly_rate = int(self.hourly_rate - (self.hourly_rate*0.2)) # give 20% discount if customer joined more then 5 years ago"
   ]
  },
  {
   "cell_type": "code",
   "execution_count": 27,
   "metadata": {},
   "outputs": [
    {
     "name": "stdout",
     "output_type": "stream",
     "text": [
      "100\n",
      "80\n"
     ]
    }
   ],
   "source": [
    "David = Customer('123', 'Tel-Aviv', 100, 20, 7)\n",
    "print(David.hourly_rate)\n",
    "David.update_rate()\n",
    "print(David.hourly_rate)"
   ]
  },
  {
   "cell_type": "markdown",
   "metadata": {},
   "source": [
    "***\n",
    "This code has a few problems:\n",
    "1. There is no way to access the discount percentage\n",
    "    * David.discount\n",
    "    * Custoemr.discount\n",
    "2. There is no way to easily update the discount percentage,\n",
    "its hardcoded within the class definition\n",
    "\n",
    "Instead lets re-write our code this way :\n",
    "\n",
    "***Attempt 2***"
   ]
  },
  {
   "cell_type": "code",
   "execution_count": 32,
   "metadata": {},
   "outputs": [],
   "source": [
    "class Customer:\n",
    "    junior_discount = 0.1\n",
    "    senior_discount = 0.2\n",
    "\n",
    "    def __init__(self, id, city, hourly_rate, unbilled_hours, seniority):\n",
    "        self.id = id\n",
    "        self.city = city\n",
    "        self.hourly_rate = hourly_rate\n",
    "        self.unbilled_hours = unbilled_hours\n",
    "        self.current_debt = self.hourly_rate * self.unbilled_hours\n",
    "        self.seniority = seniority\n",
    "\n",
    "    def update_rate(self):\n",
    "        if 3 <= self.seniority <= 5 :\n",
    "            self.hourly_rate = int(self.hourly_rate - \\\n",
    "                                   (self.hourly_rate * self.junior_discount))\n",
    "        elif self.seniority > 5:\n",
    "            self.hourly_rate = int(self.hourly_rate - \\\n",
    "                                   (self.hourly_rate * self.senior_discount))  # note the 'self' prefix\n",
    "\n",
    "David = Customer('123', 'Tel-Aviv', 100, 20, 7)\n",
    "Ben = Customer('453', 'Ramat-Gan', 120, 13, 4)"
   ]
  },
  {
   "cell_type": "markdown",
   "metadata": {},
   "source": [
    "When we try to access an attribute on an instance, Python will first check if the instance contains that attribute<br/>\n",
    "If not, it will check if the class has it, and inherit that attribute<br/>\n",
    "So when we're accessing the discount percentages on those instances, we're actually accessing the class attribute"
   ]
  },
  {
   "cell_type": "code",
   "execution_count": 33,
   "metadata": {},
   "outputs": [
    {
     "name": "stdout",
     "output_type": "stream",
     "text": [
      "0.1\n",
      "0.1\n",
      "0.2\n"
     ]
    }
   ],
   "source": [
    "print(Customer.junior_discount)\n",
    "print(David.junior_discount)\n",
    "print(Ben.senior_discount)"
   ]
  },
  {
   "cell_type": "markdown",
   "metadata": {},
   "source": [
    "Lets use the `__dict__` method to verify these instances doesn't have any discount attributes"
   ]
  },
  {
   "cell_type": "code",
   "execution_count": 34,
   "metadata": {},
   "outputs": [
    {
     "name": "stdout",
     "output_type": "stream",
     "text": [
      "{\n",
      "    \"id\": \"123\",\n",
      "    \"city\": \"Tel-Aviv\",\n",
      "    \"hourly_rate\": 100,\n",
      "    \"unbilled_hours\": 20,\n",
      "    \"current_debt\": 2000,\n",
      "    \"seniority\": 7\n",
      "}\n",
      "{\n",
      "    \"id\": \"453\",\n",
      "    \"city\": \"Ramat-Gan\",\n",
      "    \"hourly_rate\": 120,\n",
      "    \"unbilled_hours\": 13,\n",
      "    \"current_debt\": 1560,\n",
      "    \"seniority\": 4\n",
      "}\n"
     ]
    }
   ],
   "source": [
    "david_attributes = json.dumps(David.__dict__, indent=4)\n",
    "print(david_attributes)\n",
    "ben_attributes = json.dumps(Ben.__dict__, indent=4)\n",
    "print(ben_attributes)"
   ]
  },
  {
   "cell_type": "markdown",
   "metadata": {},
   "source": [
    "The class on the other hand have those attributes"
   ]
  },
  {
   "cell_type": "code",
   "execution_count": 40,
   "metadata": {},
   "outputs": [
    {
     "data": {
      "text/plain": [
       "mappingproxy({'__module__': '__main__',\n",
       "              'junior_discount': 0.1,\n",
       "              'senior_discount': 0.2,\n",
       "              '__init__': <function __main__.Customer.__init__(self, id, city, hourly_rate, unbilled_hours, seniority)>,\n",
       "              'update_rate': <function __main__.Customer.update_rate(self)>,\n",
       "              '__dict__': <attribute '__dict__' of 'Customer' objects>,\n",
       "              '__weakref__': <attribute '__weakref__' of 'Customer' objects>,\n",
       "              '__doc__': None})"
      ]
     },
     "execution_count": 40,
     "metadata": {},
     "output_type": "execute_result"
    }
   ],
   "source": [
    "Customer.__dict__"
   ]
  },
  {
   "cell_type": "markdown",
   "metadata": {},
   "source": [
    "## Demo 7 - Working with Class Variables\n",
    "\n",
    "Setting the attribute at the class level:"
   ]
  },
  {
   "cell_type": "code",
   "execution_count": 42,
   "metadata": {},
   "outputs": [
    {
     "name": "stdout",
     "output_type": "stream",
     "text": [
      "0.25\n",
      "0.25\n",
      "0.25\n",
      "-------------\n",
      "75\n",
      "56\n"
     ]
    }
   ],
   "source": [
    "Customer.senior_discount = 0.25\n",
    "\n",
    "print(Customer.senior_discount)\n",
    "print(David.senior_discount)\n",
    "print(Ben.senior_discount)\n",
    "print('-------------')\n",
    "print(David.hourly_rate)\n",
    "David.update_rate()\n",
    "print(David.hourly_rate)"
   ]
  },
  {
   "cell_type": "markdown",
   "metadata": {},
   "source": [
    "Setting the attribute at the instance level"
   ]
  },
  {
   "cell_type": "code",
   "execution_count": 44,
   "metadata": {},
   "outputs": [
    {
     "name": "stdout",
     "output_type": "stream",
     "text": [
      "0.25\n",
      "0.3\n",
      "0.25\n",
      "---------------\n",
      "39\n",
      "27\n"
     ]
    }
   ],
   "source": [
    "David.senior_discount = 0.3\n",
    "\n",
    "print(Customer.senior_discount)\n",
    "print(David.senior_discount)\n",
    "print(Ben.senior_discount)\n",
    "print('---------------')\n",
    "print(David.hourly_rate)\n",
    "David.update_rate()\n",
    "print(David.hourly_rate)"
   ]
  },
  {
   "cell_type": "markdown",
   "metadata": {},
   "source": [
    "Now, notice David has its own 'senior_discount' attribute"
   ]
  },
  {
   "cell_type": "code",
   "execution_count": 45,
   "metadata": {},
   "outputs": [
    {
     "name": "stdout",
     "output_type": "stream",
     "text": [
      "{\n",
      "    \"id\": \"123\",\n",
      "    \"city\": \"Tel-Aviv\",\n",
      "    \"hourly_rate\": 27,\n",
      "    \"unbilled_hours\": 20,\n",
      "    \"current_debt\": 2000,\n",
      "    \"seniority\": 7,\n",
      "    \"senior_discount\": 0.3\n",
      "}\n"
     ]
    }
   ],
   "source": [
    "david_attributes = json.dumps(David.__dict__, indent=4)\n",
    "print(david_attributes)"
   ]
  },
  {
   "cell_type": "markdown",
   "metadata": {},
   "source": [
    "## Demo 8 - Another Class Variables Usage\n",
    "\n",
    "In our last example, it made sense to use self.class_attribute. Because we wanted to give each<br/>\n",
    "customer the ability to have its own discount rates<br/><br/>\n",
    "\n",
    "But, if for example we wanted to create a variable that counts the number of instances that we have<br/>\n",
    "In this case it would make more sense to use Class.attribute"
   ]
  },
  {
   "cell_type": "code",
   "execution_count": 46,
   "metadata": {},
   "outputs": [
    {
     "name": "stdout",
     "output_type": "stream",
     "text": [
      "0\n",
      "2\n"
     ]
    }
   ],
   "source": [
    "class Customer:\n",
    "    junior_discount = 0.1\n",
    "    senior_discount = 0.2\n",
    "    customer_count = 0\n",
    "\n",
    "    def __init__(self, id, city, hourly_rate, unbilled_hours, seniority):\n",
    "        self.id = id\n",
    "        self.city = city\n",
    "        self.hourly_rate = hourly_rate\n",
    "        self.unbilled_hours = unbilled_hours\n",
    "        self.current_debt = self.hourly_rate * self.unbilled_hours\n",
    "        self.seniority = seniority\n",
    "        Customer.customer_count += 1\n",
    "\n",
    "    def update_rate(self):\n",
    "        if 3 <= self.seniority <= 5 :\n",
    "            self.hourly_rate = int(self.hourly_rate -\n",
    "                                   (self.hourly_rate * self.junior_discount))\n",
    "        elif self.seniority > 5:\n",
    "            self.hourly_rate = int(self.hourly_rate -\n",
    "                                   (self.hourly_rate * self.senior_discount))\n",
    "\n",
    "\n",
    "print(Customer.customer_count)\n",
    "\n",
    "David = Customer('123', 'Tel-Aviv', 100, 20, 7)\n",
    "Ben = Customer('453', 'Ramat-Gan', 120, 13, 4)\n",
    "\n",
    "print(Customer.customer_count)"
   ]
  },
  {
   "cell_type": "markdown",
   "metadata": {},
   "source": [
    "## Demo 9 - Class Methods : Simple Usecase\n",
    "\n",
    "Class method\n",
    "* In Python, regular methods in a class take the instance as the first argument\n",
    "* Class methods, on the other hand, takes the class name as the first argument\n",
    "\n",
    "So for example, we can define a class method for changing the discount rates"
   ]
  },
  {
   "cell_type": "code",
   "execution_count": 48,
   "metadata": {},
   "outputs": [],
   "source": [
    "class Customer:\n",
    "    junior_discount = 0.1\n",
    "    senior_discount = 0.2\n",
    "    customer_count = 0\n",
    "\n",
    "    @classmethod # a decorator allowing us to modify the method functionality\n",
    "    def set_discount_rate(cls, discount_type, percentage):\n",
    "        if discount_type == 'j':\n",
    "            cls.junior_discount = percentage\n",
    "        else:\n",
    "            cls.senior_discount = percentage\n",
    "\n",
    "    def __init__(self, id, city, hourly_rate, unbilled_hours, seniority):\n",
    "        self.id = id\n",
    "        self.city = city\n",
    "        self.hourly_rate = hourly_rate\n",
    "        self.unbilled_hours = unbilled_hours\n",
    "        self.current_debt = self.hourly_rate * self.unbilled_hours\n",
    "        self.seniority = seniority\n",
    "        Customer.customer_count += 1\n",
    "\n",
    "    def update_rate(self):\n",
    "        if 3 <= self.seniority <= 5 :\n",
    "            self.hourly_rate = int(self.hourly_rate -\n",
    "                                   (self.hourly_rate * self.junior_discount))\n",
    "        elif self.seniority > 5:\n",
    "            self.hourly_rate = int(self.hourly_rate -\n",
    "                                   (self.hourly_rate * self.senior_discount))\n",
    "\n",
    "\n",
    "David = Customer('123', 'Tel-Aviv', 100, 20, 7)\n",
    "Ben = Customer('453', 'Ramat-Gan', 120, 13, 4)"
   ]
  },
  {
   "cell_type": "markdown",
   "metadata": {},
   "source": [
    "Setting the attribute at the class level"
   ]
  },
  {
   "cell_type": "code",
   "execution_count": 50,
   "metadata": {},
   "outputs": [
    {
     "name": "stdout",
     "output_type": "stream",
     "text": [
      "0.1\n",
      "0.33\n",
      "0.33\n",
      "0.33\n"
     ]
    }
   ],
   "source": [
    "Customer.set_discount_rate('s',0.33)\n",
    "\n",
    "print(Customer.junior_discount)\n",
    "print(Customer.senior_discount)\n",
    "print(David.senior_discount)\n",
    "print(Ben.senior_discount)"
   ]
  },
  {
   "cell_type": "markdown",
   "metadata": {},
   "source": [
    "## Demo 10 - Class Methods : Alternative Constructors\n",
    "\n",
    "using classes as an alternative constructor\n",
    "\n",
    "Consider the following string:"
   ]
  },
  {
   "cell_type": "code",
   "execution_count": 51,
   "metadata": {},
   "outputs": [],
   "source": [
    "Ariel = \"100,Modiin,200,25,1\""
   ]
  },
  {
   "cell_type": "markdown",
   "metadata": {},
   "source": [
    "We would like to create a method for parsing it, and generate a new class out of it\n",
    "\n",
    "Basically we can use the following code:"
   ]
  },
  {
   "cell_type": "code",
   "execution_count": 52,
   "metadata": {},
   "outputs": [
    {
     "name": "stdout",
     "output_type": "stream",
     "text": [
      "<class '__main__.Customer'>\n",
      "{\n",
      "    \"id\": \"100\",\n",
      "    \"city\": \"Modiin\",\n",
      "    \"hourly_rate\": 200,\n",
      "    \"unbilled_hours\": 25,\n",
      "    \"current_debt\": 5000,\n",
      "    \"seniority\": 1\n",
      "}\n"
     ]
    }
   ],
   "source": [
    "id, city, hourly_rate, unbilled_hours, seniority = Ariel.split(\",\")\n",
    "Ariel = Customer(id, city, int(hourly_rate), int(unbilled_hours), int(seniority))\n",
    "\n",
    "print(type(Ariel))\n",
    "print(json.dumps(Ariel.__dict__,indent=4))\n",
    "\n",
    "del Ariel"
   ]
  },
  {
   "cell_type": "markdown",
   "metadata": {},
   "source": [
    "Instead, we can create an alternative constructor which will allow us to submit a string<br/>\n",
    "and parse it into variables in order to create a new instance"
   ]
  },
  {
   "cell_type": "code",
   "execution_count": 54,
   "metadata": {},
   "outputs": [
    {
     "name": "stdout",
     "output_type": "stream",
     "text": [
      "{\n",
      "    \"id\": \"100\",\n",
      "    \"city\": \"Modiin\",\n",
      "    \"hourly_rate\": 200,\n",
      "    \"unbilled_hours\": 25,\n",
      "    \"current_debt\": 5000,\n",
      "    \"seniority\": 1\n",
      "}\n"
     ]
    }
   ],
   "source": [
    "class Customer:\n",
    "    junior_discount = 0.1\n",
    "    senior_discount = 0.2\n",
    "    customer_count = 0\n",
    "\n",
    "    @classmethod\n",
    "    def set_discount_rate(cls, discount_type, percentage):\n",
    "        if discount_type == 'j':\n",
    "            cls.junior_discount = percentage\n",
    "        else:\n",
    "            cls.senior_discount = percentage\n",
    "\n",
    "    @classmethod\n",
    "    def from_string(cls, customer_str):\n",
    "        id, city, hourly_rate, unbilled_hours, seniority = customer_str.split(\",\")\n",
    "        return cls(id, city, int(hourly_rate), int(unbilled_hours), int(seniority))\n",
    "\n",
    "    def __init__(self, id, city, hourly_rate, unbilled_hours, seniority):\n",
    "        self.id = id\n",
    "        self.city = city\n",
    "        self.hourly_rate = hourly_rate\n",
    "        self.unbilled_hours = unbilled_hours\n",
    "        self.current_debt = self.hourly_rate * self.unbilled_hours\n",
    "        self.seniority = seniority\n",
    "        Customer.customer_count += 1\n",
    "\n",
    "    def update_rate(self):\n",
    "        if 3 <= self.seniority <= 5 :\n",
    "            self.hourly_rate = int(self.hourly_rate -\n",
    "                                   (self.hourly_rate * self.junior_discount))\n",
    "        elif self.seniority > 5:\n",
    "            self.hourly_rate = int(self.hourly_rate -\n",
    "                                   (self.hourly_rate * self.senior_discount))\n",
    "\n",
    "    def show_details(self):\n",
    "        details = json.dumps(self.__dict__,indent=4)\n",
    "        print(details)\n",
    "\n",
    "\n",
    "Ariel = \"100,Modiin,200,25,1\"\n",
    "Ariel = Customer.from_string(Ariel)\n",
    "Ariel.show_details()"
   ]
  },
  {
   "cell_type": "markdown",
   "metadata": {},
   "source": [
    "## Demo 11 - Static Methods\n",
    "Static Methods\n",
    "* Regular methods pass the instance as their first argument\n",
    "* Class methods pass the class as their first argument\n",
    "* Static methods on the other hand doesn't pass anything automatically.\n",
    "* Static methods behaves like a regular function, except we include them in our classes<br/>\n",
    "because they have some logical connection with the class\n",
    "\n",
    "For example, lets create a function to print the number of customers"
   ]
  },
  {
   "cell_type": "code",
   "execution_count": 55,
   "metadata": {},
   "outputs": [
    {
     "name": "stdout",
     "output_type": "stream",
     "text": [
      "There are currently 0 customers\n",
      "There are currently 3 customers\n"
     ]
    }
   ],
   "source": [
    "class Customer:\n",
    "    junior_discount = 0.1\n",
    "    senior_discount = 0.2\n",
    "    customer_count = 0\n",
    "\n",
    "    @staticmethod\n",
    "    def custoemr_count():\n",
    "        print(f\"There are currently {Customer.customer_count} customers\")\n",
    "\n",
    "    def __init__(self, id, city, hourly_rate, unbilled_hours, seniority):\n",
    "        self.id = id\n",
    "        self.city = city\n",
    "        self.hourly_rate = hourly_rate\n",
    "        self.unbilled_hours = unbilled_hours\n",
    "        self.current_debt = self.hourly_rate * self.unbilled_hours\n",
    "        self.seniority = seniority\n",
    "        Customer.customer_count += 1\n",
    "\n",
    "\n",
    "Customer.custoemr_count()\n",
    "\n",
    "David = Customer('123', 'Tel-Aviv', 100, 20, 7)\n",
    "Ben = Customer('453', 'Ramat-Gan', 120, 13, 4)\n",
    "Ariel = Customer('100','Modiin',200,25,1)\n",
    "\n",
    "Customer.custoemr_count()"
   ]
  },
  {
   "cell_type": "markdown",
   "metadata": {},
   "source": [
    "## Demo 12\n",
    "\n",
    "str() and  repr() in Python\n",
    "\n",
    "* str() and repr() both are used to get a string representation of object.\n",
    "* str() is used for creating output for end user while repr() is mainly\n",
    "  used for debugging and development.\n",
    "* repr’s goal is to be unambiguous and str’s is to be readable"
   ]
  },
  {
   "cell_type": "code",
   "execution_count": 56,
   "metadata": {},
   "outputs": [
    {
     "name": "stdout",
     "output_type": "stream",
     "text": [
      "2019-11-30 20:43:14.693845\n"
     ]
    }
   ],
   "source": [
    "import datetime\n",
    "\n",
    "today = datetime.datetime.now()\n",
    "print(today)"
   ]
  },
  {
   "cell_type": "markdown",
   "metadata": {},
   "source": [
    "***\n",
    "Print readable format for date-time object"
   ]
  },
  {
   "cell_type": "code",
   "execution_count": 57,
   "metadata": {},
   "outputs": [
    {
     "name": "stdout",
     "output_type": "stream",
     "text": [
      "2019-11-30 20:43:14.693845\n"
     ]
    }
   ],
   "source": [
    "print(str(today))"
   ]
  },
  {
   "cell_type": "markdown",
   "metadata": {},
   "source": [
    "***\n",
    "print the official format of date-time object"
   ]
  },
  {
   "cell_type": "code",
   "execution_count": 58,
   "metadata": {},
   "outputs": [
    {
     "name": "stdout",
     "output_type": "stream",
     "text": [
      "datetime.datetime(2019, 11, 30, 20, 43, 14, 693845)\n"
     ]
    }
   ],
   "source": [
    "print(repr(today))"
   ]
  },
  {
   "cell_type": "markdown",
   "metadata": {},
   "source": [
    "**using `__str__` and `__repr__` and other special (\"dunder\") methods**\n",
    "\n",
    "* The __str__ method\n",
    "By default printing the instance object ***(print([customer name]))*** returns an object<br/>\n",
    "We can change this behavior by modifying the `__str__` method<br/><br/>\n",
    "\n",
    "A user defined class should also have a `__repr__` if<br/>\n",
    "we need detailed information for debugging"
   ]
  },
  {
   "cell_type": "code",
   "execution_count": 75,
   "metadata": {},
   "outputs": [
    {
     "name": "stdout",
     "output_type": "stream",
     "text": [
      "Customers's basic details:\n",
      "\t\tID: 123\n",
      "\t\tCity: Tel-Aviv\n",
      "\t\tRate: 100\n",
      "\t\tHours: 20\n",
      "\t\tDebt: 2000\n",
      "\t\tSeniority: 7\n",
      "Customer(453, Ramat-Gan, 120, 13, 1560, 4)\n",
      "3\n",
      "3560\n"
     ]
    }
   ],
   "source": [
    "class Customer:\n",
    "    junior_discount = 0.1\n",
    "    senior_discount = 0.2\n",
    "    customer_count = 0\n",
    "\n",
    "    def __init__(self, id, city, hourly_rate, unbilled_hours, seniority):\n",
    "        self.id = id\n",
    "        self.city = city\n",
    "        self.hourly_rate = hourly_rate\n",
    "        self.unbilled_hours = unbilled_hours\n",
    "        self.current_debt = self.hourly_rate * self.unbilled_hours\n",
    "        self.seniority = seniority\n",
    "        Customer.customer_count += 1\n",
    "\n",
    "    def __str__(self):\n",
    "        return f'Customers\\'s basic details:\\n\\t\\tID: {self.id}\\n\\t\\t' \\\n",
    "               f'City: {self.city}\\n\\t\\tRate: {self.hourly_rate}\\n\\t\\t' \\\n",
    "               f'Hours: {self.unbilled_hours}\\n\\t\\tDebt: {self.current_debt}' \\\n",
    "               f'\\n\\t\\tSeniority: {self.seniority}'\n",
    "\n",
    "    def __repr__(self):\n",
    "        return f\"Customer({self.id}, {self.city}, {self.hourly_rate}, \" \\\n",
    "               f\"{self.unbilled_hours}, {self.current_debt}, {self.seniority})\"\n",
    "\n",
    "    def __len__(self):\n",
    "        return Customer.customer_count\n",
    "\n",
    "    def __add__(self, other):\n",
    "        return self.current_debt + other.current_debt\n",
    "\n",
    "David = Customer('123', 'Tel-Aviv', 100, 20, 7)\n",
    "Ben = Customer('453', 'Ramat-Gan', 120, 13, 4)\n",
    "Ariel = Customer('100','Modiin',200,25,1)\n",
    "\n",
    "print(str(David)) # Same as print(David)\n",
    "print(repr(Ben))\n",
    "print(len(Ariel))\n",
    "print(David + Ben)"
   ]
  },
  {
   "cell_type": "markdown",
   "metadata": {},
   "source": [
    "***\n",
    "Many other special methods can be seen here:<br/>\n",
    "https://docs.python.org/3/reference/datamodel.html#special-method-names\n",
    "\n",
    "***\n",
    "## Demo 13 - Inheritance\n",
    "\n",
    " Let's re-write our code so we can be more specific when generating new customers<br/>\n",
    " This time we'll have a Customer main class, and also sub-classes for creating<br/>\n",
    " Specific types of customers"
   ]
  },
  {
   "cell_type": "code",
   "execution_count": 80,
   "metadata": {},
   "outputs": [],
   "source": [
    "class Customer:\n",
    "    junior_discount = 0.1\n",
    "    senior_discount = 0.2\n",
    "    customer_count = 0\n",
    "\n",
    "    @classmethod\n",
    "    def set_discount_rate(cls, discount_type, percentage):\n",
    "        if discount_type == 'j':\n",
    "            cls.junior_discount = percentage\n",
    "        else:\n",
    "            cls.senior_discount = percentage\n",
    "\n",
    "    @classmethod\n",
    "    def from_string(cls, customer_str):\n",
    "        id, city, hourly_rate, unbilled_hours, seniority = customer_str.split(\",\")\n",
    "        return cls(id, city, int(hourly_rate), int(unbilled_hours), int(seniority))\n",
    "\n",
    "    @staticmethod\n",
    "    def custoemr_count():\n",
    "        print(f\"There are currently {Customer.customer_count} customers\")\n",
    "\n",
    "    def __init__(self, id, city, hourly_rate, unbilled_hours, seniority):\n",
    "        self.id = id\n",
    "        self.city = city\n",
    "        self.hourly_rate = hourly_rate\n",
    "        self.unbilled_hours = unbilled_hours\n",
    "        self.current_debt = self.hourly_rate * self.unbilled_hours\n",
    "        self.seniority = seniority\n",
    "        Customer.customer_count += 1\n",
    "\n",
    "    def update_rate(self):\n",
    "        if 3 <= self.seniority <= 5 :\n",
    "            self.hourly_rate = int(self.hourly_rate -\n",
    "                                   (self.hourly_rate * self.junior_discount))\n",
    "        elif self.seniority > 5:\n",
    "            self.hourly_rate = int(self.hourly_rate -\n",
    "                                   (self.hourly_rate * self.senior_discount))\n",
    "\n",
    "    def __str__(self):\n",
    "        return f'Customers\\'s basic details:\\n\\t\\tID: {self.id}\\n\\t\\t' \\\n",
    "               f'City: {self.city}\\n\\t\\tRate: {self.hourly_rate}\\n\\t\\t' \\\n",
    "               f'Hours: {self.unbilled_hours}\\n\\t\\tDebt: {self.current_debt}' \\\n",
    "               f'\\n\\t\\tSeniority: {self.seniority}'\n",
    "\n",
    "    def __len__(self):\n",
    "        return Customer.customer_count\n",
    "\n",
    "class vip(Customer):\n",
    "    pass\n",
    "\n",
    "class trial(Customer):\n",
    "    pass\n",
    "\n",
    "class abroad(Customer):\n",
    "    pass"
   ]
  },
  {
   "cell_type": "markdown",
   "metadata": {},
   "source": [
    "Even without defining any special functionality. the vip, Trial and abroad sub-classes<br/> inherited everything from the Customer main class"
   ]
  },
  {
   "cell_type": "code",
   "execution_count": 82,
   "metadata": {},
   "outputs": [
    {
     "name": "stdout",
     "output_type": "stream",
     "text": [
      "Customers's basic details:\n",
      "\t\tID: 111\n",
      "\t\tCity: Jerusalem\n",
      "\t\tRate: 100\n",
      "\t\tHours: 5\n",
      "\t\tDebt: 500\n",
      "\t\tSeniority: 5\n",
      "Customers's basic details:\n",
      "\t\tID: 222\n",
      "\t\tCity: Haifa\n",
      "\t\tRate: 100\n",
      "\t\tHours: 15\n",
      "\t\tDebt: 1500\n",
      "\t\tSeniority: 2\n"
     ]
    }
   ],
   "source": [
    "Maya = vip(111,'Jerusalem', 100, 5, 5)\n",
    "Rachel = trial(222, 'Haifa', 100, 15, 2)\n",
    "print(Maya)\n",
    "print(Rachel)"
   ]
  },
  {
   "cell_type": "markdown",
   "metadata": {},
   "source": [
    "We can use the help function to see the ***Method Resolution Order***"
   ]
  },
  {
   "cell_type": "code",
   "execution_count": 64,
   "metadata": {},
   "outputs": [
    {
     "name": "stdout",
     "output_type": "stream",
     "text": [
      "Help on class vip in module __main__:\n",
      "\n",
      "class vip(Customer)\n",
      " |  vip(id, city, hourly_rate, unbilled_hours, seniority)\n",
      " |  \n",
      " |  Method resolution order:\n",
      " |      vip\n",
      " |      Customer\n",
      " |      builtins.object\n",
      " |  \n",
      " |  Methods inherited from Customer:\n",
      " |  \n",
      " |  __init__(self, id, city, hourly_rate, unbilled_hours, seniority)\n",
      " |      Initialize self.  See help(type(self)) for accurate signature.\n",
      " |  \n",
      " |  __len__(self)\n",
      " |  \n",
      " |  __str__(self)\n",
      " |      Return str(self).\n",
      " |  \n",
      " |  update_rate(self)\n",
      " |  \n",
      " |  ----------------------------------------------------------------------\n",
      " |  Class methods inherited from Customer:\n",
      " |  \n",
      " |  from_string(customer_str) from builtins.type\n",
      " |  \n",
      " |  set_discount_rate(discount_type, percentage) from builtins.type\n",
      " |  \n",
      " |  ----------------------------------------------------------------------\n",
      " |  Static methods inherited from Customer:\n",
      " |  \n",
      " |  custoemr_count()\n",
      " |  \n",
      " |  ----------------------------------------------------------------------\n",
      " |  Data descriptors inherited from Customer:\n",
      " |  \n",
      " |  __dict__\n",
      " |      dictionary for instance variables (if defined)\n",
      " |  \n",
      " |  __weakref__\n",
      " |      list of weak references to the object (if defined)\n",
      " |  \n",
      " |  ----------------------------------------------------------------------\n",
      " |  Data and other attributes inherited from Customer:\n",
      " |  \n",
      " |  customer_count = 2\n",
      " |  \n",
      " |  junior_discount = 0.1\n",
      " |  \n",
      " |  senior_discount = 0.2\n",
      "\n",
      "None\n"
     ]
    }
   ],
   "source": [
    "print(help(vip))"
   ]
  },
  {
   "cell_type": "markdown",
   "metadata": {},
   "source": [
    "We can also see that class variables were inherited from the Customer Main Class"
   ]
  },
  {
   "cell_type": "code",
   "execution_count": 65,
   "metadata": {},
   "outputs": [
    {
     "name": "stdout",
     "output_type": "stream",
     "text": [
      "2\n",
      "0.1\n",
      "0.2\n"
     ]
    }
   ],
   "source": [
    "print(vip.customer_count)\n",
    "print(Maya.junior_discount)\n",
    "print(Rachel.senior_discount)"
   ]
  },
  {
   "cell_type": "markdown",
   "metadata": {},
   "source": [
    "We can use the `isinstance` to check if an object is an instance of a class"
   ]
  },
  {
   "cell_type": "code",
   "execution_count": 90,
   "metadata": {},
   "outputs": [
    {
     "name": "stdout",
     "output_type": "stream",
     "text": [
      "True\n",
      "True\n"
     ]
    }
   ],
   "source": [
    "print(isinstance(Maya, vip))\n",
    "print(isinstance(Maya, Customer))"
   ]
  },
  {
   "cell_type": "markdown",
   "metadata": {},
   "source": [
    "We can also use the `issubclass` to check if a certain class inherits from another"
   ]
  },
  {
   "cell_type": "code",
   "execution_count": 88,
   "metadata": {},
   "outputs": [
    {
     "name": "stdout",
     "output_type": "stream",
     "text": [
      "True\n"
     ]
    }
   ],
   "source": [
    "print(issubclass(vip, Customer))"
   ]
  },
  {
   "cell_type": "markdown",
   "metadata": {},
   "source": [
    "## Demo 14\n",
    "\n",
    "In this example we'll change the basic behavior of the vip sub-class\n",
    "1. A new \"discount\" variable will be specified at the vip sub-class definition as well\n",
    "2. Our vip sub-class will have its own __init__ method\n",
    "3. Our vip sub-class will have its own \"update_rate\" method\n",
    "\n",
    "Class Customer stays the same"
   ]
  },
  {
   "cell_type": "code",
   "execution_count": 68,
   "metadata": {},
   "outputs": [],
   "source": [
    "class vip(Customer):\n",
    "    vip_discount = 0.5\n",
    "\n",
    "    @classmethod\n",
    "    def set_discount_rate(cls, percentage):\n",
    "            cls.vip_discount = percentage\n",
    "\n",
    "    def __init__(self, id, city, hourly_rate, unbilled_hours, seniority, vip_score):\n",
    "        super().__init__(id, city, hourly_rate, unbilled_hours, seniority)\n",
    "        # * The super __init__ method will pass the (name, height, weight, power) to the main class\n",
    "        #   and let it handle those arguments\n",
    "        # * The rest is the same, here we'll be also defining the vip_score that members can accumulate\n",
    "        #   for additional rewards\n",
    "        self.vip_score = vip_score\n",
    "\n",
    "    def update_rate(self):\n",
    "        self.hourly_rate = int(self.hourly_rate -\n",
    "                                (self.hourly_rate * self.vip_discount))"
   ]
  },
  {
   "cell_type": "markdown",
   "metadata": {},
   "source": [
    "Instantiating the vip sub-class with vip_score"
   ]
  },
  {
   "cell_type": "code",
   "execution_count": 69,
   "metadata": {},
   "outputs": [],
   "source": [
    "Maya = vip(111,'Jerusalem', 100, 5, 5, 5000)\n",
    "Rachel = vip(222, 'Haifa', 100, 15, 2, 3500)"
   ]
  },
  {
   "cell_type": "markdown",
   "metadata": {},
   "source": [
    "This time the discount is defined at the sub-class"
   ]
  },
  {
   "cell_type": "code",
   "execution_count": 70,
   "metadata": {},
   "outputs": [
    {
     "name": "stdout",
     "output_type": "stream",
     "text": [
      "0.5\n",
      "0.5\n",
      "0.5\n"
     ]
    }
   ],
   "source": [
    "print(vip.vip_discount)\n",
    "print(Maya.vip_discount)\n",
    "print(Rachel.vip_discount)"
   ]
  },
  {
   "cell_type": "markdown",
   "metadata": {},
   "source": [
    "## Demo 15 - Overloading methods\n",
    "\n",
    "* Python do not support any function overloading.\n",
    "* However there is a way of doing that with the help of default arguments.<br/>\n",
    "This way we can have function working in more than one way, according to the passed arguments."
   ]
  },
  {
   "cell_type": "code",
   "execution_count": 73,
   "metadata": {},
   "outputs": [
    {
     "name": "stdout",
     "output_type": "stream",
     "text": [
      "{\n",
      "    \"ID\": \"123\",\n",
      "    \"hourly rate\": 100,\n",
      "    \"unbilled hours\": 20,\n",
      "    \"current debt\": 2000,\n",
      "    \"city\": null\n",
      "}\n",
      "None\n",
      "{\n",
      "    \"ID\": \"453\",\n",
      "    \"hourly rate\": 120,\n",
      "    \"unbilled hours\": 13,\n",
      "    \"current debt\": 1560,\n",
      "    \"city\": \"Ramat-Gan\"\n",
      "}\n",
      "None\n"
     ]
    }
   ],
   "source": [
    "import json\n",
    "\n",
    "class Customer:\n",
    "    def __init__(self, id, hourly_rate, unbilled_hours, city = None):\n",
    "        self.id = id\n",
    "        self.hourly_rate = hourly_rate\n",
    "        self.unbilled_hours = unbilled_hours\n",
    "        self.current_debt = self.hourly_rate * self.unbilled_hours\n",
    "        if city is not None:\n",
    "            self.city = city\n",
    "        else:\n",
    "            self.city = None\n",
    "\n",
    "    def details(self):\n",
    "        c_dict = dict()\n",
    "        c_dict[\"ID\"] = self.id\n",
    "        c_dict[\"hourly rate\"] = self.hourly_rate\n",
    "        c_dict[\"unbilled hours\"] = self.unbilled_hours\n",
    "        c_dict[\"current debt\"] = self.current_debt\n",
    "        c_dict[\"city\"] = self.city\n",
    "        print(json.dumps(c_dict, indent=4))\n",
    "\n",
    "David = Customer('123', 100, 20)\n",
    "Ben = Customer('453', 120, 13, 'Ramat-Gan') # Instantiating without Power\n",
    "\n",
    "print(David.details())\n",
    "\n",
    "print(Ben.details())"
   ]
  },
  {
   "cell_type": "markdown",
   "metadata": {},
   "source": [
    "Explicit argument naming"
   ]
  },
  {
   "cell_type": "code",
   "execution_count": 74,
   "metadata": {},
   "outputs": [],
   "source": [
    "Ariel = Customer(id = '100',city = 'Modiin', hourly_rate = 200, unbilled_hours = 25)"
   ]
  },
  {
   "cell_type": "markdown",
   "metadata": {},
   "source": [
    "## Demo 16 - Getters and Setters\n",
    "\n",
    "### A. The Challenge"
   ]
  },
  {
   "cell_type": "code",
   "execution_count": 91,
   "metadata": {},
   "outputs": [],
   "source": [
    "class Customer:\n",
    "    customer_count = 0\n",
    "\n",
    "    def __init__(self, id, name, hourly_rate, unbilled_hours, seniority):\n",
    "        self.id = id\n",
    "        self.name = name\n",
    "        self.hourly_rate = hourly_rate\n",
    "        self.unbilled_hours = unbilled_hours\n",
    "        self.current_debt = self.hourly_rate * self.unbilled_hours\n",
    "        self.seniority = seniority\n",
    "        Customer.customer_count += 1\n",
    "\n",
    "    def generate_email(self):\n",
    "        return self.name.replace(\" \", \"\").lower() + self.id + \"@company.com\"\n",
    "\n",
    "David = Customer('123', 'David Cohen', 100, 20, 7)"
   ]
  },
  {
   "cell_type": "markdown",
   "metadata": {},
   "source": [
    "print the email"
   ]
  },
  {
   "cell_type": "code",
   "execution_count": 92,
   "metadata": {},
   "outputs": [
    {
     "name": "stdout",
     "output_type": "stream",
     "text": [
      "davidcohen123@company.com\n"
     ]
    }
   ],
   "source": [
    "print(David.generate_email())"
   ]
  },
  {
   "cell_type": "markdown",
   "metadata": {},
   "source": [
    "change the ID"
   ]
  },
  {
   "cell_type": "code",
   "execution_count": null,
   "metadata": {},
   "outputs": [],
   "source": [
    "David.id = \"321\""
   ]
  },
  {
   "cell_type": "markdown",
   "metadata": {},
   "source": [
    "print the email again"
   ]
  },
  {
   "cell_type": "code",
   "execution_count": 93,
   "metadata": {},
   "outputs": [
    {
     "name": "stdout",
     "output_type": "stream",
     "text": [
      "davidcohen123@company.com\n"
     ]
    }
   ],
   "source": [
    "print(David.generate_email())"
   ]
  },
  {
   "cell_type": "markdown",
   "metadata": {},
   "source": [
    "print current debt"
   ]
  },
  {
   "cell_type": "code",
   "execution_count": 94,
   "metadata": {},
   "outputs": [
    {
     "name": "stdout",
     "output_type": "stream",
     "text": [
      "2000\n"
     ]
    }
   ],
   "source": [
    "print(David.current_debt)"
   ]
  },
  {
   "cell_type": "markdown",
   "metadata": {},
   "source": [
    "change the rate"
   ]
  },
  {
   "cell_type": "code",
   "execution_count": 95,
   "metadata": {},
   "outputs": [],
   "source": [
    "David.hourly_rate = 200"
   ]
  },
  {
   "cell_type": "markdown",
   "metadata": {},
   "source": [
    "debt stays the same"
   ]
  },
  {
   "cell_type": "code",
   "execution_count": 96,
   "metadata": {},
   "outputs": [
    {
     "name": "stdout",
     "output_type": "stream",
     "text": [
      "2000\n"
     ]
    }
   ],
   "source": [
    "print(David.current_debt)"
   ]
  },
  {
   "cell_type": "markdown",
   "metadata": {},
   "source": [
    "How do we solve this problem ?\n",
    "1. First option would be to create a current_debt function.<br/>\n",
    "   But that would change the way people already interacts with this class\n",
    "2. Second option would be to use a getter - a method which can be accessed <br/>exactly like any other attribute\n",
    "\n",
    "### B. Getters"
   ]
  },
  {
   "cell_type": "code",
   "execution_count": 97,
   "metadata": {},
   "outputs": [],
   "source": [
    "class Customer:\n",
    "    customer_count = 0\n",
    "\n",
    "    def __init__(self, id, name, hourly_rate, unbilled_hours, seniority):\n",
    "        self.id = id\n",
    "        self.name = name\n",
    "        self.hourly_rate = hourly_rate\n",
    "        self.unbilled_hours = unbilled_hours\n",
    "        # self.current_debt = self.hourly_rate * self.unbilled_hours\n",
    "        self.seniority = seniority\n",
    "        Customer.customer_count += 1\n",
    "\n",
    "    def generate_email(self):\n",
    "        return self.name.replace(\" \", \"\").lower() + self.id + \"@company.com\"\n",
    "\n",
    "    @property  # the getter\n",
    "    def current_debt(self):\n",
    "        return self.hourly_rate * self.unbilled_hours\n",
    "\n",
    "David = Customer('123', 'David Cohen', 100, 20, 7)"
   ]
  },
  {
   "cell_type": "markdown",
   "metadata": {},
   "source": [
    "print current debt"
   ]
  },
  {
   "cell_type": "code",
   "execution_count": 100,
   "metadata": {},
   "outputs": [
    {
     "name": "stdout",
     "output_type": "stream",
     "text": [
      "2000\n"
     ]
    }
   ],
   "source": [
    "print(David.current_debt)"
   ]
  },
  {
   "cell_type": "markdown",
   "metadata": {},
   "source": [
    "change the rate"
   ]
  },
  {
   "cell_type": "code",
   "execution_count": 101,
   "metadata": {},
   "outputs": [],
   "source": [
    "David.hourly_rate = 200"
   ]
  },
  {
   "cell_type": "markdown",
   "metadata": {},
   "source": [
    "debt changes accordingly"
   ]
  },
  {
   "cell_type": "code",
   "execution_count": 102,
   "metadata": {},
   "outputs": [
    {
     "name": "stdout",
     "output_type": "stream",
     "text": [
      "4000\n"
     ]
    }
   ],
   "source": [
    "print(David.current_debt)"
   ]
  },
  {
   "cell_type": "markdown",
   "metadata": {},
   "source": [
    "Is it possible to change the debt? and if so, what happens to hourly rate and unbilled hours?"
   ]
  },
  {
   "cell_type": "code",
   "execution_count": 104,
   "metadata": {},
   "outputs": [
    {
     "ename": "AttributeError",
     "evalue": "can't set attribute",
     "output_type": "error",
     "traceback": [
      "\u001b[1;31m---------------------------------------------------------------------------\u001b[0m",
      "\u001b[1;31mAttributeError\u001b[0m                            Traceback (most recent call last)",
      "\u001b[1;32m<ipython-input-104-33b03a8bab8c>\u001b[0m in \u001b[0;36m<module>\u001b[1;34m()\u001b[0m\n\u001b[0;32m      1\u001b[0m \u001b[1;31m# AttributeError: can't set attribute\u001b[0m\u001b[1;33m\u001b[0m\u001b[1;33m\u001b[0m\u001b[1;33m\u001b[0m\u001b[0m\n\u001b[1;32m----> 2\u001b[1;33m \u001b[0mDavid\u001b[0m\u001b[1;33m.\u001b[0m\u001b[0mcurrent_debt\u001b[0m \u001b[1;33m=\u001b[0m \u001b[1;36m1000\u001b[0m\u001b[1;33m\u001b[0m\u001b[1;33m\u001b[0m\u001b[0m\n\u001b[0m",
      "\u001b[1;31mAttributeError\u001b[0m: can't set attribute"
     ]
    }
   ],
   "source": [
    "# AttributeError: can't set attribute\n",
    "David.current_debt = 1000"
   ]
  },
  {
   "cell_type": "markdown",
   "metadata": {},
   "source": [
    "### C. Setters"
   ]
  },
  {
   "cell_type": "code",
   "execution_count": 105,
   "metadata": {},
   "outputs": [],
   "source": [
    "class Customer:\n",
    "    customer_count = 0\n",
    "\n",
    "    def __init__(self, id, name, hourly_rate, unbilled_hours, seniority):\n",
    "        self.id = id\n",
    "        self.name = name\n",
    "        self.hourly_rate = hourly_rate\n",
    "        self.unbilled_hours = unbilled_hours\n",
    "        # self.current_debt = self.hourly_rate * self.unbilled_hours\n",
    "        self.seniority = seniority\n",
    "        Customer.customer_count += 1\n",
    "\n",
    "    @property\n",
    "    def email(self):\n",
    "        return self.name.replace(\" \", \"\").lower() + self.id + \"@company.com\"\n",
    "\n",
    "    @property  # getter\n",
    "    def current_debt(self):\n",
    "        return self.hourly_rate * self.unbilled_hours\n",
    "\n",
    "    @current_debt.setter\n",
    "    def current_debt(self, debt):\n",
    "        self.unbilled_hours = int(debt / self.hourly_rate)\n",
    "\n",
    "David = Customer('123', 'David Cohen', 100, 20, 7)"
   ]
  },
  {
   "cell_type": "code",
   "execution_count": null,
   "metadata": {},
   "outputs": [],
   "source": [
    "print current debt\n",
    "\n",
    "\n",
    "\n",
    "# \n",
    "\n",
    "\n",
    "\n",
    "# \n",
    "\n"
   ]
  },
  {
   "cell_type": "code",
   "execution_count": 106,
   "metadata": {},
   "outputs": [
    {
     "name": "stdout",
     "output_type": "stream",
     "text": [
      "2000\n"
     ]
    }
   ],
   "source": [
    "print(David.current_debt)"
   ]
  },
  {
   "cell_type": "markdown",
   "metadata": {},
   "source": [
    "change the rate"
   ]
  },
  {
   "cell_type": "code",
   "execution_count": 107,
   "metadata": {},
   "outputs": [],
   "source": [
    "David.hourly_rate = 200"
   ]
  },
  {
   "cell_type": "markdown",
   "metadata": {},
   "source": [
    "debt changes accordingly"
   ]
  },
  {
   "cell_type": "code",
   "execution_count": 108,
   "metadata": {},
   "outputs": [
    {
     "name": "stdout",
     "output_type": "stream",
     "text": [
      "4000\n"
     ]
    }
   ],
   "source": [
    "print(David.current_debt)"
   ]
  },
  {
   "cell_type": "markdown",
   "metadata": {},
   "source": [
    "Try to change the debt again.."
   ]
  },
  {
   "cell_type": "code",
   "execution_count": 109,
   "metadata": {},
   "outputs": [],
   "source": [
    "David.current_debt = 1000"
   ]
  },
  {
   "cell_type": "code",
   "execution_count": 110,
   "metadata": {},
   "outputs": [
    {
     "name": "stdout",
     "output_type": "stream",
     "text": [
      "1000\n",
      "200\n",
      "5\n"
     ]
    }
   ],
   "source": [
    "print(David.current_debt)\n",
    "print(David.hourly_rate)\n",
    "print(David.unbilled_hours)"
   ]
  },
  {
   "cell_type": "markdown",
   "metadata": {},
   "source": [
    "### D. Deleters"
   ]
  },
  {
   "cell_type": "code",
   "execution_count": 111,
   "metadata": {},
   "outputs": [],
   "source": [
    "class Customer:\n",
    "    customer_count = 0\n",
    "\n",
    "    def __init__(self, id, name, hourly_rate, unbilled_hours, seniority):\n",
    "        self.id = id\n",
    "        self.name = name\n",
    "        self.hourly_rate = hourly_rate\n",
    "        self.unbilled_hours = unbilled_hours\n",
    "        self.seniority = seniority\n",
    "        Customer.customer_count += 1\n",
    "\n",
    "    @property\n",
    "    def email(self):\n",
    "        return self.name.replace(\" \", \"\").lower() + self.id + \"@company.com\"\n",
    "\n",
    "    @property  # getter\n",
    "    def current_debt(self):\n",
    "        return self.hourly_rate * self.unbilled_hours\n",
    "\n",
    "    @current_debt.setter\n",
    "    def current_debt(self, debt):\n",
    "        self.unbilled_hours = int(debt / self.hourly_rate)\n",
    "\n",
    "    @current_debt.deleter\n",
    "    def current_debt(self):\n",
    "        self.unbilled_hours = 0\n",
    "        print(f'Customer {self.id}\\'s Debt has been paid!')\n",
    "\n",
    "\n",
    "David = Customer('123', 'David Cohen', 100, 20, 7)"
   ]
  },
  {
   "cell_type": "code",
   "execution_count": 112,
   "metadata": {},
   "outputs": [
    {
     "name": "stdout",
     "output_type": "stream",
     "text": [
      "2000\n",
      "Customer 123's Debt has been paid!\n",
      "0\n",
      "0\n"
     ]
    }
   ],
   "source": [
    "print(David.current_debt)\n",
    "\n",
    "del David.current_debt\n",
    "\n",
    "print(David.current_debt)\n",
    "print(David.unbilled_hours)"
   ]
  }
 ],
 "metadata": {
  "kernelspec": {
   "display_name": "Python 3",
   "language": "python",
   "name": "python3"
  },
  "language_info": {
   "codemirror_mode": {
    "name": "ipython",
    "version": 3
   },
   "file_extension": ".py",
   "mimetype": "text/x-python",
   "name": "python",
   "nbconvert_exporter": "python",
   "pygments_lexer": "ipython3",
   "version": "3.7.3"
  },
  "toc": {
   "base_numbering": 1,
   "nav_menu": {},
   "number_sections": true,
   "sideBar": true,
   "skip_h1_title": false,
   "title_cell": "Table of Contents",
   "title_sidebar": "Contents",
   "toc_cell": true,
   "toc_position": {
    "height": "calc(100% - 180px)",
    "left": "10px",
    "top": "150px",
    "width": "196px"
   },
   "toc_section_display": true,
   "toc_window_display": true
  }
 },
 "nbformat": 4,
 "nbformat_minor": 2
}
