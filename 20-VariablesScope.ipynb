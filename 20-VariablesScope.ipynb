{
 "cells": [
  {
   "cell_type": "markdown",
   "metadata": {},
   "source": [
    "# <font color=\"blue\"> Chapter 20 - Variables Scope </font>\n",
    "* When we create a variable in Python, the name is stored in a \"Namespace\"\n",
    "  and each has it's own scope."
   ]
  },
  {
   "cell_type": "code",
   "execution_count": 1,
   "metadata": {},
   "outputs": [
    {
     "data": {
      "text/html": [
       "<iframe width=\"840\" height=\"473\" src=\"https://www.youtube.com/embed/sUi08uvpJvY\" frameborder=\"0\" allow=\"accelerometer; autoplay; encrypted-media; gyroscope; picture-in-picture\" allowfullscreen></iframe>\n"
      ],
      "text/plain": [
       "<IPython.core.display.HTML object>"
      ]
     },
     "metadata": {},
     "output_type": "display_data"
    }
   ],
   "source": [
    "%%html\n",
    "<iframe width=\"840\" height=\"473\" src=\"https://www.youtube.com/embed/sUi08uvpJvY\" frameborder=\"0\" allow=\"accelerometer; autoplay; encrypted-media; gyroscope; picture-in-picture\" allowfullscreen></iframe>"
   ]
  },
  {
   "cell_type": "code",
   "execution_count": 1,
   "metadata": {},
   "outputs": [],
   "source": [
    "number = 10\n",
    "\n",
    "def print_number():\n",
    "    number = 15\n",
    "    return number"
   ]
  },
  {
   "cell_type": "code",
   "execution_count": 2,
   "metadata": {},
   "outputs": [
    {
     "name": "stdout",
     "output_type": "stream",
     "text": [
      "10\n"
     ]
    }
   ],
   "source": [
    "print(number)"
   ]
  },
  {
   "cell_type": "code",
   "execution_count": 3,
   "metadata": {},
   "outputs": [
    {
     "name": "stdout",
     "output_type": "stream",
     "text": [
      "15\n"
     ]
    }
   ],
   "source": [
    "print(print_number())"
   ]
  },
  {
   "cell_type": "markdown",
   "metadata": {},
   "source": [
    "Enclosing Function"
   ]
  },
  {
   "cell_type": "code",
   "execution_count": 4,
   "metadata": {},
   "outputs": [],
   "source": [
    "some_name = 'Johnny'\n",
    "\n",
    "def outer_func():\n",
    "    some_name = 'Bravo'\n",
    "\n",
    "    def inner_func():\n",
    "        print(some_name)\n",
    "\n",
    "    inner_func()"
   ]
  },
  {
   "cell_type": "code",
   "execution_count": 20,
   "metadata": {},
   "outputs": [
    {
     "name": "stdout",
     "output_type": "stream",
     "text": [
      "variable value : \n",
      "Bravo\n",
      "Function output : \n",
      "Bravo\n"
     ]
    }
   ],
   "source": [
    "print (\"variable value : \")\n",
    "print (some_name)\n",
    "print (\"Function output : \")\n",
    "outer_func()"
   ]
  },
  {
   "cell_type": "markdown",
   "metadata": {},
   "source": [
    "<b> Using Global </b>\n",
    "\n",
    "* In order to work with global variables, you need\n",
    "  to insert an explicit global declaration at the start of the function\n",
    "* In the example below, all references to number are interpreted as references\n",
    "  to the number from the module namespace.\n",
    "* Note that the global declarations must be placed at the beginning\n",
    "  of the function, and that it affects all uses of the variable inside the function.\n",
    "\n",
    "Demo 1"
   ]
  },
  {
   "cell_type": "code",
   "execution_count": 21,
   "metadata": {},
   "outputs": [
    {
     "name": "stdout",
     "output_type": "stream",
     "text": [
      "100\n",
      "555\n"
     ]
    }
   ],
   "source": [
    "number = 100\n",
    "\n",
    "def change_num():\n",
    "    global number\n",
    "\n",
    "    print(number)\n",
    "    number = 555\n",
    "    print(number)\n",
    "\n",
    "change_num()"
   ]
  },
  {
   "cell_type": "code",
   "execution_count": 22,
   "metadata": {},
   "outputs": [
    {
     "name": "stdout",
     "output_type": "stream",
     "text": [
      "555\n"
     ]
    }
   ],
   "source": [
    "print(number)"
   ]
  },
  {
   "cell_type": "markdown",
   "metadata": {},
   "source": [
    "<b> Demo 2 </b>"
   ]
  },
  {
   "cell_type": "code",
   "execution_count": 11,
   "metadata": {},
   "outputs": [],
   "source": [
    "some_name = 'Johnny'\n",
    "\n",
    "def outer_func():\n",
    "    global some_name\n",
    "    some_name = 'Bravo'\n",
    "\n",
    "    def inner_func():\n",
    "        print(some_name)\n",
    "\n",
    "    inner_func()"
   ]
  },
  {
   "cell_type": "code",
   "execution_count": 23,
   "metadata": {},
   "outputs": [
    {
     "name": "stdout",
     "output_type": "stream",
     "text": [
      "variable value : \n",
      "Bravo\n",
      "Executing the function:\n",
      "Bravo\n",
      "New variable value : \n",
      "Bravo\n"
     ]
    }
   ],
   "source": [
    "print (\"variable value : \")\n",
    "print (some_name)\n",
    "print (\"Executing the function:\")\n",
    "outer_func()\n",
    "print (\"New variable value : \")\n",
    "print (some_name)"
   ]
  }
 ],
 "metadata": {
  "kernelspec": {
   "display_name": "Python 3",
   "language": "python",
   "name": "python3"
  },
  "language_info": {
   "codemirror_mode": {
    "name": "ipython",
    "version": 3
   },
   "file_extension": ".py",
   "mimetype": "text/x-python",
   "name": "python",
   "nbconvert_exporter": "python",
   "pygments_lexer": "ipython3",
   "version": "3.8.5"
  }
 },
 "nbformat": 4,
 "nbformat_minor": 2
}
