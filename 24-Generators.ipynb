{
 "cells": [
  {
   "cell_type": "markdown",
   "metadata": {},
   "source": [
    "# <font color=\"blue\"> Chapter 24 - Generators </font> \n",
    "\n",
    "* A Python generator is a function which returns a generator iterator (just an object we can iterate over)\n",
    "  by calling yield.\n",
    "* When we call a normal Python function, execution starts at function's first line and continues until a\n",
    "  return statement, exception, or the end of the function.\n",
    "* There are times, though, when it's beneficial to have the ability to create a \"function\" which,\n",
    "  instead of simply returning a single value, is able to yield a series of values. To do so,\n",
    "  such a function would need to be able to \"save its work,\" so to speak."
   ]
  },
  {
   "cell_type": "markdown",
   "metadata": {},
   "source": [
    "Example - Numbers to the Square\n",
    "\n",
    "Suppose you want to create function that returns a list of n numbers to the square"
   ]
  },
  {
   "cell_type": "code",
   "execution_count": 2,
   "metadata": {},
   "outputs": [],
   "source": [
    "def square_list(n):\n",
    "    output_list = []\n",
    "\n",
    "    for i in range(n):\n",
    "        output_list.insert(i, (i + 1) ** 2)\n",
    "    return output_list"
   ]
  },
  {
   "cell_type": "code",
   "execution_count": 3,
   "metadata": {},
   "outputs": [
    {
     "name": "stdout",
     "output_type": "stream",
     "text": [
      "[1, 4, 9, 16, 25, 36, 49, 64, 81, 100]\n"
     ]
    }
   ],
   "source": [
    "print(square_list(10))"
   ]
  },
  {
   "cell_type": "markdown",
   "metadata": {},
   "source": [
    "Re-executing with Generators\n",
    "\n",
    "Now the same functionality with a generator\n",
    "Each time the yield statement is executed the function generates a new value."
   ]
  },
  {
   "cell_type": "code",
   "execution_count": 4,
   "metadata": {},
   "outputs": [],
   "source": [
    "def square_generator(n):\n",
    "    for i in range(n):\n",
    "        yield (i+1) ** 2"
   ]
  },
  {
   "cell_type": "markdown",
   "metadata": {},
   "source": [
    "Using the generator"
   ]
  },
  {
   "cell_type": "code",
   "execution_count": 5,
   "metadata": {},
   "outputs": [
    {
     "name": "stdout",
     "output_type": "stream",
     "text": [
      "1\n",
      "4\n",
      "9\n",
      "16\n",
      "25\n",
      "36\n",
      "49\n",
      "64\n",
      "81\n",
      "100\n"
     ]
    }
   ],
   "source": [
    "for i in square_generator(10):\n",
    "    print(i)"
   ]
  },
  {
   "cell_type": "markdown",
   "metadata": {},
   "source": [
    "We can also use the next() function"
   ]
  },
  {
   "cell_type": "code",
   "execution_count": 6,
   "metadata": {},
   "outputs": [
    {
     "data": {
      "text/plain": [
       "1"
      ]
     },
     "execution_count": 6,
     "metadata": {},
     "output_type": "execute_result"
    }
   ],
   "source": [
    "sg = square_generator(10)\n",
    "next(sg)"
   ]
  },
  {
   "cell_type": "markdown",
   "metadata": {},
   "source": [
    "If a generator function calls return or reaches the end its definition, a StopIteration exception is raised. <br> \n",
    "This signals to whoever was calling next() that the generator is exhausted (this is normal iterator behavior)"
   ]
  },
  {
   "cell_type": "markdown",
   "metadata": {},
   "source": [
    "Dealing With Infinite Sequence <br>\n",
    "How do we create a function that gets a start position (as argument) and returns all\n",
    "squares of numbers greater than `i`"
   ]
  },
  {
   "cell_type": "code",
   "execution_count": null,
   "metadata": {},
   "outputs": [],
   "source": [
    "def square_generator(i):\n",
    "    while True:\n",
    "        yield (i) ** 2\n",
    "        i += 1\n",
    "\n",
    "\n",
    "sg = square_generator(1)\n",
    "next(sg)\n",
    "\n",
    "# for i in square_generator(5):\n",
    "#   print(i)"
   ]
  },
  {
   "cell_type": "markdown",
   "metadata": {},
   "source": [
    "Reading a filestream\n",
    "\n",
    "generate_log.py\n",
    "on win control-break to stop"
   ]
  },
  {
   "cell_type": "code",
   "execution_count": null,
   "metadata": {},
   "outputs": [],
   "source": [
    "import time\n",
    "import datetime\n",
    "\n",
    "file = 'C:/tmp/data.txt'\n",
    "f = open(file,'w')\n",
    "counter = 0\n",
    "while True:\n",
    "    f.write(\"{}). sample line with timestamp:{}\\n\".format(counter, datetime.datetime.now()))\n",
    "    f.flush()\n",
    "    time.sleep(0.1)\n",
    "    counter += 1"
   ]
  },
  {
   "cell_type": "markdown",
   "metadata": {},
   "source": [
    "read log (tail-f style)"
   ]
  },
  {
   "cell_type": "code",
   "execution_count": null,
   "metadata": {},
   "outputs": [],
   "source": [
    "import time\n",
    "def follow(thefile):\n",
    "    thefile.seek(0,2)\n",
    "    while True:\n",
    "        line = thefile.readline()\n",
    "        if not line:\n",
    "            time.sleep(0.1)\n",
    "            continue\n",
    "        yield line\n",
    "\n",
    "file = 'C:/tmp/data.txt'\n",
    "f = open(file, 'r')\n",
    "lines = follow(f)\n",
    "\n",
    "for i in lines:\n",
    "    print(i, end='')"
   ]
  }
 ],
 "metadata": {
  "kernelspec": {
   "display_name": "Python 3",
   "language": "python",
   "name": "python3"
  },
  "language_info": {
   "codemirror_mode": {
    "name": "ipython",
    "version": 3
   },
   "file_extension": ".py",
   "mimetype": "text/x-python",
   "name": "python",
   "nbconvert_exporter": "python",
   "pygments_lexer": "ipython3",
   "version": "3.6.4"
  }
 },
 "nbformat": 4,
 "nbformat_minor": 2
}
