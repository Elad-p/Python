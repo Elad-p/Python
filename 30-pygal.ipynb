{
 "cells": [
  {
   "cell_type": "code",
   "execution_count": null,
   "metadata": {
    "collapsed": false
   },
   "outputs": [],
   "source": [
    "import pygal"
   ]
  },
  {
   "cell_type": "markdown",
   "metadata": {},
   "source": [
    "Create a Fibonacci's sequence generator"
   ]
  },
  {
   "cell_type": "code",
   "execution_count": null,
   "metadata": {
    "collapsed": false
   },
   "outputs": [],
   "source": [
    "def fibo_sequence(num):\n",
    "    fibo = [0,1]\n",
    "    for i in range(num - 1):\n",
    "        fibo.append(fibo[i] + fibo[i + 1])\n",
    "    return fibo"
   ]
  },
  {
   "cell_type": "code",
   "execution_count": null,
   "metadata": {
    "collapsed": false
   },
   "outputs": [],
   "source": [
    "print fibo_sequence(20)"
   ]
  },
  {
   "cell_type": "markdown",
   "metadata": {},
   "source": [
    "Create a bar graph object"
   ]
  },
  {
   "cell_type": "code",
   "execution_count": null,
   "metadata": {
    "collapsed": false
   },
   "outputs": [],
   "source": [
    "bar_chart = pygal.Bar()"
   ]
  },
  {
   "cell_type": "markdown",
   "metadata": {},
   "source": [
    "Adding values to bar chart"
   ]
  },
  {
   "cell_type": "code",
   "execution_count": null,
   "metadata": {
    "collapsed": false
   },
   "outputs": [],
   "source": [
    "bar_chart.add('Fibonacci', fibo_sequence(20))"
   ]
  },
  {
   "cell_type": "markdown",
   "metadata": {},
   "source": [
    "Exporting graph to a file"
   ]
  },
  {
   "cell_type": "code",
   "execution_count": null,
   "metadata": {
    "collapsed": false
   },
   "outputs": [],
   "source": [
    "bar_chart.render_to_file('chart.svg')"
   ]
  },
  {
   "cell_type": "markdown",
   "metadata": {},
   "source": [
    "Displaying xml value"
   ]
  },
  {
   "cell_type": "code",
   "execution_count": null,
   "metadata": {
    "collapsed": false
   },
   "outputs": [],
   "source": [
    "bar_chart.render()"
   ]
  },
  {
   "cell_type": "markdown",
   "metadata": {},
   "source": [
    "Add another graph"
   ]
  },
  {
   "cell_type": "code",
   "execution_count": null,
   "metadata": {
    "collapsed": false
   },
   "outputs": [],
   "source": [
    "def cube_sequence(num):\n",
    "    cube = []\n",
    "    for i in range(num + 1):\n",
    "        cube.append((i) ** 3)\n",
    "\n",
    "    return cube\n",
    "\n",
    "bar_chart.add('Cube', cube_sequence(20))"
   ]
  },
  {
   "cell_type": "markdown",
   "metadata": {},
   "source": [
    "Update SVG file"
   ]
  },
  {
   "cell_type": "code",
   "execution_count": null,
   "metadata": {
    "collapsed": false
   },
   "outputs": [],
   "source": [
    "bar_chart.render_to_file('chart.svg')"
   ]
  },
  {
   "cell_type": "markdown",
   "metadata": {},
   "source": [
    "Creating a stacked bar chart by using the stacked bar object"
   ]
  },
  {
   "cell_type": "code",
   "execution_count": null,
   "metadata": {
    "collapsed": false
   },
   "outputs": [],
   "source": [
    "stacked_chart =  pygal.StackedBar()\n",
    "\n",
    "stacked_chart.add('Fibonacci', fibo_sequence(20))\n",
    "stacked_chart.add('Cube', cube_sequence(20))\n",
    "stacked_chart.render_to_file('chart.svg')"
   ]
  },
  {
   "cell_type": "markdown",
   "metadata": {},
   "source": [
    "Make the stacked bar horzontal"
   ]
  },
  {
   "cell_type": "code",
   "execution_count": null,
   "metadata": {
    "collapsed": false
   },
   "outputs": [],
   "source": [
    "horizontal_stacked = pygal.HorizontalStackedBar()\n",
    "\n",
    "horizontal_stacked.add('Fibonacci', fibo_sequence(20))\n",
    "horizontal_stacked.add('Cube', cube_sequence(20))\n",
    "horizontal_stacked.render_to_file('chart.svg')"
   ]
  },
  {
   "cell_type": "markdown",
   "metadata": {},
   "source": [
    "adding a title"
   ]
  },
  {
   "cell_type": "code",
   "execution_count": null,
   "metadata": {
    "collapsed": false
   },
   "outputs": [],
   "source": [
    "horizontal_stacked.title = 'Fibonacci vs. Cube sequences'"
   ]
  },
  {
   "cell_type": "markdown",
   "metadata": {},
   "source": [
    "adding axis labels"
   ]
  },
  {
   "cell_type": "code",
   "execution_count": null,
   "metadata": {
    "collapsed": false
   },
   "outputs": [],
   "source": [
    "horizontal_stacked.x_labels = map(str, range(21))\n",
    "\n",
    "horizontal_stacked.render_to_file('chart.svg')"
   ]
  },
  {
   "cell_type": "markdown",
   "metadata": {},
   "source": [
    "Below are the net monthly profits of 5 (fictitious) movie studios from the last year.\n",
    "Which is the most promising studio?"
   ]
  },
  {
   "cell_type": "code",
   "execution_count": null,
   "metadata": {
    "collapsed": false
   },
   "outputs": [],
   "source": [
    "Red_Studios = [10, 20, 30, 40, 50, 60, 70, 80, 90, 100, 110, 120]\n",
    "Purple_Entertainment = [9, 10, 13, 19, 28, 40, 55, 73, 94, 118, 145, 176]\n",
    "Green_LTD = [60, 65, 65, 65, 65, 65, 65, 65, 65, 65, 65, 70]\n",
    "Orange_Productions = [10, 120, 10, 120, 10, 120, 10, 120, 10, 120, 10, 120]\n",
    "Yellow_INC = [85, 75, 65, 55, 45, 35, 45, 55, 65, 75, 85, 95]"
   ]
  },
  {
   "cell_type": "markdown",
   "metadata": {},
   "source": [
    "Let's make a little comperison between them"
   ]
  },
  {
   "cell_type": "code",
   "execution_count": null,
   "metadata": {
    "collapsed": false
   },
   "outputs": [],
   "source": [
    "five_studios = {'Red Studios': Red_Studios, 'Purple Entertainment': Purple_Entertainment,\n",
    "                'Green LTD': Green_LTD, 'Orange Productions': Orange_Productions, 'Yellow INC': Yellow_INC}"
   ]
  },
  {
   "cell_type": "code",
   "execution_count": null,
   "metadata": {
    "collapsed": false
   },
   "outputs": [],
   "source": [
    "print five_studios"
   ]
  },
  {
   "cell_type": "markdown",
   "metadata": {},
   "source": [
    "Display yearly income, average monthly income and check if last month performed better then the first"
   ]
  },
  {
   "cell_type": "code",
   "execution_count": null,
   "metadata": {
    "collapsed": false
   },
   "outputs": [],
   "source": [
    "for studio in five_studios.keys():\n",
    "    print '{}: SUM = {} | AVG = {} | Increased revenue = {}'.format(studio, sum(five_studios[studio]),\n",
    "                                           sum(five_studios[studio]) / 12,\n",
    "                                            five_studios[studio][0] < five_studios[studio][11])"
   ]
  },
  {
   "cell_type": "markdown",
   "metadata": {},
   "source": [
    "Apparently all of them have the same yearly revenue (780 million),\n",
    "the same monthly average (65 million) and all saw increase in revenue in the end of the year\n",
    "compered to it's beginning...\n",
    "\n",
    "Let's visualize the data to get a better picture"
   ]
  },
  {
   "cell_type": "code",
   "execution_count": null,
   "metadata": {
    "collapsed": false
   },
   "outputs": [],
   "source": [
    "chart = pygal.Line()\n",
    "chart.add('Red Studios', five_studios['Red Studios'])\n",
    "chart.add('Purple Entertainment', five_studios['Purple Entertainment'])\n",
    "chart.add('Green LTD', five_studios['Green LTD'])\n",
    "chart.add('Yellow INC', five_studios['Yellow INC'])\n",
    "chart.add('Orange Productions', five_studios['Orange Productions'])\n",
    "\n",
    "chart.title = 'Studio comparison'\n",
    "chart.x_labels = ['Jan', 'Fab', 'Mar', 'Apr', 'May', 'Jun', 'Jul', 'Aug', 'Sep', 'Oct', 'Nov', 'Dec']\n",
    "chart.render_to_file('chart.svg')"
   ]
  },
  {
   "cell_type": "markdown",
   "metadata": {},
   "source": [
    "Exactly the same code, only horizontally"
   ]
  },
  {
   "cell_type": "code",
   "execution_count": null,
   "metadata": {
    "collapsed": false
   },
   "outputs": [],
   "source": [
    "chart = pygal.HorizontalLine()\n",
    "chart.add('Red Studios', five_studios['Red Studios'])\n",
    "chart.add('Purple Entertainment', five_studios['Purple Entertainment'])\n",
    "chart.add('Green LTD', five_studios['Green LTD'])\n",
    "chart.add('Yellow INC', five_studios['Yellow INC'])\n",
    "chart.add('Orange Productions', five_studios['Orange Productions'])\n",
    "\n",
    "chart.title = 'Studio comparison'\n",
    "chart.x_labels = ['Jan', 'Fab', 'Mar', 'Apr', 'May', 'Jun', 'Jul', 'Aug', 'Sep', 'Oct', 'Nov', 'Dec']\n",
    "chart.render_to_file('chart.svg')"
   ]
  },
  {
   "cell_type": "markdown",
   "metadata": {},
   "source": [
    "and now in stacking lines"
   ]
  },
  {
   "cell_type": "code",
   "execution_count": null,
   "metadata": {
    "collapsed": false
   },
   "outputs": [],
   "source": [
    "chart = pygal.StackedLine(fill=True)\n",
    "chart.add('Red Studios', five_studios['Red Studios'])\n",
    "chart.add('Purple Entertainment', five_studios['Purple Entertainment'])\n",
    "chart.add('Green LTD', five_studios['Green LTD'])\n",
    "chart.add('Yellow INC', five_studios['Yellow INC'])\n",
    "chart.add('Orange Productions', five_studios['Orange Productions'])\n",
    "\n",
    "chart.title = 'Studio comparison'\n",
    "chart.x_labels = ['Jan', 'Fab', 'Mar', 'Apr', 'May', 'Jun', 'Jul', 'Aug', 'Sep', 'Oct', 'Nov', 'Dec']\n",
    "chart.render_to_file('chart.svg')"
   ]
  },
  {
   "cell_type": "markdown",
   "metadata": {},
   "source": [
    "Let's make it a pie chart"
   ]
  },
  {
   "cell_type": "code",
   "execution_count": null,
   "metadata": {
    "collapsed": false
   },
   "outputs": [],
   "source": [
    "chart = pygal.Pie()\n",
    "chart.add('Red Studios', five_studios['Red Studios'])\n",
    "chart.add('Purple Entertainment', five_studios['Purple Entertainment'])\n",
    "chart.add('Green LTD', five_studios['Green LTD'])\n",
    "chart.add('Yellow INC', five_studios['Yellow INC'])\n",
    "chart.add('Orange Productions', five_studios['Orange Productions'])\n",
    "\n",
    "chart.title = 'Studio comparison'\n",
    "chart.render_to_file('chart.svg')"
   ]
  },
  {
   "cell_type": "markdown",
   "metadata": {},
   "source": [
    "And now just December"
   ]
  },
  {
   "cell_type": "code",
   "execution_count": null,
   "metadata": {
    "collapsed": false
   },
   "outputs": [],
   "source": [
    "chart = pygal.Pie()\n",
    "chart.add('Red Studios', five_studios['Red Studios'][11])\n",
    "chart.add('Purple Entertainment', five_studios['Purple Entertainment'][11])\n",
    "chart.add('Green LTD', five_studios['Green LTD'][11])\n",
    "chart.add('Yellow INC', five_studios['Yellow INC'][11])\n",
    "chart.add('Orange Productions', five_studios['Orange Productions'][11])\n",
    "\n",
    "chart.title = 'Studio December revenue comparison'\n",
    "chart.render_to_file('chart.svg')"
   ]
  },
  {
   "cell_type": "markdown",
   "metadata": {},
   "source": [
    "Let's make the pie a donut by specifying an inner radius"
   ]
  },
  {
   "cell_type": "code",
   "execution_count": null,
   "metadata": {
    "collapsed": false
   },
   "outputs": [],
   "source": [
    "chart = pygal.Pie(inner_radius=.4)\n",
    "chart.add('Red Studios', five_studios['Red Studios'][11])\n",
    "chart.add('Purple Entertainment', five_studios['Purple Entertainment'][11])\n",
    "chart.add('Green LTD', five_studios['Green LTD'][11])\n",
    "chart.add('Yellow INC', five_studios['Yellow INC'][11])\n",
    "chart.add('Orange Productions', five_studios['Orange Productions'][11])\n",
    "\n",
    "chart.title = 'Studio December revenue comparison'\n",
    "chart.render_to_file('chart.svg')"
   ]
  },
  {
   "cell_type": "markdown",
   "metadata": {},
   "source": [
    "Or even a half donut..."
   ]
  },
  {
   "cell_type": "code",
   "execution_count": null,
   "metadata": {
    "collapsed": false
   },
   "outputs": [],
   "source": [
    "chart = pygal.Pie(inner_radius=.4, half_pie=True)\n",
    "chart.add('Red Studios', five_studios['Red Studios'][11])\n",
    "chart.add('Purple Entertainment', five_studios['Purple Entertainment'][11])\n",
    "chart.add('Green LTD', five_studios['Green LTD'][11])\n",
    "chart.add('Yellow INC', five_studios['Yellow INC'][11])\n",
    "chart.add('Orange Productions', five_studios['Orange Productions'][11])\n",
    "\n",
    "chart.title = 'Studio December revenue comparison'\n",
    "chart.render_to_file('chart.svg')"
   ]
  }
 ],
 "metadata": {},
 "nbformat": 4,
 "nbformat_minor": 2
}
