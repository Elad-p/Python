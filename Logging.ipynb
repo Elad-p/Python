{
 "cells": [
  {
   "cell_type": "markdown",
   "metadata": {},
   "source": [
    "# Logging\n",
    "\n",
    "By logging useful data from the right places, you can not only debug<br/>\n",
    "errors easily but also use the data to analyze the performance <br/>\n",
    "of the application to plan for scaling or look at usage patterns to plan for marketing.\n",
    "\n",
    "Python provides a logging system as a part of its standard library, so you can quickly<br/>\n",
    "add logging to your application."
   ]
  },
  {
   "cell_type": "code",
   "execution_count": 1,
   "metadata": {},
   "outputs": [],
   "source": [
    "import logging"
   ]
  },
  {
   "cell_type": "markdown",
   "metadata": {},
   "source": [
    "With the logging module imported, we can use a `logger` to log messages we want to see. <br/>\n",
    "By default, there are 5 standard levels indicating the severity of events. <br/>\n",
    "Each has a corresponding method that can be used to log events at that level of severity.<br/>\n",
    "\n",
    "The defined levels, in order of increasing severity, are the following:\n",
    "\n",
    "- ***DEBUG***: Detailed information, typically of interest only when diagnosing problems.\n",
    "- ***INFO***: Confirmation that things are working as expected.\n",
    "- ***WARNING***: An indication that something unexpected happened, or indicative of some <br/>problem in the near future (e.g. ‘disk space low’). The software is still working as expected.\n",
    "- ***ERROR***: Due to a more serious problem, the software has not been able to perform some function.\n",
    "- ***CRITICAL***: A serious error, indicating that the program itself may be unable to continue running."
   ]
  },
  {
   "cell_type": "markdown",
   "metadata": {},
   "source": [
    "### basicConfig\n",
    "We can use the basicConfig(**kwargs) method to configure the logging:\n",
    "- **level**: The root logger will be set to the specified severity level.\n",
    "- **filename**: This specifies the file all log messages will be written to.\n",
    "- **filemode**: If `filename` is given, the file is opened in this mode. The default is `a`, which means append.\n",
    "- **format**: This is the format of the log message."
   ]
  },
  {
   "cell_type": "code",
   "execution_count": 2,
   "metadata": {},
   "outputs": [],
   "source": [
    "logging.basicConfig(level='ERROR', \n",
    "                   filename='ErrorLog.log',\n",
    "                   filemode='w',\n",
    "                   format= '%(name)s | %(levelname)s | %(message)s')"
   ]
  },
  {
   "cell_type": "markdown",
   "metadata": {},
   "source": [
    "We can pass any variable that can be represented as a string from our program as a message to your logs, <br/>\n",
    "but there are some basic elements that are already a part of the LogRecord and can be easily added to the output format.\n",
    "https://docs.python.org/3/library/logging.html#logrecord-attributes"
   ]
  },
  {
   "cell_type": "code",
   "execution_count": 2,
   "metadata": {},
   "outputs": [
    {
     "name": "stderr",
     "output_type": "stream",
     "text": [
      "root | ERROR | This is an error message\n"
     ]
    }
   ],
   "source": [
    "logging.basicConfig(level='ERROR', \n",
    "                   format= '%(name)s | %(levelname)s | %(message)s')\n",
    "\n",
    "logging.error('This is an error message')"
   ]
  },
  {
   "cell_type": "markdown",
   "metadata": {},
   "source": [
    "We can add the time to our log message by using the `asctime` variable"
   ]
  },
  {
   "cell_type": "code",
   "execution_count": 2,
   "metadata": {},
   "outputs": [
    {
     "name": "stderr",
     "output_type": "stream",
     "text": [
      "2019-12-10 21:50:15,303 --> This is an error message\n"
     ]
    }
   ],
   "source": [
    "logging.basicConfig(level='ERROR', \n",
    "                   format= '%(asctime)s --> %(message)s')\n",
    "\n",
    "logging.error('This is an error message')"
   ]
  },
  {
   "cell_type": "markdown",
   "metadata": {},
   "source": [
    "We can further format the time using `datefmt`"
   ]
  },
  {
   "cell_type": "code",
   "execution_count": 2,
   "metadata": {},
   "outputs": [
    {
     "name": "stderr",
     "output_type": "stream",
     "text": [
      "10-12-2019 | 21:54:35 --> This is an error message\n"
     ]
    }
   ],
   "source": [
    "logging.basicConfig(level='ERROR', \n",
    "                   format= '%(asctime)s --> %(message)s',\n",
    "                   datefmt='%d-%m-%Y | %H:%M:%S')\n",
    "\n",
    "logging.error('This is an error message')"
   ]
  },
  {
   "cell_type": "markdown",
   "metadata": {},
   "source": [
    "Instead of using the default `root` logger, we can define our own logger by creating an object of the `Logger` class.<br/><br/>\n",
    "These are the most commonly used classes defined in the logging module\n",
    "\n",
    "- **Logger**: This is the class whose objects will be used in the application code directly to call the functions.\n",
    "\n",
    "- **LogRecord**: Loggers automatically create LogRecord objects that have all the information related to the event being logged, like the name of the logger, the function, the line number, the message, and more.\n",
    "\n",
    "- **Handler**: Handlers send the LogRecord to the required output destination, like the console or a file. Handler is a base for subclasses like StreamHandler, FileHandler, SMTPHandler, HTTPHandler, and more. These subclasses send the logging outputs to corresponding destinations, like sys.stdout or a disk file.\n",
    "\n",
    "- **Formatter**: This is where you specify the format of the output by specifying a string format that lists out the attributes that the output should contain."
   ]
  },
  {
   "cell_type": "code",
   "execution_count": 1,
   "metadata": {},
   "outputs": [
    {
     "name": "stderr",
     "output_type": "stream",
     "text": [
      "This is a warning\n"
     ]
    }
   ],
   "source": [
    "import logging\n",
    "\n",
    "logger = logging.getLogger('example_logger')\n",
    "logger.warning('This is a warning')"
   ]
  },
  {
   "cell_type": "code",
   "execution_count": 2,
   "metadata": {},
   "outputs": [
    {
     "name": "stderr",
     "output_type": "stream",
     "text": [
      "__main__ - WARNING - This is a warning\n",
      "__main__ - ERROR - This is an error\n"
     ]
    }
   ],
   "source": [
    "# Create a custom logger\n",
    "logger = logging.getLogger(__name__)\n",
    "\n",
    "# Create handlers\n",
    "c_handler = logging.StreamHandler()\n",
    "f_handler = logging.FileHandler('file.log')\n",
    "c_handler.setLevel(logging.WARNING)\n",
    "f_handler.setLevel(logging.ERROR)\n",
    "\n",
    "# Create formatters and add it to handlers\n",
    "c_format = logging.Formatter('%(name)s - %(levelname)s - %(message)s')\n",
    "f_format = logging.Formatter('%(asctime)s - %(name)s - %(levelname)s - %(message)s')\n",
    "c_handler.setFormatter(c_format)\n",
    "f_handler.setFormatter(f_format)\n",
    "\n",
    "# Add handlers to the logger\n",
    "logger.addHandler(c_handler)\n",
    "logger.addHandler(f_handler)\n",
    "\n",
    "logger.warning('This is a warning')\n",
    "logger.error('This is an error')"
   ]
  },
  {
   "cell_type": "code",
   "execution_count": null,
   "metadata": {},
   "outputs": [],
   "source": []
  }
 ],
 "metadata": {
  "kernelspec": {
   "display_name": "Python 3",
   "language": "python",
   "name": "python3"
  },
  "language_info": {
   "codemirror_mode": {
    "name": "ipython",
    "version": 3
   },
   "file_extension": ".py",
   "mimetype": "text/x-python",
   "name": "python",
   "nbconvert_exporter": "python",
   "pygments_lexer": "ipython3",
   "version": "3.7.3"
  }
 },
 "nbformat": 4,
 "nbformat_minor": 2
}
