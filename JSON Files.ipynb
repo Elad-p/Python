{
 "cells": [
  {
   "cell_type": "markdown",
   "metadata": {},
   "source": [
    "### Working with JSON strings\n",
    "let's get some data<br/>\n",
    "This is a summary of the Microsoft stock in the first 4 days of 2019.<br/>\n",
    "This data is not pulled directly, but was copied and inserted to python as a string<br/>\n",
    "Source: https://financialmodelingprep.com/api/v3/historical-price-full/AAPL?from=2019-01-01&to=2019-01-04"
   ]
  },
  {
   "cell_type": "code",
   "execution_count": 29,
   "metadata": {},
   "outputs": [],
   "source": [
    "import json\n",
    "\n",
    "stock = '''{\n",
    "  \"symbol\" : \"MSFT\",\n",
    "  \"historical\" : [ {\n",
    "    \"date\" : \"2019-01-02\",\n",
    "    \"open\" : 99.55,\n",
    "    \"high\" : 101.75,\n",
    "    \"low\" : 98.94,\n",
    "    \"close\" : 101.12,\n",
    "    \"volume\" : 3.53293E7,\n",
    "    \"unadjustedVolume\" : 3.53293E7,\n",
    "    \"change\" : -1.57,\n",
    "    \"changePercent\" : -1.577,\n",
    "    \"vwap\" : 100.60333,\n",
    "    \"label\" : \"January 02, 19\",\n",
    "    \"changeOverTime\" : -0.01577\n",
    "  }, {\n",
    "    \"date\" : \"2019-01-03\",\n",
    "    \"open\" : 100.1,\n",
    "    \"high\" : 100.19,\n",
    "    \"low\" : 97.2,\n",
    "    \"close\" : 97.4,\n",
    "    \"volume\" : 4.25791E7,\n",
    "    \"unadjustedVolume\" : 4.25791E7,\n",
    "    \"change\" : 2.7,\n",
    "    \"changePercent\" : 2.697,\n",
    "    \"vwap\" : 98.26333,\n",
    "    \"label\" : \"January 03, 19\",\n",
    "    \"changeOverTime\" : 0.02697\n",
    "  }, {\n",
    "    \"date\" : \"2019-01-04\",\n",
    "    \"open\" : 99.72,\n",
    "    \"high\" : 102.51,\n",
    "    \"low\" : 98.93,\n",
    "    \"close\" : 101.93,\n",
    "    \"volume\" : 4.40606E7,\n",
    "    \"unadjustedVolume\" : 4.40606E7,\n",
    "    \"change\" : -2.21,\n",
    "    \"changePercent\" : -2.216,\n",
    "    \"vwap\" : 101.12333,\n",
    "    \"label\" : \"January 04, 19\",\n",
    "    \"changeOverTime\" : -0.02216\n",
    "  } ]\n",
    "}'''"
   ]
  },
  {
   "cell_type": "code",
   "execution_count": 17,
   "metadata": {},
   "outputs": [
    {
     "name": "stdout",
     "output_type": "stream",
     "text": [
      "<class 'dict'>\n",
      "{'symbol': 'MSFT', 'historical': [{'date': '2019-01-02', 'open': 99.55, 'high': 101.75, 'low': 98.94, 'close': 101.12, 'volume': 35329300.0, 'unadjustedVolume': 35329300.0, 'change': -1.57, 'changePercent': -1.577, 'vwap': 100.60333, 'label': 'January 02, 19', 'changeOverTime': -0.01577}, {'date': '2019-01-03', 'open': 100.1, 'high': 100.19, 'low': 97.2, 'close': 97.4, 'volume': 42579100.0, 'unadjustedVolume': 42579100.0, 'change': 2.7, 'changePercent': 2.697, 'vwap': 98.26333, 'label': 'January 03, 19', 'changeOverTime': 0.02697}, {'date': '2019-01-04', 'open': 99.72, 'high': 102.51, 'low': 98.93, 'close': 101.93, 'volume': 44060600.0, 'unadjustedVolume': 44060600.0, 'change': -2.21, 'changePercent': -2.216, 'vwap': 101.12333, 'label': 'January 04, 19', 'changeOverTime': -0.02216}]}\n"
     ]
    }
   ],
   "source": [
    "stock = json.loads(stock)\n",
    "print(type(stock))\n",
    "print(stock)"
   ]
  },
  {
   "cell_type": "markdown",
   "metadata": {},
   "source": [
    "**JSON to Python conversions**\n",
    "\n",
    "object --> Dict<br/>\n",
    "array --> list<br/>\n",
    "string --> str<br/>\n",
    "number (int) --> int<br/>\n",
    "number (real) --> float<br/>\n",
    "true --> True<br/>\n",
    "false --> False<br/>\n",
    "null --> None<br/>"
   ]
  },
  {
   "cell_type": "markdown",
   "metadata": {},
   "source": [
    "Get all the keys"
   ]
  },
  {
   "cell_type": "code",
   "execution_count": 6,
   "metadata": {},
   "outputs": [
    {
     "name": "stdout",
     "output_type": "stream",
     "text": [
      "symbol\n",
      "historical\n"
     ]
    }
   ],
   "source": [
    "for key in stock:\n",
    "    print(key)"
   ]
  },
  {
   "cell_type": "markdown",
   "metadata": {},
   "source": [
    "Print each day seperatly"
   ]
  },
  {
   "cell_type": "code",
   "execution_count": 8,
   "metadata": {},
   "outputs": [
    {
     "name": "stdout",
     "output_type": "stream",
     "text": [
      "{'date': '2019-01-02', 'open': 99.55, 'high': 101.75, 'low': 98.94, 'close': 101.12, 'volume': 35329300.0, 'unadjustedVolume': 35329300.0, 'change': -1.57, 'changePercent': -1.577, 'vwap': 100.60333, 'label': 'January 02, 19', 'changeOverTime': -0.01577}\n",
      "\n",
      "{'date': '2019-01-03', 'open': 100.1, 'high': 100.19, 'low': 97.2, 'close': 97.4, 'volume': 42579100.0, 'unadjustedVolume': 42579100.0, 'change': 2.7, 'changePercent': 2.697, 'vwap': 98.26333, 'label': 'January 03, 19', 'changeOverTime': 0.02697}\n",
      "\n",
      "{'date': '2019-01-04', 'open': 99.72, 'high': 102.51, 'low': 98.93, 'close': 101.93, 'volume': 44060600.0, 'unadjustedVolume': 44060600.0, 'change': -2.21, 'changePercent': -2.216, 'vwap': 101.12333, 'label': 'January 04, 19', 'changeOverTime': -0.02216}\n",
      "\n"
     ]
    }
   ],
   "source": [
    "for day in stock['historical']:\n",
    "    print(day, end = '\\n\\n')"
   ]
  },
  {
   "cell_type": "markdown",
   "metadata": {},
   "source": [
    "Get all opening rates"
   ]
  },
  {
   "cell_type": "code",
   "execution_count": 12,
   "metadata": {},
   "outputs": [
    {
     "name": "stdout",
     "output_type": "stream",
     "text": [
      "99.55\n",
      "100.1\n",
      "99.72\n"
     ]
    }
   ],
   "source": [
    "for day in stock['historical']:\n",
    "    print(day['open'])"
   ]
  },
  {
   "cell_type": "markdown",
   "metadata": {},
   "source": [
    "Get all labels"
   ]
  },
  {
   "cell_type": "code",
   "execution_count": 13,
   "metadata": {},
   "outputs": [
    {
     "name": "stdout",
     "output_type": "stream",
     "text": [
      "January 02, 19\n",
      "January 03, 19\n",
      "January 04, 19\n"
     ]
    }
   ],
   "source": [
    "for day in stock['historical']:\n",
    "    print(day['label'])"
   ]
  },
  {
   "cell_type": "markdown",
   "metadata": {},
   "source": [
    "This are a bit redundent since we already have the \"date\" field.<br/> Let's get rid of them and create a new JSON using the `dumps` method (dump string)"
   ]
  },
  {
   "cell_type": "code",
   "execution_count": 18,
   "metadata": {},
   "outputs": [
    {
     "data": {
      "text/plain": [
       "'{\"symbol\": \"MSFT\", \"historical\": [{\"date\": \"2019-01-02\", \"open\": 99.55, \"high\": 101.75, \"low\": 98.94, \"close\": 101.12, \"volume\": 35329300.0, \"unadjustedVolume\": 35329300.0, \"change\": -1.57, \"changePercent\": -1.577, \"vwap\": 100.60333, \"changeOverTime\": -0.01577}, {\"date\": \"2019-01-03\", \"open\": 100.1, \"high\": 100.19, \"low\": 97.2, \"close\": 97.4, \"volume\": 42579100.0, \"unadjustedVolume\": 42579100.0, \"change\": 2.7, \"changePercent\": 2.697, \"vwap\": 98.26333, \"changeOverTime\": 0.02697}, {\"date\": \"2019-01-04\", \"open\": 99.72, \"high\": 102.51, \"low\": 98.93, \"close\": 101.93, \"volume\": 44060600.0, \"unadjustedVolume\": 44060600.0, \"change\": -2.21, \"changePercent\": -2.216, \"vwap\": 101.12333, \"changeOverTime\": -0.02216}]}'"
      ]
     },
     "execution_count": 18,
     "metadata": {},
     "output_type": "execute_result"
    }
   ],
   "source": [
    "for day in stock['historical']:\n",
    "    del day['label']\n",
    "    \n",
    "print(json.dumps(stock))"
   ]
  },
  {
   "cell_type": "markdown",
   "metadata": {},
   "source": [
    "We can add indentation to improve readabilty"
   ]
  },
  {
   "cell_type": "code",
   "execution_count": 26,
   "metadata": {},
   "outputs": [
    {
     "name": "stdout",
     "output_type": "stream",
     "text": [
      "{\n",
      "  \"symbol\": \"MSFT\",\n",
      "  \"historical\": [\n",
      "    {\n",
      "      \"date\": \"2019-01-02\",\n",
      "      \"open\": 99.55,\n",
      "      \"high\": 101.75,\n",
      "      \"low\": 98.94,\n",
      "      \"close\": 101.12,\n",
      "      \"volume\": 35329300.0,\n",
      "      \"unadjustedVolume\": 35329300.0,\n",
      "      \"change\": -1.57,\n",
      "      \"changePercent\": -1.577,\n",
      "      \"vwap\": 100.60333,\n",
      "      \"changeOverTime\": -0.01577\n",
      "    },\n",
      "    {\n",
      "      \"date\": \"2019-01-03\",\n",
      "      \"open\": 100.1,\n",
      "      \"high\": 100.19,\n",
      "      \"low\": 97.2,\n",
      "      \"close\": 97.4,\n",
      "      \"volume\": 42579100.0,\n",
      "      \"unadjustedVolume\": 42579100.0,\n",
      "      \"change\": 2.7,\n",
      "      \"changePercent\": 2.697,\n",
      "      \"vwap\": 98.26333,\n",
      "      \"changeOverTime\": 0.02697\n",
      "    },\n",
      "    {\n",
      "      \"date\": \"2019-01-04\",\n",
      "      \"open\": 99.72,\n",
      "      \"high\": 102.51,\n",
      "      \"low\": 98.93,\n",
      "      \"close\": 101.93,\n",
      "      \"volume\": 44060600.0,\n",
      "      \"unadjustedVolume\": 44060600.0,\n",
      "      \"change\": -2.21,\n",
      "      \"changePercent\": -2.216,\n",
      "      \"vwap\": 101.12333,\n",
      "      \"changeOverTime\": -0.02216\n",
      "    }\n",
      "  ]\n",
      "}\n"
     ]
    }
   ],
   "source": [
    "print(json.dumps(stock, indent=2))"
   ]
  },
  {
   "cell_type": "markdown",
   "metadata": {},
   "source": [
    "We can sort the fields using the `sort_keys` argument"
   ]
  },
  {
   "cell_type": "code",
   "execution_count": 28,
   "metadata": {},
   "outputs": [
    {
     "name": "stdout",
     "output_type": "stream",
     "text": [
      "{\n",
      "  \"historical\": [\n",
      "    {\n",
      "      \"change\": -1.57,\n",
      "      \"changeOverTime\": -0.01577,\n",
      "      \"changePercent\": -1.577,\n",
      "      \"close\": 101.12,\n",
      "      \"date\": \"2019-01-02\",\n",
      "      \"high\": 101.75,\n",
      "      \"low\": 98.94,\n",
      "      \"open\": 99.55,\n",
      "      \"unadjustedVolume\": 35329300.0,\n",
      "      \"volume\": 35329300.0,\n",
      "      \"vwap\": 100.60333\n",
      "    },\n",
      "    {\n",
      "      \"change\": 2.7,\n",
      "      \"changeOverTime\": 0.02697,\n",
      "      \"changePercent\": 2.697,\n",
      "      \"close\": 97.4,\n",
      "      \"date\": \"2019-01-03\",\n",
      "      \"high\": 100.19,\n",
      "      \"low\": 97.2,\n",
      "      \"open\": 100.1,\n",
      "      \"unadjustedVolume\": 42579100.0,\n",
      "      \"volume\": 42579100.0,\n",
      "      \"vwap\": 98.26333\n",
      "    },\n",
      "    {\n",
      "      \"change\": -2.21,\n",
      "      \"changeOverTime\": -0.02216,\n",
      "      \"changePercent\": -2.216,\n",
      "      \"close\": 101.93,\n",
      "      \"date\": \"2019-01-04\",\n",
      "      \"high\": 102.51,\n",
      "      \"low\": 98.93,\n",
      "      \"open\": 99.72,\n",
      "      \"unadjustedVolume\": 44060600.0,\n",
      "      \"volume\": 44060600.0,\n",
      "      \"vwap\": 101.12333\n",
      "    }\n",
      "  ],\n",
      "  \"symbol\": \"MSFT\"\n",
      "}\n"
     ]
    }
   ],
   "source": [
    "print(json.dumps(stock, indent=2, sort_keys = True))"
   ]
  },
  {
   "cell_type": "markdown",
   "metadata": {},
   "source": [
    "### Working with JSON files"
   ]
  },
  {
   "cell_type": "code",
   "execution_count": 40,
   "metadata": {},
   "outputs": [
    {
     "name": "stdout",
     "output_type": "stream",
     "text": [
      "{'symbol': 'MSFT', 'historical': [{'date': '2019-01-02', 'open': 99.55, 'high': 101.75, 'low': 98.94, 'close': 101.12, 'volume': 35329300.0, 'unadjustedVolume': 35329300.0, 'change': -1.57, 'changePercent': -1.577, 'vwap': 100.60333, 'label': 'January 02, 19', 'changeOverTime': -0.01577}, {'date': '2019-01-03', 'open': 100.1, 'high': 100.19, 'low': 97.2, 'close': 97.4, 'volume': 42579100.0, 'unadjustedVolume': 42579100.0, 'change': 2.7, 'changePercent': 2.697, 'vwap': 98.26333, 'label': 'January 03, 19', 'changeOverTime': 0.02697}, {'date': '2019-01-04', 'open': 99.72, 'high': 102.51, 'low': 98.93, 'close': 101.93, 'volume': 44060600.0, 'unadjustedVolume': 44060600.0, 'change': -2.21, 'changePercent': -2.216, 'vwap': 101.12333, 'label': 'January 04, 19', 'changeOverTime': -0.02216}]}\n"
     ]
    }
   ],
   "source": [
    "with open('MSFT_3_first_days_2019.json', 'r') as file:\n",
    "    stock = json.load(file)\n",
    "\n",
    "print(stock)"
   ]
  },
  {
   "cell_type": "markdown",
   "metadata": {},
   "source": [
    "Let's clean the data and create a new file"
   ]
  },
  {
   "cell_type": "code",
   "execution_count": 41,
   "metadata": {},
   "outputs": [],
   "source": [
    "for day in stock['historical']:\n",
    "    del day['unadjustedVolume']\n",
    "    del day['change']\n",
    "    del day['changePercent']\n",
    "    del day['vwap']\n",
    "    del day['label']\n",
    "    del day['changeOverTime']\n",
    "    \n",
    "with open('stock_data.json', 'w') as file:\n",
    "    json.dump(stock,file, indent=2)"
   ]
  },
  {
   "cell_type": "code",
   "execution_count": null,
   "metadata": {},
   "outputs": [],
   "source": []
  }
 ],
 "metadata": {
  "kernelspec": {
   "display_name": "Python 3",
   "language": "python",
   "name": "python3"
  },
  "language_info": {
   "codemirror_mode": {
    "name": "ipython",
    "version": 3
   },
   "file_extension": ".py",
   "mimetype": "text/x-python",
   "name": "python",
   "nbconvert_exporter": "python",
   "pygments_lexer": "ipython3",
   "version": "3.7.3"
  }
 },
 "nbformat": 4,
 "nbformat_minor": 2
}
