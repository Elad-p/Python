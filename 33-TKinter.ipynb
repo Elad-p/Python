{
 "cells": [
  {
   "cell_type": "code",
   "execution_count": null,
   "metadata": {
    "collapsed": false
   },
   "outputs": [],
   "source": [
    "import Tkinter\n",
    "\n",
    "root = Tkinter.Tk()\n",
    "root.mainloop()\n",
    "title = Tkinter.Label(root, text='something')\n",
    "title.pack()\n",
    "bt = Tkinter.Button(root, text = 'Click!!!')\n",
    "bt.pack()\n",
    "root.mainloop()\n",
    "\n",
    "string ='some text'"
   ]
  },
  {
   "cell_type": "code",
   "execution_count": null,
   "metadata": {
    "collapsed": false
   },
   "outputs": [],
   "source": [
    "print sorted(string)"
   ]
  },
  {
   "cell_type": "code",
   "execution_count": null,
   "metadata": {
    "collapsed": false
   },
   "outputs": [],
   "source": [
    "string.sort()"
   ]
  }
 ],
 "metadata": {},
 "nbformat": 4,
 "nbformat_minor": 2
}
