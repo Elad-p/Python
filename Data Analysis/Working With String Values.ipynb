{
 "cells": [
  {
   "cell_type": "markdown",
   "metadata": {},
   "source": [
    "# Working With String Values\n",
    "\n",
    "### Import library and data"
   ]
  },
  {
   "cell_type": "code",
   "execution_count": 1,
   "metadata": {},
   "outputs": [
    {
     "data": {
      "text/html": [
       "<div>\n",
       "<style scoped>\n",
       "    .dataframe tbody tr th:only-of-type {\n",
       "        vertical-align: middle;\n",
       "    }\n",
       "\n",
       "    .dataframe tbody tr th {\n",
       "        vertical-align: top;\n",
       "    }\n",
       "\n",
       "    .dataframe thead th {\n",
       "        text-align: right;\n",
       "    }\n",
       "</style>\n",
       "<table border=\"1\" class=\"dataframe\">\n",
       "  <thead>\n",
       "    <tr style=\"text-align: right;\">\n",
       "      <th></th>\n",
       "      <th>ProductSKU</th>\n",
       "      <th>ProductName</th>\n",
       "      <th>ModelName</th>\n",
       "      <th>ProductDescription</th>\n",
       "      <th>ProductColor</th>\n",
       "      <th>ProductSize</th>\n",
       "      <th>ProductStyle</th>\n",
       "      <th>ProductCost</th>\n",
       "      <th>ProductPrice</th>\n",
       "    </tr>\n",
       "    <tr>\n",
       "      <th>ProductKey</th>\n",
       "      <th></th>\n",
       "      <th></th>\n",
       "      <th></th>\n",
       "      <th></th>\n",
       "      <th></th>\n",
       "      <th></th>\n",
       "      <th></th>\n",
       "      <th></th>\n",
       "      <th></th>\n",
       "    </tr>\n",
       "  </thead>\n",
       "  <tbody>\n",
       "    <tr>\n",
       "      <th>214</th>\n",
       "      <td>HL-U509-R</td>\n",
       "      <td>Sport-100 Helmet, Red</td>\n",
       "      <td>Sport-100</td>\n",
       "      <td>Universal fit, well-vented, lightweight , snap...</td>\n",
       "      <td>Red</td>\n",
       "      <td>0</td>\n",
       "      <td>0</td>\n",
       "      <td>13.0863</td>\n",
       "      <td>34.9900</td>\n",
       "    </tr>\n",
       "    <tr>\n",
       "      <th>215</th>\n",
       "      <td>HL-U509</td>\n",
       "      <td>Sport-100 Helmet, Black</td>\n",
       "      <td>Sport-100</td>\n",
       "      <td>Universal fit, well-vented, lightweight , snap...</td>\n",
       "      <td>Black</td>\n",
       "      <td>0</td>\n",
       "      <td>0</td>\n",
       "      <td>12.0278</td>\n",
       "      <td>33.6442</td>\n",
       "    </tr>\n",
       "    <tr>\n",
       "      <th>218</th>\n",
       "      <td>SO-B909-M</td>\n",
       "      <td>Mountain Bike Socks, M</td>\n",
       "      <td>Mountain Bike Socks</td>\n",
       "      <td>Combination of natural and synthetic fibers st...</td>\n",
       "      <td>White</td>\n",
       "      <td>M</td>\n",
       "      <td>U</td>\n",
       "      <td>3.3963</td>\n",
       "      <td>9.5000</td>\n",
       "    </tr>\n",
       "    <tr>\n",
       "      <th>219</th>\n",
       "      <td>SO-B909-L</td>\n",
       "      <td>Mountain Bike Socks, L</td>\n",
       "      <td>Mountain Bike Socks</td>\n",
       "      <td>Combination of natural and synthetic fibers st...</td>\n",
       "      <td>White</td>\n",
       "      <td>L</td>\n",
       "      <td>U</td>\n",
       "      <td>3.3963</td>\n",
       "      <td>9.5000</td>\n",
       "    </tr>\n",
       "    <tr>\n",
       "      <th>220</th>\n",
       "      <td>HL-U509-B</td>\n",
       "      <td>Sport-100 Helmet, Blue</td>\n",
       "      <td>Sport-100</td>\n",
       "      <td>Universal fit, well-vented, lightweight , snap...</td>\n",
       "      <td>Blue</td>\n",
       "      <td>0</td>\n",
       "      <td>0</td>\n",
       "      <td>12.0278</td>\n",
       "      <td>33.6442</td>\n",
       "    </tr>\n",
       "  </tbody>\n",
       "</table>\n",
       "</div>"
      ],
      "text/plain": [
       "           ProductSKU              ProductName            ModelName  \\\n",
       "ProductKey                                                            \n",
       "214         HL-U509-R    Sport-100 Helmet, Red            Sport-100   \n",
       "215           HL-U509  Sport-100 Helmet, Black            Sport-100   \n",
       "218         SO-B909-M   Mountain Bike Socks, M  Mountain Bike Socks   \n",
       "219         SO-B909-L   Mountain Bike Socks, L  Mountain Bike Socks   \n",
       "220         HL-U509-B   Sport-100 Helmet, Blue            Sport-100   \n",
       "\n",
       "                                           ProductDescription ProductColor  \\\n",
       "ProductKey                                                                   \n",
       "214         Universal fit, well-vented, lightweight , snap...          Red   \n",
       "215         Universal fit, well-vented, lightweight , snap...        Black   \n",
       "218         Combination of natural and synthetic fibers st...        White   \n",
       "219         Combination of natural and synthetic fibers st...        White   \n",
       "220         Universal fit, well-vented, lightweight , snap...         Blue   \n",
       "\n",
       "           ProductSize ProductStyle  ProductCost  ProductPrice  \n",
       "ProductKey                                                      \n",
       "214                  0            0      13.0863       34.9900  \n",
       "215                  0            0      12.0278       33.6442  \n",
       "218                  M            U       3.3963        9.5000  \n",
       "219                  L            U       3.3963        9.5000  \n",
       "220                  0            0      12.0278       33.6442  "
      ]
     },
     "execution_count": 1,
     "metadata": {},
     "output_type": "execute_result"
    }
   ],
   "source": [
    "import pandas as pd\n",
    "products = pd.read_excel('AW-Sales-2016.xlsx', sheet_name='Products', \\\n",
    "                         index_col='ProductKey').drop('ProductSubcategoryKey', axis=1)\n",
    "products.head()"
   ]
  },
  {
   "cell_type": "markdown",
   "metadata": {},
   "source": [
    "### Slicing String Values with .str\n",
    "trying to use regular square brackets will make Pandas think we mean to filter rows"
   ]
  },
  {
   "cell_type": "code",
   "execution_count": 31,
   "metadata": {},
   "outputs": [
    {
     "data": {
      "text/plain": [
       "ProductKey\n",
       "215    Sport-100 Helmet, Black\n",
       "218     Mountain Bike Socks, M\n",
       "219     Mountain Bike Socks, L\n",
       "220     Sport-100 Helmet, Blue\n",
       "Name: ProductName, dtype: object"
      ]
     },
     "execution_count": 31,
     "metadata": {},
     "output_type": "execute_result"
    }
   ],
   "source": [
    "products['ProductName'][1:5]"
   ]
  },
  {
   "cell_type": "markdown",
   "metadata": {},
   "source": [
    "We can use the ***str*** method to clarify that we want to refer to the character positions of each string"
   ]
  },
  {
   "cell_type": "code",
   "execution_count": 33,
   "metadata": {},
   "outputs": [
    {
     "data": {
      "text/plain": [
       "ProductKey\n",
       "214    port\n",
       "215    port\n",
       "218    ount\n",
       "219    ount\n",
       "220    port\n",
       "Name: ProductName, dtype: object"
      ]
     },
     "execution_count": 33,
     "metadata": {},
     "output_type": "execute_result"
    }
   ],
   "source": [
    "products['ProductName'].str[1:5].head()"
   ]
  },
  {
   "cell_type": "markdown",
   "metadata": {},
   "source": [
    "## Using The str Sub-Library\n",
    "The Pandas library shares a lot of it's built-in string functions with the basic python syntax.<br> In order to access these functions we need to specify the ***str*** prefix and then call the method we need.\n",
    "### upper() / lower() / title()"
   ]
  },
  {
   "cell_type": "code",
   "execution_count": 29,
   "metadata": {},
   "outputs": [
    {
     "data": {
      "text/plain": [
       "ProductKey\n",
       "214      RED\n",
       "215    BLACK\n",
       "218    WHITE\n",
       "219    WHITE\n",
       "220     BLUE\n",
       "Name: ProductColor, dtype: object"
      ]
     },
     "execution_count": 29,
     "metadata": {},
     "output_type": "execute_result"
    }
   ],
   "source": [
    "products['ProductColor'].str.upper().head()"
   ]
  },
  {
   "cell_type": "code",
   "execution_count": 30,
   "metadata": {},
   "outputs": [
    {
     "data": {
      "text/plain": [
       "ProductKey\n",
       "214    NaN\n",
       "215    NaN\n",
       "218      m\n",
       "219      l\n",
       "220    NaN\n",
       "Name: ProductSize, dtype: object"
      ]
     },
     "execution_count": 30,
     "metadata": {},
     "output_type": "execute_result"
    }
   ],
   "source": [
    "products['ProductSize'].str.lower().head()"
   ]
  },
  {
   "cell_type": "markdown",
   "metadata": {},
   "source": [
    "### replace()\n",
    "The ***replace*** method will allow us to replace any string with any other set of characters within the original string value"
   ]
  },
  {
   "cell_type": "code",
   "execution_count": 10,
   "metadata": {},
   "outputs": [
    {
     "data": {
      "text/plain": [
       "ProductKey\n",
       "214     HL-***-R\n",
       "215       HL-***\n",
       "218    SO-B909-M\n",
       "219    SO-B909-L\n",
       "220     HL-***-B\n",
       "Name: ProductSKU, dtype: object"
      ]
     },
     "execution_count": 10,
     "metadata": {},
     "output_type": "execute_result"
    }
   ],
   "source": [
    "products['ProductSKU'].str.replace('U509', '***').head()"
   ]
  },
  {
   "cell_type": "markdown",
   "metadata": {},
   "source": [
    "We can use ***replace*** to remove parts of the string entirly"
   ]
  },
  {
   "cell_type": "code",
   "execution_count": 12,
   "metadata": {},
   "outputs": [
    {
     "data": {
      "text/plain": [
       "ProductKey\n",
       "214    HLU509R\n",
       "215     HLU509\n",
       "218    SOB909M\n",
       "219    SOB909L\n",
       "220    HLU509B\n",
       "Name: ProductSKU, dtype: object"
      ]
     },
     "execution_count": 12,
     "metadata": {},
     "output_type": "execute_result"
    }
   ],
   "source": [
    "products['ProductSKU'].str.replace('-','').head()"
   ]
  },
  {
   "cell_type": "markdown",
   "metadata": {},
   "source": [
    "### split()\n",
    "The ***split*** method returns a list containing parts of the orginal string after it was split by the specified delimiter"
   ]
  },
  {
   "cell_type": "code",
   "execution_count": 16,
   "metadata": {},
   "outputs": [
    {
     "data": {
      "text/plain": [
       "ProductKey\n",
       "214    [HL, U509, R]\n",
       "215       [HL, U509]\n",
       "218    [SO, B909, M]\n",
       "219    [SO, B909, L]\n",
       "220    [HL, U509, B]\n",
       "Name: ProductSKU, dtype: object"
      ]
     },
     "execution_count": 16,
     "metadata": {},
     "output_type": "execute_result"
    }
   ],
   "source": [
    "products['ProductSKU'].str.split('-').head()"
   ]
  },
  {
   "cell_type": "markdown",
   "metadata": {},
   "source": [
    "The default delimiter is a space "
   ]
  },
  {
   "cell_type": "code",
   "execution_count": 20,
   "metadata": {},
   "outputs": [
    {
     "data": {
      "text/plain": [
       "ProductKey\n",
       "214      [Sport-100, Helmet,, Red]\n",
       "215    [Sport-100, Helmet,, Black]\n",
       "218    [Mountain, Bike, Socks,, M]\n",
       "219    [Mountain, Bike, Socks,, L]\n",
       "220     [Sport-100, Helmet,, Blue]\n",
       "Name: ProductName, dtype: object"
      ]
     },
     "execution_count": 20,
     "metadata": {},
     "output_type": "execute_result"
    }
   ],
   "source": [
    "products['ProductName'].str.split().head()"
   ]
  },
  {
   "cell_type": "markdown",
   "metadata": {},
   "source": [
    "We can access specific positions within each list using the ***get*** method"
   ]
  },
  {
   "cell_type": "code",
   "execution_count": 37,
   "metadata": {},
   "outputs": [
    {
     "data": {
      "text/plain": [
       "ProductKey\n",
       "214    Helmet,\n",
       "215    Helmet,\n",
       "218       Bike\n",
       "219       Bike\n",
       "220    Helmet,\n",
       "Name: ProductName, dtype: object"
      ]
     },
     "execution_count": 37,
     "metadata": {},
     "output_type": "execute_result"
    }
   ],
   "source": [
    "products['ProductName'].str.split().str.get(1).head()"
   ]
  },
  {
   "cell_type": "markdown",
   "metadata": {},
   "source": [
    "We can achieve the same by using simple slicers on the ***str*** method as previously demonstrated"
   ]
  },
  {
   "cell_type": "code",
   "execution_count": 39,
   "metadata": {},
   "outputs": [
    {
     "data": {
      "text/plain": [
       "ProductKey\n",
       "214    Helmet,\n",
       "215    Helmet,\n",
       "218       Bike\n",
       "219       Bike\n",
       "220    Helmet,\n",
       "Name: ProductName, dtype: object"
      ]
     },
     "execution_count": 39,
     "metadata": {},
     "output_type": "execute_result"
    }
   ],
   "source": [
    "products['ProductName'].str.split().str[1].head()"
   ]
  },
  {
   "cell_type": "markdown",
   "metadata": {},
   "source": [
    "We can use the ***expand*** parameter to create a dataframe from the split values"
   ]
  },
  {
   "cell_type": "code",
   "execution_count": 48,
   "metadata": {},
   "outputs": [
    {
     "data": {
      "text/html": [
       "<div>\n",
       "<style scoped>\n",
       "    .dataframe tbody tr th:only-of-type {\n",
       "        vertical-align: middle;\n",
       "    }\n",
       "\n",
       "    .dataframe tbody tr th {\n",
       "        vertical-align: top;\n",
       "    }\n",
       "\n",
       "    .dataframe thead th {\n",
       "        text-align: right;\n",
       "    }\n",
       "</style>\n",
       "<table border=\"1\" class=\"dataframe\">\n",
       "  <thead>\n",
       "    <tr style=\"text-align: right;\">\n",
       "      <th></th>\n",
       "      <th>0</th>\n",
       "      <th>1</th>\n",
       "      <th>2</th>\n",
       "      <th>3</th>\n",
       "      <th>4</th>\n",
       "      <th>5</th>\n",
       "    </tr>\n",
       "    <tr>\n",
       "      <th>ProductKey</th>\n",
       "      <th></th>\n",
       "      <th></th>\n",
       "      <th></th>\n",
       "      <th></th>\n",
       "      <th></th>\n",
       "      <th></th>\n",
       "    </tr>\n",
       "  </thead>\n",
       "  <tbody>\n",
       "    <tr>\n",
       "      <th>214</th>\n",
       "      <td>Sport-100</td>\n",
       "      <td>Helmet,</td>\n",
       "      <td>Red</td>\n",
       "      <td>None</td>\n",
       "      <td>None</td>\n",
       "      <td>None</td>\n",
       "    </tr>\n",
       "    <tr>\n",
       "      <th>215</th>\n",
       "      <td>Sport-100</td>\n",
       "      <td>Helmet,</td>\n",
       "      <td>Black</td>\n",
       "      <td>None</td>\n",
       "      <td>None</td>\n",
       "      <td>None</td>\n",
       "    </tr>\n",
       "    <tr>\n",
       "      <th>218</th>\n",
       "      <td>Mountain</td>\n",
       "      <td>Bike</td>\n",
       "      <td>Socks,</td>\n",
       "      <td>M</td>\n",
       "      <td>None</td>\n",
       "      <td>None</td>\n",
       "    </tr>\n",
       "    <tr>\n",
       "      <th>219</th>\n",
       "      <td>Mountain</td>\n",
       "      <td>Bike</td>\n",
       "      <td>Socks,</td>\n",
       "      <td>L</td>\n",
       "      <td>None</td>\n",
       "      <td>None</td>\n",
       "    </tr>\n",
       "    <tr>\n",
       "      <th>220</th>\n",
       "      <td>Sport-100</td>\n",
       "      <td>Helmet,</td>\n",
       "      <td>Blue</td>\n",
       "      <td>None</td>\n",
       "      <td>None</td>\n",
       "      <td>None</td>\n",
       "    </tr>\n",
       "  </tbody>\n",
       "</table>\n",
       "</div>"
      ],
      "text/plain": [
       "                    0        1       2     3     4     5\n",
       "ProductKey                                              \n",
       "214         Sport-100  Helmet,     Red  None  None  None\n",
       "215         Sport-100  Helmet,   Black  None  None  None\n",
       "218          Mountain     Bike  Socks,     M  None  None\n",
       "219          Mountain     Bike  Socks,     L  None  None\n",
       "220         Sport-100  Helmet,    Blue  None  None  None"
      ]
     },
     "execution_count": 48,
     "metadata": {},
     "output_type": "execute_result"
    }
   ],
   "source": [
    "products['ProductName'].str.split(expand = True).head()"
   ]
  },
  {
   "cell_type": "markdown",
   "metadata": {},
   "source": [
    "Some product names are longer and because of that we get a lot of blank values. We can limit the number of columns we get back by specifying the maximum number of splits to accure"
   ]
  },
  {
   "cell_type": "code",
   "execution_count": 49,
   "metadata": {},
   "outputs": [
    {
     "data": {
      "text/html": [
       "<div>\n",
       "<style scoped>\n",
       "    .dataframe tbody tr th:only-of-type {\n",
       "        vertical-align: middle;\n",
       "    }\n",
       "\n",
       "    .dataframe tbody tr th {\n",
       "        vertical-align: top;\n",
       "    }\n",
       "\n",
       "    .dataframe thead th {\n",
       "        text-align: right;\n",
       "    }\n",
       "</style>\n",
       "<table border=\"1\" class=\"dataframe\">\n",
       "  <thead>\n",
       "    <tr style=\"text-align: right;\">\n",
       "      <th></th>\n",
       "      <th>0</th>\n",
       "      <th>1</th>\n",
       "      <th>2</th>\n",
       "    </tr>\n",
       "    <tr>\n",
       "      <th>ProductKey</th>\n",
       "      <th></th>\n",
       "      <th></th>\n",
       "      <th></th>\n",
       "    </tr>\n",
       "  </thead>\n",
       "  <tbody>\n",
       "    <tr>\n",
       "      <th>214</th>\n",
       "      <td>Sport-100</td>\n",
       "      <td>Helmet,</td>\n",
       "      <td>Red</td>\n",
       "    </tr>\n",
       "    <tr>\n",
       "      <th>215</th>\n",
       "      <td>Sport-100</td>\n",
       "      <td>Helmet,</td>\n",
       "      <td>Black</td>\n",
       "    </tr>\n",
       "    <tr>\n",
       "      <th>218</th>\n",
       "      <td>Mountain</td>\n",
       "      <td>Bike</td>\n",
       "      <td>Socks, M</td>\n",
       "    </tr>\n",
       "    <tr>\n",
       "      <th>219</th>\n",
       "      <td>Mountain</td>\n",
       "      <td>Bike</td>\n",
       "      <td>Socks, L</td>\n",
       "    </tr>\n",
       "    <tr>\n",
       "      <th>220</th>\n",
       "      <td>Sport-100</td>\n",
       "      <td>Helmet,</td>\n",
       "      <td>Blue</td>\n",
       "    </tr>\n",
       "  </tbody>\n",
       "</table>\n",
       "</div>"
      ],
      "text/plain": [
       "                    0        1         2\n",
       "ProductKey                              \n",
       "214         Sport-100  Helmet,       Red\n",
       "215         Sport-100  Helmet,     Black\n",
       "218          Mountain     Bike  Socks, M\n",
       "219          Mountain     Bike  Socks, L\n",
       "220         Sport-100  Helmet,      Blue"
      ]
     },
     "execution_count": 49,
     "metadata": {},
     "output_type": "execute_result"
    }
   ],
   "source": [
    "products['ProductName'].str.split(expand = True, n = 2).head()"
   ]
  },
  {
   "cell_type": "markdown",
   "metadata": {},
   "source": [
    "### rstrip() / lstrip() / strip()\n",
    "These methods are used to remove spaces from the right / left / both edges, respectively."
   ]
  },
  {
   "cell_type": "code",
   "execution_count": 55,
   "metadata": {},
   "outputs": [
    {
     "data": {
      "text/plain": [
       "ProductKey\n",
       "214      Sport-100 Helmet, Red\n",
       "215    Sport-100 Helmet, Black\n",
       "218     Mountain Bike Socks, M\n",
       "219     Mountain Bike Socks, L\n",
       "220     Sport-100 Helmet, Blue\n",
       "Name: ProductName, dtype: object"
      ]
     },
     "execution_count": 55,
     "metadata": {},
     "output_type": "execute_result"
    }
   ],
   "source": [
    "products['ProductName'].str.strip().head()"
   ]
  },
  {
   "cell_type": "markdown",
   "metadata": {},
   "source": [
    "### len()\n",
    "When used on a dataframe, the traditional ***len*** function will return the number of records within it. <br>\n",
    "We can use the ***len method*** to actually get the number of characters in each string"
   ]
  },
  {
   "cell_type": "code",
   "execution_count": 76,
   "metadata": {},
   "outputs": [
    {
     "name": "stdout",
     "output_type": "stream",
     "text": [
      "Total rows:  293\n"
     ]
    },
    {
     "data": {
      "text/html": [
       "<div>\n",
       "<style scoped>\n",
       "    .dataframe tbody tr th:only-of-type {\n",
       "        vertical-align: middle;\n",
       "    }\n",
       "\n",
       "    .dataframe tbody tr th {\n",
       "        vertical-align: top;\n",
       "    }\n",
       "\n",
       "    .dataframe thead th {\n",
       "        text-align: right;\n",
       "    }\n",
       "</style>\n",
       "<table border=\"1\" class=\"dataframe\">\n",
       "  <thead>\n",
       "    <tr style=\"text-align: right;\">\n",
       "      <th></th>\n",
       "      <th>ProductName</th>\n",
       "      <th>String_Length</th>\n",
       "    </tr>\n",
       "    <tr>\n",
       "      <th>ProductKey</th>\n",
       "      <th></th>\n",
       "      <th></th>\n",
       "    </tr>\n",
       "  </thead>\n",
       "  <tbody>\n",
       "    <tr>\n",
       "      <th>214</th>\n",
       "      <td>Sport-100 Helmet, Red</td>\n",
       "      <td>21</td>\n",
       "    </tr>\n",
       "    <tr>\n",
       "      <th>215</th>\n",
       "      <td>Sport-100 Helmet, Black</td>\n",
       "      <td>23</td>\n",
       "    </tr>\n",
       "    <tr>\n",
       "      <th>218</th>\n",
       "      <td>Mountain Bike Socks, M</td>\n",
       "      <td>22</td>\n",
       "    </tr>\n",
       "  </tbody>\n",
       "</table>\n",
       "</div>"
      ],
      "text/plain": [
       "                        ProductName  String_Length\n",
       "ProductKey                                        \n",
       "214           Sport-100 Helmet, Red             21\n",
       "215         Sport-100 Helmet, Black             23\n",
       "218          Mountain Bike Socks, M             22"
      ]
     },
     "execution_count": 76,
     "metadata": {},
     "output_type": "execute_result"
    }
   ],
   "source": [
    "print('Total rows: ', len(products['ProductName']))\n",
    "products['ProductName'].to_frame().assign(String_Length = products['ProductName'].str.len()).head(3)"
   ]
  },
  {
   "cell_type": "markdown",
   "metadata": {},
   "source": [
    "### contains()\n",
    "In order to find out if a part of a string is contained within another string, we can use the ***contains*** method. <br> This will return a boolean Series (True if string found in value, False otherwise)<br>\n",
    "***contains*** supports REGEX patterns as well"
   ]
  },
  {
   "cell_type": "code",
   "execution_count": 79,
   "metadata": {},
   "outputs": [
    {
     "data": {
      "text/plain": [
       "False"
      ]
     },
     "execution_count": 79,
     "metadata": {},
     "output_type": "execute_result"
    }
   ],
   "source": [
    "# Using the in operator is useless in this case as Python will compare our string with the entire dataframe\n",
    "'Helmet' in products['ProductName']"
   ]
  },
  {
   "cell_type": "code",
   "execution_count": 96,
   "metadata": {},
   "outputs": [
    {
     "data": {
      "text/html": [
       "<div>\n",
       "<style scoped>\n",
       "    .dataframe tbody tr th:only-of-type {\n",
       "        vertical-align: middle;\n",
       "    }\n",
       "\n",
       "    .dataframe tbody tr th {\n",
       "        vertical-align: top;\n",
       "    }\n",
       "\n",
       "    .dataframe thead th {\n",
       "        text-align: right;\n",
       "    }\n",
       "</style>\n",
       "<table border=\"1\" class=\"dataframe\">\n",
       "  <thead>\n",
       "    <tr style=\"text-align: right;\">\n",
       "      <th></th>\n",
       "      <th>ProductName</th>\n",
       "      <th>Is_Helmet</th>\n",
       "    </tr>\n",
       "    <tr>\n",
       "      <th>ProductKey</th>\n",
       "      <th></th>\n",
       "      <th></th>\n",
       "    </tr>\n",
       "  </thead>\n",
       "  <tbody>\n",
       "    <tr>\n",
       "      <th>214</th>\n",
       "      <td>Sport-100 Helmet, Red</td>\n",
       "      <td>True</td>\n",
       "    </tr>\n",
       "    <tr>\n",
       "      <th>215</th>\n",
       "      <td>Sport-100 Helmet, Black</td>\n",
       "      <td>True</td>\n",
       "    </tr>\n",
       "    <tr>\n",
       "      <th>218</th>\n",
       "      <td>Mountain Bike Socks, M</td>\n",
       "      <td>False</td>\n",
       "    </tr>\n",
       "    <tr>\n",
       "      <th>219</th>\n",
       "      <td>Mountain Bike Socks, L</td>\n",
       "      <td>False</td>\n",
       "    </tr>\n",
       "    <tr>\n",
       "      <th>220</th>\n",
       "      <td>Sport-100 Helmet, Blue</td>\n",
       "      <td>True</td>\n",
       "    </tr>\n",
       "  </tbody>\n",
       "</table>\n",
       "</div>"
      ],
      "text/plain": [
       "                        ProductName  Is_Helmet\n",
       "ProductKey                                    \n",
       "214           Sport-100 Helmet, Red       True\n",
       "215         Sport-100 Helmet, Black       True\n",
       "218          Mountain Bike Socks, M      False\n",
       "219          Mountain Bike Socks, L      False\n",
       "220          Sport-100 Helmet, Blue       True"
      ]
     },
     "execution_count": 96,
     "metadata": {},
     "output_type": "execute_result"
    }
   ],
   "source": [
    "products['ProductName'].to_frame().assign(Is_Helmet = products['ProductName'].str.contains('Helmet')).head()"
   ]
  },
  {
   "cell_type": "markdown",
   "metadata": {},
   "source": [
    "We can use ***contains***'s output to effectively filter our dataframe"
   ]
  },
  {
   "cell_type": "code",
   "execution_count": 98,
   "metadata": {},
   "outputs": [
    {
     "data": {
      "text/html": [
       "<div>\n",
       "<style scoped>\n",
       "    .dataframe tbody tr th:only-of-type {\n",
       "        vertical-align: middle;\n",
       "    }\n",
       "\n",
       "    .dataframe tbody tr th {\n",
       "        vertical-align: top;\n",
       "    }\n",
       "\n",
       "    .dataframe thead th {\n",
       "        text-align: right;\n",
       "    }\n",
       "</style>\n",
       "<table border=\"1\" class=\"dataframe\">\n",
       "  <thead>\n",
       "    <tr style=\"text-align: right;\">\n",
       "      <th></th>\n",
       "      <th>ProductSKU</th>\n",
       "      <th>ProductName</th>\n",
       "      <th>ModelName</th>\n",
       "      <th>ProductDescription</th>\n",
       "      <th>ProductColor</th>\n",
       "      <th>ProductSize</th>\n",
       "      <th>ProductStyle</th>\n",
       "      <th>ProductCost</th>\n",
       "      <th>ProductPrice</th>\n",
       "    </tr>\n",
       "    <tr>\n",
       "      <th>ProductKey</th>\n",
       "      <th></th>\n",
       "      <th></th>\n",
       "      <th></th>\n",
       "      <th></th>\n",
       "      <th></th>\n",
       "      <th></th>\n",
       "      <th></th>\n",
       "      <th></th>\n",
       "      <th></th>\n",
       "    </tr>\n",
       "  </thead>\n",
       "  <tbody>\n",
       "    <tr>\n",
       "      <th>214</th>\n",
       "      <td>HL-U509-R</td>\n",
       "      <td>Sport-100 Helmet, Red</td>\n",
       "      <td>Sport-100</td>\n",
       "      <td>Universal fit, well-vented, lightweight , snap...</td>\n",
       "      <td>Red</td>\n",
       "      <td>0</td>\n",
       "      <td>0</td>\n",
       "      <td>13.0863</td>\n",
       "      <td>34.9900</td>\n",
       "    </tr>\n",
       "    <tr>\n",
       "      <th>215</th>\n",
       "      <td>HL-U509</td>\n",
       "      <td>Sport-100 Helmet, Black</td>\n",
       "      <td>Sport-100</td>\n",
       "      <td>Universal fit, well-vented, lightweight , snap...</td>\n",
       "      <td>Black</td>\n",
       "      <td>0</td>\n",
       "      <td>0</td>\n",
       "      <td>12.0278</td>\n",
       "      <td>33.6442</td>\n",
       "    </tr>\n",
       "    <tr>\n",
       "      <th>220</th>\n",
       "      <td>HL-U509-B</td>\n",
       "      <td>Sport-100 Helmet, Blue</td>\n",
       "      <td>Sport-100</td>\n",
       "      <td>Universal fit, well-vented, lightweight , snap...</td>\n",
       "      <td>Blue</td>\n",
       "      <td>0</td>\n",
       "      <td>0</td>\n",
       "      <td>12.0278</td>\n",
       "      <td>33.6442</td>\n",
       "    </tr>\n",
       "  </tbody>\n",
       "</table>\n",
       "</div>"
      ],
      "text/plain": [
       "           ProductSKU              ProductName  ModelName  \\\n",
       "ProductKey                                                  \n",
       "214         HL-U509-R    Sport-100 Helmet, Red  Sport-100   \n",
       "215           HL-U509  Sport-100 Helmet, Black  Sport-100   \n",
       "220         HL-U509-B   Sport-100 Helmet, Blue  Sport-100   \n",
       "\n",
       "                                           ProductDescription ProductColor  \\\n",
       "ProductKey                                                                   \n",
       "214         Universal fit, well-vented, lightweight , snap...          Red   \n",
       "215         Universal fit, well-vented, lightweight , snap...        Black   \n",
       "220         Universal fit, well-vented, lightweight , snap...         Blue   \n",
       "\n",
       "           ProductSize ProductStyle  ProductCost  ProductPrice  \n",
       "ProductKey                                                      \n",
       "214                  0            0      13.0863       34.9900  \n",
       "215                  0            0      12.0278       33.6442  \n",
       "220                  0            0      12.0278       33.6442  "
      ]
     },
     "execution_count": 98,
     "metadata": {},
     "output_type": "execute_result"
    }
   ],
   "source": [
    "products[products['ProductName'].str.contains('Helmet')]"
   ]
  },
  {
   "cell_type": "markdown",
   "metadata": {},
   "source": [
    "Always keep in mind that Python is case-sensitive. Pandas is no different in this regard and when in doubt about how values may appear we can change the casing of the value when performing our checks"
   ]
  },
  {
   "cell_type": "code",
   "execution_count": 47,
   "metadata": {},
   "outputs": [
    {
     "data": {
      "text/html": [
       "<div>\n",
       "<style scoped>\n",
       "    .dataframe tbody tr th:only-of-type {\n",
       "        vertical-align: middle;\n",
       "    }\n",
       "\n",
       "    .dataframe tbody tr th {\n",
       "        vertical-align: top;\n",
       "    }\n",
       "\n",
       "    .dataframe thead th {\n",
       "        text-align: right;\n",
       "    }\n",
       "</style>\n",
       "<table border=\"1\" class=\"dataframe\">\n",
       "  <thead>\n",
       "    <tr style=\"text-align: right;\">\n",
       "      <th></th>\n",
       "      <th>ProductSKU</th>\n",
       "      <th>ProductName</th>\n",
       "      <th>ModelName</th>\n",
       "      <th>ProductDescription</th>\n",
       "      <th>ProductColor</th>\n",
       "      <th>ProductSize</th>\n",
       "      <th>ProductStyle</th>\n",
       "      <th>ProductCost</th>\n",
       "      <th>ProductPrice</th>\n",
       "    </tr>\n",
       "    <tr>\n",
       "      <th>ProductKey</th>\n",
       "      <th></th>\n",
       "      <th></th>\n",
       "      <th></th>\n",
       "      <th></th>\n",
       "      <th></th>\n",
       "      <th></th>\n",
       "      <th></th>\n",
       "      <th></th>\n",
       "      <th></th>\n",
       "    </tr>\n",
       "  </thead>\n",
       "  <tbody>\n",
       "    <tr>\n",
       "      <th>238</th>\n",
       "      <td>FR-R92R-62</td>\n",
       "      <td>HL Road Frame - Red, 62</td>\n",
       "      <td>HL Road Frame</td>\n",
       "      <td>Our lightest and best quality aluminum frame m...</td>\n",
       "      <td>Red</td>\n",
       "      <td>62</td>\n",
       "      <td>U</td>\n",
       "      <td>747.9682</td>\n",
       "      <td>1263.4598</td>\n",
       "    </tr>\n",
       "    <tr>\n",
       "      <th>241</th>\n",
       "      <td>FR-R92R-44</td>\n",
       "      <td>HL Road Frame - Red, 44</td>\n",
       "      <td>HL Road Frame</td>\n",
       "      <td>Our lightest and best quality aluminum frame m...</td>\n",
       "      <td>Red</td>\n",
       "      <td>44</td>\n",
       "      <td>U</td>\n",
       "      <td>747.9682</td>\n",
       "      <td>1263.4598</td>\n",
       "    </tr>\n",
       "    <tr>\n",
       "      <th>244</th>\n",
       "      <td>FR-R92R-48</td>\n",
       "      <td>HL Road Frame - Red, 48</td>\n",
       "      <td>HL Road Frame</td>\n",
       "      <td>Our lightest and best quality aluminum frame m...</td>\n",
       "      <td>Red</td>\n",
       "      <td>48</td>\n",
       "      <td>U</td>\n",
       "      <td>747.9682</td>\n",
       "      <td>1263.4598</td>\n",
       "    </tr>\n",
       "    <tr>\n",
       "      <th>247</th>\n",
       "      <td>FR-R92R-52</td>\n",
       "      <td>HL Road Frame - Red, 52</td>\n",
       "      <td>HL Road Frame</td>\n",
       "      <td>Our lightest and best quality aluminum frame m...</td>\n",
       "      <td>Red</td>\n",
       "      <td>52</td>\n",
       "      <td>U</td>\n",
       "      <td>747.9682</td>\n",
       "      <td>1263.4598</td>\n",
       "    </tr>\n",
       "    <tr>\n",
       "      <th>250</th>\n",
       "      <td>FR-R92R-56</td>\n",
       "      <td>HL Road Frame - Red, 56</td>\n",
       "      <td>HL Road Frame</td>\n",
       "      <td>Our lightest and best quality aluminum frame m...</td>\n",
       "      <td>Red</td>\n",
       "      <td>56</td>\n",
       "      <td>U</td>\n",
       "      <td>747.9682</td>\n",
       "      <td>1263.4598</td>\n",
       "    </tr>\n",
       "  </tbody>\n",
       "</table>\n",
       "</div>"
      ],
      "text/plain": [
       "            ProductSKU              ProductName      ModelName  \\\n",
       "ProductKey                                                       \n",
       "238         FR-R92R-62  HL Road Frame - Red, 62  HL Road Frame   \n",
       "241         FR-R92R-44  HL Road Frame - Red, 44  HL Road Frame   \n",
       "244         FR-R92R-48  HL Road Frame - Red, 48  HL Road Frame   \n",
       "247         FR-R92R-52  HL Road Frame - Red, 52  HL Road Frame   \n",
       "250         FR-R92R-56  HL Road Frame - Red, 56  HL Road Frame   \n",
       "\n",
       "                                           ProductDescription ProductColor  \\\n",
       "ProductKey                                                                   \n",
       "238         Our lightest and best quality aluminum frame m...          Red   \n",
       "241         Our lightest and best quality aluminum frame m...          Red   \n",
       "244         Our lightest and best quality aluminum frame m...          Red   \n",
       "247         Our lightest and best quality aluminum frame m...          Red   \n",
       "250         Our lightest and best quality aluminum frame m...          Red   \n",
       "\n",
       "           ProductSize ProductStyle  ProductCost  ProductPrice  \n",
       "ProductKey                                                      \n",
       "238                 62            U     747.9682     1263.4598  \n",
       "241                 44            U     747.9682     1263.4598  \n",
       "244                 48            U     747.9682     1263.4598  \n",
       "247                 52            U     747.9682     1263.4598  \n",
       "250                 56            U     747.9682     1263.4598  "
      ]
     },
     "execution_count": 47,
     "metadata": {},
     "output_type": "execute_result"
    }
   ],
   "source": [
    "products[products['ProductName'].str.lower().str.contains('hl')].head()"
   ]
  },
  {
   "cell_type": "markdown",
   "metadata": {},
   "source": [
    "### slice()\n",
    "We can use ***slice*** to select a part of a string by defining starting position, ending position and even jump.<br>This is equivelent to traditional \"Slicing\" in Python"
   ]
  },
  {
   "cell_type": "code",
   "execution_count": 60,
   "metadata": {},
   "outputs": [
    {
     "name": "stdout",
     "output_type": "stream",
     "text": [
      "ProductKey\n",
      "214    HL-U509-R\n",
      "215      HL-U509\n",
      "218    SO-B909-M\n",
      "Name: ProductSKU, dtype: object\n",
      "ProductKey\n",
      "214    U509\n",
      "215    U509\n",
      "218    B909\n",
      "Name: ProductSKU, dtype: object\n"
     ]
    }
   ],
   "source": [
    "# Get only the 4 characters that comes after the 2-letter prefix\n",
    "print(products['ProductSKU'].head(3))\n",
    "print(products['ProductSKU'].str.slice(3,7).head(3))"
   ]
  },
  {
   "cell_type": "markdown",
   "metadata": {},
   "source": [
    "### slice_replace()\n",
    "***slice_replace*** is a combination of ***slice*** and ***replace***, allowing us to replace a segment of our strings with another string"
   ]
  },
  {
   "cell_type": "code",
   "execution_count": 48,
   "metadata": {},
   "outputs": [
    {
     "data": {
      "text/plain": [
       "ProductKey\n",
       "214    HL-**-R\n",
       "215      HL-**\n",
       "218    SO-**-M\n",
       "219    SO-**-L\n",
       "220    HL-**-B\n",
       "Name: ProductSKU, dtype: object"
      ]
     },
     "execution_count": 48,
     "metadata": {},
     "output_type": "execute_result"
    }
   ],
   "source": [
    "products['ProductSKU'].str.slice_replace(3,7,'**').head()"
   ]
  },
  {
   "cell_type": "markdown",
   "metadata": {},
   "source": [
    "### count()\n",
    "Use the count to count the number of apearences of a specific string within another string"
   ]
  },
  {
   "cell_type": "code",
   "execution_count": 57,
   "metadata": {},
   "outputs": [
    {
     "data": {
      "text/html": [
       "<div>\n",
       "<style scoped>\n",
       "    .dataframe tbody tr th:only-of-type {\n",
       "        vertical-align: middle;\n",
       "    }\n",
       "\n",
       "    .dataframe tbody tr th {\n",
       "        vertical-align: top;\n",
       "    }\n",
       "\n",
       "    .dataframe thead th {\n",
       "        text-align: right;\n",
       "    }\n",
       "</style>\n",
       "<table border=\"1\" class=\"dataframe\">\n",
       "  <thead>\n",
       "    <tr style=\"text-align: right;\">\n",
       "      <th></th>\n",
       "      <th>ProductSKU</th>\n",
       "      <th>number_of_dashes</th>\n",
       "    </tr>\n",
       "    <tr>\n",
       "      <th>ProductKey</th>\n",
       "      <th></th>\n",
       "      <th></th>\n",
       "    </tr>\n",
       "  </thead>\n",
       "  <tbody>\n",
       "    <tr>\n",
       "      <th>214</th>\n",
       "      <td>HL-U509-R</td>\n",
       "      <td>2.0</td>\n",
       "    </tr>\n",
       "    <tr>\n",
       "      <th>215</th>\n",
       "      <td>HL-U509</td>\n",
       "      <td>1.0</td>\n",
       "    </tr>\n",
       "    <tr>\n",
       "      <th>218</th>\n",
       "      <td>SO-B909-M</td>\n",
       "      <td>2.0</td>\n",
       "    </tr>\n",
       "    <tr>\n",
       "      <th>219</th>\n",
       "      <td>SO-B909-L</td>\n",
       "      <td>2.0</td>\n",
       "    </tr>\n",
       "    <tr>\n",
       "      <th>220</th>\n",
       "      <td>HL-U509-B</td>\n",
       "      <td>2.0</td>\n",
       "    </tr>\n",
       "  </tbody>\n",
       "</table>\n",
       "</div>"
      ],
      "text/plain": [
       "           ProductSKU  number_of_dashes\n",
       "ProductKey                             \n",
       "214         HL-U509-R               2.0\n",
       "215           HL-U509               1.0\n",
       "218         SO-B909-M               2.0\n",
       "219         SO-B909-L               2.0\n",
       "220         HL-U509-B               2.0"
      ]
     },
     "execution_count": 57,
     "metadata": {},
     "output_type": "execute_result"
    }
   ],
   "source": [
    "new_col = products['ProductSKU'].str.count('-').head()\n",
    "products['ProductSKU'].to_frame().assign(number_of_dashes = new_col).head()"
   ]
  },
  {
   "cell_type": "markdown",
   "metadata": {},
   "source": [
    "Again, case should be taken into account if we need to count both upper and lower case letters"
   ]
  },
  {
   "cell_type": "code",
   "execution_count": 65,
   "metadata": {},
   "outputs": [
    {
     "data": {
      "text/html": [
       "<div>\n",
       "<style scoped>\n",
       "    .dataframe tbody tr th:only-of-type {\n",
       "        vertical-align: middle;\n",
       "    }\n",
       "\n",
       "    .dataframe tbody tr th {\n",
       "        vertical-align: top;\n",
       "    }\n",
       "\n",
       "    .dataframe thead th {\n",
       "        text-align: right;\n",
       "    }\n",
       "</style>\n",
       "<table border=\"1\" class=\"dataframe\">\n",
       "  <thead>\n",
       "    <tr style=\"text-align: right;\">\n",
       "      <th></th>\n",
       "      <th>ProductName</th>\n",
       "      <th>number_of_s</th>\n",
       "    </tr>\n",
       "    <tr>\n",
       "      <th>ProductKey</th>\n",
       "      <th></th>\n",
       "      <th></th>\n",
       "    </tr>\n",
       "  </thead>\n",
       "  <tbody>\n",
       "    <tr>\n",
       "      <th>220</th>\n",
       "      <td>Sport-100 Helmet, Blue</td>\n",
       "      <td>1</td>\n",
       "    </tr>\n",
       "    <tr>\n",
       "      <th>223</th>\n",
       "      <td>AWC Logo Cap</td>\n",
       "      <td>0</td>\n",
       "    </tr>\n",
       "    <tr>\n",
       "      <th>226</th>\n",
       "      <td>Long-Sleeve Logo Jersey, S</td>\n",
       "      <td>3</td>\n",
       "    </tr>\n",
       "    <tr>\n",
       "      <th>229</th>\n",
       "      <td>Long-Sleeve Logo Jersey, M</td>\n",
       "      <td>2</td>\n",
       "    </tr>\n",
       "  </tbody>\n",
       "</table>\n",
       "</div>"
      ],
      "text/plain": [
       "                           ProductName  number_of_s\n",
       "ProductKey                                         \n",
       "220             Sport-100 Helmet, Blue            1\n",
       "223                       AWC Logo Cap            0\n",
       "226         Long-Sleeve Logo Jersey, S            3\n",
       "229         Long-Sleeve Logo Jersey, M            2"
      ]
     },
     "execution_count": 65,
     "metadata": {},
     "output_type": "execute_result"
    }
   ],
   "source": [
    "new_col = products['ProductName'].str.lower().str.count('s')\n",
    "products[4:8]['ProductName'].to_frame().assign(number_of_s = new_col).head()"
   ]
  },
  {
   "cell_type": "markdown",
   "metadata": {},
   "source": [
    "### startswith() / endswith()\n",
    "We can use the traditional ***startswith*** and ***endswith*** to check a match specifically in the begining / end of a string, respectively.<br>In Pandas these returns a boolean Series which we can use for filtering of course."
   ]
  },
  {
   "cell_type": "code",
   "execution_count": 66,
   "metadata": {},
   "outputs": [
    {
     "data": {
      "text/plain": [
       "ProductKey\n",
       "214     True\n",
       "215     True\n",
       "218    False\n",
       "219    False\n",
       "220     True\n",
       "Name: ProductName, dtype: bool"
      ]
     },
     "execution_count": 66,
     "metadata": {},
     "output_type": "execute_result"
    }
   ],
   "source": [
    "products['ProductName'].str.startswith('Sport').head()"
   ]
  },
  {
   "cell_type": "code",
   "execution_count": 68,
   "metadata": {},
   "outputs": [
    {
     "data": {
      "text/html": [
       "<div>\n",
       "<style scoped>\n",
       "    .dataframe tbody tr th:only-of-type {\n",
       "        vertical-align: middle;\n",
       "    }\n",
       "\n",
       "    .dataframe tbody tr th {\n",
       "        vertical-align: top;\n",
       "    }\n",
       "\n",
       "    .dataframe thead th {\n",
       "        text-align: right;\n",
       "    }\n",
       "</style>\n",
       "<table border=\"1\" class=\"dataframe\">\n",
       "  <thead>\n",
       "    <tr style=\"text-align: right;\">\n",
       "      <th></th>\n",
       "      <th>ProductSKU</th>\n",
       "      <th>ProductName</th>\n",
       "      <th>ModelName</th>\n",
       "      <th>ProductDescription</th>\n",
       "      <th>ProductColor</th>\n",
       "      <th>ProductSize</th>\n",
       "      <th>ProductStyle</th>\n",
       "      <th>ProductCost</th>\n",
       "      <th>ProductPrice</th>\n",
       "    </tr>\n",
       "    <tr>\n",
       "      <th>ProductKey</th>\n",
       "      <th></th>\n",
       "      <th></th>\n",
       "      <th></th>\n",
       "      <th></th>\n",
       "      <th></th>\n",
       "      <th></th>\n",
       "      <th></th>\n",
       "      <th></th>\n",
       "      <th></th>\n",
       "    </tr>\n",
       "  </thead>\n",
       "  <tbody>\n",
       "    <tr>\n",
       "      <th>214</th>\n",
       "      <td>HL-U509-R</td>\n",
       "      <td>Sport-100 Helmet, Red</td>\n",
       "      <td>Sport-100</td>\n",
       "      <td>Universal fit, well-vented, lightweight , snap...</td>\n",
       "      <td>Red</td>\n",
       "      <td>0</td>\n",
       "      <td>0</td>\n",
       "      <td>13.0863</td>\n",
       "      <td>34.9900</td>\n",
       "    </tr>\n",
       "    <tr>\n",
       "      <th>215</th>\n",
       "      <td>HL-U509</td>\n",
       "      <td>Sport-100 Helmet, Black</td>\n",
       "      <td>Sport-100</td>\n",
       "      <td>Universal fit, well-vented, lightweight , snap...</td>\n",
       "      <td>Black</td>\n",
       "      <td>0</td>\n",
       "      <td>0</td>\n",
       "      <td>12.0278</td>\n",
       "      <td>33.6442</td>\n",
       "    </tr>\n",
       "    <tr>\n",
       "      <th>220</th>\n",
       "      <td>HL-U509-B</td>\n",
       "      <td>Sport-100 Helmet, Blue</td>\n",
       "      <td>Sport-100</td>\n",
       "      <td>Universal fit, well-vented, lightweight , snap...</td>\n",
       "      <td>Blue</td>\n",
       "      <td>0</td>\n",
       "      <td>0</td>\n",
       "      <td>12.0278</td>\n",
       "      <td>33.6442</td>\n",
       "    </tr>\n",
       "  </tbody>\n",
       "</table>\n",
       "</div>"
      ],
      "text/plain": [
       "           ProductSKU              ProductName  ModelName  \\\n",
       "ProductKey                                                  \n",
       "214         HL-U509-R    Sport-100 Helmet, Red  Sport-100   \n",
       "215           HL-U509  Sport-100 Helmet, Black  Sport-100   \n",
       "220         HL-U509-B   Sport-100 Helmet, Blue  Sport-100   \n",
       "\n",
       "                                           ProductDescription ProductColor  \\\n",
       "ProductKey                                                                   \n",
       "214         Universal fit, well-vented, lightweight , snap...          Red   \n",
       "215         Universal fit, well-vented, lightweight , snap...        Black   \n",
       "220         Universal fit, well-vented, lightweight , snap...         Blue   \n",
       "\n",
       "           ProductSize ProductStyle  ProductCost  ProductPrice  \n",
       "ProductKey                                                      \n",
       "214                  0            0      13.0863       34.9900  \n",
       "215                  0            0      12.0278       33.6442  \n",
       "220                  0            0      12.0278       33.6442  "
      ]
     },
     "execution_count": 68,
     "metadata": {},
     "output_type": "execute_result"
    }
   ],
   "source": [
    "products[products['ProductName'].str.startswith('Sport')]"
   ]
  },
  {
   "cell_type": "markdown",
   "metadata": {},
   "source": [
    "### find()\n",
    "The ***find*** method is very similar to the ***index*** method - It finds the smallest index position (first occurance) of the specified string inside another string.<br>It's advantage over ***index***, however, is in cases when search for a non-existent value: instead of an error we will get the value -1"
   ]
  },
  {
   "cell_type": "code",
   "execution_count": 70,
   "metadata": {},
   "outputs": [
    {
     "data": {
      "text/html": [
       "<div>\n",
       "<style scoped>\n",
       "    .dataframe tbody tr th:only-of-type {\n",
       "        vertical-align: middle;\n",
       "    }\n",
       "\n",
       "    .dataframe tbody tr th {\n",
       "        vertical-align: top;\n",
       "    }\n",
       "\n",
       "    .dataframe thead th {\n",
       "        text-align: right;\n",
       "    }\n",
       "</style>\n",
       "<table border=\"1\" class=\"dataframe\">\n",
       "  <thead>\n",
       "    <tr style=\"text-align: right;\">\n",
       "      <th></th>\n",
       "      <th>ProductName</th>\n",
       "      <th>Helmet_Position</th>\n",
       "    </tr>\n",
       "    <tr>\n",
       "      <th>ProductKey</th>\n",
       "      <th></th>\n",
       "      <th></th>\n",
       "    </tr>\n",
       "  </thead>\n",
       "  <tbody>\n",
       "    <tr>\n",
       "      <th>214</th>\n",
       "      <td>Sport-100 Helmet, Red</td>\n",
       "      <td>10</td>\n",
       "    </tr>\n",
       "    <tr>\n",
       "      <th>215</th>\n",
       "      <td>Sport-100 Helmet, Black</td>\n",
       "      <td>10</td>\n",
       "    </tr>\n",
       "    <tr>\n",
       "      <th>218</th>\n",
       "      <td>Mountain Bike Socks, M</td>\n",
       "      <td>-1</td>\n",
       "    </tr>\n",
       "    <tr>\n",
       "      <th>219</th>\n",
       "      <td>Mountain Bike Socks, L</td>\n",
       "      <td>-1</td>\n",
       "    </tr>\n",
       "    <tr>\n",
       "      <th>220</th>\n",
       "      <td>Sport-100 Helmet, Blue</td>\n",
       "      <td>10</td>\n",
       "    </tr>\n",
       "  </tbody>\n",
       "</table>\n",
       "</div>"
      ],
      "text/plain": [
       "                        ProductName  Helmet_Position\n",
       "ProductKey                                          \n",
       "214           Sport-100 Helmet, Red               10\n",
       "215         Sport-100 Helmet, Black               10\n",
       "218          Mountain Bike Socks, M               -1\n",
       "219          Mountain Bike Socks, L               -1\n",
       "220          Sport-100 Helmet, Blue               10"
      ]
     },
     "execution_count": 70,
     "metadata": {},
     "output_type": "execute_result"
    }
   ],
   "source": [
    "new_col = products['ProductName'].str.find('Helmet')\n",
    "products['ProductName'].to_frame().assign(Helmet_Position = new_col).head()"
   ]
  }
 ],
 "metadata": {
  "kernelspec": {
   "display_name": "Python 3",
   "language": "python",
   "name": "python3"
  },
  "language_info": {
   "codemirror_mode": {
    "name": "ipython",
    "version": 3
   },
   "file_extension": ".py",
   "mimetype": "text/x-python",
   "name": "python",
   "nbconvert_exporter": "python",
   "pygments_lexer": "ipython3",
   "version": "3.7.3"
  }
 },
 "nbformat": 4,
 "nbformat_minor": 2
}
