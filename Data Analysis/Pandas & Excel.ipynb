{
 "cells": [
  {
   "cell_type": "markdown",
   "metadata": {},
   "source": [
    "# Reading & Writing Excel Files\n",
    "To allow pandas to read and write Excel files we would have to install the ***openpyxl*** and ***xlrd*** libraries<br>We don't need to import them afterwards"
   ]
  },
  {
   "cell_type": "code",
   "execution_count": 5,
   "metadata": {},
   "outputs": [],
   "source": [
    "!pip3 install openpyxl\n",
    "\n",
    "!pip3 install xlrd"
   ]
  },
  {
   "cell_type": "markdown",
   "metadata": {},
   "source": [
    "Import the Pandas library"
   ]
  },
  {
   "cell_type": "code",
   "execution_count": 1,
   "metadata": {},
   "outputs": [],
   "source": [
    "import pandas as pd"
   ]
  },
  {
   "cell_type": "markdown",
   "metadata": {},
   "source": [
    "## Import Data From Excel Spreadsheet"
   ]
  },
  {
   "cell_type": "code",
   "execution_count": 2,
   "metadata": {},
   "outputs": [
    {
     "data": {
      "text/html": [
       "<div>\n",
       "<style scoped>\n",
       "    .dataframe tbody tr th:only-of-type {\n",
       "        vertical-align: middle;\n",
       "    }\n",
       "\n",
       "    .dataframe tbody tr th {\n",
       "        vertical-align: top;\n",
       "    }\n",
       "\n",
       "    .dataframe thead th {\n",
       "        text-align: right;\n",
       "    }\n",
       "</style>\n",
       "<table border=\"1\" class=\"dataframe\">\n",
       "  <thead>\n",
       "    <tr style=\"text-align: right;\">\n",
       "      <th></th>\n",
       "      <th>Period</th>\n",
       "      <th>Region</th>\n",
       "      <th>Revenue</th>\n",
       "    </tr>\n",
       "  </thead>\n",
       "  <tbody>\n",
       "    <tr>\n",
       "      <th>0</th>\n",
       "      <td>FY2015</td>\n",
       "      <td>Africa</td>\n",
       "      <td>10000000</td>\n",
       "    </tr>\n",
       "    <tr>\n",
       "      <th>1</th>\n",
       "      <td>FY2015</td>\n",
       "      <td>Asia</td>\n",
       "      <td>20000000</td>\n",
       "    </tr>\n",
       "    <tr>\n",
       "      <th>2</th>\n",
       "      <td>FY2015</td>\n",
       "      <td>Australia</td>\n",
       "      <td>70000000</td>\n",
       "    </tr>\n",
       "    <tr>\n",
       "      <th>3</th>\n",
       "      <td>FY2015</td>\n",
       "      <td>Europe</td>\n",
       "      <td>120000000</td>\n",
       "    </tr>\n",
       "    <tr>\n",
       "      <th>4</th>\n",
       "      <td>FY2015</td>\n",
       "      <td>North America</td>\n",
       "      <td>150000000</td>\n",
       "    </tr>\n",
       "  </tbody>\n",
       "</table>\n",
       "</div>"
      ],
      "text/plain": [
       "   Period         Region    Revenue\n",
       "0  FY2015         Africa   10000000\n",
       "1  FY2015           Asia   20000000\n",
       "2  FY2015      Australia   70000000\n",
       "3  FY2015         Europe  120000000\n",
       "4  FY2015  North America  150000000"
      ]
     },
     "execution_count": 2,
     "metadata": {},
     "output_type": "execute_result"
    }
   ],
   "source": [
    "file = pd.read_excel('Airline-Comparison.xlsx')\n",
    "file.head()"
   ]
  },
  {
   "cell_type": "markdown",
   "metadata": {},
   "source": [
    "### usecols\n",
    "We can specify the columns we need from the spreadsheet by using index numbers"
   ]
  },
  {
   "cell_type": "code",
   "execution_count": 4,
   "metadata": {},
   "outputs": [
    {
     "data": {
      "text/html": [
       "<div>\n",
       "<style scoped>\n",
       "    .dataframe tbody tr th:only-of-type {\n",
       "        vertical-align: middle;\n",
       "    }\n",
       "\n",
       "    .dataframe tbody tr th {\n",
       "        vertical-align: top;\n",
       "    }\n",
       "\n",
       "    .dataframe thead th {\n",
       "        text-align: right;\n",
       "    }\n",
       "</style>\n",
       "<table border=\"1\" class=\"dataframe\">\n",
       "  <thead>\n",
       "    <tr style=\"text-align: right;\">\n",
       "      <th></th>\n",
       "      <th>Region</th>\n",
       "      <th>Revenue</th>\n",
       "    </tr>\n",
       "  </thead>\n",
       "  <tbody>\n",
       "    <tr>\n",
       "      <th>0</th>\n",
       "      <td>Africa</td>\n",
       "      <td>10000000</td>\n",
       "    </tr>\n",
       "    <tr>\n",
       "      <th>1</th>\n",
       "      <td>Asia</td>\n",
       "      <td>20000000</td>\n",
       "    </tr>\n",
       "    <tr>\n",
       "      <th>2</th>\n",
       "      <td>Australia</td>\n",
       "      <td>70000000</td>\n",
       "    </tr>\n",
       "    <tr>\n",
       "      <th>3</th>\n",
       "      <td>Europe</td>\n",
       "      <td>120000000</td>\n",
       "    </tr>\n",
       "    <tr>\n",
       "      <th>4</th>\n",
       "      <td>North America</td>\n",
       "      <td>150000000</td>\n",
       "    </tr>\n",
       "  </tbody>\n",
       "</table>\n",
       "</div>"
      ],
      "text/plain": [
       "          Region    Revenue\n",
       "0         Africa   10000000\n",
       "1           Asia   20000000\n",
       "2      Australia   70000000\n",
       "3         Europe  120000000\n",
       "4  North America  150000000"
      ]
     },
     "execution_count": 4,
     "metadata": {},
     "output_type": "execute_result"
    }
   ],
   "source": [
    "file = pd.read_excel('Airline-Comparison.xlsx', usecols=[1,2])\n",
    "file.head()"
   ]
  },
  {
   "cell_type": "markdown",
   "metadata": {},
   "source": [
    "We can use the letters of the collumns in the document as well.<br/>\n",
    "Casing doesn't matter in this case"
   ]
  },
  {
   "cell_type": "code",
   "execution_count": 13,
   "metadata": {},
   "outputs": [
    {
     "data": {
      "text/html": [
       "<div>\n",
       "<style scoped>\n",
       "    .dataframe tbody tr th:only-of-type {\n",
       "        vertical-align: middle;\n",
       "    }\n",
       "\n",
       "    .dataframe tbody tr th {\n",
       "        vertical-align: top;\n",
       "    }\n",
       "\n",
       "    .dataframe thead th {\n",
       "        text-align: right;\n",
       "    }\n",
       "</style>\n",
       "<table border=\"1\" class=\"dataframe\">\n",
       "  <thead>\n",
       "    <tr style=\"text-align: right;\">\n",
       "      <th></th>\n",
       "      <th>Region</th>\n",
       "    </tr>\n",
       "  </thead>\n",
       "  <tbody>\n",
       "    <tr>\n",
       "      <th>0</th>\n",
       "      <td>Africa</td>\n",
       "    </tr>\n",
       "    <tr>\n",
       "      <th>1</th>\n",
       "      <td>Asia</td>\n",
       "    </tr>\n",
       "    <tr>\n",
       "      <th>2</th>\n",
       "      <td>Australia</td>\n",
       "    </tr>\n",
       "    <tr>\n",
       "      <th>3</th>\n",
       "      <td>Europe</td>\n",
       "    </tr>\n",
       "    <tr>\n",
       "      <th>4</th>\n",
       "      <td>North America</td>\n",
       "    </tr>\n",
       "  </tbody>\n",
       "</table>\n",
       "</div>"
      ],
      "text/plain": [
       "          Region\n",
       "0         Africa\n",
       "1           Asia\n",
       "2      Australia\n",
       "3         Europe\n",
       "4  North America"
      ]
     },
     "execution_count": 13,
     "metadata": {},
     "output_type": "execute_result"
    }
   ],
   "source": [
    "file = pd.read_excel('Airline-Comparison.xlsx', usecols='B')\n",
    "file.head()"
   ]
  },
  {
   "cell_type": "markdown",
   "metadata": {},
   "source": [
    "When using letters we don't use a list notation. Instead we can put multiple values in a single string"
   ]
  },
  {
   "cell_type": "code",
   "execution_count": 15,
   "metadata": {},
   "outputs": [
    {
     "data": {
      "text/html": [
       "<div>\n",
       "<style scoped>\n",
       "    .dataframe tbody tr th:only-of-type {\n",
       "        vertical-align: middle;\n",
       "    }\n",
       "\n",
       "    .dataframe tbody tr th {\n",
       "        vertical-align: top;\n",
       "    }\n",
       "\n",
       "    .dataframe thead th {\n",
       "        text-align: right;\n",
       "    }\n",
       "</style>\n",
       "<table border=\"1\" class=\"dataframe\">\n",
       "  <thead>\n",
       "    <tr style=\"text-align: right;\">\n",
       "      <th></th>\n",
       "      <th>Period</th>\n",
       "      <th>Region</th>\n",
       "      <th>Revenue</th>\n",
       "    </tr>\n",
       "  </thead>\n",
       "  <tbody>\n",
       "    <tr>\n",
       "      <th>0</th>\n",
       "      <td>FY2015</td>\n",
       "      <td>Africa</td>\n",
       "      <td>10000000</td>\n",
       "    </tr>\n",
       "    <tr>\n",
       "      <th>1</th>\n",
       "      <td>FY2015</td>\n",
       "      <td>Asia</td>\n",
       "      <td>20000000</td>\n",
       "    </tr>\n",
       "    <tr>\n",
       "      <th>2</th>\n",
       "      <td>FY2015</td>\n",
       "      <td>Australia</td>\n",
       "      <td>70000000</td>\n",
       "    </tr>\n",
       "    <tr>\n",
       "      <th>3</th>\n",
       "      <td>FY2015</td>\n",
       "      <td>Europe</td>\n",
       "      <td>120000000</td>\n",
       "    </tr>\n",
       "    <tr>\n",
       "      <th>4</th>\n",
       "      <td>FY2015</td>\n",
       "      <td>North America</td>\n",
       "      <td>150000000</td>\n",
       "    </tr>\n",
       "  </tbody>\n",
       "</table>\n",
       "</div>"
      ],
      "text/plain": [
       "   Period         Region    Revenue\n",
       "0  FY2015         Africa   10000000\n",
       "1  FY2015           Asia   20000000\n",
       "2  FY2015      Australia   70000000\n",
       "3  FY2015         Europe  120000000\n",
       "4  FY2015  North America  150000000"
      ]
     },
     "execution_count": 15,
     "metadata": {},
     "output_type": "execute_result"
    }
   ],
   "source": [
    "file = pd.read_excel('Airline-Comparison.xlsx', usecols='a, b, c')\n",
    "file.head()"
   ]
  },
  {
   "cell_type": "markdown",
   "metadata": {},
   "source": [
    "When using this syntax we can even define ranges of columns<br/>\n",
    "In this example I'm asking to get columns A through C and also column F and column K"
   ]
  },
  {
   "cell_type": "code",
   "execution_count": 17,
   "metadata": {},
   "outputs": [
    {
     "data": {
      "text/html": [
       "<div>\n",
       "<style scoped>\n",
       "    .dataframe tbody tr th:only-of-type {\n",
       "        vertical-align: middle;\n",
       "    }\n",
       "\n",
       "    .dataframe tbody tr th {\n",
       "        vertical-align: top;\n",
       "    }\n",
       "\n",
       "    .dataframe thead th {\n",
       "        text-align: right;\n",
       "    }\n",
       "</style>\n",
       "<table border=\"1\" class=\"dataframe\">\n",
       "  <thead>\n",
       "    <tr style=\"text-align: right;\">\n",
       "      <th></th>\n",
       "      <th>Period</th>\n",
       "      <th>Region</th>\n",
       "      <th>Revenue</th>\n",
       "    </tr>\n",
       "  </thead>\n",
       "  <tbody>\n",
       "    <tr>\n",
       "      <th>0</th>\n",
       "      <td>FY2015</td>\n",
       "      <td>Africa</td>\n",
       "      <td>10000000</td>\n",
       "    </tr>\n",
       "    <tr>\n",
       "      <th>1</th>\n",
       "      <td>FY2015</td>\n",
       "      <td>Asia</td>\n",
       "      <td>20000000</td>\n",
       "    </tr>\n",
       "    <tr>\n",
       "      <th>2</th>\n",
       "      <td>FY2015</td>\n",
       "      <td>Australia</td>\n",
       "      <td>70000000</td>\n",
       "    </tr>\n",
       "    <tr>\n",
       "      <th>3</th>\n",
       "      <td>FY2015</td>\n",
       "      <td>Europe</td>\n",
       "      <td>120000000</td>\n",
       "    </tr>\n",
       "    <tr>\n",
       "      <th>4</th>\n",
       "      <td>FY2015</td>\n",
       "      <td>North America</td>\n",
       "      <td>150000000</td>\n",
       "    </tr>\n",
       "  </tbody>\n",
       "</table>\n",
       "</div>"
      ],
      "text/plain": [
       "   Period         Region    Revenue\n",
       "0  FY2015         Africa   10000000\n",
       "1  FY2015           Asia   20000000\n",
       "2  FY2015      Australia   70000000\n",
       "3  FY2015         Europe  120000000\n",
       "4  FY2015  North America  150000000"
      ]
     },
     "execution_count": 17,
     "metadata": {},
     "output_type": "execute_result"
    }
   ],
   "source": [
    "file = pd.read_excel('Airline-Comparison.xlsx', usecols='a:c, f,k')\n",
    "file.head()"
   ]
  },
  {
   "cell_type": "markdown",
   "metadata": {},
   "source": [
    "### sheet_name\n",
    "By default pandas will grab the first tab in the spreadsheet but we can also specify the name of the tab we need"
   ]
  },
  {
   "cell_type": "code",
   "execution_count": 9,
   "metadata": {},
   "outputs": [
    {
     "data": {
      "text/html": [
       "<div>\n",
       "<style scoped>\n",
       "    .dataframe tbody tr th:only-of-type {\n",
       "        vertical-align: middle;\n",
       "    }\n",
       "\n",
       "    .dataframe tbody tr th {\n",
       "        vertical-align: top;\n",
       "    }\n",
       "\n",
       "    .dataframe thead th {\n",
       "        text-align: right;\n",
       "    }\n",
       "</style>\n",
       "<table border=\"1\" class=\"dataframe\">\n",
       "  <thead>\n",
       "    <tr style=\"text-align: right;\">\n",
       "      <th></th>\n",
       "      <th>Year</th>\n",
       "      <th>Region</th>\n",
       "      <th>Revenue</th>\n",
       "    </tr>\n",
       "  </thead>\n",
       "  <tbody>\n",
       "    <tr>\n",
       "      <th>0</th>\n",
       "      <td>FY2015</td>\n",
       "      <td>Africa</td>\n",
       "      <td>15000000</td>\n",
       "    </tr>\n",
       "    <tr>\n",
       "      <th>1</th>\n",
       "      <td>FY2015</td>\n",
       "      <td>Asia</td>\n",
       "      <td>100000000</td>\n",
       "    </tr>\n",
       "    <tr>\n",
       "      <th>2</th>\n",
       "      <td>FY2015</td>\n",
       "      <td>Australia</td>\n",
       "      <td>50000000</td>\n",
       "    </tr>\n",
       "    <tr>\n",
       "      <th>3</th>\n",
       "      <td>FY2015</td>\n",
       "      <td>Europe</td>\n",
       "      <td>40000000</td>\n",
       "    </tr>\n",
       "    <tr>\n",
       "      <th>4</th>\n",
       "      <td>FY2016</td>\n",
       "      <td>Africa</td>\n",
       "      <td>10500000</td>\n",
       "    </tr>\n",
       "  </tbody>\n",
       "</table>\n",
       "</div>"
      ],
      "text/plain": [
       "     Year     Region    Revenue\n",
       "0  FY2015     Africa   15000000\n",
       "1  FY2015       Asia  100000000\n",
       "2  FY2015  Australia   50000000\n",
       "3  FY2015     Europe   40000000\n",
       "4  FY2016     Africa   10500000"
      ]
     },
     "execution_count": 9,
     "metadata": {},
     "output_type": "execute_result"
    }
   ],
   "source": [
    "file = pd.read_excel('Airline-Comparison.xlsx', sheet_name='Airline2')\n",
    "file.head()"
   ]
  },
  {
   "cell_type": "markdown",
   "metadata": {},
   "source": [
    "We can also use numbers to specify position of the tab in the file"
   ]
  },
  {
   "cell_type": "code",
   "execution_count": 10,
   "metadata": {},
   "outputs": [
    {
     "data": {
      "text/html": [
       "<div>\n",
       "<style scoped>\n",
       "    .dataframe tbody tr th:only-of-type {\n",
       "        vertical-align: middle;\n",
       "    }\n",
       "\n",
       "    .dataframe tbody tr th {\n",
       "        vertical-align: top;\n",
       "    }\n",
       "\n",
       "    .dataframe thead th {\n",
       "        text-align: right;\n",
       "    }\n",
       "</style>\n",
       "<table border=\"1\" class=\"dataframe\">\n",
       "  <thead>\n",
       "    <tr style=\"text-align: right;\">\n",
       "      <th></th>\n",
       "      <th>Year</th>\n",
       "      <th>Region</th>\n",
       "      <th>Revenue</th>\n",
       "    </tr>\n",
       "  </thead>\n",
       "  <tbody>\n",
       "    <tr>\n",
       "      <th>0</th>\n",
       "      <td>FY2015</td>\n",
       "      <td>Africa</td>\n",
       "      <td>15000000</td>\n",
       "    </tr>\n",
       "    <tr>\n",
       "      <th>1</th>\n",
       "      <td>FY2015</td>\n",
       "      <td>Asia</td>\n",
       "      <td>100000000</td>\n",
       "    </tr>\n",
       "    <tr>\n",
       "      <th>2</th>\n",
       "      <td>FY2015</td>\n",
       "      <td>Australia</td>\n",
       "      <td>50000000</td>\n",
       "    </tr>\n",
       "    <tr>\n",
       "      <th>3</th>\n",
       "      <td>FY2015</td>\n",
       "      <td>Europe</td>\n",
       "      <td>40000000</td>\n",
       "    </tr>\n",
       "    <tr>\n",
       "      <th>4</th>\n",
       "      <td>FY2016</td>\n",
       "      <td>Africa</td>\n",
       "      <td>10500000</td>\n",
       "    </tr>\n",
       "  </tbody>\n",
       "</table>\n",
       "</div>"
      ],
      "text/plain": [
       "     Year     Region    Revenue\n",
       "0  FY2015     Africa   15000000\n",
       "1  FY2015       Asia  100000000\n",
       "2  FY2015  Australia   50000000\n",
       "3  FY2015     Europe   40000000\n",
       "4  FY2016     Africa   10500000"
      ]
     },
     "execution_count": 10,
     "metadata": {},
     "output_type": "execute_result"
    }
   ],
   "source": [
    "file = pd.read_excel('Airline-Comparison.xlsx', sheet_name=1)\n",
    "file.head()"
   ]
  },
  {
   "cell_type": "markdown",
   "metadata": {},
   "source": [
    "If we need all of the tabs we can use the ***sheet_name*** parameter with the value 'None'.<br>This will generate a list, containing all the tabs in the original Excel file."
   ]
  },
  {
   "cell_type": "code",
   "execution_count": 26,
   "metadata": {},
   "outputs": [
    {
     "data": {
      "text/plain": [
       "OrderedDict([('Airline1',     Period         Region    Revenue\n",
       "              0   FY2015         Africa   10000000\n",
       "              1   FY2015           Asia   20000000\n",
       "              2   FY2015      Australia   70000000\n",
       "              3   FY2015         Europe  120000000\n",
       "              4   FY2015  North America  150000000\n",
       "              5   FY2015  South America   60000000\n",
       "              6   FY2016         Africa    8000000\n",
       "              7   FY2016           Asia   16000000\n",
       "              8   FY2016      Australia   56000000\n",
       "              9   FY2016         Europe   96000000\n",
       "              10  FY2016  North America  120000000\n",
       "              11  FY2016  South America   48000000),\n",
       "             ('Airline2',    Period     Region    Revenue\n",
       "              0  FY2015     Africa   15000000\n",
       "              1  FY2015       Asia  100000000\n",
       "              2  FY2015  Australia   50000000\n",
       "              3  FY2015     Europe   40000000\n",
       "              4  FY2016     Africa   10500000\n",
       "              5  FY2016       Asia   70000000\n",
       "              6  FY2016  Australia   35000000\n",
       "              7  FY2016     Europe   28000000),\n",
       "             ('Airline3',   Airline 3 Unnamed: 1 Unnamed: 2\n",
       "              0       NaN        NaN        NaN\n",
       "              1       NaN        NaN        NaN\n",
       "              2    Period     Region    Revenue\n",
       "              3    FY2015       Asia   20000000\n",
       "              4    FY2016     Africa   15000000\n",
       "              5    FY2016       Asia    5500000\n",
       "              6    FY2016     Africa   35000000)])"
      ]
     },
     "execution_count": 26,
     "metadata": {},
     "output_type": "execute_result"
    }
   ],
   "source": [
    "file = pd.read_excel('Airline-Comparison.xlsx', sheet_name=None)\n",
    "file"
   ]
  },
  {
   "cell_type": "markdown",
   "metadata": {},
   "source": [
    "To access each individual dataframe we can refer to specific positions inside the list"
   ]
  },
  {
   "cell_type": "code",
   "execution_count": 17,
   "metadata": {},
   "outputs": [
    {
     "data": {
      "text/html": [
       "<div>\n",
       "<style scoped>\n",
       "    .dataframe tbody tr th:only-of-type {\n",
       "        vertical-align: middle;\n",
       "    }\n",
       "\n",
       "    .dataframe tbody tr th {\n",
       "        vertical-align: top;\n",
       "    }\n",
       "\n",
       "    .dataframe thead th {\n",
       "        text-align: right;\n",
       "    }\n",
       "</style>\n",
       "<table border=\"1\" class=\"dataframe\">\n",
       "  <thead>\n",
       "    <tr style=\"text-align: right;\">\n",
       "      <th></th>\n",
       "      <th>Year</th>\n",
       "      <th>Region</th>\n",
       "      <th>Revenue</th>\n",
       "    </tr>\n",
       "  </thead>\n",
       "  <tbody>\n",
       "    <tr>\n",
       "      <th>0</th>\n",
       "      <td>FY2015</td>\n",
       "      <td>Africa</td>\n",
       "      <td>15000000</td>\n",
       "    </tr>\n",
       "    <tr>\n",
       "      <th>1</th>\n",
       "      <td>FY2015</td>\n",
       "      <td>Asia</td>\n",
       "      <td>100000000</td>\n",
       "    </tr>\n",
       "    <tr>\n",
       "      <th>2</th>\n",
       "      <td>FY2015</td>\n",
       "      <td>Australia</td>\n",
       "      <td>50000000</td>\n",
       "    </tr>\n",
       "    <tr>\n",
       "      <th>3</th>\n",
       "      <td>FY2015</td>\n",
       "      <td>Europe</td>\n",
       "      <td>40000000</td>\n",
       "    </tr>\n",
       "    <tr>\n",
       "      <th>4</th>\n",
       "      <td>FY2016</td>\n",
       "      <td>Africa</td>\n",
       "      <td>10500000</td>\n",
       "    </tr>\n",
       "    <tr>\n",
       "      <th>5</th>\n",
       "      <td>FY2016</td>\n",
       "      <td>Asia</td>\n",
       "      <td>70000000</td>\n",
       "    </tr>\n",
       "    <tr>\n",
       "      <th>6</th>\n",
       "      <td>FY2016</td>\n",
       "      <td>Australia</td>\n",
       "      <td>35000000</td>\n",
       "    </tr>\n",
       "    <tr>\n",
       "      <th>7</th>\n",
       "      <td>FY2016</td>\n",
       "      <td>Europe</td>\n",
       "      <td>28000000</td>\n",
       "    </tr>\n",
       "  </tbody>\n",
       "</table>\n",
       "</div>"
      ],
      "text/plain": [
       "     Year     Region    Revenue\n",
       "0  FY2015     Africa   15000000\n",
       "1  FY2015       Asia  100000000\n",
       "2  FY2015  Australia   50000000\n",
       "3  FY2015     Europe   40000000\n",
       "4  FY2016     Africa   10500000\n",
       "5  FY2016       Asia   70000000\n",
       "6  FY2016  Australia   35000000\n",
       "7  FY2016     Europe   28000000"
      ]
     },
     "execution_count": 17,
     "metadata": {},
     "output_type": "execute_result"
    }
   ],
   "source": [
    "file['Airline2']"
   ]
  },
  {
   "cell_type": "markdown",
   "metadata": {},
   "source": [
    "### skiprows\n",
    "The third tab of this file is not structured idealy for pandas"
   ]
  },
  {
   "cell_type": "code",
   "execution_count": 30,
   "metadata": {},
   "outputs": [
    {
     "data": {
      "text/html": [
       "<div>\n",
       "<style scoped>\n",
       "    .dataframe tbody tr th:only-of-type {\n",
       "        vertical-align: middle;\n",
       "    }\n",
       "\n",
       "    .dataframe tbody tr th {\n",
       "        vertical-align: top;\n",
       "    }\n",
       "\n",
       "    .dataframe thead th {\n",
       "        text-align: right;\n",
       "    }\n",
       "</style>\n",
       "<table border=\"1\" class=\"dataframe\">\n",
       "  <thead>\n",
       "    <tr style=\"text-align: right;\">\n",
       "      <th></th>\n",
       "      <th>Airline 3</th>\n",
       "      <th>Unnamed: 1</th>\n",
       "      <th>Unnamed: 2</th>\n",
       "    </tr>\n",
       "  </thead>\n",
       "  <tbody>\n",
       "    <tr>\n",
       "      <th>0</th>\n",
       "      <td>NaN</td>\n",
       "      <td>NaN</td>\n",
       "      <td>NaN</td>\n",
       "    </tr>\n",
       "    <tr>\n",
       "      <th>1</th>\n",
       "      <td>NaN</td>\n",
       "      <td>NaN</td>\n",
       "      <td>NaN</td>\n",
       "    </tr>\n",
       "    <tr>\n",
       "      <th>2</th>\n",
       "      <td>Period</td>\n",
       "      <td>Region</td>\n",
       "      <td>Revenue</td>\n",
       "    </tr>\n",
       "    <tr>\n",
       "      <th>3</th>\n",
       "      <td>FY2015</td>\n",
       "      <td>Asia</td>\n",
       "      <td>20000000</td>\n",
       "    </tr>\n",
       "    <tr>\n",
       "      <th>4</th>\n",
       "      <td>FY2016</td>\n",
       "      <td>Africa</td>\n",
       "      <td>15000000</td>\n",
       "    </tr>\n",
       "    <tr>\n",
       "      <th>5</th>\n",
       "      <td>FY2016</td>\n",
       "      <td>Asia</td>\n",
       "      <td>5500000</td>\n",
       "    </tr>\n",
       "    <tr>\n",
       "      <th>6</th>\n",
       "      <td>FY2016</td>\n",
       "      <td>Africa</td>\n",
       "      <td>35000000</td>\n",
       "    </tr>\n",
       "  </tbody>\n",
       "</table>\n",
       "</div>"
      ],
      "text/plain": [
       "  Airline 3 Unnamed: 1 Unnamed: 2\n",
       "0       NaN        NaN        NaN\n",
       "1       NaN        NaN        NaN\n",
       "2    Period     Region    Revenue\n",
       "3    FY2015       Asia   20000000\n",
       "4    FY2016     Africa   15000000\n",
       "5    FY2016       Asia    5500000\n",
       "6    FY2016     Africa   35000000"
      ]
     },
     "execution_count": 30,
     "metadata": {},
     "output_type": "execute_result"
    }
   ],
   "source": [
    "pd.read_excel('Airline-Comparison.xlsx', sheet_name='Airline3')"
   ]
  },
  {
   "cell_type": "markdown",
   "metadata": {},
   "source": [
    "The actual header is located in the 3rd row. We can use the ***skiprows*** parameter to get to it (3 is the number of rows we want to skip)"
   ]
  },
  {
   "cell_type": "code",
   "execution_count": 31,
   "metadata": {},
   "outputs": [
    {
     "data": {
      "text/html": [
       "<div>\n",
       "<style scoped>\n",
       "    .dataframe tbody tr th:only-of-type {\n",
       "        vertical-align: middle;\n",
       "    }\n",
       "\n",
       "    .dataframe tbody tr th {\n",
       "        vertical-align: top;\n",
       "    }\n",
       "\n",
       "    .dataframe thead th {\n",
       "        text-align: right;\n",
       "    }\n",
       "</style>\n",
       "<table border=\"1\" class=\"dataframe\">\n",
       "  <thead>\n",
       "    <tr style=\"text-align: right;\">\n",
       "      <th></th>\n",
       "      <th>Period</th>\n",
       "      <th>Region</th>\n",
       "      <th>Revenue</th>\n",
       "    </tr>\n",
       "  </thead>\n",
       "  <tbody>\n",
       "    <tr>\n",
       "      <th>0</th>\n",
       "      <td>FY2015</td>\n",
       "      <td>Asia</td>\n",
       "      <td>20000000</td>\n",
       "    </tr>\n",
       "    <tr>\n",
       "      <th>1</th>\n",
       "      <td>FY2016</td>\n",
       "      <td>Africa</td>\n",
       "      <td>15000000</td>\n",
       "    </tr>\n",
       "    <tr>\n",
       "      <th>2</th>\n",
       "      <td>FY2016</td>\n",
       "      <td>Asia</td>\n",
       "      <td>5500000</td>\n",
       "    </tr>\n",
       "    <tr>\n",
       "      <th>3</th>\n",
       "      <td>FY2016</td>\n",
       "      <td>Africa</td>\n",
       "      <td>35000000</td>\n",
       "    </tr>\n",
       "  </tbody>\n",
       "</table>\n",
       "</div>"
      ],
      "text/plain": [
       "   Period  Region   Revenue\n",
       "0  FY2015    Asia  20000000\n",
       "1  FY2016  Africa  15000000\n",
       "2  FY2016    Asia   5500000\n",
       "3  FY2016  Africa  35000000"
      ]
     },
     "execution_count": 31,
     "metadata": {},
     "output_type": "execute_result"
    }
   ],
   "source": [
    "pd.read_excel('Airline-Comparison.xlsx', sheet_name='Airline3', skiprows=3)"
   ]
  },
  {
   "cell_type": "markdown",
   "metadata": {},
   "source": [
    "### header\n",
    "Alternatly, we can use ***header*** to define the 3rd row as the header of this document"
   ]
  },
  {
   "cell_type": "code",
   "execution_count": 32,
   "metadata": {},
   "outputs": [
    {
     "data": {
      "text/html": [
       "<div>\n",
       "<style scoped>\n",
       "    .dataframe tbody tr th:only-of-type {\n",
       "        vertical-align: middle;\n",
       "    }\n",
       "\n",
       "    .dataframe tbody tr th {\n",
       "        vertical-align: top;\n",
       "    }\n",
       "\n",
       "    .dataframe thead th {\n",
       "        text-align: right;\n",
       "    }\n",
       "</style>\n",
       "<table border=\"1\" class=\"dataframe\">\n",
       "  <thead>\n",
       "    <tr style=\"text-align: right;\">\n",
       "      <th></th>\n",
       "      <th>Period</th>\n",
       "      <th>Region</th>\n",
       "      <th>Revenue</th>\n",
       "    </tr>\n",
       "  </thead>\n",
       "  <tbody>\n",
       "    <tr>\n",
       "      <th>0</th>\n",
       "      <td>FY2015</td>\n",
       "      <td>Asia</td>\n",
       "      <td>20000000</td>\n",
       "    </tr>\n",
       "    <tr>\n",
       "      <th>1</th>\n",
       "      <td>FY2016</td>\n",
       "      <td>Africa</td>\n",
       "      <td>15000000</td>\n",
       "    </tr>\n",
       "    <tr>\n",
       "      <th>2</th>\n",
       "      <td>FY2016</td>\n",
       "      <td>Asia</td>\n",
       "      <td>5500000</td>\n",
       "    </tr>\n",
       "    <tr>\n",
       "      <th>3</th>\n",
       "      <td>FY2016</td>\n",
       "      <td>Africa</td>\n",
       "      <td>35000000</td>\n",
       "    </tr>\n",
       "  </tbody>\n",
       "</table>\n",
       "</div>"
      ],
      "text/plain": [
       "   Period  Region   Revenue\n",
       "0  FY2015    Asia  20000000\n",
       "1  FY2016  Africa  15000000\n",
       "2  FY2016    Asia   5500000\n",
       "3  FY2016  Africa  35000000"
      ]
     },
     "execution_count": 32,
     "metadata": {},
     "output_type": "execute_result"
    }
   ],
   "source": [
    "pd.read_excel('Airline-Comparison.xlsx', sheet_name='Airline3', header=3)"
   ]
  },
  {
   "cell_type": "markdown",
   "metadata": {},
   "source": [
    "## Export to xlsx file\n",
    "### Export a single dataframe to a single tab\n",
    "First, let's connect the first two tabs together"
   ]
  },
  {
   "cell_type": "code",
   "execution_count": 17,
   "metadata": {},
   "outputs": [
    {
     "data": {
      "text/html": [
       "<div>\n",
       "<style scoped>\n",
       "    .dataframe tbody tr th:only-of-type {\n",
       "        vertical-align: middle;\n",
       "    }\n",
       "\n",
       "    .dataframe tbody tr th {\n",
       "        vertical-align: top;\n",
       "    }\n",
       "\n",
       "    .dataframe thead th {\n",
       "        text-align: right;\n",
       "    }\n",
       "</style>\n",
       "<table border=\"1\" class=\"dataframe\">\n",
       "  <thead>\n",
       "    <tr style=\"text-align: right;\">\n",
       "      <th></th>\n",
       "      <th></th>\n",
       "      <th>Period</th>\n",
       "      <th>Region</th>\n",
       "      <th>Revenue</th>\n",
       "    </tr>\n",
       "  </thead>\n",
       "  <tbody>\n",
       "    <tr>\n",
       "      <th rowspan=\"12\" valign=\"top\">Airline1</th>\n",
       "      <th>0</th>\n",
       "      <td>FY2015</td>\n",
       "      <td>Africa</td>\n",
       "      <td>10000000</td>\n",
       "    </tr>\n",
       "    <tr>\n",
       "      <th>1</th>\n",
       "      <td>FY2015</td>\n",
       "      <td>Asia</td>\n",
       "      <td>20000000</td>\n",
       "    </tr>\n",
       "    <tr>\n",
       "      <th>2</th>\n",
       "      <td>FY2015</td>\n",
       "      <td>Australia</td>\n",
       "      <td>70000000</td>\n",
       "    </tr>\n",
       "    <tr>\n",
       "      <th>3</th>\n",
       "      <td>FY2015</td>\n",
       "      <td>Europe</td>\n",
       "      <td>120000000</td>\n",
       "    </tr>\n",
       "    <tr>\n",
       "      <th>4</th>\n",
       "      <td>FY2015</td>\n",
       "      <td>North America</td>\n",
       "      <td>150000000</td>\n",
       "    </tr>\n",
       "    <tr>\n",
       "      <th>5</th>\n",
       "      <td>FY2015</td>\n",
       "      <td>South America</td>\n",
       "      <td>60000000</td>\n",
       "    </tr>\n",
       "    <tr>\n",
       "      <th>6</th>\n",
       "      <td>FY2016</td>\n",
       "      <td>Africa</td>\n",
       "      <td>8000000</td>\n",
       "    </tr>\n",
       "    <tr>\n",
       "      <th>7</th>\n",
       "      <td>FY2016</td>\n",
       "      <td>Asia</td>\n",
       "      <td>16000000</td>\n",
       "    </tr>\n",
       "    <tr>\n",
       "      <th>8</th>\n",
       "      <td>FY2016</td>\n",
       "      <td>Australia</td>\n",
       "      <td>56000000</td>\n",
       "    </tr>\n",
       "    <tr>\n",
       "      <th>9</th>\n",
       "      <td>FY2016</td>\n",
       "      <td>Europe</td>\n",
       "      <td>96000000</td>\n",
       "    </tr>\n",
       "    <tr>\n",
       "      <th>10</th>\n",
       "      <td>FY2016</td>\n",
       "      <td>North America</td>\n",
       "      <td>120000000</td>\n",
       "    </tr>\n",
       "    <tr>\n",
       "      <th>11</th>\n",
       "      <td>FY2016</td>\n",
       "      <td>South America</td>\n",
       "      <td>48000000</td>\n",
       "    </tr>\n",
       "    <tr>\n",
       "      <th rowspan=\"8\" valign=\"top\">Airline2</th>\n",
       "      <th>0</th>\n",
       "      <td>FY2015</td>\n",
       "      <td>Africa</td>\n",
       "      <td>15000000</td>\n",
       "    </tr>\n",
       "    <tr>\n",
       "      <th>1</th>\n",
       "      <td>FY2015</td>\n",
       "      <td>Asia</td>\n",
       "      <td>100000000</td>\n",
       "    </tr>\n",
       "    <tr>\n",
       "      <th>2</th>\n",
       "      <td>FY2015</td>\n",
       "      <td>Australia</td>\n",
       "      <td>50000000</td>\n",
       "    </tr>\n",
       "    <tr>\n",
       "      <th>3</th>\n",
       "      <td>FY2015</td>\n",
       "      <td>Europe</td>\n",
       "      <td>40000000</td>\n",
       "    </tr>\n",
       "    <tr>\n",
       "      <th>4</th>\n",
       "      <td>FY2016</td>\n",
       "      <td>Africa</td>\n",
       "      <td>10500000</td>\n",
       "    </tr>\n",
       "    <tr>\n",
       "      <th>5</th>\n",
       "      <td>FY2016</td>\n",
       "      <td>Asia</td>\n",
       "      <td>70000000</td>\n",
       "    </tr>\n",
       "    <tr>\n",
       "      <th>6</th>\n",
       "      <td>FY2016</td>\n",
       "      <td>Australia</td>\n",
       "      <td>35000000</td>\n",
       "    </tr>\n",
       "    <tr>\n",
       "      <th>7</th>\n",
       "      <td>FY2016</td>\n",
       "      <td>Europe</td>\n",
       "      <td>28000000</td>\n",
       "    </tr>\n",
       "  </tbody>\n",
       "</table>\n",
       "</div>"
      ],
      "text/plain": [
       "             Period         Region    Revenue\n",
       "Airline1 0   FY2015         Africa   10000000\n",
       "         1   FY2015           Asia   20000000\n",
       "         2   FY2015      Australia   70000000\n",
       "         3   FY2015         Europe  120000000\n",
       "         4   FY2015  North America  150000000\n",
       "         5   FY2015  South America   60000000\n",
       "         6   FY2016         Africa    8000000\n",
       "         7   FY2016           Asia   16000000\n",
       "         8   FY2016      Australia   56000000\n",
       "         9   FY2016         Europe   96000000\n",
       "         10  FY2016  North America  120000000\n",
       "         11  FY2016  South America   48000000\n",
       "Airline2 0   FY2015         Africa   15000000\n",
       "         1   FY2015           Asia  100000000\n",
       "         2   FY2015      Australia   50000000\n",
       "         3   FY2015         Europe   40000000\n",
       "         4   FY2016         Africa   10500000\n",
       "         5   FY2016           Asia   70000000\n",
       "         6   FY2016      Australia   35000000\n",
       "         7   FY2016         Europe   28000000"
      ]
     },
     "execution_count": 17,
     "metadata": {},
     "output_type": "execute_result"
    }
   ],
   "source": [
    "file = pd.read_excel('Airline-Comparison.xlsx', sheet_name=['Airline1','Airline2'])\n",
    "flights = pd.concat(file, keys = ['Airline1','Airline2'])\n",
    "flights"
   ]
  },
  {
   "cell_type": "markdown",
   "metadata": {},
   "source": [
    "We are interested in exporting only rows for 2015.<br>The easiest way to do so will be to simply use the ***to_excel*** method"
   ]
  },
  {
   "cell_type": "code",
   "execution_count": 38,
   "metadata": {},
   "outputs": [
    {
     "data": {
      "text/html": [
       "<div>\n",
       "<style scoped>\n",
       "    .dataframe tbody tr th:only-of-type {\n",
       "        vertical-align: middle;\n",
       "    }\n",
       "\n",
       "    .dataframe tbody tr th {\n",
       "        vertical-align: top;\n",
       "    }\n",
       "\n",
       "    .dataframe thead th {\n",
       "        text-align: right;\n",
       "    }\n",
       "</style>\n",
       "<table border=\"1\" class=\"dataframe\">\n",
       "  <thead>\n",
       "    <tr style=\"text-align: right;\">\n",
       "      <th></th>\n",
       "      <th></th>\n",
       "      <th>Period</th>\n",
       "      <th>Region</th>\n",
       "      <th>Revenue</th>\n",
       "    </tr>\n",
       "  </thead>\n",
       "  <tbody>\n",
       "    <tr>\n",
       "      <th rowspan=\"6\" valign=\"top\">Airline1</th>\n",
       "      <th>0</th>\n",
       "      <td>FY2015</td>\n",
       "      <td>Africa</td>\n",
       "      <td>10000000</td>\n",
       "    </tr>\n",
       "    <tr>\n",
       "      <th>1</th>\n",
       "      <td>FY2015</td>\n",
       "      <td>Asia</td>\n",
       "      <td>20000000</td>\n",
       "    </tr>\n",
       "    <tr>\n",
       "      <th>2</th>\n",
       "      <td>FY2015</td>\n",
       "      <td>Australia</td>\n",
       "      <td>70000000</td>\n",
       "    </tr>\n",
       "    <tr>\n",
       "      <th>3</th>\n",
       "      <td>FY2015</td>\n",
       "      <td>Europe</td>\n",
       "      <td>120000000</td>\n",
       "    </tr>\n",
       "    <tr>\n",
       "      <th>4</th>\n",
       "      <td>FY2015</td>\n",
       "      <td>North America</td>\n",
       "      <td>150000000</td>\n",
       "    </tr>\n",
       "    <tr>\n",
       "      <th>5</th>\n",
       "      <td>FY2015</td>\n",
       "      <td>South America</td>\n",
       "      <td>60000000</td>\n",
       "    </tr>\n",
       "    <tr>\n",
       "      <th rowspan=\"4\" valign=\"top\">Airline2</th>\n",
       "      <th>0</th>\n",
       "      <td>FY2015</td>\n",
       "      <td>Africa</td>\n",
       "      <td>15000000</td>\n",
       "    </tr>\n",
       "    <tr>\n",
       "      <th>1</th>\n",
       "      <td>FY2015</td>\n",
       "      <td>Asia</td>\n",
       "      <td>100000000</td>\n",
       "    </tr>\n",
       "    <tr>\n",
       "      <th>2</th>\n",
       "      <td>FY2015</td>\n",
       "      <td>Australia</td>\n",
       "      <td>50000000</td>\n",
       "    </tr>\n",
       "    <tr>\n",
       "      <th>3</th>\n",
       "      <td>FY2015</td>\n",
       "      <td>Europe</td>\n",
       "      <td>40000000</td>\n",
       "    </tr>\n",
       "  </tbody>\n",
       "</table>\n",
       "</div>"
      ],
      "text/plain": [
       "            Period         Region    Revenue\n",
       "Airline1 0  FY2015         Africa   10000000\n",
       "         1  FY2015           Asia   20000000\n",
       "         2  FY2015      Australia   70000000\n",
       "         3  FY2015         Europe  120000000\n",
       "         4  FY2015  North America  150000000\n",
       "         5  FY2015  South America   60000000\n",
       "Airline2 0  FY2015         Africa   15000000\n",
       "         1  FY2015           Asia  100000000\n",
       "         2  FY2015      Australia   50000000\n",
       "         3  FY2015         Europe   40000000"
      ]
     },
     "execution_count": 38,
     "metadata": {},
     "output_type": "execute_result"
    }
   ],
   "source": [
    "flights[flights['Period'] == 'FY2015'].to_excel('2015_data.xlsx')"
   ]
  },
  {
   "cell_type": "markdown",
   "metadata": {},
   "source": [
    "### Create a file with multiple tabs\n",
    "If we want to create a file with several tabs, we need to lay the foundation first (create an excel object)"
   ]
  },
  {
   "cell_type": "code",
   "execution_count": 7,
   "metadata": {},
   "outputs": [],
   "source": [
    "excel_file = pd.ExcelWriter('New_File.xlsx')"
   ]
  },
  {
   "cell_type": "markdown",
   "metadata": {},
   "source": [
    "Now we can define each individual tab, first let's create seperate dataframes for each year"
   ]
  },
  {
   "cell_type": "code",
   "execution_count": 8,
   "metadata": {},
   "outputs": [],
   "source": [
    "flights_2015 = flights[flights['Period'] == 'FY2015']\n",
    "flights_2016 = flights[flights['Period'] == 'FY2016']"
   ]
  },
  {
   "cell_type": "markdown",
   "metadata": {},
   "source": [
    "Now we can export each of them to a new tab in our soon-to-be-created file. We can ommit the index by setting the ***index*** parameter to \"False\""
   ]
  },
  {
   "cell_type": "code",
   "execution_count": 14,
   "metadata": {},
   "outputs": [],
   "source": [
    "flights_2015.to_excel(excel_file, index = False, sheet_name='2015')"
   ]
  },
  {
   "cell_type": "markdown",
   "metadata": {},
   "source": [
    "We can choose to export only some of the columns in the dataframe"
   ]
  },
  {
   "cell_type": "code",
   "execution_count": 15,
   "metadata": {},
   "outputs": [],
   "source": [
    "flights_2016.to_excel(excel_file, columns=['Region','Revenue'], sheet_name='2016')"
   ]
  },
  {
   "cell_type": "markdown",
   "metadata": {},
   "source": [
    "Finally, lat's save the excel object we created to actually export the data (the file is not created on our computer prior to this step)"
   ]
  },
  {
   "cell_type": "code",
   "execution_count": 16,
   "metadata": {},
   "outputs": [],
   "source": [
    "excel_file.save()"
   ]
  },
  {
   "cell_type": "markdown",
   "metadata": {},
   "source": [
    "### Use A Loop To Export Each Group To A Different Tab"
   ]
  },
  {
   "cell_type": "code",
   "execution_count": 28,
   "metadata": {},
   "outputs": [],
   "source": [
    "file = pd.ExcelWriter('Flights_By_Region.xlsx')"
   ]
  },
  {
   "cell_type": "code",
   "execution_count": 21,
   "metadata": {},
   "outputs": [
    {
     "data": {
      "text/plain": [
       "array(['Africa', 'Asia', 'Australia', 'Europe', 'North America',\n",
       "       'South America'], dtype=object)"
      ]
     },
     "execution_count": 21,
     "metadata": {},
     "output_type": "execute_result"
    }
   ],
   "source": [
    "regions = flights['Region'].unique()\n",
    "regions"
   ]
  },
  {
   "cell_type": "code",
   "execution_count": 29,
   "metadata": {},
   "outputs": [],
   "source": [
    "for region in regions:\n",
    "    df = flights[flights['Region'] == region]\n",
    "    df.to_excel(file, index=False, sheet_name = region)\n",
    "file.save()"
   ]
  }
 ],
 "metadata": {
  "kernelspec": {
   "display_name": "Python 3",
   "language": "python",
   "name": "python3"
  },
  "language_info": {
   "codemirror_mode": {
    "name": "ipython",
    "version": 3
   },
   "file_extension": ".py",
   "mimetype": "text/x-python",
   "name": "python",
   "nbconvert_exporter": "python",
   "pygments_lexer": "ipython3",
   "version": "3.6.5"
  }
 },
 "nbformat": 4,
 "nbformat_minor": 2
}
