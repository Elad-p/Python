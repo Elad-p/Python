{
 "cells": [
  {
   "cell_type": "markdown",
   "metadata": {},
   "source": [
    "# Amazon Reviews Analysis\n",
    "\n",
    "## Load the data"
   ]
  },
  {
   "cell_type": "code",
   "execution_count": 1,
   "metadata": {},
   "outputs": [],
   "source": [
    "import pandas as pd\n",
    "import matplotlib.pyplot as plt"
   ]
  },
  {
   "cell_type": "code",
   "execution_count": 2,
   "metadata": {},
   "outputs": [],
   "source": [
    "rev = pd.read_csv('Reviews.csv', usecols = ['Id', 'Score', 'Summary', 'Text'], index_col = 'Id')"
   ]
  },
  {
   "cell_type": "markdown",
   "metadata": {},
   "source": [
    "## Examining the data"
   ]
  },
  {
   "cell_type": "code",
   "execution_count": 3,
   "metadata": {},
   "outputs": [
    {
     "data": {
      "text/html": [
       "<div>\n",
       "<style scoped>\n",
       "    .dataframe tbody tr th:only-of-type {\n",
       "        vertical-align: middle;\n",
       "    }\n",
       "\n",
       "    .dataframe tbody tr th {\n",
       "        vertical-align: top;\n",
       "    }\n",
       "\n",
       "    .dataframe thead th {\n",
       "        text-align: right;\n",
       "    }\n",
       "</style>\n",
       "<table border=\"1\" class=\"dataframe\">\n",
       "  <thead>\n",
       "    <tr style=\"text-align: right;\">\n",
       "      <th></th>\n",
       "      <th>Score</th>\n",
       "      <th>Summary</th>\n",
       "      <th>Text</th>\n",
       "    </tr>\n",
       "    <tr>\n",
       "      <th>Id</th>\n",
       "      <th></th>\n",
       "      <th></th>\n",
       "      <th></th>\n",
       "    </tr>\n",
       "  </thead>\n",
       "  <tbody>\n",
       "    <tr>\n",
       "      <th>1</th>\n",
       "      <td>5</td>\n",
       "      <td>Good Quality Dog Food</td>\n",
       "      <td>I have bought several of the Vitality canned d...</td>\n",
       "    </tr>\n",
       "    <tr>\n",
       "      <th>2</th>\n",
       "      <td>1</td>\n",
       "      <td>Not as Advertised</td>\n",
       "      <td>Product arrived labeled as Jumbo Salted Peanut...</td>\n",
       "    </tr>\n",
       "    <tr>\n",
       "      <th>3</th>\n",
       "      <td>4</td>\n",
       "      <td>\"Delight\" says it all</td>\n",
       "      <td>This is a confection that has been around a fe...</td>\n",
       "    </tr>\n",
       "    <tr>\n",
       "      <th>4</th>\n",
       "      <td>2</td>\n",
       "      <td>Cough Medicine</td>\n",
       "      <td>If you are looking for the secret ingredient i...</td>\n",
       "    </tr>\n",
       "    <tr>\n",
       "      <th>5</th>\n",
       "      <td>5</td>\n",
       "      <td>Great taffy</td>\n",
       "      <td>Great taffy at a great price.  There was a wid...</td>\n",
       "    </tr>\n",
       "  </tbody>\n",
       "</table>\n",
       "</div>"
      ],
      "text/plain": [
       "    Score                Summary  \\\n",
       "Id                                 \n",
       "1       5  Good Quality Dog Food   \n",
       "2       1      Not as Advertised   \n",
       "3       4  \"Delight\" says it all   \n",
       "4       2         Cough Medicine   \n",
       "5       5            Great taffy   \n",
       "\n",
       "                                                 Text  \n",
       "Id                                                     \n",
       "1   I have bought several of the Vitality canned d...  \n",
       "2   Product arrived labeled as Jumbo Salted Peanut...  \n",
       "3   This is a confection that has been around a fe...  \n",
       "4   If you are looking for the secret ingredient i...  \n",
       "5   Great taffy at a great price.  There was a wid...  "
      ]
     },
     "execution_count": 3,
     "metadata": {},
     "output_type": "execute_result"
    }
   ],
   "source": [
    "rev.head()"
   ]
  },
  {
   "cell_type": "code",
   "execution_count": 3,
   "metadata": {},
   "outputs": [
    {
     "data": {
      "text/plain": [
       "(568454, 3)"
      ]
     },
     "execution_count": 3,
     "metadata": {},
     "output_type": "execute_result"
    }
   ],
   "source": [
    "rev.shape"
   ]
  },
  {
   "cell_type": "code",
   "execution_count": 9,
   "metadata": {},
   "outputs": [
    {
     "name": "stdout",
     "output_type": "stream",
     "text": [
      "<class 'pandas.core.frame.DataFrame'>\n",
      "Int64Index: 568454 entries, 1 to 568454\n",
      "Data columns (total 3 columns):\n",
      "Score      568454 non-null int64\n",
      "Summary    568427 non-null object\n",
      "Text       568454 non-null object\n",
      "dtypes: int64(1), object(2)\n",
      "memory usage: 13.0+ MB\n"
     ]
    }
   ],
   "source": [
    "rev.info()"
   ]
  },
  {
   "cell_type": "markdown",
   "metadata": {},
   "source": [
    "## Sentiment Analysis|\n",
    "### Using the Score column\n",
    "It seems that the reviews are good overall (an average of 4.18) and most of them are in the 4 or 5 mark (78%)"
   ]
  },
  {
   "cell_type": "code",
   "execution_count": 13,
   "metadata": {},
   "outputs": [
    {
     "data": {
      "text/plain": [
       "count    568454.000000\n",
       "mean          4.183199\n",
       "std           1.310436\n",
       "min           1.000000\n",
       "25%           4.000000\n",
       "50%           5.000000\n",
       "75%           5.000000\n",
       "max           5.000000\n",
       "Name: Score, dtype: float64"
      ]
     },
     "execution_count": 13,
     "metadata": {},
     "output_type": "execute_result"
    }
   ],
   "source": [
    "rev['Score'].describe()"
   ]
  },
  {
   "cell_type": "code",
   "execution_count": 16,
   "metadata": {},
   "outputs": [
    {
     "data": {
      "text/plain": [
       "5    0.638789\n",
       "4    0.141885\n",
       "1    0.091948\n",
       "3    0.075010\n",
       "2    0.052368\n",
       "Name: Score, dtype: float64"
      ]
     },
     "execution_count": 16,
     "metadata": {},
     "output_type": "execute_result"
    }
   ],
   "source": [
    "rev['Score'].value_counts(normalize = True)"
   ]
  },
  {
   "cell_type": "code",
   "execution_count": 13,
   "metadata": {},
   "outputs": [
    {
     "data": {
      "text/plain": [
       "<matplotlib.axes._subplots.AxesSubplot at 0x61dd070>"
      ]
     },
     "execution_count": 13,
     "metadata": {},
     "output_type": "execute_result"
    },
    {
     "data": {
      "image/png": "[encoded data removed]",
      "text/plain": [
       "<Figure size 576x396 with 1 Axes>"
      ]
     },
     "metadata": {},
     "output_type": "display_data"
    }
   ],
   "source": [
    "plt.style.use('seaborn')\n",
    "rev['Score'].value_counts().sort_index(ascending=False).plot.bar()"
   ]
  },
  {
   "cell_type": "markdown",
   "metadata": {},
   "source": [
    "### Using the text columns\n",
    "First let's try to improve the lists by taking a look at the 200 most common words in the text columns"
   ]
  },
  {
   "cell_type": "code",
   "execution_count": 3,
   "metadata": {},
   "outputs": [],
   "source": [
    "words = dict()\n",
    "for i in range(rev.shape[0]-1):\n",
    "    text = rev.iloc[i][['Summary', 'Text']].str.cat(sep = ' ')\n",
    "    text = ''.join('' if letter in ('.',',',':','(',')','/','<','>', '-') or letter.isdigit() else letter for letter in text)\n",
    "    for word in text.split():\n",
    "        words.setdefault(word,0)\n",
    "        words[word] += 1"
   ]
  },
  {
   "cell_type": "code",
   "execution_count": 5,
   "metadata": {},
   "outputs": [
    {
     "data": {
      "text/plain": [
       "[('the', 1672897),\n",
       " ('I', 1471699),\n",
       " ('and', 1275165),\n",
       " ('a', 1212573),\n",
       " ('to', 1018209),\n",
       " ('of', 811950),\n",
       " ('it', 762890),\n",
       " ('is', 741607),\n",
       " ('for', 564592),\n",
       " ('in', 533231),\n",
       " ('this', 525390),\n",
       " ('that', 417549),\n",
       " ('my', 378180),\n",
       " ('but', 352326),\n",
       " ('with', 350970),\n",
       " ('have', 342531),\n",
       " ('are', 321750),\n",
       " ('was', 313887),\n",
       " ('not', 309798),\n",
       " ('you', 303070),\n",
       " ('on', 267874),\n",
       " ('as', 265943),\n",
       " ('br', 264674),\n",
       " ('like', 256069),\n",
       " ('The', 234875),\n",
       " ('so', 214252),\n",
       " ('they', 207032),\n",
       " ('them', 202019),\n",
       " ('good', 199202),\n",
       " ('be', 188282),\n",
       " ('these', 180877),\n",
       " ('or', 177944),\n",
       " ('at', 175029),\n",
       " ('taste', 170115),\n",
       " ('coffee', 157612),\n",
       " ('This', 157455),\n",
       " ('just', 156965),\n",
       " ('one', 154873),\n",
       " ('very', 151947),\n",
       " ('product', 148662),\n",
       " ('It', 148606),\n",
       " ('great', 148465),\n",
       " ('from', 145565),\n",
       " ('flavor', 144979),\n",
       " ('all', 140255),\n",
       " ('can', 134680),\n",
       " ('more', 131204),\n",
       " ('has', 130469),\n",
       " ('tea', 128041),\n",
       " ('me', 125463),\n",
       " ('had', 125126),\n",
       " ('food', 123942),\n",
       " ('will', 120875),\n",
       " ('would', 119598),\n",
       " ('than', 119196),\n",
       " ('love', 118470),\n",
       " ('out', 112888),\n",
       " ('when', 111095),\n",
       " ('if', 110613),\n",
       " ('My', 109456),\n",
       " ('get', 108056),\n",
       " ('-', 105685),\n",
       " ('other', 104426),\n",
       " ('about', 101591),\n",
       " ('really', 97979),\n",
       " ('some', 97469),\n",
       " ('up', 96908),\n",
       " ('only', 95295),\n",
       " ('an', 90078),\n",
       " ('much', 90062),\n",
       " ('your', 89169),\n",
       " ('too', 87903),\n",
       " ('no', 86980),\n",
       " (\"don't\", 85603),\n",
       " ('little', 85601),\n",
       " (\"it's\", 85370),\n",
       " ('use', 81511),\n",
       " ('because', 81478),\n",
       " ('They', 80784),\n",
       " ('were', 80779),\n",
       " ('time', 79228),\n",
       " ('been', 76760),\n",
       " ('we', 76635),\n",
       " ('which', 75896),\n",
       " ('price', 75839),\n",
       " ('best', 75195),\n",
       " ('buy', 74896),\n",
       " ('tried', 74488),\n",
       " ('find', 73772),\n",
       " ('am', 73053),\n",
       " ('do', 72969),\n",
       " (\"I'm\", 72721),\n",
       " (\"I've\", 72184),\n",
       " ('Great', 71998),\n",
       " ('also', 71591),\n",
       " ('make', 70653),\n",
       " ('by', 69804),\n",
       " ('dog', 69599),\n",
       " ('better', 68740),\n",
       " ('what', 68678),\n",
       " ('Amazon', 67046),\n",
       " ('eat', 66807),\n",
       " ('even', 65711),\n",
       " ('any', 65096),\n",
       " ('try', 61155),\n",
       " ('If', 60899),\n",
       " ('well', 59444),\n",
       " ('their', 59146),\n",
       " ('there', 58560),\n",
       " ('water', 56880),\n",
       " ('These', 56704),\n",
       " (\"It's\", 56110),\n",
       " ('her', 55388),\n",
       " ('first', 55249),\n",
       " ('We', 55246),\n",
       " ('bag', 54149),\n",
       " ('after', 53527),\n",
       " ('found', 53507),\n",
       " ('used', 53279),\n",
       " ('chocolate', 52192),\n",
       " ('now', 51891),\n",
       " ('cup', 50922),\n",
       " ('she', 50734),\n",
       " ('he', 49972),\n",
       " ('drink', 49607),\n",
       " ('our', 49590),\n",
       " ('sugar', 49161),\n",
       " ('think', 48295),\n",
       " ('made', 48254),\n",
       " ('sweet', 48172),\n",
       " ('bought', 47321),\n",
       " ('way', 47314),\n",
       " ('box', 47282),\n",
       " ('then', 46978),\n",
       " ('again', 45986),\n",
       " ('two', 45433),\n",
       " ('over', 45006),\n",
       " ('could', 44322),\n",
       " ('A', 44041),\n",
       " ('favorite', 43912),\n",
       " ('who', 43829),\n",
       " ('bit', 43566),\n",
       " ('tastes', 43535),\n",
       " ('know', 42885),\n",
       " ('&', 42828),\n",
       " ('day', 42823),\n",
       " ('store', 42760),\n",
       " ('order', 42579),\n",
       " ('i', 42401),\n",
       " ('still', 42248),\n",
       " ('go', 41992),\n",
       " ('So', 41424),\n",
       " ('give', 41171),\n",
       " ('did', 40860),\n",
       " ('got', 40791),\n",
       " ('recommend', 40700),\n",
       " ('into', 40081),\n",
       " ('many', 39863),\n",
       " ('Not', 39651),\n",
       " ('nice', 39531),\n",
       " ('most', 39384),\n",
       " ('want', 39192),\n",
       " ('does', 39095),\n",
       " ('loves', 39035),\n",
       " ('dogs', 38851),\n",
       " ('But', 38736),\n",
       " ('few', 38071),\n",
       " ('something', 37445),\n",
       " ('since', 37340),\n",
       " ('before', 37008),\n",
       " ('flavors', 36962),\n",
       " ('stuff', 36843),\n",
       " ('how', 36763),\n",
       " ('without', 36639),\n",
       " ('never', 36371),\n",
       " ('cat', 36310),\n",
       " ('mix', 35833),\n",
       " ('quality', 35705),\n",
       " ('every', 35693),\n",
       " ('always', 35615),\n",
       " ('delicious', 35453),\n",
       " ('brand', 35340),\n",
       " (\"can't\", 35245),\n",
       " ('same', 35193),\n",
       " ('years', 35060),\n",
       " (\"didn't\", 35001),\n",
       " ('hot', 34935),\n",
       " ('say', 34756),\n",
       " ('Good', 34723),\n",
       " ('treats', 34644),\n",
       " ('free', 34379),\n",
       " ('snack', 34303),\n",
       " ('different', 34147),\n",
       " ('makes', 34117),\n",
       " ('lot', 34067),\n",
       " ('less', 33742),\n",
       " ('healthy', 33695),\n",
       " ('enough', 33671),\n",
       " ('$', 33240),\n",
       " ('ever', 33232)]"
      ]
     },
     "execution_count": 5,
     "metadata": {},
     "output_type": "execute_result"
    }
   ],
   "source": [
    "sorted(words.items(),reverse = True, key = lambda x: x[1])[:200]"
   ]
  },
  {
   "cell_type": "markdown",
   "metadata": {},
   "source": [
    "Based on those words we can add some keywords to our lists"
   ]
  },
  {
   "cell_type": "code",
   "execution_count": 9,
   "metadata": {},
   "outputs": [],
   "source": [
    "pos_word_list = ['good', 'excellent', 'loving', 'love', 'tasty', 'approve', 'delicious', 'delight', 'perfect', 'wow', 'like','best', 'great', 'better', 'nice', 'loves', 'healthy']\n",
    "neg_word_list = ['bad', 'horrible', 'disgusting', 'disgust', 'disappoints', 'disappointing', 'disappointment', 'worse', 'worst', 'hate',\"don't\"]"
   ]
  },
  {
   "cell_type": "markdown",
   "metadata": {},
   "source": [
    "Define a function that would find and compare the positive and negative keywords in review's text & summary"
   ]
  },
  {
   "cell_type": "code",
   "execution_count": 7,
   "metadata": {},
   "outputs": [],
   "source": [
    "def check_text(row):\n",
    "    full_text = str(row[1]) + ' ' + str(row[2])\n",
    "    words = ''.join('' if letter in ('.',',',':','(',')','/','<','>') or letter.isdigit() else letter for letter in full_text).split()\n",
    "    pos_count, neg_count = (0,0)\n",
    "    for word in words:\n",
    "        if word.lower() in pos_word_list:\n",
    "            pos_count += 1\n",
    "        elif word.lower() in neg_word_list:\n",
    "            neg_count += 1\n",
    "    return 'Positive' if pos_count - neg_count > 0 else 'Negative' if pos_count - neg_count < 0 else 'Natural'"
   ]
  },
  {
   "cell_type": "markdown",
   "metadata": {},
   "source": [
    "Apply function to entire dataframe"
   ]
  },
  {
   "cell_type": "code",
   "execution_count": 10,
   "metadata": {},
   "outputs": [],
   "source": [
    "rev['Sentiment Rank'] = rev.apply(axis = 1, func=check_text)"
   ]
  },
  {
   "cell_type": "code",
   "execution_count": 7,
   "metadata": {},
   "outputs": [
    {
     "data": {
      "text/html": [
       "<div>\n",
       "<style scoped>\n",
       "    .dataframe tbody tr th:only-of-type {\n",
       "        vertical-align: middle;\n",
       "    }\n",
       "\n",
       "    .dataframe tbody tr th {\n",
       "        vertical-align: top;\n",
       "    }\n",
       "\n",
       "    .dataframe thead th {\n",
       "        text-align: right;\n",
       "    }\n",
       "</style>\n",
       "<table border=\"1\" class=\"dataframe\">\n",
       "  <thead>\n",
       "    <tr style=\"text-align: right;\">\n",
       "      <th></th>\n",
       "      <th>Score</th>\n",
       "      <th>Summary</th>\n",
       "      <th>Text</th>\n",
       "      <th>Sentiment Rank</th>\n",
       "    </tr>\n",
       "    <tr>\n",
       "      <th>Id</th>\n",
       "      <th></th>\n",
       "      <th></th>\n",
       "      <th></th>\n",
       "      <th></th>\n",
       "    </tr>\n",
       "  </thead>\n",
       "  <tbody>\n",
       "    <tr>\n",
       "      <th>1</th>\n",
       "      <td>5</td>\n",
       "      <td>Good Quality Dog Food</td>\n",
       "      <td>I have bought several of the Vitality canned d...</td>\n",
       "      <td>Positive</td>\n",
       "    </tr>\n",
       "    <tr>\n",
       "      <th>2</th>\n",
       "      <td>1</td>\n",
       "      <td>Not as Advertised</td>\n",
       "      <td>Product arrived labeled as Jumbo Salted Peanut...</td>\n",
       "      <td>Natural</td>\n",
       "    </tr>\n",
       "    <tr>\n",
       "      <th>3</th>\n",
       "      <td>4</td>\n",
       "      <td>\"Delight\" says it all</td>\n",
       "      <td>This is a confection that has been around a fe...</td>\n",
       "      <td>Natural</td>\n",
       "    </tr>\n",
       "    <tr>\n",
       "      <th>4</th>\n",
       "      <td>2</td>\n",
       "      <td>Cough Medicine</td>\n",
       "      <td>If you are looking for the secret ingredient i...</td>\n",
       "      <td>Positive</td>\n",
       "    </tr>\n",
       "    <tr>\n",
       "      <th>5</th>\n",
       "      <td>5</td>\n",
       "      <td>Great taffy</td>\n",
       "      <td>Great taffy at a great price.  There was a wid...</td>\n",
       "      <td>Natural</td>\n",
       "    </tr>\n",
       "  </tbody>\n",
       "</table>\n",
       "</div>"
      ],
      "text/plain": [
       "    Score                Summary  \\\n",
       "Id                                 \n",
       "1       5  Good Quality Dog Food   \n",
       "2       1      Not as Advertised   \n",
       "3       4  \"Delight\" says it all   \n",
       "4       2         Cough Medicine   \n",
       "5       5            Great taffy   \n",
       "\n",
       "                                                 Text Sentiment Rank  \n",
       "Id                                                                    \n",
       "1   I have bought several of the Vitality canned d...       Positive  \n",
       "2   Product arrived labeled as Jumbo Salted Peanut...        Natural  \n",
       "3   This is a confection that has been around a fe...        Natural  \n",
       "4   If you are looking for the secret ingredient i...       Positive  \n",
       "5   Great taffy at a great price.  There was a wid...        Natural  "
      ]
     },
     "execution_count": 7,
     "metadata": {},
     "output_type": "execute_result"
    }
   ],
   "source": [
    "rev.head()"
   ]
  },
  {
   "cell_type": "markdown",
   "metadata": {},
   "source": [
    "Inspect the ratio by our new `Sentiment Rank` column"
   ]
  },
  {
   "cell_type": "code",
   "execution_count": 11,
   "metadata": {},
   "outputs": [
    {
     "data": {
      "text/plain": [
       "Positive    0.813645\n",
       "Natural     0.150378\n",
       "Negative    0.035977\n",
       "Name: Sentiment Rank, dtype: float64"
      ]
     },
     "execution_count": 11,
     "metadata": {},
     "output_type": "execute_result"
    }
   ],
   "source": [
    "rev['Sentiment Rank'].value_counts(normalize = True)"
   ]
  },
  {
   "cell_type": "code",
   "execution_count": 14,
   "metadata": {},
   "outputs": [
    {
     "data": {
      "text/plain": [
       "<matplotlib.axes._subplots.AxesSubplot at 0x6224070>"
      ]
     },
     "execution_count": 14,
     "metadata": {},
     "output_type": "execute_result"
    },
    {
     "data": {
      "image/png": "[encoded data removed]",
      "text/plain": [
       "<Figure size 576x396 with 1 Axes>"
      ]
     },
     "metadata": {},
     "output_type": "display_data"
    }
   ],
   "source": [
    "rev['Sentiment Rank'].value_counts(normalize = True).plot.bar()"
   ]
  },
  {
   "cell_type": "markdown",
   "metadata": {},
   "source": [
    "If we refer to the `score` column as a measure of positive or negative sentiment, clearly the keyword lists are not comprehensive enough and probably should be refined and expanded even more"
   ]
  },
  {
   "cell_type": "code",
   "execution_count": 15,
   "metadata": {},
   "outputs": [
    {
     "data": {
      "text/html": [
       "<div>\n",
       "<style scoped>\n",
       "    .dataframe tbody tr th:only-of-type {\n",
       "        vertical-align: middle;\n",
       "    }\n",
       "\n",
       "    .dataframe tbody tr th {\n",
       "        vertical-align: top;\n",
       "    }\n",
       "\n",
       "    .dataframe thead th {\n",
       "        text-align: right;\n",
       "    }\n",
       "</style>\n",
       "<table border=\"1\" class=\"dataframe\">\n",
       "  <thead>\n",
       "    <tr style=\"text-align: right;\">\n",
       "      <th>Score</th>\n",
       "      <th>1</th>\n",
       "      <th>2</th>\n",
       "      <th>3</th>\n",
       "      <th>4</th>\n",
       "      <th>5</th>\n",
       "    </tr>\n",
       "    <tr>\n",
       "      <th>Sentiment Rank</th>\n",
       "      <th></th>\n",
       "      <th></th>\n",
       "      <th></th>\n",
       "      <th></th>\n",
       "      <th></th>\n",
       "    </tr>\n",
       "  </thead>\n",
       "  <tbody>\n",
       "    <tr>\n",
       "      <th>Natural</th>\n",
       "      <td>19071</td>\n",
       "      <td>8109</td>\n",
       "      <td>9066</td>\n",
       "      <td>9233</td>\n",
       "      <td>40004</td>\n",
       "    </tr>\n",
       "    <tr>\n",
       "      <th>Negative</th>\n",
       "      <td>8906</td>\n",
       "      <td>2593</td>\n",
       "      <td>2354</td>\n",
       "      <td>1805</td>\n",
       "      <td>4793</td>\n",
       "    </tr>\n",
       "    <tr>\n",
       "      <th>Positive</th>\n",
       "      <td>24291</td>\n",
       "      <td>19067</td>\n",
       "      <td>31220</td>\n",
       "      <td>69617</td>\n",
       "      <td>318325</td>\n",
       "    </tr>\n",
       "  </tbody>\n",
       "</table>\n",
       "</div>"
      ],
      "text/plain": [
       "Score               1      2      3      4       5\n",
       "Sentiment Rank                                    \n",
       "Natural         19071   8109   9066   9233   40004\n",
       "Negative         8906   2593   2354   1805    4793\n",
       "Positive        24291  19067  31220  69617  318325"
      ]
     },
     "execution_count": 15,
     "metadata": {},
     "output_type": "execute_result"
    }
   ],
   "source": [
    "rev.pivot_table(index = 'Sentiment Rank', columns = 'Score', aggfunc='size')"
   ]
  },
  {
   "cell_type": "code",
   "execution_count": 16,
   "metadata": {},
   "outputs": [
    {
     "data": {
      "text/plain": [
       "<matplotlib.axes._subplots.AxesSubplot at 0x13315e90>"
      ]
     },
     "execution_count": 16,
     "metadata": {},
     "output_type": "execute_result"
    },
    {
     "data": {
      "image/png": "[encoded data removed]",
      "text/plain": [
       "<Figure size 576x396 with 1 Axes>"
      ]
     },
     "metadata": {},
     "output_type": "display_data"
    }
   ],
   "source": [
    "rev.pivot_table(index = 'Sentiment Rank', columns = 'Score', aggfunc='size').plot.bar()"
   ]
  }
 ],
 "metadata": {
  "kernelspec": {
   "display_name": "Python 3",
   "language": "python",
   "name": "python3"
  },
  "language_info": {
   "codemirror_mode": {
    "name": "ipython",
    "version": 3
   },
   "file_extension": ".py",
   "mimetype": "text/x-python",
   "name": "python",
   "nbconvert_exporter": "python",
   "pygments_lexer": "ipython3",
   "version": "3.7.3"
  }
 },
 "nbformat": 4,
 "nbformat_minor": 2
}
