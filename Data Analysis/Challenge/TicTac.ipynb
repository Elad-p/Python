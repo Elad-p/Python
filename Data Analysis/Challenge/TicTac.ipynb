{
 "cells": [
  {
   "cell_type": "markdown",
   "id": "2fa6e782",
   "metadata": {},
   "source": [
    "# Tic Tac Toe\n",
    "## Defining main routines"
   ]
  },
  {
   "cell_type": "code",
   "execution_count": 75,
   "id": "c8a09186",
   "metadata": {},
   "outputs": [],
   "source": [
    "from random import randint\n",
    "\n",
    "def draw_board(board):\n",
    "    print('   |   |   ')\n",
    "    print(f' {board[1]} | {board[2]} | {board[3]} ')\n",
    "    print('   |   |   ')\n",
    "    print('-----------')\n",
    "    print('   |   |   ')\n",
    "    print(f' {board[4]} | {board[5]} | {board[6]} ')\n",
    "    print('   |   |   ')\n",
    "    print('-----------')\n",
    "    print('   |   |   ')\n",
    "    print(f' {board[7]} | {board[8]} | {board[9]} ')\n",
    "    print('   |   |   ')\n",
    "\n",
    "def choose_player():\n",
    "    return 'X' if randint(0,1) == 0 else 'O'\n",
    "\n",
    "def play_turn(board, player, pos):\n",
    "    board[pos] = player\n",
    "\n",
    "def is_blank(board, pos):\n",
    "    return board[pos] == ' '\n",
    "\n",
    "def is_full(board):\n",
    "    return ' ' not in board[1:]\n",
    "\n",
    "def is_win(board, player):\n",
    "    return board[1] + board[2] + board[3] == player * 3 or \\\n",
    "        board[4] + board[5] + board[6] == player * 3 or \\\n",
    "        board[7] + board[8] + board[9] == player * 3 or \\\n",
    "        board[1] + board[4] + board[7] == player * 3 or \\\n",
    "        board[2] + board[5] + board[8] == player * 3 or \\\n",
    "        board[3] + board[6] + board[9] == player * 3 or \\\n",
    "        board[1] + board[5] + board[9] == player * 3 or \\\n",
    "        board[3] + board[5] + board[7] == player * 3\n",
    "\n",
    "def get_pos():\n",
    "    pos = ''\n",
    "    while pos not in '1 2 3 4 5 6 7 8 9'.split():\n",
    "        pos = input('Please choose a postion play (1-9)')\n",
    "    return int(pos)\n",
    "\n",
    "def replay():\n",
    "    answer = input('Do you want to play again? Y\\\\N\\n')\n",
    "    return (answer.upper().startswith('Y'))"
   ]
  },
  {
   "cell_type": "markdown",
   "id": "27010a65",
   "metadata": {},
   "source": [
    "# Main Program"
   ]
  },
  {
   "cell_type": "code",
   "execution_count": null,
   "id": "7051788c",
   "metadata": {},
   "outputs": [],
   "source": [
    "print('Welcome to TicTacToe Delux!')\n",
    "\n",
    "while True:\n",
    "    board = [' '] * 10\n",
    "    player = choose_player()\n",
    "    print(f'Player {player} will go first!')\n",
    "    \n",
    "    game = True\n",
    "    draw_board(board)\n",
    "    while game:\n",
    "        while True:\n",
    "            pos = get_pos()\n",
    "            if is_blank(board, pos):\n",
    "                play_turn(board, player, pos)\n",
    "                break\n",
    "            else:\n",
    "                print('Position already taken\\n\\n')\n",
    "        draw_board(board)\n",
    "        if is_win(board, player):\n",
    "            print(player, 'wins the game!!')\n",
    "            game = False\n",
    "        elif is_full(board):\n",
    "            print('Game gas ended with tie...')\n",
    "            game = False\n",
    "        else:\n",
    "            player = 'X' if player == 'O' else 'O'\n",
    "            \n",
    "    if not replay():\n",
    "        break"
   ]
  }
 ],
 "metadata": {
  "kernelspec": {
   "display_name": "Python 3 (ipykernel)",
   "language": "python",
   "name": "python3"
  },
  "language_info": {
   "codemirror_mode": {
    "name": "ipython",
    "version": 3
   },
   "file_extension": ".py",
   "mimetype": "text/x-python",
   "name": "python",
   "nbconvert_exporter": "python",
   "pygments_lexer": "ipython3",
   "version": "3.9.0"
  }
 },
 "nbformat": 4,
 "nbformat_minor": 5
}
