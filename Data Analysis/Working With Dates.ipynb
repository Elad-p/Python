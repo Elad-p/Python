{
 "cells": [
  {
   "cell_type": "markdown",
   "metadata": {},
   "source": [
    "# Working With Dates in Pandas"
   ]
  },
  {
   "cell_type": "code",
   "execution_count": 1,
   "metadata": {},
   "outputs": [],
   "source": [
    "import pandas as pd"
   ]
  },
  {
   "cell_type": "markdown",
   "metadata": {},
   "source": [
    "## Find current time\n",
    "Finding the current time can be very useful when we want to calculate the age of something (how long has passed since then untill current time) or create dynamic, time based filters (show all sales that occured in the last 30 days)"
   ]
  },
  {
   "cell_type": "code",
   "execution_count": 6,
   "metadata": {},
   "outputs": [
    {
     "name": "stdout",
     "output_type": "stream",
     "text": [
      "2021-05-29 15:00:32.828219\n"
     ]
    }
   ],
   "source": [
    "print(pd.datetime.today())"
   ]
  },
  {
   "cell_type": "markdown",
   "metadata": {},
   "source": [
    "We can make it more presentable by converting the datetime object into a string"
   ]
  },
  {
   "cell_type": "code",
   "execution_count": 5,
   "metadata": {},
   "outputs": [
    {
     "name": "stdout",
     "output_type": "stream",
     "text": [
      "2021-05-29 15:00:28.421210\n"
     ]
    }
   ],
   "source": [
    "print(pd.datetime.today())"
   ]
  },
  {
   "cell_type": "markdown",
   "metadata": {},
   "source": [
    "### Pandas Timestamp\n",
    "**Timestamp** is the Pandas standart datetime object.<br>Pandas is extremely flexible and can convert plenty of formats from a string to a Timestamp using the `to_datetime` method"
   ]
  },
  {
   "cell_type": "code",
   "execution_count": 9,
   "metadata": {},
   "outputs": [
    {
     "data": {
      "text/plain": [
       "Timestamp('2019-05-07 00:00:00')"
      ]
     },
     "execution_count": 9,
     "metadata": {},
     "output_type": "execute_result"
    }
   ],
   "source": [
    "pd.to_datetime('2019 - 05 - 07')"
   ]
  },
  {
   "cell_type": "code",
   "execution_count": 10,
   "metadata": {},
   "outputs": [
    {
     "data": {
      "text/plain": [
       "Timestamp('2018-10-19 00:00:00')"
      ]
     },
     "execution_count": 10,
     "metadata": {},
     "output_type": "execute_result"
    }
   ],
   "source": [
    "pd.to_datetime('2018 / 10 / 19')"
   ]
  },
  {
   "cell_type": "code",
   "execution_count": 11,
   "metadata": {},
   "outputs": [
    {
     "data": {
      "text/plain": [
       "Timestamp('2019-04-03 00:00:00')"
      ]
     },
     "execution_count": 11,
     "metadata": {},
     "output_type": "execute_result"
    }
   ],
   "source": [
    "pd.to_datetime('2019, 4, 3')"
   ]
  },
  {
   "cell_type": "code",
   "execution_count": 12,
   "metadata": {},
   "outputs": [
    {
     "data": {
      "text/plain": [
       "Timestamp('2015-09-14 00:00:00')"
      ]
     },
     "execution_count": 12,
     "metadata": {},
     "output_type": "execute_result"
    }
   ],
   "source": [
    "pd.to_datetime('09-14-2015')"
   ]
  },
  {
   "cell_type": "markdown",
   "metadata": {},
   "source": [
    "We can even flip the date. As long as the 'day' value is bigger then 12 Pandas will understand what we mean"
   ]
  },
  {
   "cell_type": "code",
   "execution_count": 13,
   "metadata": {},
   "outputs": [
    {
     "data": {
      "text/plain": [
       "Timestamp('2015-09-14 00:00:00')"
      ]
     },
     "execution_count": 13,
     "metadata": {},
     "output_type": "execute_result"
    }
   ],
   "source": [
    "pd.to_datetime('14-09-2015')"
   ]
  },
  {
   "cell_type": "markdown",
   "metadata": {},
   "source": [
    "If the day value is smaller then 12 and we use this format, Pandas will default to the 'American' format (MM-DD-YYYY)"
   ]
  },
  {
   "cell_type": "code",
   "execution_count": 14,
   "metadata": {},
   "outputs": [
    {
     "data": {
      "text/plain": [
       "Timestamp('2015-08-09 00:00:00')"
      ]
     },
     "execution_count": 14,
     "metadata": {},
     "output_type": "execute_result"
    }
   ],
   "source": [
    "pd.to_datetime('08-09-2015')"
   ]
  },
  {
   "cell_type": "markdown",
   "metadata": {},
   "source": [
    "We can even use month names"
   ]
  },
  {
   "cell_type": "code",
   "execution_count": 15,
   "metadata": {},
   "outputs": [
    {
     "data": {
      "text/plain": [
       "Timestamp('2017-03-23 00:00:00')"
      ]
     },
     "execution_count": 15,
     "metadata": {},
     "output_type": "execute_result"
    }
   ],
   "source": [
    "pd.to_datetime('23 March 2017')"
   ]
  },
  {
   "cell_type": "markdown",
   "metadata": {},
   "source": [
    "And month abbriviations as well..."
   ]
  },
  {
   "cell_type": "code",
   "execution_count": 16,
   "metadata": {},
   "outputs": [
    {
     "data": {
      "text/plain": [
       "Timestamp('2010-06-15 00:00:00')"
      ]
     },
     "execution_count": 16,
     "metadata": {},
     "output_type": "execute_result"
    }
   ],
   "source": [
    "pd.to_datetime('jun 15, 2010')"
   ]
  },
  {
   "cell_type": "code",
   "execution_count": 17,
   "metadata": {},
   "outputs": [
    {
     "data": {
      "text/plain": [
       "Timestamp('2017-04-23 00:00:00')"
      ]
     },
     "execution_count": 17,
     "metadata": {},
     "output_type": "execute_result"
    }
   ],
   "source": [
    "pd.to_datetime('apr 23rd 2017')"
   ]
  },
  {
   "cell_type": "markdown",
   "metadata": {},
   "source": [
    "The same goes for time parsing"
   ]
  },
  {
   "cell_type": "code",
   "execution_count": 18,
   "metadata": {},
   "outputs": [
    {
     "data": {
      "text/plain": [
       "Timestamp('2000-12-07 10:05:30')"
      ]
     },
     "execution_count": 18,
     "metadata": {},
     "output_type": "execute_result"
    }
   ],
   "source": [
    "pd.to_datetime('2000-12-07, 10:5:30')"
   ]
  },
  {
   "cell_type": "code",
   "execution_count": 19,
   "metadata": {},
   "outputs": [
    {
     "data": {
      "text/plain": [
       "Timestamp('2000-12-07 22:05:30')"
      ]
     },
     "execution_count": 19,
     "metadata": {},
     "output_type": "execute_result"
    }
   ],
   "source": [
    "pd.to_datetime('2000-12-07, 10:5:30 PM')"
   ]
  },
  {
   "cell_type": "markdown",
   "metadata": {},
   "source": [
    "### Timestamp Attributes"
   ]
  },
  {
   "cell_type": "code",
   "execution_count": 20,
   "metadata": {},
   "outputs": [
    {
     "data": {
      "text/plain": [
       "Timestamp('2000-07-04 00:00:00')"
      ]
     },
     "execution_count": 20,
     "metadata": {},
     "output_type": "execute_result"
    }
   ],
   "source": [
    "Independence = pd.to_datetime('4th of July, 2000')\n",
    "Independence"
   ]
  },
  {
   "cell_type": "markdown",
   "metadata": {},
   "source": [
    "We can call various methods and attributes to extract different elemnts from our date object"
   ]
  },
  {
   "cell_type": "code",
   "execution_count": 22,
   "metadata": {},
   "outputs": [
    {
     "name": "stdout",
     "output_type": "stream",
     "text": [
      "4\n",
      "27\n",
      "1\n",
      "Tuesday\n",
      "7\n",
      "July\n",
      "31\n",
      "3\n",
      "2000\n",
      "2000-07-04\n"
     ]
    }
   ],
   "source": [
    "print(Independence.day)\n",
    "print(Independence.week)\n",
    "print(Independence.weekday())\n",
    "print(Independence.day_name())\n",
    "print(Independence.month)\n",
    "print(Independence.month_name())\n",
    "print(Independence.days_in_month)\n",
    "print(Independence.quarter)\n",
    "print(Independence.year)\n",
    "print(Independence.date())"
   ]
  },
  {
   "cell_type": "markdown",
   "metadata": {},
   "source": [
    "We can also perform some boolean checks"
   ]
  },
  {
   "cell_type": "code",
   "execution_count": 25,
   "metadata": {},
   "outputs": [
    {
     "name": "stdout",
     "output_type": "stream",
     "text": [
      "True\n",
      "False\n",
      "False\n",
      "False\n",
      "False\n",
      "False\n",
      "False\n"
     ]
    }
   ],
   "source": [
    "print(Independence.is_leap_year)\n",
    "print(Independence.is_month_start)\n",
    "print(Independence.is_month_end)\n",
    "print(Independence.is_quarter_start)\n",
    "print(Independence.is_quarter_end)\n",
    "print(Independence.is_year_start)\n",
    "print(Independence.is_year_end)"
   ]
  },
  {
   "cell_type": "markdown",
   "metadata": {},
   "source": [
    "### strftime()\n",
    "We can use the ***strftime*** method to convert the dates back to strings to display them in any format we want.<br>More information at: https://docs.python.org/3/library/datetime.html#strftime-and-strptime-behavior"
   ]
  },
  {
   "cell_type": "code",
   "execution_count": 26,
   "metadata": {},
   "outputs": [
    {
     "data": {
      "text/plain": [
       "'Tuesday, 04/July/2000'"
      ]
     },
     "execution_count": 26,
     "metadata": {},
     "output_type": "execute_result"
    }
   ],
   "source": [
    "Independence.strftime('%A, %d/%B/%Y')"
   ]
  },
  {
   "cell_type": "markdown",
   "metadata": {},
   "source": [
    "## DatetimeIndex\n",
    "By running the `to_datetime` method on a collection of dates we can generate a DateTimeIndex object"
   ]
  },
  {
   "cell_type": "code",
   "execution_count": 21,
   "metadata": {},
   "outputs": [],
   "source": [
    "dates = ['01/01/2000', '2000-06-15', '2000-DEC-24']"
   ]
  },
  {
   "cell_type": "markdown",
   "metadata": {},
   "source": [
    "Instead of doing this"
   ]
  },
  {
   "cell_type": "code",
   "execution_count": 22,
   "metadata": {},
   "outputs": [
    {
     "data": {
      "text/plain": [
       "0   2000-01-01\n",
       "1   2000-06-15\n",
       "2   2000-12-24\n",
       "dtype: datetime64[ns]"
      ]
     },
     "execution_count": 22,
     "metadata": {},
     "output_type": "execute_result"
    }
   ],
   "source": [
    "pandas_dates = []\n",
    "for date in dates:\n",
    "    pandas_dates.append(pd.to_datetime(date))\n",
    "\n",
    "pd.Series(pandas_dates)"
   ]
  },
  {
   "cell_type": "markdown",
   "metadata": {},
   "source": [
    "We can use the `to_datetime` method "
   ]
  },
  {
   "cell_type": "code",
   "execution_count": 27,
   "metadata": {},
   "outputs": [
    {
     "data": {
      "text/plain": [
       "DatetimeIndex(['2000-01-01', '2000-06-15', '2000-12-24'], dtype='datetime64[ns]', freq=None)"
      ]
     },
     "execution_count": 27,
     "metadata": {},
     "output_type": "execute_result"
    }
   ],
   "source": [
    "pd.to_datetime(dates)"
   ]
  },
  {
   "cell_type": "markdown",
   "metadata": {},
   "source": [
    "### format\n",
    "If we are converting a large collection of dates (for example a file with millions of records) we can specify a `format` to speed up the conversion proccess"
   ]
  },
  {
   "cell_type": "code",
   "execution_count": 4,
   "metadata": {},
   "outputs": [
    {
     "data": {
      "text/plain": [
       "DatetimeIndex(['2015-12-20', '2018-06-15', '2020-09-22'], dtype='datetime64[ns]', freq=None)"
      ]
     },
     "execution_count": 4,
     "metadata": {},
     "output_type": "execute_result"
    }
   ],
   "source": [
    "dates = ['20/12/15', '15/06/18', '22/09/20']\n",
    "pd.to_datetime(dates, format = '%d/%m/%y')"
   ]
  },
  {
   "cell_type": "markdown",
   "metadata": {},
   "source": [
    "We will usually use it as an index of a Series or Dataframe"
   ]
  },
  {
   "cell_type": "code",
   "execution_count": 5,
   "metadata": {},
   "outputs": [],
   "source": [
    "values = [100, 200, 300]\n",
    "date_index = pd.to_datetime(dates)"
   ]
  },
  {
   "cell_type": "code",
   "execution_count": 6,
   "metadata": {},
   "outputs": [
    {
     "data": {
      "text/plain": [
       "2015-12-20    100\n",
       "2018-06-15    200\n",
       "2020-09-22    300\n",
       "dtype: int64"
      ]
     },
     "execution_count": 6,
     "metadata": {},
     "output_type": "execute_result"
    }
   ],
   "source": [
    "pd.Series(data = values, index = date_index)"
   ]
  },
  {
   "cell_type": "markdown",
   "metadata": {},
   "source": [
    "The `to_datetime` method can be used to convert entire columns inside a datafarame to datetime objects. <br>\n",
    "Ideal for converting columns inside a Dataframe to datetime type"
   ]
  },
  {
   "cell_type": "code",
   "execution_count": 9,
   "metadata": {},
   "outputs": [
    {
     "data": {
      "text/plain": [
       "DatetimeIndex(['2000-01-01', '2000-06-15', '2000-12-24'], dtype='datetime64[ns]', freq=None)"
      ]
     },
     "execution_count": 9,
     "metadata": {},
     "output_type": "execute_result"
    }
   ],
   "source": [
    "dates = ['01/01/2000', '2000-06-15', '2000-DEC-24']\n",
    "pd.to_datetime(dates)"
   ]
  },
  {
   "cell_type": "code",
   "execution_count": 8,
   "metadata": {},
   "outputs": [
    {
     "data": {
      "text/plain": [
       "0    01/01/2000\n",
       "1          2000\n",
       "2           abc\n",
       "3          True\n",
       "dtype: object"
      ]
     },
     "execution_count": 8,
     "metadata": {},
     "output_type": "execute_result"
    }
   ],
   "source": [
    "values = ['01/01/2000', '2000', 'abc', True]\n",
    "ser = pd.Series(values)\n",
    "ser"
   ]
  },
  {
   "cell_type": "markdown",
   "metadata": {},
   "source": [
    "### coerce\n",
    "Trying to use ***to_datetime*** on a sequence that contains invalid values usually returns an error.<br>We can overcome this by setting the ***errors*** parameter to 'coerce'.<br>\n",
    "The result will be Nat values which stands for \"Not a Time\". That is the equivelent to the NaN values we saw in numeric and text columns"
   ]
  },
  {
   "cell_type": "code",
   "execution_count": 87,
   "metadata": {},
   "outputs": [
    {
     "data": {
      "text/plain": [
       "0   2000-01-01\n",
       "1   2000-01-01\n",
       "2          NaT\n",
       "3          NaT\n",
       "dtype: datetime64[ns]"
      ]
     },
     "execution_count": 87,
     "metadata": {},
     "output_type": "execute_result"
    }
   ],
   "source": [
    "pd.to_datetime(ser, errors = 'coerce')"
   ]
  },
  {
   "cell_type": "markdown",
   "metadata": {},
   "source": [
    "Converting numbers to dates in the \"Unix\" format (number of seconds since January 1st, 1970)"
   ]
  },
  {
   "cell_type": "code",
   "execution_count": 74,
   "metadata": {},
   "outputs": [
    {
     "data": {
      "text/plain": [
       "DatetimeIndex(['2017-07-14 02:40:00', '2017-11-06 20:26:40',\n",
       "               '2018-03-02 14:13:20', '2018-06-26 08:00:00',\n",
       "               '2018-10-20 01:46:40', '2019-02-12 19:33:20'],\n",
       "              dtype='datetime64[ns]', freq=None)"
      ]
     },
     "execution_count": 74,
     "metadata": {},
     "output_type": "execute_result"
    }
   ],
   "source": [
    "pd.to_datetime([1500000000,1510000000,1520000000,1530000000,1540000000, 1550000000], unit='s')"
   ]
  },
  {
   "cell_type": "markdown",
   "metadata": {},
   "source": [
    "## DateOffset\n",
    "The ***DateOffset*** allows us to define time periods. Let's look at our currently defined Timestamp"
   ]
  },
  {
   "cell_type": "code",
   "execution_count": 27,
   "metadata": {},
   "outputs": [
    {
     "data": {
      "text/plain": [
       "Timestamp('2000-07-04 00:00:00')"
      ]
     },
     "execution_count": 27,
     "metadata": {},
     "output_type": "execute_result"
    }
   ],
   "source": [
    "Independence"
   ]
  },
  {
   "cell_type": "markdown",
   "metadata": {},
   "source": [
    "Trying to add or substract numbers from it will result in an error.<br>Instead, we can use the ***DateOffset*** to define a certain period of time and use it in our calculation.<br>\n",
    "The default is 1 day"
   ]
  },
  {
   "cell_type": "code",
   "execution_count": 31,
   "metadata": {},
   "outputs": [
    {
     "data": {
      "text/plain": [
       "Timestamp('2000-07-05 00:00:00')"
      ]
     },
     "execution_count": 31,
     "metadata": {},
     "output_type": "execute_result"
    }
   ],
   "source": [
    "# Independence + 1 Error\n",
    "Independence + pd.DateOffset()"
   ]
  },
  {
   "cell_type": "code",
   "execution_count": 32,
   "metadata": {},
   "outputs": [
    {
     "data": {
      "text/plain": [
       "Timestamp('2000-07-14 00:00:00')"
      ]
     },
     "execution_count": 32,
     "metadata": {},
     "output_type": "execute_result"
    }
   ],
   "source": [
    "Independence + pd.DateOffset(days = 10)"
   ]
  },
  {
   "cell_type": "code",
   "execution_count": 33,
   "metadata": {},
   "outputs": [
    {
     "data": {
      "text/plain": [
       "Timestamp('2000-07-18 00:00:00')"
      ]
     },
     "execution_count": 33,
     "metadata": {},
     "output_type": "execute_result"
    }
   ],
   "source": [
    "Independence + pd.DateOffset(weeks = 2)"
   ]
  },
  {
   "cell_type": "markdown",
   "metadata": {},
   "source": [
    "Months, quarters and even years can have different amount of days so defining them in this way can be very helpful"
   ]
  },
  {
   "cell_type": "code",
   "execution_count": 34,
   "metadata": {},
   "outputs": [
    {
     "data": {
      "text/plain": [
       "Timestamp('2000-10-04 00:00:00')"
      ]
     },
     "execution_count": 34,
     "metadata": {},
     "output_type": "execute_result"
    }
   ],
   "source": [
    "Independence + pd.DateOffset(months = 3)"
   ]
  },
  {
   "cell_type": "code",
   "execution_count": 40,
   "metadata": {},
   "outputs": [
    {
     "data": {
      "text/plain": [
       "Timestamp('2002-07-04 00:00:00')"
      ]
     },
     "execution_count": 40,
     "metadata": {},
     "output_type": "execute_result"
    }
   ],
   "source": [
    "Independence + pd.DateOffset(years = 2)"
   ]
  },
  {
   "cell_type": "markdown",
   "metadata": {},
   "source": [
    "We can give a negative argument to substract the period"
   ]
  },
  {
   "cell_type": "code",
   "execution_count": 41,
   "metadata": {},
   "outputs": [
    {
     "data": {
      "text/plain": [
       "Timestamp('1998-07-04 00:00:00')"
      ]
     },
     "execution_count": 41,
     "metadata": {},
     "output_type": "execute_result"
    }
   ],
   "source": [
    "Independence + pd.DateOffset(years = -2)"
   ]
  },
  {
   "cell_type": "markdown",
   "metadata": {},
   "source": [
    "We don't have to settle for a single element, we can pass as many as we want amd in any order we want.<br>The following example will add 2 years, 4 months, 1 week, 5 days, 8 hours and 15 minutes."
   ]
  },
  {
   "cell_type": "code",
   "execution_count": 42,
   "metadata": {},
   "outputs": [
    {
     "data": {
      "text/plain": [
       "Timestamp('2002-11-16 08:15:00')"
      ]
     },
     "execution_count": 42,
     "metadata": {},
     "output_type": "execute_result"
    }
   ],
   "source": [
    "Independence + pd.DateOffset(minutes = 15, months = 4, years = 2, hours = 8, weeks = 1, days = 5)"
   ]
  },
  {
   "cell_type": "markdown",
   "metadata": {},
   "source": [
    "## Generating Datetime Ranges\n",
    "We can use the ***date_range*** method to generate custom sequences of timestamps.<br>The simplest way is to define a start date and an end date"
   ]
  },
  {
   "cell_type": "code",
   "execution_count": 88,
   "metadata": {},
   "outputs": [
    {
     "data": {
      "text/plain": [
       "DatetimeIndex(['2000-01-01', '2000-01-02', '2000-01-03', '2000-01-04',\n",
       "               '2000-01-05', '2000-01-06', '2000-01-07', '2000-01-08',\n",
       "               '2000-01-09', '2000-01-10', '2000-01-11', '2000-01-12',\n",
       "               '2000-01-13', '2000-01-14', '2000-01-15', '2000-01-16',\n",
       "               '2000-01-17', '2000-01-18', '2000-01-19', '2000-01-20'],\n",
       "              dtype='datetime64[ns]', freq='D')"
      ]
     },
     "execution_count": 88,
     "metadata": {},
     "output_type": "execute_result"
    }
   ],
   "source": [
    "pd.date_range('Jan 1st, 2000', 'Jan 20th, 2000')"
   ]
  },
  {
   "cell_type": "markdown",
   "metadata": {},
   "source": [
    "The default gap between the values is 1 day but we can change that using the ***freq*** (frequency) parameter.<br>For example, 3 days"
   ]
  },
  {
   "cell_type": "code",
   "execution_count": 91,
   "metadata": {},
   "outputs": [
    {
     "data": {
      "text/plain": [
       "DatetimeIndex(['2000-01-01', '2000-01-04', '2000-01-07', '2000-01-10',\n",
       "               '2000-01-13', '2000-01-16', '2000-01-19'],\n",
       "              dtype='datetime64[ns]', freq='3D')"
      ]
     },
     "execution_count": 91,
     "metadata": {},
     "output_type": "execute_result"
    }
   ],
   "source": [
    "pd.date_range('Jan 1st, 2000', 'Jan 20th, 2000', freq = '3D')"
   ]
  },
  {
   "cell_type": "markdown",
   "metadata": {},
   "source": [
    "We can ask to get only business days"
   ]
  },
  {
   "cell_type": "code",
   "execution_count": 92,
   "metadata": {},
   "outputs": [
    {
     "data": {
      "text/plain": [
       "DatetimeIndex(['2000-01-03', '2000-01-04', '2000-01-05', '2000-01-06',\n",
       "               '2000-01-07', '2000-01-10', '2000-01-11', '2000-01-12',\n",
       "               '2000-01-13', '2000-01-14', '2000-01-17', '2000-01-18',\n",
       "               '2000-01-19', '2000-01-20'],\n",
       "              dtype='datetime64[ns]', freq='B')"
      ]
     },
     "execution_count": 92,
     "metadata": {},
     "output_type": "execute_result"
    }
   ],
   "source": [
    "pd.date_range('Jan 1st, 2000', 'Jan 20th, 2000', freq = 'B')"
   ]
  },
  {
   "cell_type": "markdown",
   "metadata": {},
   "source": [
    "Using \"M\" will give us the end of month"
   ]
  },
  {
   "cell_type": "code",
   "execution_count": 93,
   "metadata": {},
   "outputs": [
    {
     "data": {
      "text/plain": [
       "DatetimeIndex(['2000-01-31', '2000-02-29', '2000-03-31', '2000-04-30',\n",
       "               '2000-05-31', '2000-06-30', '2000-07-31', '2000-08-31',\n",
       "               '2000-09-30', '2000-10-31', '2000-11-30', '2000-12-31'],\n",
       "              dtype='datetime64[ns]', freq='M')"
      ]
     },
     "execution_count": 93,
     "metadata": {},
     "output_type": "execute_result"
    }
   ],
   "source": [
    "pd.date_range('Jan 1st, 2000', 'Jan 20th, 2001', freq = 'M')"
   ]
  },
  {
   "cell_type": "markdown",
   "metadata": {},
   "source": [
    "If we want the first day of the month we'll use \"MS\" (Month Start)<br>Notice the extra value we get in this example compared to the previous one"
   ]
  },
  {
   "cell_type": "code",
   "execution_count": 94,
   "metadata": {},
   "outputs": [
    {
     "data": {
      "text/plain": [
       "DatetimeIndex(['2000-01-01', '2000-02-01', '2000-03-01', '2000-04-01',\n",
       "               '2000-05-01', '2000-06-01', '2000-07-01', '2000-08-01',\n",
       "               '2000-09-01', '2000-10-01', '2000-11-01', '2000-12-01',\n",
       "               '2001-01-01'],\n",
       "              dtype='datetime64[ns]', freq='MS')"
      ]
     },
     "execution_count": 94,
     "metadata": {},
     "output_type": "execute_result"
    }
   ],
   "source": [
    "pd.date_range('Jan 1st, 2000', 'Jan 20th, 2001', freq = 'MS')"
   ]
  },
  {
   "cell_type": "markdown",
   "metadata": {},
   "source": [
    "We can use \"W\" to specify week frequency"
   ]
  },
  {
   "cell_type": "code",
   "execution_count": 96,
   "metadata": {},
   "outputs": [
    {
     "data": {
      "text/plain": [
       "DatetimeIndex(['2000-01-02', '2000-01-09', '2000-01-16', '2000-01-23',\n",
       "               '2000-01-30', '2000-02-06', '2000-02-13', '2000-02-20',\n",
       "               '2000-02-27', '2000-03-05', '2000-03-12', '2000-03-19'],\n",
       "              dtype='datetime64[ns]', freq='W-SUN')"
      ]
     },
     "execution_count": 96,
     "metadata": {},
     "output_type": "execute_result"
    }
   ],
   "source": [
    "pd.date_range('Jan 1st, 2000', 'March 21th, 2000', freq = 'W')"
   ]
  },
  {
   "cell_type": "markdown",
   "metadata": {},
   "source": [
    "By default we get the beginning of each week (the date of Sunday), but we can change that as well.<br>In this example we specify we want to see the dates of all Fridays between the selected ranges"
   ]
  },
  {
   "cell_type": "code",
   "execution_count": 97,
   "metadata": {},
   "outputs": [
    {
     "data": {
      "text/plain": [
       "DatetimeIndex(['2000-01-07', '2000-01-14', '2000-01-21', '2000-01-28',\n",
       "               '2000-02-04', '2000-02-11', '2000-02-18', '2000-02-25',\n",
       "               '2000-03-03', '2000-03-10', '2000-03-17'],\n",
       "              dtype='datetime64[ns]', freq='W-FRI')"
      ]
     },
     "execution_count": 97,
     "metadata": {},
     "output_type": "execute_result"
    }
   ],
   "source": [
    "pd.date_range('Jan 1st, 2000', 'March 21th, 2000', freq = 'W-FRI')"
   ]
  },
  {
   "cell_type": "markdown",
   "metadata": {},
   "source": [
    "We can use Y to get the start of each year"
   ]
  },
  {
   "cell_type": "code",
   "execution_count": 104,
   "metadata": {},
   "outputs": [
    {
     "data": {
      "text/plain": [
       "DatetimeIndex(['2000-01-01', '2001-01-01', '2002-01-01', '2003-01-01',\n",
       "               '2004-01-01', '2005-01-01', '2006-01-01', '2007-01-01',\n",
       "               '2008-01-01', '2009-01-01', '2010-01-01', '2011-01-01',\n",
       "               '2012-01-01'],\n",
       "              dtype='datetime64[ns]', freq='AS-JAN')"
      ]
     },
     "execution_count": 104,
     "metadata": {},
     "output_type": "execute_result"
    }
   ],
   "source": [
    "pd.date_range('Jan 1st, 2000', 'March 21th, 2012', freq = 'Y')"
   ]
  },
  {
   "cell_type": "markdown",
   "metadata": {},
   "source": [
    "And \"YS\" for the Year Start"
   ]
  },
  {
   "cell_type": "code",
   "execution_count": 105,
   "metadata": {},
   "outputs": [
    {
     "data": {
      "text/plain": [
       "DatetimeIndex(['2000-01-01', '2001-01-01', '2002-01-01', '2003-01-01',\n",
       "               '2004-01-01', '2005-01-01', '2006-01-01', '2007-01-01',\n",
       "               '2008-01-01', '2009-01-01', '2010-01-01', '2011-01-01',\n",
       "               '2012-01-01'],\n",
       "              dtype='datetime64[ns]', freq='AS-JAN')"
      ]
     },
     "execution_count": 105,
     "metadata": {},
     "output_type": "execute_result"
    }
   ],
   "source": [
    "pd.date_range('Jan 1st, 2000', 'March 21th, 2012', freq = 'YS')"
   ]
  },
  {
   "cell_type": "markdown",
   "metadata": {},
   "source": [
    "If we are interested in generating a certain number of dates we can define a number of \"periods\" instead of calculating the desired end date"
   ]
  },
  {
   "cell_type": "code",
   "execution_count": 4,
   "metadata": {},
   "outputs": [
    {
     "data": {
      "text/plain": [
       "DatetimeIndex(['2000-01-01', '2000-01-04', '2000-01-07', '2000-01-10',\n",
       "               '2000-01-13', '2000-01-16', '2000-01-19', '2000-01-22',\n",
       "               '2000-01-25', '2000-01-28', '2000-01-31', '2000-02-03',\n",
       "               '2000-02-06', '2000-02-09', '2000-02-12', '2000-02-15',\n",
       "               '2000-02-18', '2000-02-21', '2000-02-24', '2000-02-27',\n",
       "               '2000-03-01', '2000-03-04', '2000-03-07', '2000-03-10'],\n",
       "              dtype='datetime64[ns]', freq='3D')"
      ]
     },
     "execution_count": 4,
     "metadata": {},
     "output_type": "execute_result"
    }
   ],
   "source": [
    "pd.date_range('Jan 1st, 2000', periods=24, freq = '3 D')"
   ]
  },
  {
   "cell_type": "markdown",
   "metadata": {},
   "source": [
    "Get a list of 20 business days"
   ]
  },
  {
   "cell_type": "code",
   "execution_count": 5,
   "metadata": {},
   "outputs": [
    {
     "data": {
      "text/plain": [
       "DatetimeIndex(['2000-01-03', '2000-01-04', '2000-01-05', '2000-01-06',\n",
       "               '2000-01-07', '2000-01-10', '2000-01-11', '2000-01-12',\n",
       "               '2000-01-13', '2000-01-14', '2000-01-17', '2000-01-18',\n",
       "               '2000-01-19', '2000-01-20', '2000-01-21', '2000-01-24',\n",
       "               '2000-01-25', '2000-01-26', '2000-01-27', '2000-01-28'],\n",
       "              dtype='datetime64[ns]', freq='B')"
      ]
     },
     "execution_count": 5,
     "metadata": {},
     "output_type": "execute_result"
    }
   ],
   "source": [
    "pd.date_range('Jan 1st, 2000', periods=20, freq = 'B')"
   ]
  },
  {
   "cell_type": "markdown",
   "metadata": {},
   "source": [
    "We can state the end date and the number of periods we want to get until that date"
   ]
  },
  {
   "cell_type": "code",
   "execution_count": 6,
   "metadata": {},
   "outputs": [
    {
     "data": {
      "text/plain": [
       "DatetimeIndex(['1999-10-24', '1999-10-27', '1999-10-30', '1999-11-02',\n",
       "               '1999-11-05', '1999-11-08', '1999-11-11', '1999-11-14',\n",
       "               '1999-11-17', '1999-11-20', '1999-11-23', '1999-11-26',\n",
       "               '1999-11-29', '1999-12-02', '1999-12-05', '1999-12-08',\n",
       "               '1999-12-11', '1999-12-14', '1999-12-17', '1999-12-20',\n",
       "               '1999-12-23', '1999-12-26', '1999-12-29', '2000-01-01'],\n",
       "              dtype='datetime64[ns]', freq='3D')"
      ]
     },
     "execution_count": 6,
     "metadata": {},
     "output_type": "execute_result"
    }
   ],
   "source": [
    "pd.date_range(end = 'Jan 1st, 2000', periods=24, freq = '3 D')"
   ]
  },
  {
   "cell_type": "markdown",
   "metadata": {},
   "source": [
    "If we need to generate a datetime sequence that will show a certain minute in every hour or a specific day in a month or a year, we won't be able to use the given freq arguments and we'll have to generate our own custom period using the ***DateOffset*** method.\n",
    "In the following example I'm trying to create a ***DatetimeIndex*** of my birthdays, starting from the year 2000. Using the 'Y' value will make the dates stick to the last day of every year instead the one I've specified"
   ]
  },
  {
   "cell_type": "code",
   "execution_count": 44,
   "metadata": {},
   "outputs": [
    {
     "data": {
      "text/plain": [
       "DatetimeIndex(['2000-12-31', '2001-12-31', '2002-12-31', '2003-12-31',\n",
       "               '2004-12-31', '2005-12-31', '2006-12-31', '2007-12-31',\n",
       "               '2008-12-31', '2009-12-31', '2010-12-31', '2011-12-31',\n",
       "               '2012-12-31', '2013-12-31', '2014-12-31', '2015-12-31',\n",
       "               '2016-12-31', '2017-12-31', '2018-12-31', '2019-12-31'],\n",
       "              dtype='datetime64[ns]', freq='A-DEC')"
      ]
     },
     "execution_count": 44,
     "metadata": {},
     "output_type": "execute_result"
    }
   ],
   "source": [
    "birthdays = pd.date_range(start = '2000-03-21', periods = 20, freq = 'Y')\n",
    "birthdays"
   ]
  },
  {
   "cell_type": "markdown",
   "metadata": {},
   "source": [
    "And this is how we solve it using ***DateOffset***"
   ]
  },
  {
   "cell_type": "code",
   "execution_count": 45,
   "metadata": {},
   "outputs": [
    {
     "data": {
      "text/plain": [
       "DatetimeIndex(['2000-03-21', '2001-03-21', '2002-03-21', '2003-03-21',\n",
       "               '2004-03-21', '2005-03-21', '2006-03-21', '2007-03-21',\n",
       "               '2008-03-21', '2009-03-21', '2010-03-21', '2011-03-21',\n",
       "               '2012-03-21', '2013-03-21', '2014-03-21', '2015-03-21',\n",
       "               '2016-03-21', '2017-03-21', '2018-03-21', '2019-03-21'],\n",
       "              dtype='datetime64[ns]', freq='<DateOffset: years=1>')"
      ]
     },
     "execution_count": 45,
     "metadata": {},
     "output_type": "execute_result"
    }
   ],
   "source": [
    "birthdays = pd.date_range(start = '2000-03-21', periods = 20, freq = pd.DateOffset(years = 1))\n",
    "birthdays"
   ]
  },
  {
   "cell_type": "markdown",
   "metadata": {},
   "source": [
    "### dt Sub Library\n",
    "The dt Sub Library will allow us to call all the Timestamp methods and attributes on an entire datetime Series.<br>First let's import a file with some sales data"
   ]
  },
  {
   "cell_type": "code",
   "execution_count": 58,
   "metadata": {},
   "outputs": [
    {
     "data": {
      "text/html": [
       "<div>\n",
       "<style scoped>\n",
       "    .dataframe tbody tr th:only-of-type {\n",
       "        vertical-align: middle;\n",
       "    }\n",
       "\n",
       "    .dataframe tbody tr th {\n",
       "        vertical-align: top;\n",
       "    }\n",
       "\n",
       "    .dataframe thead th {\n",
       "        text-align: right;\n",
       "    }\n",
       "</style>\n",
       "<table border=\"1\" class=\"dataframe\">\n",
       "  <thead>\n",
       "    <tr style=\"text-align: right;\">\n",
       "      <th></th>\n",
       "      <th>OrderDate</th>\n",
       "      <th>DueDate</th>\n",
       "      <th>ShipDate</th>\n",
       "      <th>Status</th>\n",
       "      <th>Freight</th>\n",
       "    </tr>\n",
       "    <tr>\n",
       "      <th>SalesOrderID</th>\n",
       "      <th></th>\n",
       "      <th></th>\n",
       "      <th></th>\n",
       "      <th></th>\n",
       "      <th></th>\n",
       "    </tr>\n",
       "  </thead>\n",
       "  <tbody>\n",
       "    <tr>\n",
       "      <th>63363</th>\n",
       "      <td>01/01/2014 00:00</td>\n",
       "      <td>13/01/2014 00:00</td>\n",
       "      <td>08/01/2014 00:00</td>\n",
       "      <td>5</td>\n",
       "      <td>0.6820</td>\n",
       "    </tr>\n",
       "    <tr>\n",
       "      <th>63364</th>\n",
       "      <td>01/01/2014 00:00</td>\n",
       "      <td>13/01/2014 00:00</td>\n",
       "      <td>08/01/2014 00:00</td>\n",
       "      <td>5</td>\n",
       "      <td>0.7483</td>\n",
       "    </tr>\n",
       "    <tr>\n",
       "      <th>63365</th>\n",
       "      <td>01/01/2014 00:00</td>\n",
       "      <td>13/01/2014 00:00</td>\n",
       "      <td>08/01/2014 00:00</td>\n",
       "      <td>5</td>\n",
       "      <td>0.1248</td>\n",
       "    </tr>\n",
       "  </tbody>\n",
       "</table>\n",
       "</div>"
      ],
      "text/plain": [
       "                     OrderDate           DueDate          ShipDate  Status  \\\n",
       "SalesOrderID                                                                 \n",
       "63363         01/01/2014 00:00  13/01/2014 00:00  08/01/2014 00:00       5   \n",
       "63364         01/01/2014 00:00  13/01/2014 00:00  08/01/2014 00:00       5   \n",
       "63365         01/01/2014 00:00  13/01/2014 00:00  08/01/2014 00:00       5   \n",
       "\n",
       "              Freight  \n",
       "SalesOrderID           \n",
       "63363          0.6820  \n",
       "63364          0.7483  \n",
       "63365          0.1248  "
      ]
     },
     "execution_count": 58,
     "metadata": {},
     "output_type": "execute_result"
    }
   ],
   "source": [
    "sales = pd.read_csv('JanuarySales2014.csv', index_col='SalesOrderID',usecols = ['SalesOrderID', 'OrderDate', 'DueDate', 'ShipDate', 'Status', 'Freight'])\n",
    "sales.head(3)"
   ]
  },
  {
   "cell_type": "markdown",
   "metadata": {},
   "source": [
    "The 3 date columns are currently reffered to as strings (type object).<br>We can change that by converting all of them to datetime using the ***astype*** method"
   ]
  },
  {
   "cell_type": "code",
   "execution_count": 61,
   "metadata": {},
   "outputs": [
    {
     "data": {
      "text/html": [
       "<div>\n",
       "<style scoped>\n",
       "    .dataframe tbody tr th:only-of-type {\n",
       "        vertical-align: middle;\n",
       "    }\n",
       "\n",
       "    .dataframe tbody tr th {\n",
       "        vertical-align: top;\n",
       "    }\n",
       "\n",
       "    .dataframe thead th {\n",
       "        text-align: right;\n",
       "    }\n",
       "</style>\n",
       "<table border=\"1\" class=\"dataframe\">\n",
       "  <thead>\n",
       "    <tr style=\"text-align: right;\">\n",
       "      <th></th>\n",
       "      <th>OrderDate</th>\n",
       "      <th>DueDate</th>\n",
       "      <th>ShipDate</th>\n",
       "      <th>Status</th>\n",
       "      <th>Freight</th>\n",
       "    </tr>\n",
       "    <tr>\n",
       "      <th>SalesOrderID</th>\n",
       "      <th></th>\n",
       "      <th></th>\n",
       "      <th></th>\n",
       "      <th></th>\n",
       "      <th></th>\n",
       "    </tr>\n",
       "  </thead>\n",
       "  <tbody>\n",
       "    <tr>\n",
       "      <th>63363</th>\n",
       "      <td>2014-01-01</td>\n",
       "      <td>2014-01-13</td>\n",
       "      <td>2014-08-01</td>\n",
       "      <td>5</td>\n",
       "      <td>0.6820</td>\n",
       "    </tr>\n",
       "    <tr>\n",
       "      <th>63364</th>\n",
       "      <td>2014-01-01</td>\n",
       "      <td>2014-01-13</td>\n",
       "      <td>2014-08-01</td>\n",
       "      <td>5</td>\n",
       "      <td>0.7483</td>\n",
       "    </tr>\n",
       "    <tr>\n",
       "      <th>63365</th>\n",
       "      <td>2014-01-01</td>\n",
       "      <td>2014-01-13</td>\n",
       "      <td>2014-08-01</td>\n",
       "      <td>5</td>\n",
       "      <td>0.1248</td>\n",
       "    </tr>\n",
       "  </tbody>\n",
       "</table>\n",
       "</div>"
      ],
      "text/plain": [
       "              OrderDate    DueDate   ShipDate  Status  Freight\n",
       "SalesOrderID                                                  \n",
       "63363        2014-01-01 2014-01-13 2014-08-01       5   0.6820\n",
       "63364        2014-01-01 2014-01-13 2014-08-01       5   0.7483\n",
       "63365        2014-01-01 2014-01-13 2014-08-01       5   0.1248"
      ]
     },
     "execution_count": 61,
     "metadata": {},
     "output_type": "execute_result"
    }
   ],
   "source": [
    "sales[['OrderDate','DueDate','ShipDate']] = sales[['OrderDate','DueDate','ShipDate']].astype('datetime64')\n",
    "sales.head(3)"
   ]
  },
  {
   "cell_type": "markdown",
   "metadata": {},
   "source": [
    "We can also do that in one go by using the ***parse_dates*** parameter when uploading the file"
   ]
  },
  {
   "cell_type": "code",
   "execution_count": 74,
   "metadata": {},
   "outputs": [
    {
     "data": {
      "text/html": [
       "<div>\n",
       "<style scoped>\n",
       "    .dataframe tbody tr th:only-of-type {\n",
       "        vertical-align: middle;\n",
       "    }\n",
       "\n",
       "    .dataframe tbody tr th {\n",
       "        vertical-align: top;\n",
       "    }\n",
       "\n",
       "    .dataframe thead th {\n",
       "        text-align: right;\n",
       "    }\n",
       "</style>\n",
       "<table border=\"1\" class=\"dataframe\">\n",
       "  <thead>\n",
       "    <tr style=\"text-align: right;\">\n",
       "      <th></th>\n",
       "      <th>OrderDate</th>\n",
       "      <th>DueDate</th>\n",
       "      <th>ShipDate</th>\n",
       "      <th>Status</th>\n",
       "      <th>Freight</th>\n",
       "    </tr>\n",
       "    <tr>\n",
       "      <th>SalesOrderID</th>\n",
       "      <th></th>\n",
       "      <th></th>\n",
       "      <th></th>\n",
       "      <th></th>\n",
       "      <th></th>\n",
       "    </tr>\n",
       "  </thead>\n",
       "  <tbody>\n",
       "    <tr>\n",
       "      <th>63363</th>\n",
       "      <td>2014-01-01</td>\n",
       "      <td>2014-01-13</td>\n",
       "      <td>2014-08-01</td>\n",
       "      <td>5</td>\n",
       "      <td>0.6820</td>\n",
       "    </tr>\n",
       "    <tr>\n",
       "      <th>63364</th>\n",
       "      <td>2014-01-01</td>\n",
       "      <td>2014-01-13</td>\n",
       "      <td>2014-08-01</td>\n",
       "      <td>5</td>\n",
       "      <td>0.7483</td>\n",
       "    </tr>\n",
       "    <tr>\n",
       "      <th>63365</th>\n",
       "      <td>2014-01-01</td>\n",
       "      <td>2014-01-13</td>\n",
       "      <td>2014-08-01</td>\n",
       "      <td>5</td>\n",
       "      <td>0.1248</td>\n",
       "    </tr>\n",
       "  </tbody>\n",
       "</table>\n",
       "</div>"
      ],
      "text/plain": [
       "              OrderDate    DueDate   ShipDate  Status  Freight\n",
       "SalesOrderID                                                  \n",
       "63363        2014-01-01 2014-01-13 2014-08-01       5   0.6820\n",
       "63364        2014-01-01 2014-01-13 2014-08-01       5   0.7483\n",
       "63365        2014-01-01 2014-01-13 2014-08-01       5   0.1248"
      ]
     },
     "execution_count": 74,
     "metadata": {},
     "output_type": "execute_result"
    }
   ],
   "source": [
    "sales = pd.read_csv('JanuarySales2014.csv', index_col='SalesOrderID',\\\n",
    "                    usecols = ['SalesOrderID', 'OrderDate', 'DueDate', 'ShipDate', 'Status', 'Freight'],\\\n",
    "                    parse_dates = ['OrderDate', 'DueDate', 'ShipDate'])\n",
    "\n",
    "sales.head(3)"
   ]
  },
  {
   "cell_type": "markdown",
   "metadata": {},
   "source": [
    "Now that Pandas understands that we are dealing with dates, we can use the ***dt*** sub library to extract any elements we need from them"
   ]
  },
  {
   "cell_type": "code",
   "execution_count": 28,
   "metadata": {},
   "outputs": [
    {
     "data": {
      "text/html": [
       "<div>\n",
       "<style scoped>\n",
       "    .dataframe tbody tr th:only-of-type {\n",
       "        vertical-align: middle;\n",
       "    }\n",
       "\n",
       "    .dataframe tbody tr th {\n",
       "        vertical-align: top;\n",
       "    }\n",
       "\n",
       "    .dataframe thead th {\n",
       "        text-align: right;\n",
       "    }\n",
       "</style>\n",
       "<table border=\"1\" class=\"dataframe\">\n",
       "  <thead>\n",
       "    <tr style=\"text-align: right;\">\n",
       "      <th></th>\n",
       "      <th>OrderDate</th>\n",
       "      <th>day</th>\n",
       "      <th>day_name</th>\n",
       "      <th>week</th>\n",
       "      <th>month_name</th>\n",
       "      <th>quarter</th>\n",
       "      <th>year</th>\n",
       "    </tr>\n",
       "    <tr>\n",
       "      <th>SalesOrderID</th>\n",
       "      <th></th>\n",
       "      <th></th>\n",
       "      <th></th>\n",
       "      <th></th>\n",
       "      <th></th>\n",
       "      <th></th>\n",
       "      <th></th>\n",
       "    </tr>\n",
       "  </thead>\n",
       "  <tbody>\n",
       "    <tr>\n",
       "      <th>63973</th>\n",
       "      <td>2014-01-10</td>\n",
       "      <td>10</td>\n",
       "      <td>Friday</td>\n",
       "      <td>2</td>\n",
       "      <td>January</td>\n",
       "      <td>1</td>\n",
       "      <td>2014</td>\n",
       "    </tr>\n",
       "    <tr>\n",
       "      <th>64878</th>\n",
       "      <td>2014-01-24</td>\n",
       "      <td>24</td>\n",
       "      <td>Friday</td>\n",
       "      <td>4</td>\n",
       "      <td>January</td>\n",
       "      <td>1</td>\n",
       "      <td>2014</td>\n",
       "    </tr>\n",
       "    <tr>\n",
       "      <th>64262</th>\n",
       "      <td>2014-01-15</td>\n",
       "      <td>15</td>\n",
       "      <td>Wednesday</td>\n",
       "      <td>3</td>\n",
       "      <td>January</td>\n",
       "      <td>1</td>\n",
       "      <td>2014</td>\n",
       "    </tr>\n",
       "  </tbody>\n",
       "</table>\n",
       "</div>"
      ],
      "text/plain": [
       "              OrderDate  day   day_name  week month_name  quarter  year\n",
       "SalesOrderID                                                           \n",
       "63973        2014-01-10   10     Friday     2    January        1  2014\n",
       "64878        2014-01-24   24     Friday     4    January        1  2014\n",
       "64262        2014-01-15   15  Wednesday     3    January        1  2014"
      ]
     },
     "execution_count": 28,
     "metadata": {},
     "output_type": "execute_result"
    }
   ],
   "source": [
    "sales['OrderDate'].sample(3).to_frame().assign(day = sales['OrderDate'].dt.day,\n",
    "                                              day_name = sales['OrderDate'].dt.weekday_name,\n",
    "                                              week = sales['OrderDate'].dt.weekofyear,\n",
    "                                              month_name = sales['OrderDate'].dt.month_name(),\n",
    "                                               quarter = sales['OrderDate'].dt.quarter,\n",
    "                                              year = sales['OrderDate'].dt.year)"
   ]
  },
  {
   "cell_type": "markdown",
   "metadata": {},
   "source": [
    "Group by day of the week"
   ]
  },
  {
   "cell_type": "code",
   "execution_count": 33,
   "metadata": {},
   "outputs": [
    {
     "data": {
      "text/plain": [
       "weekday\n",
       "Wednesday    477\n",
       "Thursday     339\n",
       "Sunday       293\n",
       "Friday       274\n",
       "Monday       263\n",
       "Saturday     248\n",
       "Tuesday      247\n",
       "dtype: int64"
      ]
     },
     "execution_count": 33,
     "metadata": {},
     "output_type": "execute_result"
    }
   ],
   "source": [
    "sales['weekday'] = sales['OrderDate'].dt.weekday_name\n",
    "sales.groupby('weekday').size().sort_values(ascending = False)"
   ]
  },
  {
   "cell_type": "markdown",
   "metadata": {},
   "source": [
    "### is_...\n",
    "We have several methods with the ***is_*** prefix to check various facts about our dates"
   ]
  },
  {
   "cell_type": "code",
   "execution_count": 41,
   "metadata": {},
   "outputs": [
    {
     "data": {
      "text/plain": [
       "SalesOrderID\n",
       "64856   2014-01-24\n",
       "65471   2014-01-31\n",
       "65261   2014-01-29\n",
       "63938   2014-01-09\n",
       "64265   2014-01-15\n",
       "Name: OrderDate, dtype: datetime64[ns]"
      ]
     },
     "execution_count": 41,
     "metadata": {},
     "output_type": "execute_result"
    }
   ],
   "source": [
    "some_dates = sales['OrderDate'].sample(5)\n",
    "some_dates"
   ]
  },
  {
   "cell_type": "code",
   "execution_count": 44,
   "metadata": {},
   "outputs": [
    {
     "data": {
      "text/plain": [
       "SalesOrderID\n",
       "64856    False\n",
       "65471     True\n",
       "65261    False\n",
       "63938    False\n",
       "64265    False\n",
       "Name: OrderDate, dtype: bool"
      ]
     },
     "execution_count": 44,
     "metadata": {},
     "output_type": "execute_result"
    }
   ],
   "source": [
    "some_dates.dt.is_month_end"
   ]
  },
  {
   "cell_type": "markdown",
   "metadata": {},
   "source": [
    "We can use these methods to help filter our Dataframe based on those criteria"
   ]
  },
  {
   "cell_type": "code",
   "execution_count": 48,
   "metadata": {},
   "outputs": [
    {
     "data": {
      "text/html": [
       "<div>\n",
       "<style scoped>\n",
       "    .dataframe tbody tr th:only-of-type {\n",
       "        vertical-align: middle;\n",
       "    }\n",
       "\n",
       "    .dataframe tbody tr th {\n",
       "        vertical-align: top;\n",
       "    }\n",
       "\n",
       "    .dataframe thead th {\n",
       "        text-align: right;\n",
       "    }\n",
       "</style>\n",
       "<table border=\"1\" class=\"dataframe\">\n",
       "  <thead>\n",
       "    <tr style=\"text-align: right;\">\n",
       "      <th></th>\n",
       "      <th>OrderDate</th>\n",
       "      <th>DueDate</th>\n",
       "      <th>ShipDate</th>\n",
       "      <th>Status</th>\n",
       "      <th>Freight</th>\n",
       "      <th>weekday</th>\n",
       "    </tr>\n",
       "    <tr>\n",
       "      <th>SalesOrderID</th>\n",
       "      <th></th>\n",
       "      <th></th>\n",
       "      <th></th>\n",
       "      <th></th>\n",
       "      <th></th>\n",
       "      <th></th>\n",
       "    </tr>\n",
       "  </thead>\n",
       "  <tbody>\n",
       "    <tr>\n",
       "      <th>65452</th>\n",
       "      <td>2014-01-31</td>\n",
       "      <td>2014-02-12</td>\n",
       "      <td>2014-02-07</td>\n",
       "      <td>5</td>\n",
       "      <td>44.4488</td>\n",
       "      <td>Friday</td>\n",
       "    </tr>\n",
       "    <tr>\n",
       "      <th>65453</th>\n",
       "      <td>2014-01-31</td>\n",
       "      <td>2014-02-12</td>\n",
       "      <td>2014-02-07</td>\n",
       "      <td>5</td>\n",
       "      <td>43.8745</td>\n",
       "      <td>Friday</td>\n",
       "    </tr>\n",
       "    <tr>\n",
       "      <th>65454</th>\n",
       "      <td>2014-01-31</td>\n",
       "      <td>2014-02-12</td>\n",
       "      <td>2014-02-07</td>\n",
       "      <td>5</td>\n",
       "      <td>44.4868</td>\n",
       "      <td>Friday</td>\n",
       "    </tr>\n",
       "  </tbody>\n",
       "</table>\n",
       "</div>"
      ],
      "text/plain": [
       "              OrderDate    DueDate   ShipDate  Status  Freight weekday\n",
       "SalesOrderID                                                          \n",
       "65452        2014-01-31 2014-02-12 2014-02-07       5  44.4488  Friday\n",
       "65453        2014-01-31 2014-02-12 2014-02-07       5  43.8745  Friday\n",
       "65454        2014-01-31 2014-02-12 2014-02-07       5  44.4868  Friday"
      ]
     },
     "execution_count": 48,
     "metadata": {},
     "output_type": "execute_result"
    }
   ],
   "source": [
    "sales[sales['OrderDate'].dt.is_month_end].head(3)"
   ]
  },
  {
   "cell_type": "code",
   "execution_count": 50,
   "metadata": {},
   "outputs": [
    {
     "data": {
      "text/html": [
       "<div>\n",
       "<style scoped>\n",
       "    .dataframe tbody tr th:only-of-type {\n",
       "        vertical-align: middle;\n",
       "    }\n",
       "\n",
       "    .dataframe tbody tr th {\n",
       "        vertical-align: top;\n",
       "    }\n",
       "\n",
       "    .dataframe thead th {\n",
       "        text-align: right;\n",
       "    }\n",
       "</style>\n",
       "<table border=\"1\" class=\"dataframe\">\n",
       "  <thead>\n",
       "    <tr style=\"text-align: right;\">\n",
       "      <th></th>\n",
       "      <th>OrderDate</th>\n",
       "      <th>DueDate</th>\n",
       "      <th>ShipDate</th>\n",
       "      <th>Status</th>\n",
       "      <th>Freight</th>\n",
       "      <th>weekday</th>\n",
       "    </tr>\n",
       "    <tr>\n",
       "      <th>SalesOrderID</th>\n",
       "      <th></th>\n",
       "      <th></th>\n",
       "      <th></th>\n",
       "      <th></th>\n",
       "      <th></th>\n",
       "      <th></th>\n",
       "    </tr>\n",
       "  </thead>\n",
       "  <tbody>\n",
       "  </tbody>\n",
       "</table>\n",
       "</div>"
      ],
      "text/plain": [
       "Empty DataFrame\n",
       "Columns: [OrderDate, DueDate, ShipDate, Status, Freight, weekday]\n",
       "Index: []"
      ]
     },
     "execution_count": 50,
     "metadata": {},
     "output_type": "execute_result"
    }
   ],
   "source": [
    "sales[sales['DueDate'].dt.is_quarter_end].head(3)"
   ]
  },
  {
   "cell_type": "markdown",
   "metadata": {},
   "source": [
    "### strftime()\n",
    "And again, just like single Timestamps, we can format entire datetime Series with the ***strftiem*** method"
   ]
  },
  {
   "cell_type": "code",
   "execution_count": 40,
   "metadata": {},
   "outputs": [
    {
     "data": {
      "text/plain": [
       "SalesOrderID\n",
       "63597    04//01--2014 A.D\n",
       "65027    27//01--2014 A.D\n",
       "64159    13//01--2014 A.D\n",
       "Name: OrderDate, dtype: object"
      ]
     },
     "execution_count": 40,
     "metadata": {},
     "output_type": "execute_result"
    }
   ],
   "source": [
    "sales['OrderDate'].dt.strftime('%d//%m--%Y A.D').sample(3)"
   ]
  },
  {
   "cell_type": "markdown",
   "metadata": {},
   "source": [
    "### Difference Between Dates\n",
    "We can substract dates from eachother to get the distance (delta) between them.<br>In the following example we want to see if our shipments got to their destination in time."
   ]
  },
  {
   "cell_type": "code",
   "execution_count": 75,
   "metadata": {},
   "outputs": [
    {
     "data": {
      "text/html": [
       "<div>\n",
       "<style scoped>\n",
       "    .dataframe tbody tr th:only-of-type {\n",
       "        vertical-align: middle;\n",
       "    }\n",
       "\n",
       "    .dataframe tbody tr th {\n",
       "        vertical-align: top;\n",
       "    }\n",
       "\n",
       "    .dataframe thead th {\n",
       "        text-align: right;\n",
       "    }\n",
       "</style>\n",
       "<table border=\"1\" class=\"dataframe\">\n",
       "  <thead>\n",
       "    <tr style=\"text-align: right;\">\n",
       "      <th></th>\n",
       "      <th>OrderDate</th>\n",
       "      <th>DueDate</th>\n",
       "      <th>ShipDate</th>\n",
       "      <th>Status</th>\n",
       "      <th>Freight</th>\n",
       "    </tr>\n",
       "    <tr>\n",
       "      <th>SalesOrderID</th>\n",
       "      <th></th>\n",
       "      <th></th>\n",
       "      <th></th>\n",
       "      <th></th>\n",
       "      <th></th>\n",
       "    </tr>\n",
       "  </thead>\n",
       "  <tbody>\n",
       "    <tr>\n",
       "      <th>63363</th>\n",
       "      <td>2014-01-01</td>\n",
       "      <td>2014-01-13</td>\n",
       "      <td>2014-08-01</td>\n",
       "      <td>5</td>\n",
       "      <td>0.6820</td>\n",
       "    </tr>\n",
       "    <tr>\n",
       "      <th>63364</th>\n",
       "      <td>2014-01-01</td>\n",
       "      <td>2014-01-13</td>\n",
       "      <td>2014-08-01</td>\n",
       "      <td>5</td>\n",
       "      <td>0.7483</td>\n",
       "    </tr>\n",
       "    <tr>\n",
       "      <th>63365</th>\n",
       "      <td>2014-01-01</td>\n",
       "      <td>2014-01-13</td>\n",
       "      <td>2014-08-01</td>\n",
       "      <td>5</td>\n",
       "      <td>0.1248</td>\n",
       "    </tr>\n",
       "  </tbody>\n",
       "</table>\n",
       "</div>"
      ],
      "text/plain": [
       "              OrderDate    DueDate   ShipDate  Status  Freight\n",
       "SalesOrderID                                                  \n",
       "63363        2014-01-01 2014-01-13 2014-08-01       5   0.6820\n",
       "63364        2014-01-01 2014-01-13 2014-08-01       5   0.7483\n",
       "63365        2014-01-01 2014-01-13 2014-08-01       5   0.1248"
      ]
     },
     "execution_count": 75,
     "metadata": {},
     "output_type": "execute_result"
    }
   ],
   "source": [
    "sales.head(3)"
   ]
  },
  {
   "cell_type": "code",
   "execution_count": 81,
   "metadata": {},
   "outputs": [
    {
     "data": {
      "text/html": [
       "<div>\n",
       "<style scoped>\n",
       "    .dataframe tbody tr th:only-of-type {\n",
       "        vertical-align: middle;\n",
       "    }\n",
       "\n",
       "    .dataframe tbody tr th {\n",
       "        vertical-align: top;\n",
       "    }\n",
       "\n",
       "    .dataframe thead th {\n",
       "        text-align: right;\n",
       "    }\n",
       "</style>\n",
       "<table border=\"1\" class=\"dataframe\">\n",
       "  <thead>\n",
       "    <tr style=\"text-align: right;\">\n",
       "      <th></th>\n",
       "      <th>OrderDate</th>\n",
       "      <th>DueDate</th>\n",
       "      <th>ShipDate</th>\n",
       "      <th>Status</th>\n",
       "      <th>Freight</th>\n",
       "      <th>Days Ahead</th>\n",
       "    </tr>\n",
       "    <tr>\n",
       "      <th>SalesOrderID</th>\n",
       "      <th></th>\n",
       "      <th></th>\n",
       "      <th></th>\n",
       "      <th></th>\n",
       "      <th></th>\n",
       "      <th></th>\n",
       "    </tr>\n",
       "  </thead>\n",
       "  <tbody>\n",
       "    <tr>\n",
       "      <th>64961</th>\n",
       "      <td>2014-01-26</td>\n",
       "      <td>2014-07-02</td>\n",
       "      <td>2014-02-02</td>\n",
       "      <td>5</td>\n",
       "      <td>1.2498</td>\n",
       "      <td>150 days</td>\n",
       "    </tr>\n",
       "    <tr>\n",
       "      <th>64980</th>\n",
       "      <td>2014-01-26</td>\n",
       "      <td>2014-07-02</td>\n",
       "      <td>2014-02-02</td>\n",
       "      <td>5</td>\n",
       "      <td>2.2493</td>\n",
       "      <td>150 days</td>\n",
       "    </tr>\n",
       "    <tr>\n",
       "      <th>64874</th>\n",
       "      <td>2014-01-24</td>\n",
       "      <td>2014-05-02</td>\n",
       "      <td>2014-01-31</td>\n",
       "      <td>5</td>\n",
       "      <td>0.1248</td>\n",
       "      <td>91 days</td>\n",
       "    </tr>\n",
       "  </tbody>\n",
       "</table>\n",
       "</div>"
      ],
      "text/plain": [
       "              OrderDate    DueDate   ShipDate  Status  Freight Days Ahead\n",
       "SalesOrderID                                                             \n",
       "64961        2014-01-26 2014-07-02 2014-02-02       5   1.2498   150 days\n",
       "64980        2014-01-26 2014-07-02 2014-02-02       5   2.2493   150 days\n",
       "64874        2014-01-24 2014-05-02 2014-01-31       5   0.1248    91 days"
      ]
     },
     "execution_count": 81,
     "metadata": {},
     "output_type": "execute_result"
    }
   ],
   "source": [
    "sales['Days Ahead'] = sales['DueDate'] - sales['ShipDate']\n",
    "sales.sample(3)"
   ]
  },
  {
   "cell_type": "markdown",
   "metadata": {},
   "source": [
    "find all shipments that were late"
   ]
  },
  {
   "cell_type": "code",
   "execution_count": 86,
   "metadata": {},
   "outputs": [
    {
     "data": {
      "text/html": [
       "<div>\n",
       "<style scoped>\n",
       "    .dataframe tbody tr th:only-of-type {\n",
       "        vertical-align: middle;\n",
       "    }\n",
       "\n",
       "    .dataframe tbody tr th {\n",
       "        vertical-align: top;\n",
       "    }\n",
       "\n",
       "    .dataframe thead th {\n",
       "        text-align: right;\n",
       "    }\n",
       "</style>\n",
       "<table border=\"1\" class=\"dataframe\">\n",
       "  <thead>\n",
       "    <tr style=\"text-align: right;\">\n",
       "      <th></th>\n",
       "      <th>OrderDate</th>\n",
       "      <th>DueDate</th>\n",
       "      <th>ShipDate</th>\n",
       "      <th>Status</th>\n",
       "      <th>Freight</th>\n",
       "      <th>Days Ahead</th>\n",
       "    </tr>\n",
       "    <tr>\n",
       "      <th>SalesOrderID</th>\n",
       "      <th></th>\n",
       "      <th></th>\n",
       "      <th></th>\n",
       "      <th></th>\n",
       "      <th></th>\n",
       "      <th></th>\n",
       "    </tr>\n",
       "  </thead>\n",
       "  <tbody>\n",
       "    <tr>\n",
       "      <th>64676</th>\n",
       "      <td>2014-01-20</td>\n",
       "      <td>2014-01-02</td>\n",
       "      <td>2014-01-27</td>\n",
       "      <td>5</td>\n",
       "      <td>15.2240</td>\n",
       "      <td>-25 days</td>\n",
       "    </tr>\n",
       "    <tr>\n",
       "      <th>64643</th>\n",
       "      <td>2014-01-20</td>\n",
       "      <td>2014-01-02</td>\n",
       "      <td>2014-01-27</td>\n",
       "      <td>5</td>\n",
       "      <td>2.9990</td>\n",
       "      <td>-25 days</td>\n",
       "    </tr>\n",
       "    <tr>\n",
       "      <th>64641</th>\n",
       "      <td>2014-01-20</td>\n",
       "      <td>2014-01-02</td>\n",
       "      <td>2014-01-27</td>\n",
       "      <td>5</td>\n",
       "      <td>0.6248</td>\n",
       "      <td>-25 days</td>\n",
       "    </tr>\n",
       "  </tbody>\n",
       "</table>\n",
       "</div>"
      ],
      "text/plain": [
       "              OrderDate    DueDate   ShipDate  Status  Freight Days Ahead\n",
       "SalesOrderID                                                             \n",
       "64676        2014-01-20 2014-01-02 2014-01-27       5  15.2240   -25 days\n",
       "64643        2014-01-20 2014-01-02 2014-01-27       5   2.9990   -25 days\n",
       "64641        2014-01-20 2014-01-02 2014-01-27       5   0.6248   -25 days"
      ]
     },
     "execution_count": 86,
     "metadata": {},
     "output_type": "execute_result"
    }
   ],
   "source": [
    "late_shipments = sales['Days Ahead'] < '0 days'\n",
    "sales[late_shipments].sort_values('Days Ahead', ascending=False).head(3)"
   ]
  },
  {
   "cell_type": "code",
   "execution_count": null,
   "metadata": {},
   "outputs": [],
   "source": []
  }
 ],
 "metadata": {
  "kernelspec": {
   "display_name": "Python 3",
   "language": "python",
   "name": "python3"
  },
  "language_info": {
   "codemirror_mode": {
    "name": "ipython",
    "version": 3
   },
   "file_extension": ".py",
   "mimetype": "text/x-python",
   "name": "python",
   "nbconvert_exporter": "python",
   "pygments_lexer": "ipython3",
   "version": "3.8.10"
  }
 },
 "nbformat": 4,
 "nbformat_minor": 2
}
