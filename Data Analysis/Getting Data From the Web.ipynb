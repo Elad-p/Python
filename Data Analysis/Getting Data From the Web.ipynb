{
 "cells": [
  {
   "cell_type": "markdown",
   "metadata": {},
   "source": [
    "# Get information from online tables"
   ]
  },
  {
   "cell_type": "code",
   "execution_count": null,
   "metadata": {},
   "outputs": [],
   "source": [
    "!pip3 install lxml"
   ]
  },
  {
   "cell_type": "code",
   "execution_count": 1,
   "metadata": {},
   "outputs": [],
   "source": [
    "import pandas as pd\n",
    "import lxml"
   ]
  },
  {
   "cell_type": "code",
   "execution_count": 19,
   "metadata": {},
   "outputs": [
    {
     "data": {
      "text/html": [
       "<div>\n",
       "<style scoped>\n",
       "    .dataframe tbody tr th:only-of-type {\n",
       "        vertical-align: middle;\n",
       "    }\n",
       "\n",
       "    .dataframe tbody tr th {\n",
       "        vertical-align: top;\n",
       "    }\n",
       "\n",
       "    .dataframe thead th {\n",
       "        text-align: right;\n",
       "    }\n",
       "</style>\n",
       "<table border=\"1\" class=\"dataframe\">\n",
       "  <thead>\n",
       "    <tr style=\"text-align: right;\">\n",
       "      <th></th>\n",
       "      <th>Pontiffnumber</th>\n",
       "      <th>Pontificate</th>\n",
       "      <th>Portrait</th>\n",
       "      <th>Name: English· Latin</th>\n",
       "      <th>Personal name</th>\n",
       "      <th>Place of birth</th>\n",
       "      <th>Age at start/end of papacy</th>\n",
       "      <th>Notes</th>\n",
       "    </tr>\n",
       "  </thead>\n",
       "  <tbody>\n",
       "    <tr>\n",
       "      <th>0</th>\n",
       "      <td>6</td>\n",
       "      <td>27 Oct 105 –3 May 115(9 years, 188 days)(3475)</td>\n",
       "      <td>NaN</td>\n",
       "      <td>St Alexander IPapa ALEXANDER</td>\n",
       "      <td>Alexander</td>\n",
       "      <td>c. 75 AD Rome, Italia, Roman Empire[birth 2]</td>\n",
       "      <td>30 / 40</td>\n",
       "      <td>Roman. Inaugurated the custom of blessing hous...</td>\n",
       "    </tr>\n",
       "    <tr>\n",
       "      <th>1</th>\n",
       "      <td>7</td>\n",
       "      <td>3 May 115 –3 April 125(9 years, 335 days)(3623)</td>\n",
       "      <td>NaN</td>\n",
       "      <td>St Sixtus IPapa XYSTUS</td>\n",
       "      <td>Xystus</td>\n",
       "      <td>42 AD Rome, Italia, Roman Empire[birth 2]</td>\n",
       "      <td>73 / 83</td>\n",
       "      <td>Roman. Feast day of 6 April. Also revered as a...</td>\n",
       "    </tr>\n",
       "    <tr>\n",
       "      <th>2</th>\n",
       "      <td>8</td>\n",
       "      <td>3 April 125 –5 Jan 136(10 years, 277 days)(3929)</td>\n",
       "      <td>NaN</td>\n",
       "      <td>St TelesphorusPapa TELESPHORUS</td>\n",
       "      <td>Telesphóros</td>\n",
       "      <td>c. 67 AD Terra Nova, Italy, Roman Empire</td>\n",
       "      <td>58 / 69</td>\n",
       "      <td>Greek. Feast day of 5 January. Also revered as...</td>\n",
       "    </tr>\n",
       "    <tr>\n",
       "      <th>3</th>\n",
       "      <td>9</td>\n",
       "      <td>5 Jan 136 –11 Jan 140(4 years, 6 days)(1467)</td>\n",
       "      <td>NaN</td>\n",
       "      <td>St HyginusPapa HYGINUS</td>\n",
       "      <td>Hygínos</td>\n",
       "      <td>c. 74 Athens, Achaea, Roman Empire[birth 1]</td>\n",
       "      <td>58 / 62</td>\n",
       "      <td>Greek. Tradition holds he was martyred; feast ...</td>\n",
       "    </tr>\n",
       "    <tr>\n",
       "      <th>4</th>\n",
       "      <td>10</td>\n",
       "      <td>11 Jan 140 –11 July 155(15 years, 181 days)(5660)</td>\n",
       "      <td>NaN</td>\n",
       "      <td>St Pius IPapa PIUS</td>\n",
       "      <td>Pius</td>\n",
       "      <td>c. 81 AD Aquileia, Italy, Roman Empire[birth 3]</td>\n",
       "      <td>59 / 74</td>\n",
       "      <td>Roman. Martyred by sword; feast day 11 July. D...</td>\n",
       "    </tr>\n",
       "  </tbody>\n",
       "</table>\n",
       "</div>"
      ],
      "text/plain": [
       "  Pontiffnumber                                        Pontificate  Portrait  \\\n",
       "0             6     27 Oct 105 –3 May 115(9 years, 188 days)(3475)       NaN   \n",
       "1             7    3 May 115 –3 April 125(9 years, 335 days)(3623)       NaN   \n",
       "2             8   3 April 125 –5 Jan 136(10 years, 277 days)(3929)       NaN   \n",
       "3             9       5 Jan 136 –11 Jan 140(4 years, 6 days)(1467)       NaN   \n",
       "4            10  11 Jan 140 –11 July 155(15 years, 181 days)(5660)       NaN   \n",
       "\n",
       "             Name: English· Latin Personal name  \\\n",
       "0    St Alexander IPapa ALEXANDER     Alexander   \n",
       "1          St Sixtus IPapa XYSTUS        Xystus   \n",
       "2  St TelesphorusPapa TELESPHORUS   Telesphóros   \n",
       "3          St HyginusPapa HYGINUS       Hygínos   \n",
       "4              St Pius IPapa PIUS          Pius   \n",
       "\n",
       "                                    Place of birth Age at start/end of papacy  \\\n",
       "0     c. 75 AD Rome, Italia, Roman Empire[birth 2]                    30 / 40   \n",
       "1        42 AD Rome, Italia, Roman Empire[birth 2]                    73 / 83   \n",
       "2         c. 67 AD Terra Nova, Italy, Roman Empire                    58 / 69   \n",
       "3      c. 74 Athens, Achaea, Roman Empire[birth 1]                    58 / 62   \n",
       "4  c. 81 AD Aquileia, Italy, Roman Empire[birth 3]                    59 / 74   \n",
       "\n",
       "                                               Notes  \n",
       "0  Roman. Inaugurated the custom of blessing hous...  \n",
       "1  Roman. Feast day of 6 April. Also revered as a...  \n",
       "2  Greek. Feast day of 5 January. Also revered as...  \n",
       "3  Greek. Tradition holds he was martyred; feast ...  \n",
       "4  Roman. Martyred by sword; feast day 11 July. D...  "
      ]
     },
     "execution_count": 19,
     "metadata": {},
     "output_type": "execute_result"
    }
   ],
   "source": [
    "popes = pd.read_html('https://en.wikipedia.org/wiki/List_of_popes')\n",
    "popes[1].head()"
   ]
  },
  {
   "cell_type": "markdown",
   "metadata": {},
   "source": [
    "# Requests\n",
    "Install the library"
   ]
  },
  {
   "cell_type": "code",
   "execution_count": null,
   "metadata": {},
   "outputs": [],
   "source": [
    "!pip3 install requests"
   ]
  },
  {
   "cell_type": "markdown",
   "metadata": {},
   "source": [
    "Import the library"
   ]
  },
  {
   "cell_type": "code",
   "execution_count": 20,
   "metadata": {},
   "outputs": [],
   "source": [
    "import requests as req"
   ]
  },
  {
   "cell_type": "code",
   "execution_count": 23,
   "metadata": {},
   "outputs": [
    {
     "data": {
      "text/plain": [
       "<Response [200]>"
      ]
     },
     "execution_count": 23,
     "metadata": {},
     "output_type": "execute_result"
    }
   ],
   "source": [
    "url = 'https://facebook.com'\n",
    "req.get(url)"
   ]
  },
  {
   "cell_type": "markdown",
   "metadata": {},
   "source": [
    "http response codes are divided to a few categories:\n",
    "- 200s mark a success\n",
    "- 300s mark redirects\n",
    "- 400s are client (user) errors (like typing a wrong address or trying to access a page you don't have permission to view)\n",
    "- 500s are server errors (like a site crash, server down etc.)"
   ]
  },
  {
   "cell_type": "code",
   "execution_count": 28,
   "metadata": {},
   "outputs": [
    {
     "data": {
      "text/plain": [
       "200"
      ]
     },
     "execution_count": 28,
     "metadata": {},
     "output_type": "execute_result"
    }
   ],
   "source": [
    "facebook = req.get(url)\n",
    "facebook.status_code"
   ]
  },
  {
   "cell_type": "markdown",
   "metadata": {},
   "source": [
    "We can also check to see if we got an ok reponse (anything below 400 is considered a success)"
   ]
  },
  {
   "cell_type": "code",
   "execution_count": 35,
   "metadata": {},
   "outputs": [
    {
     "data": {
      "text/plain": [
       "True"
      ]
     },
     "execution_count": 35,
     "metadata": {},
     "output_type": "execute_result"
    }
   ],
   "source": [
    "facebook.ok"
   ]
  },
  {
   "cell_type": "markdown",
   "metadata": {},
   "source": [
    "***headers*** will get us a dictionary that contains data on various properties of out ***get*** object"
   ]
  },
  {
   "cell_type": "code",
   "execution_count": 37,
   "metadata": {},
   "outputs": [
    {
     "name": "stdout",
     "output_type": "stream",
     "text": [
      "{'Content-Encoding': 'gzip', 'Cache-Control': 'private, no-cache, no-store, must-revalidate', 'Pragma': 'no-cache', 'Strict-Transport-Security': 'max-age=15552000; preload', 'Vary': 'Accept-Encoding', 'X-Content-Type-Options': 'nosniff', 'X-Frame-Options': 'DENY', 'X-XSS-Protection': '0', 'Expires': 'Sat, 01 Jan 2000 00:00:00 GMT', 'Set-Cookie': 'fr=18jspIgATrz0nHH9X..BdB4DO.QS.AAA.0.0.BdB4DO.AWXfSKlQ; expires=Tue, 16-Jun-2020 12:00:14 GMT; Max-Age=31536000; path=/; domain=.facebook.com; secure; httponly, sb=zoAHXTUz5w84jwLBzkYMhvl7; expires=Wed, 16-Jun-2021 12:00:14 GMT; Max-Age=63072000; path=/; domain=.facebook.com; secure; httponly', 'Content-Type': 'text/html; charset=\"utf-8\"', 'X-FB-Debug': 'gQXEgtg/GPyk4XjoAQ5OV7gSsxFXejO1FfHcZfcGN9gLg9Xa5HDp8gXRapWDLV4QPVH/efwe/ZsbHz3EmTSKOg==', 'Date': 'Mon, 17 Jun 2019 12:00:14 GMT', 'Transfer-Encoding': 'chunked', 'Connection': 'keep-alive'}\n"
     ]
    }
   ],
   "source": [
    "if facebook.ok:\n",
    "    print(facebook.headers)"
   ]
  },
  {
   "cell_type": "code",
   "execution_count": 32,
   "metadata": {},
   "outputs": [],
   "source": [
    "url = 'https://geekandpoke.typepad.com/.a/6a00d8341d3df553ef01157073a04e970c-pi'\n",
    "img = req.get(url)"
   ]
  },
  {
   "cell_type": "markdown",
   "metadata": {},
   "source": [
    "We can also use ***text*** to get the HTML content (utf-8 format) and ***content*** to get the contents in bytes format (good for getting images)"
   ]
  },
  {
   "cell_type": "code",
   "execution_count": 40,
   "metadata": {},
   "outputs": [],
   "source": [
    "with open('image.png','wb') as f:\n",
    "    f.write(img.content)"
   ]
  },
  {
   "cell_type": "markdown",
   "metadata": {},
   "source": [
    "# Connecting to an API\n",
    "Request library allows us to access various APIs and pulling data from them extremly easy\n",
    "A good source of finding new APIs: https://public-apis.xyz\n",
    "\n",
    "For this demonstration we'll use the website https://financialmodelingprep.com\n",
    "Full API documentation can be found here: https://financialmodelingprep.com/developer/docs"
   ]
  },
  {
   "cell_type": "code",
   "execution_count": 42,
   "metadata": {},
   "outputs": [],
   "source": [
    "url = 'https://financialmodelingprep.com/api/v3/company/profile/AAPL'\n",
    "apple = req.get(url)"
   ]
  },
  {
   "cell_type": "code",
   "execution_count": 44,
   "metadata": {},
   "outputs": [
    {
     "data": {
      "text/plain": [
       "'{\\n    \"symbol\": \"AAPL\",\\n    \"profile\": {\\n        \"price\": 193.32,\\n        \"beta\": \"1.139593\",\\n        \"volAvg\": \"36724977\",\\n        \"mktCap\": \"966621071880.00\",\\n        \"lastDiv\": \"2.92\",\\n        \"range\": \"142-233.47\",\\n        \"changes\": 0.46,\\n        \"changesPercentage\": \"(+0.24%)\",\\n        \"companyName\": \"Apple Inc.\",\\n        \"exchange\": \"Nasdaq Global Select\",\\n        \"industry\": \"Computer Hardware\",\\n        \"website\": \"http://www.apple.com\",\\n        \"description\": \"Apple Inc is designs, manufactures and markets mobile communication and media devices and personal computers, and sells a variety of related software, services, accessories, networking solutions and third-party digital content and applications.\",\\n        \"ceo\": \"Timothy D. Cook\",\\n        \"sector\": \"Technology\",\\n        \"image\": \"https://financialmodelingprep.com/images-New-jpg/AAPL.jpg\"\\n    }\\n}'"
      ]
     },
     "execution_count": 44,
     "metadata": {},
     "output_type": "execute_result"
    }
   ],
   "source": [
    "apple.text"
   ]
  },
  {
   "cell_type": "code",
   "execution_count": 65,
   "metadata": {},
   "outputs": [
    {
     "data": {
      "text/html": [
       "<div>\n",
       "<style scoped>\n",
       "    .dataframe tbody tr th:only-of-type {\n",
       "        vertical-align: middle;\n",
       "    }\n",
       "\n",
       "    .dataframe tbody tr th {\n",
       "        vertical-align: top;\n",
       "    }\n",
       "\n",
       "    .dataframe thead th {\n",
       "        text-align: right;\n",
       "    }\n",
       "</style>\n",
       "<table border=\"1\" class=\"dataframe\">\n",
       "  <thead>\n",
       "    <tr style=\"text-align: right;\">\n",
       "      <th></th>\n",
       "      <th>symbol</th>\n",
       "      <th>profile</th>\n",
       "    </tr>\n",
       "  </thead>\n",
       "  <tbody>\n",
       "    <tr>\n",
       "      <th>beta</th>\n",
       "      <td>AAPL</td>\n",
       "      <td>1.139593</td>\n",
       "    </tr>\n",
       "    <tr>\n",
       "      <th>ceo</th>\n",
       "      <td>AAPL</td>\n",
       "      <td>Timothy D. Cook</td>\n",
       "    </tr>\n",
       "    <tr>\n",
       "      <th>changes</th>\n",
       "      <td>AAPL</td>\n",
       "      <td>0.46</td>\n",
       "    </tr>\n",
       "    <tr>\n",
       "      <th>changesPercentage</th>\n",
       "      <td>AAPL</td>\n",
       "      <td>(+0.24%)</td>\n",
       "    </tr>\n",
       "    <tr>\n",
       "      <th>companyName</th>\n",
       "      <td>AAPL</td>\n",
       "      <td>Apple Inc.</td>\n",
       "    </tr>\n",
       "    <tr>\n",
       "      <th>description</th>\n",
       "      <td>AAPL</td>\n",
       "      <td>Apple Inc is designs, manufactures and markets...</td>\n",
       "    </tr>\n",
       "    <tr>\n",
       "      <th>exchange</th>\n",
       "      <td>AAPL</td>\n",
       "      <td>Nasdaq Global Select</td>\n",
       "    </tr>\n",
       "    <tr>\n",
       "      <th>image</th>\n",
       "      <td>AAPL</td>\n",
       "      <td>https://financialmodelingprep.com/images-New-j...</td>\n",
       "    </tr>\n",
       "    <tr>\n",
       "      <th>industry</th>\n",
       "      <td>AAPL</td>\n",
       "      <td>Computer Hardware</td>\n",
       "    </tr>\n",
       "    <tr>\n",
       "      <th>lastDiv</th>\n",
       "      <td>AAPL</td>\n",
       "      <td>2.92</td>\n",
       "    </tr>\n",
       "    <tr>\n",
       "      <th>mktCap</th>\n",
       "      <td>AAPL</td>\n",
       "      <td>966621071880.00</td>\n",
       "    </tr>\n",
       "    <tr>\n",
       "      <th>price</th>\n",
       "      <td>AAPL</td>\n",
       "      <td>193.32</td>\n",
       "    </tr>\n",
       "    <tr>\n",
       "      <th>range</th>\n",
       "      <td>AAPL</td>\n",
       "      <td>142-233.47</td>\n",
       "    </tr>\n",
       "    <tr>\n",
       "      <th>sector</th>\n",
       "      <td>AAPL</td>\n",
       "      <td>Technology</td>\n",
       "    </tr>\n",
       "    <tr>\n",
       "      <th>volAvg</th>\n",
       "      <td>AAPL</td>\n",
       "      <td>36724977</td>\n",
       "    </tr>\n",
       "    <tr>\n",
       "      <th>website</th>\n",
       "      <td>AAPL</td>\n",
       "      <td>http://www.apple.com</td>\n",
       "    </tr>\n",
       "  </tbody>\n",
       "</table>\n",
       "</div>"
      ],
      "text/plain": [
       "                  symbol                                            profile\n",
       "beta                AAPL                                           1.139593\n",
       "ceo                 AAPL                                    Timothy D. Cook\n",
       "changes             AAPL                                               0.46\n",
       "changesPercentage   AAPL                                           (+0.24%)\n",
       "companyName         AAPL                                         Apple Inc.\n",
       "description         AAPL  Apple Inc is designs, manufactures and markets...\n",
       "exchange            AAPL                               Nasdaq Global Select\n",
       "image               AAPL  https://financialmodelingprep.com/images-New-j...\n",
       "industry            AAPL                                  Computer Hardware\n",
       "lastDiv             AAPL                                               2.92\n",
       "mktCap              AAPL                                    966621071880.00\n",
       "price               AAPL                                             193.32\n",
       "range               AAPL                                         142-233.47\n",
       "sector              AAPL                                         Technology\n",
       "volAvg              AAPL                                           36724977\n",
       "website             AAPL                               http://www.apple.com"
      ]
     },
     "execution_count": 65,
     "metadata": {},
     "output_type": "execute_result"
    }
   ],
   "source": [
    "pd.read_json(apple.text)"
   ]
  },
  {
   "cell_type": "markdown",
   "metadata": {},
   "source": [
    "Let's get a list of stock names from wikipedia:"
   ]
  },
  {
   "cell_type": "code",
   "execution_count": 59,
   "metadata": {},
   "outputs": [
    {
     "data": {
      "text/html": [
       "<div>\n",
       "<style scoped>\n",
       "    .dataframe tbody tr th:only-of-type {\n",
       "        vertical-align: middle;\n",
       "    }\n",
       "\n",
       "    .dataframe tbody tr th {\n",
       "        vertical-align: top;\n",
       "    }\n",
       "\n",
       "    .dataframe thead th {\n",
       "        text-align: right;\n",
       "    }\n",
       "</style>\n",
       "<table border=\"1\" class=\"dataframe\">\n",
       "  <thead>\n",
       "    <tr style=\"text-align: right;\">\n",
       "      <th></th>\n",
       "      <th>Symbol</th>\n",
       "      <th>Security</th>\n",
       "      <th>SEC filings</th>\n",
       "      <th>GICS Sector</th>\n",
       "      <th>GICS Sub Industry</th>\n",
       "      <th>Headquarters Location</th>\n",
       "      <th>Date first added</th>\n",
       "      <th>CIK</th>\n",
       "      <th>Founded</th>\n",
       "    </tr>\n",
       "  </thead>\n",
       "  <tbody>\n",
       "    <tr>\n",
       "      <th>0</th>\n",
       "      <td>MMM</td>\n",
       "      <td>3M Company</td>\n",
       "      <td>reports</td>\n",
       "      <td>Industrials</td>\n",
       "      <td>Industrial Conglomerates</td>\n",
       "      <td>St. Paul, Minnesota</td>\n",
       "      <td>NaN</td>\n",
       "      <td>66740</td>\n",
       "      <td>1902</td>\n",
       "    </tr>\n",
       "    <tr>\n",
       "      <th>1</th>\n",
       "      <td>ABT</td>\n",
       "      <td>Abbott Laboratories</td>\n",
       "      <td>reports</td>\n",
       "      <td>Health Care</td>\n",
       "      <td>Health Care Equipment</td>\n",
       "      <td>North Chicago, Illinois</td>\n",
       "      <td>1964-03-31</td>\n",
       "      <td>1800</td>\n",
       "      <td>1888</td>\n",
       "    </tr>\n",
       "    <tr>\n",
       "      <th>2</th>\n",
       "      <td>ABBV</td>\n",
       "      <td>AbbVie Inc.</td>\n",
       "      <td>reports</td>\n",
       "      <td>Health Care</td>\n",
       "      <td>Pharmaceuticals</td>\n",
       "      <td>North Chicago, Illinois</td>\n",
       "      <td>2012-12-31</td>\n",
       "      <td>1551152</td>\n",
       "      <td>2013 (1888)</td>\n",
       "    </tr>\n",
       "    <tr>\n",
       "      <th>3</th>\n",
       "      <td>ABMD</td>\n",
       "      <td>ABIOMED Inc</td>\n",
       "      <td>reports</td>\n",
       "      <td>Health Care</td>\n",
       "      <td>Health Care Equipment</td>\n",
       "      <td>Danvers, Massachusetts</td>\n",
       "      <td>2018-05-31</td>\n",
       "      <td>815094</td>\n",
       "      <td>1981</td>\n",
       "    </tr>\n",
       "    <tr>\n",
       "      <th>4</th>\n",
       "      <td>ACN</td>\n",
       "      <td>Accenture plc</td>\n",
       "      <td>reports</td>\n",
       "      <td>Information Technology</td>\n",
       "      <td>IT Consulting &amp; Other Services</td>\n",
       "      <td>Dublin, Ireland</td>\n",
       "      <td>2011-07-06</td>\n",
       "      <td>1467373</td>\n",
       "      <td>1989</td>\n",
       "    </tr>\n",
       "  </tbody>\n",
       "</table>\n",
       "</div>"
      ],
      "text/plain": [
       "  Symbol             Security SEC filings             GICS Sector  \\\n",
       "0    MMM           3M Company     reports             Industrials   \n",
       "1    ABT  Abbott Laboratories     reports             Health Care   \n",
       "2   ABBV          AbbVie Inc.     reports             Health Care   \n",
       "3   ABMD          ABIOMED Inc     reports             Health Care   \n",
       "4    ACN        Accenture plc     reports  Information Technology   \n",
       "\n",
       "                GICS Sub Industry    Headquarters Location Date first added  \\\n",
       "0        Industrial Conglomerates      St. Paul, Minnesota              NaN   \n",
       "1           Health Care Equipment  North Chicago, Illinois       1964-03-31   \n",
       "2                 Pharmaceuticals  North Chicago, Illinois       2012-12-31   \n",
       "3           Health Care Equipment   Danvers, Massachusetts       2018-05-31   \n",
       "4  IT Consulting & Other Services          Dublin, Ireland       2011-07-06   \n",
       "\n",
       "       CIK      Founded  \n",
       "0    66740         1902  \n",
       "1     1800         1888  \n",
       "2  1551152  2013 (1888)  \n",
       "3   815094         1981  \n",
       "4  1467373         1989  "
      ]
     },
     "execution_count": 59,
     "metadata": {},
     "output_type": "execute_result"
    }
   ],
   "source": [
    "stocks_data = pd.read_html('https://en.wikipedia.org/wiki/List_of_S%26P_500_companies')[0]\n",
    "stocks_data.head()"
   ]
  },
  {
   "cell_type": "code",
   "execution_count": 61,
   "metadata": {},
   "outputs": [
    {
     "data": {
      "text/plain": [
       "0     MMM\n",
       "1     ABT\n",
       "2    ABBV\n",
       "3    ABMD\n",
       "4     ACN\n",
       "Name: Symbol, dtype: object"
      ]
     },
     "execution_count": 61,
     "metadata": {},
     "output_type": "execute_result"
    }
   ],
   "source": [
    "stocks = stocks_data['Symbol']\n",
    "stocks.head()"
   ]
  },
  {
   "cell_type": "code",
   "execution_count": 113,
   "metadata": {},
   "outputs": [],
   "source": [
    "url = 'https://financialmodelingprep.com/api/v3/company/profile/'\n",
    "profiles = []\n",
    "for stock_name in stocks.head(25):\n",
    "    s = req.get(url + stock_name)\n",
    "    if s.ok:\n",
    "        profiles.append(s.content)"
   ]
  },
  {
   "cell_type": "code",
   "execution_count": 114,
   "metadata": {},
   "outputs": [
    {
     "data": {
      "text/plain": [
       "60"
      ]
     },
     "execution_count": 114,
     "metadata": {},
     "output_type": "execute_result"
    }
   ],
   "source": [
    "len(profiles)"
   ]
  },
  {
   "cell_type": "code",
   "execution_count": 85,
   "metadata": {},
   "outputs": [
    {
     "data": {
      "text/html": [
       "<div>\n",
       "<style scoped>\n",
       "    .dataframe tbody tr th:only-of-type {\n",
       "        vertical-align: middle;\n",
       "    }\n",
       "\n",
       "    .dataframe tbody tr th {\n",
       "        vertical-align: top;\n",
       "    }\n",
       "\n",
       "    .dataframe thead th {\n",
       "        text-align: right;\n",
       "    }\n",
       "</style>\n",
       "<table border=\"1\" class=\"dataframe\">\n",
       "  <thead>\n",
       "    <tr style=\"text-align: right;\">\n",
       "      <th></th>\n",
       "      <th>0</th>\n",
       "    </tr>\n",
       "  </thead>\n",
       "  <tbody>\n",
       "    <tr>\n",
       "      <th>0</th>\n",
       "      <td>b'{\\n    \"symbol\": \"MMM\",\\n    \"profile\": {\\n ...</td>\n",
       "    </tr>\n",
       "    <tr>\n",
       "      <th>1</th>\n",
       "      <td>b'{\\n    \"symbol\": \"ABT\",\\n    \"profile\": {\\n ...</td>\n",
       "    </tr>\n",
       "    <tr>\n",
       "      <th>2</th>\n",
       "      <td>b'{\\n    \"symbol\": \"ABBV\",\\n    \"profile\": {\\n...</td>\n",
       "    </tr>\n",
       "    <tr>\n",
       "      <th>3</th>\n",
       "      <td>b'{\\n    \"symbol\": \"ABMD\",\\n    \"profile\": {\\n...</td>\n",
       "    </tr>\n",
       "    <tr>\n",
       "      <th>4</th>\n",
       "      <td>b'{\\n    \"symbol\": \"ACN\",\\n    \"profile\": {\\n ...</td>\n",
       "    </tr>\n",
       "  </tbody>\n",
       "</table>\n",
       "</div>"
      ],
      "text/plain": [
       "                                                   0\n",
       "0  b'{\\n    \"symbol\": \"MMM\",\\n    \"profile\": {\\n ...\n",
       "1  b'{\\n    \"symbol\": \"ABT\",\\n    \"profile\": {\\n ...\n",
       "2  b'{\\n    \"symbol\": \"ABBV\",\\n    \"profile\": {\\n...\n",
       "3  b'{\\n    \"symbol\": \"ABMD\",\\n    \"profile\": {\\n...\n",
       "4  b'{\\n    \"symbol\": \"ACN\",\\n    \"profile\": {\\n ..."
      ]
     },
     "execution_count": 85,
     "metadata": {},
     "output_type": "execute_result"
    }
   ],
   "source": [
    "pd.DataFrame(profiles).head()"
   ]
  },
  {
   "cell_type": "code",
   "execution_count": 84,
   "metadata": {},
   "outputs": [
    {
     "data": {
      "text/html": [
       "<div>\n",
       "<style scoped>\n",
       "    .dataframe tbody tr th:only-of-type {\n",
       "        vertical-align: middle;\n",
       "    }\n",
       "\n",
       "    .dataframe tbody tr th {\n",
       "        vertical-align: top;\n",
       "    }\n",
       "\n",
       "    .dataframe thead th {\n",
       "        text-align: right;\n",
       "    }\n",
       "</style>\n",
       "<table border=\"1\" class=\"dataframe\">\n",
       "  <thead>\n",
       "    <tr style=\"text-align: right;\">\n",
       "      <th></th>\n",
       "      <th>symbol</th>\n",
       "      <th>profile</th>\n",
       "    </tr>\n",
       "  </thead>\n",
       "  <tbody>\n",
       "    <tr>\n",
       "      <th>beta</th>\n",
       "      <td>MMM</td>\n",
       "      <td>1.056007</td>\n",
       "    </tr>\n",
       "    <tr>\n",
       "      <th>ceo</th>\n",
       "      <td>MMM</td>\n",
       "      <td>Inge G. Thulin</td>\n",
       "    </tr>\n",
       "    <tr>\n",
       "      <th>changes</th>\n",
       "      <td>MMM</td>\n",
       "      <td>0.07</td>\n",
       "    </tr>\n",
       "    <tr>\n",
       "      <th>changesPercentage</th>\n",
       "      <td>MMM</td>\n",
       "      <td>(+0.04%)</td>\n",
       "    </tr>\n",
       "    <tr>\n",
       "      <th>companyName</th>\n",
       "      <td>MMM</td>\n",
       "      <td>3M Company</td>\n",
       "    </tr>\n",
       "    <tr>\n",
       "      <th>description</th>\n",
       "      <td>MMM</td>\n",
       "      <td>3M Co is a diversified technology company. It ...</td>\n",
       "    </tr>\n",
       "    <tr>\n",
       "      <th>exchange</th>\n",
       "      <td>MMM</td>\n",
       "      <td>New York Stock Exchange</td>\n",
       "    </tr>\n",
       "    <tr>\n",
       "      <th>image</th>\n",
       "      <td>MMM</td>\n",
       "      <td>https://financialmodelingprep.com/images-New-j...</td>\n",
       "    </tr>\n",
       "    <tr>\n",
       "      <th>industry</th>\n",
       "      <td>MMM</td>\n",
       "      <td>Industrial Products</td>\n",
       "    </tr>\n",
       "    <tr>\n",
       "      <th>lastDiv</th>\n",
       "      <td>MMM</td>\n",
       "      <td>5.76</td>\n",
       "    </tr>\n",
       "    <tr>\n",
       "      <th>mktCap</th>\n",
       "      <td>MMM</td>\n",
       "      <td>100594200000.00</td>\n",
       "    </tr>\n",
       "    <tr>\n",
       "      <th>price</th>\n",
       "      <td>MMM</td>\n",
       "      <td>167.1</td>\n",
       "    </tr>\n",
       "    <tr>\n",
       "      <th>range</th>\n",
       "      <td>MMM</td>\n",
       "      <td>176.87-221.69</td>\n",
       "    </tr>\n",
       "    <tr>\n",
       "      <th>sector</th>\n",
       "      <td>MMM</td>\n",
       "      <td>Industrials</td>\n",
       "    </tr>\n",
       "    <tr>\n",
       "      <th>volAvg</th>\n",
       "      <td>MMM</td>\n",
       "      <td>2588875</td>\n",
       "    </tr>\n",
       "    <tr>\n",
       "      <th>website</th>\n",
       "      <td>MMM</td>\n",
       "      <td>http://www.3m.com</td>\n",
       "    </tr>\n",
       "  </tbody>\n",
       "</table>\n",
       "</div>"
      ],
      "text/plain": [
       "                  symbol                                            profile\n",
       "beta                 MMM                                           1.056007\n",
       "ceo                  MMM                                     Inge G. Thulin\n",
       "changes              MMM                                               0.07\n",
       "changesPercentage    MMM                                           (+0.04%)\n",
       "companyName          MMM                                         3M Company\n",
       "description          MMM  3M Co is a diversified technology company. It ...\n",
       "exchange             MMM                            New York Stock Exchange\n",
       "image                MMM  https://financialmodelingprep.com/images-New-j...\n",
       "industry             MMM                                Industrial Products\n",
       "lastDiv              MMM                                               5.76\n",
       "mktCap               MMM                                    100594200000.00\n",
       "price                MMM                                              167.1\n",
       "range                MMM                                      176.87-221.69\n",
       "sector               MMM                                        Industrials\n",
       "volAvg               MMM                                            2588875\n",
       "website              MMM                                  http://www.3m.com"
      ]
     },
     "execution_count": 84,
     "metadata": {},
     "output_type": "execute_result"
    }
   ],
   "source": [
    "pd.read_json(profiles[0])"
   ]
  },
  {
   "cell_type": "code",
   "execution_count": 119,
   "metadata": {},
   "outputs": [],
   "source": [
    "# pd.concat([pd.read_json(stock_profile) for stock_profile in profiles])\n",
    "stocks_dfs = []\n",
    "for stock_profile in profiles[:25]:\n",
    "    stocks_dfs.append(pd.read_json(stock_profile))"
   ]
  },
  {
   "cell_type": "code",
   "execution_count": 120,
   "metadata": {},
   "outputs": [],
   "source": [
    "all_profiles = pd.concat(stocks_dfs)"
   ]
  },
  {
   "cell_type": "code",
   "execution_count": 122,
   "metadata": {},
   "outputs": [
    {
     "data": {
      "text/plain": [
       "(400, 2)"
      ]
     },
     "execution_count": 122,
     "metadata": {},
     "output_type": "execute_result"
    }
   ],
   "source": [
    "all_profiles.shape"
   ]
  },
  {
   "cell_type": "code",
   "execution_count": 132,
   "metadata": {},
   "outputs": [],
   "source": [
    "url = req.get('https://financialmodelingprep.com/api/v3/historical-price-full/AAPL', {'from': '2018-01-01', 'to':'2019-01-01'})"
   ]
  },
  {
   "cell_type": "code",
   "execution_count": 134,
   "metadata": {},
   "outputs": [
    {
     "data": {
      "text/plain": [
       "'https://financialmodelingprep.com/api/v3/historical-price-full/AAPL?from=2018-01-01&to=2019-01-01'"
      ]
     },
     "execution_count": 134,
     "metadata": {},
     "output_type": "execute_result"
    }
   ],
   "source": [
    "url.url"
   ]
  }
 ],
 "metadata": {
  "kernelspec": {
   "display_name": "Python 3",
   "language": "python",
   "name": "python3"
  },
  "language_info": {
   "codemirror_mode": {
    "name": "ipython",
    "version": 3
   },
   "file_extension": ".py",
   "mimetype": "text/x-python",
   "name": "python",
   "nbconvert_exporter": "python",
   "pygments_lexer": "ipython3",
   "version": "3.7.3"
  }
 },
 "nbformat": 4,
 "nbformat_minor": 2
}
