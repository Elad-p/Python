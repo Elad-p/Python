{
 "cells": [
  {
   "cell_type": "markdown",
   "metadata": {},
   "source": [
    "# If Statements"
   ]
  },
  {
   "cell_type": "code",
   "execution_count": 7,
   "metadata": {},
   "outputs": [
    {
     "data": {
      "text/html": [
       "<iframe width=\"840\" height=\"473\" src=\"https://www.youtube.com/embed/vvG8IKblQZ4\" frameborder=\"0\" allow=\"accelerometer; autoplay; encrypted-media; gyroscope; picture-in-picture\" allowfullscreen></iframe>"
      ],
      "text/plain": [
       "<IPython.core.display.HTML object>"
      ]
     },
     "metadata": {},
     "output_type": "display_data"
    }
   ],
   "source": [
    "%%html\n",
    "<iframe width=\"840\" height=\"473\" src=\"https://www.youtube.com/embed/vvG8IKblQZ4\" frameborder=\"0\" allow=\"accelerometer; autoplay; encrypted-media; gyroscope; picture-in-picture\" allowfullscreen></iframe>"
   ]
  },
  {
   "cell_type": "markdown",
   "metadata": {},
   "source": [
    "### Simple if Statement"
   ]
  },
  {
   "cell_type": "code",
   "execution_count": 4,
   "metadata": {},
   "outputs": [
    {
     "name": "stdout",
     "output_type": "stream",
     "text": [
      "Please enter a number : 3\n",
      "This number is odd\n"
     ]
    }
   ],
   "source": [
    "\"\"\"\n",
    "1. Simple if\n",
    "\n",
    "if [RelExp]:\n",
    "    statements\n",
    "\"\"\"\n",
    "\n",
    "number = int(input(\"Please enter a number : \"))\n",
    "\n",
    "if number % 2 == 0:\n",
    "    print('This number is even')\n",
    "if number % 2 == 1:\n",
    "        print('This number is odd')"
   ]
  },
  {
   "cell_type": "markdown",
   "metadata": {},
   "source": [
    "### if-else Statement\n",
    "\n",
    "This will produce the same result as the previous\n",
    "example but with less code and fewer checks"
   ]
  },
  {
   "cell_type": "code",
   "execution_count": 6,
   "metadata": {},
   "outputs": [
    {
     "name": "stdout",
     "output_type": "stream",
     "text": [
      "Please enter a number : 4\n",
      "This number is even\n"
     ]
    }
   ],
   "source": [
    "\"\"\" \n",
    "2. if else\n",
    "\n",
    "if [RelExp]:\n",
    "  statements\n",
    "else:\n",
    "  statements\n",
    "\"\"\"\n",
    "\n",
    "number = int(input(\"Please enter a number : \")) \n",
    "\n",
    "if number % 2 == 0:\n",
    "    print('This number is even')\n",
    "else:\n",
    "    print('This number is odd')"
   ]
  },
  {
   "cell_type": "markdown",
   "metadata": {},
   "source": [
    "Another example : "
   ]
  },
  {
   "cell_type": "code",
   "execution_count": 7,
   "metadata": {},
   "outputs": [
    {
     "name": "stdout",
     "output_type": "stream",
     "text": [
      "num2 is bigger!\n"
     ]
    }
   ],
   "source": [
    "num1 = 100\n",
    "num2 = 150\n",
    "\n",
    "if num1 > num2:\n",
    "    print('num1 is bigger!')\n",
    "else:\n",
    "    print('num2 is bigger!')"
   ]
  },
  {
   "cell_type": "markdown",
   "metadata": {},
   "source": [
    "### if-elif-else Statement"
   ]
  },
  {
   "cell_type": "markdown",
   "metadata": {},
   "source": [
    "#### Demo-1"
   ]
  },
  {
   "cell_type": "code",
   "execution_count": 3,
   "metadata": {},
   "outputs": [
    {
     "data": {
      "text/html": [
       "<iframe width=\"840\" height=\"473\" src=\"https://www.youtube.com/embed/NBYeW5ll7U8\" frameborder=\"0\" allow=\"accelerometer; autoplay; encrypted-media; gyroscope; picture-in-picture\" allowfullscreen></iframe>"
      ],
      "text/plain": [
       "<IPython.core.display.HTML object>"
      ]
     },
     "metadata": {},
     "output_type": "display_data"
    }
   ],
   "source": [
    "%%html\n",
    "<iframe width=\"840\" height=\"473\" src=\"https://www.youtube.com/embed/NBYeW5ll7U8\" frameborder=\"0\" allow=\"accelerometer; autoplay; encrypted-media; gyroscope; picture-in-picture\" allowfullscreen></iframe>"
   ]
  },
  {
   "cell_type": "code",
   "execution_count": 9,
   "metadata": {},
   "outputs": [
    {
     "name": "stdout",
     "output_type": "stream",
     "text": [
      "Please enter a number : 5\n",
      "This number is odd\n"
     ]
    }
   ],
   "source": [
    "\"\"\" \n",
    "3. if elif\n",
    "\n",
    "if [RelExp]:\n",
    "  statements\n",
    "elif [RelExp]:\n",
    "  statements\n",
    "elif [RelExp]:\n",
    "  statements\n",
    "  :\n",
    "  :\n",
    "  :\n",
    "else:\n",
    "  statements\n",
    "\"\"\"\n",
    "nm = int(input(\"Please enter a number : \")) \n",
    "\n",
    "if nm % 2 == 0:\n",
    "    print('This number is even')\n",
    "elif nm % 9 == 0:\n",
    "    print('This number can be divided by 9')\n",
    "elif nm % 3 == 0:\n",
    "    print('This number can be divided by 3')\n",
    "else:\n",
    "    print('This number is odd')"
   ]
  },
  {
   "cell_type": "code",
   "execution_count": 5,
   "metadata": {},
   "outputs": [
    {
     "data": {
      "text/html": [
       "<iframe width=\"840\" height=\"473\" src=\"https://www.youtube.com/embed/Miq6jNnD7IM\" frameborder=\"0\" allow=\"accelerometer; autoplay; encrypted-media; gyroscope; picture-in-picture\" allowfullscreen></iframe>"
      ],
      "text/plain": [
       "<IPython.core.display.HTML object>"
      ]
     },
     "metadata": {},
     "output_type": "display_data"
    }
   ],
   "source": [
    "%%html\n",
    "<iframe width=\"840\" height=\"473\" src=\"https://www.youtube.com/embed/Miq6jNnD7IM\" frameborder=\"0\" allow=\"accelerometer; autoplay; encrypted-media; gyroscope; picture-in-picture\" allowfullscreen></iframe>"
   ]
  },
  {
   "cell_type": "markdown",
   "metadata": {},
   "source": [
    "#### Demo-2"
   ]
  },
  {
   "cell_type": "code",
   "execution_count": 11,
   "metadata": {},
   "outputs": [
    {
     "name": "stdout",
     "output_type": "stream",
     "text": [
      "Please enter a smart-phone price : 4500\n",
      "Expensive\n"
     ]
    }
   ],
   "source": [
    "price = int(input('Please enter a smart-phone price : '))\n",
    "\n",
    "if price < 1000:\n",
    "    print('Very cheap!')\n",
    "elif price < 2000:\n",
    "    print('cheap')\n",
    "elif price < 3000:\n",
    "    print('medium')\n",
    "elif price < 5000:\n",
    "    print('Expensive')\n",
    "else:\n",
    "    print('Very expensive!')"
   ]
  },
  {
   "cell_type": "markdown",
   "metadata": {},
   "source": [
    "#### Demo 3 - Multiple conditions statements"
   ]
  },
  {
   "cell_type": "code",
   "execution_count": 6,
   "metadata": {},
   "outputs": [
    {
     "data": {
      "text/html": [
       "<iframe width=\"840\" height=\"473\" src=\"https://www.youtube.com/embed/q0VeRVnAHGo\" frameborder=\"0\" allow=\"accelerometer; autoplay; encrypted-media; gyroscope; picture-in-picture\" allowfullscreen></iframe>"
      ],
      "text/plain": [
       "<IPython.core.display.HTML object>"
      ]
     },
     "metadata": {},
     "output_type": "display_data"
    }
   ],
   "source": [
    "%%html\n",
    "<iframe width=\"840\" height=\"473\" src=\"https://www.youtube.com/embed/q0VeRVnAHGo\" frameborder=\"0\" allow=\"accelerometer; autoplay; encrypted-media; gyroscope; picture-in-picture\" allowfullscreen></iframe>"
   ]
  },
  {
   "cell_type": "code",
   "execution_count": 12,
   "metadata": {},
   "outputs": [
    {
     "name": "stdout",
     "output_type": "stream",
     "text": [
      "No\n",
      "Yes\n",
      "Yes!\n"
     ]
    }
   ],
   "source": [
    "num = 200\n",
    "if num > 100 and num % 3 == 0:\n",
    "    print('Yes')\n",
    "else:\n",
    "    print('No')\n",
    "\n",
    "if num > 100 or num % 3 == 0:\n",
    "    print('Yes')\n",
    "else:\n",
    "    print('No')\n",
    "\n",
    "if num > 100 and num < 300:\n",
    "    print('Yes!')"
   ]
  },
  {
   "cell_type": "markdown",
   "metadata": {},
   "source": [
    "We can shorten this condition into the following:"
   ]
  },
  {
   "cell_type": "code",
   "execution_count": 13,
   "metadata": {},
   "outputs": [
    {
     "name": "stdout",
     "output_type": "stream",
     "text": [
      "Yes!\n"
     ]
    }
   ],
   "source": [
    "if 100 < num < 300:\n",
    "    print('Yes!')"
   ]
  },
  {
   "cell_type": "markdown",
   "metadata": {},
   "source": [
    "#### Demo 4 : Checking booleans"
   ]
  },
  {
   "cell_type": "code",
   "execution_count": null,
   "metadata": {},
   "outputs": [],
   "source": [
    "if True:\n",
    "    print('This is true!')\n",
    "else:\n",
    "    print('This is false...')\n",
    "\n",
    "bool = 100 > 300\n",
    "if bool:\n",
    "    print('This is true!')\n",
    "else:\n",
    "    print('This is false...')"
   ]
  },
  {
   "cell_type": "markdown",
   "metadata": {},
   "source": [
    "#### Short if-else Syntax "
   ]
  },
  {
   "cell_type": "code",
   "execution_count": 14,
   "metadata": {},
   "outputs": [
    {
     "name": "stdout",
     "output_type": "stream",
     "text": [
      "a\n"
     ]
    }
   ],
   "source": [
    "x = 0\n",
    "y = 1\n",
    "print(\"a\" if x < y else \"b\")"
   ]
  },
  {
   "cell_type": "markdown",
   "metadata": {},
   "source": [
    "#### Switch-Case"
   ]
  },
  {
   "cell_type": "code",
   "execution_count": 21,
   "metadata": {},
   "outputs": [],
   "source": [
    "def f(x):\n",
    "    return {\n",
    "        'case-1': 1,\n",
    "        'case-2': 2\n",
    "    }.get(x) "
   ]
  },
  {
   "cell_type": "code",
   "execution_count": 22,
   "metadata": {},
   "outputs": [
    {
     "data": {
      "text/plain": [
       "1"
      ]
     },
     "execution_count": 22,
     "metadata": {},
     "output_type": "execute_result"
    }
   ],
   "source": [
    "f('case-1')"
   ]
  }
 ],
 "metadata": {
  "kernelspec": {
   "display_name": "Python 3",
   "language": "python",
   "name": "python3"
  },
  "language_info": {
   "codemirror_mode": {
    "name": "ipython",
    "version": 3
   },
   "file_extension": ".py",
   "mimetype": "text/x-python",
   "name": "python",
   "nbconvert_exporter": "python",
   "pygments_lexer": "ipython3",
   "version": "3.6.5"
  }
 },
 "nbformat": 4,
 "nbformat_minor": 2
}
