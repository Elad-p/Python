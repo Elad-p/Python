{
 "cells": [
  {
   "cell_type": "markdown",
   "metadata": {},
   "source": [
    "# Multi Threading & Multi Processing"
   ]
  },
  {
   "cell_type": "markdown",
   "metadata": {},
   "source": [
    "## Threading\n",
    "Python threading allows us to have different parts of our program run concurrently and can make our programs more efficient and significantly faster"
   ]
  },
  {
   "cell_type": "code",
   "execution_count": 20,
   "metadata": {},
   "outputs": [],
   "source": [
    "import time\n",
    "\n",
    "def print_delays():\n",
    "    print(f'This is execution number 1 of process A\\n')\n",
    "    time.sleep(10)\n",
    "    print(f'End of process A')"
   ]
  },
  {
   "cell_type": "markdown",
   "metadata": {},
   "source": [
    "**Blocking** happens when a thread is stuck, waiting for a something to finish so it can complete its function.<br/> \n",
    "When single-threaded apps get blocked, this causes a poor user experience and slower overall execution time.<br/>\n",
    "In this example we can't get to the end of the program until the entire delay passes<br/> becuase we are being blocked by the function"
   ]
  },
  {
   "cell_type": "code",
   "execution_count": 21,
   "metadata": {},
   "outputs": [
    {
     "name": "stdout",
     "output_type": "stream",
     "text": [
      "This is execution number 1 of process A\n",
      "\n",
      "End of process A\n",
      "End of Program\n"
     ]
    }
   ],
   "source": [
    "print_delays()\n",
    "print('End of Program')"
   ]
  },
  {
   "cell_type": "markdown",
   "metadata": {},
   "source": [
    "**Multi-threaded** apps can execute more than one function at what appears to be the same time.<br/>While one thread is blocked, other threads can continue their execution."
   ]
  },
  {
   "cell_type": "code",
   "execution_count": 22,
   "metadata": {},
   "outputs": [
    {
     "name": "stdout",
     "output_type": "stream",
     "text": [
      "This is execution number 1 of process A\n",
      "End of Program\n",
      "\n",
      "End of process A\n"
     ]
    }
   ],
   "source": [
    "import threading as th\n",
    "\n",
    "t1 = th.Thread(target=print_delays)\n",
    "t1.start()\n",
    "print('End of Program')"
   ]
  },
  {
   "cell_type": "markdown",
   "metadata": {},
   "source": [
    "Let's modify our delay function to accept arguments"
   ]
  },
  {
   "cell_type": "code",
   "execution_count": 43,
   "metadata": {},
   "outputs": [],
   "source": [
    "def print_delays(n, delay, process_id):\n",
    "    for i in range(n):\n",
    "        print(f'This is execution number {i} of process {process_id}')\n",
    "        time.sleep(delay)\n",
    "    print(f'End of process {process_id}')"
   ]
  },
  {
   "cell_type": "code",
   "execution_count": 8,
   "metadata": {},
   "outputs": [
    {
     "name": "stdout",
     "output_type": "stream",
     "text": [
      "This is execution number 0 of process AAA\n",
      "This is execution number 1 of process AAA\n",
      "This is execution number 2 of process AAA\n",
      "This is execution number 3 of process AAA\n",
      "End of process AAA\n"
     ]
    }
   ],
   "source": [
    "print_delays(4,2, 'AAA')"
   ]
  },
  {
   "cell_type": "markdown",
   "metadata": {},
   "source": [
    "If we call this function multiple times all executions will be linear"
   ]
  },
  {
   "cell_type": "code",
   "execution_count": 9,
   "metadata": {},
   "outputs": [
    {
     "name": "stdout",
     "output_type": "stream",
     "text": [
      "This is execution number 0 of process AAA\n",
      "This is execution number 1 of process AAA\n",
      "This is execution number 2 of process AAA\n",
      "End of process AAA\n",
      "This is execution number 0 of process BBB\n",
      "This is execution number 1 of process BBB\n",
      "This is execution number 2 of process BBB\n",
      "End of process BBB\n",
      "This is execution number 0 of process CCC\n",
      "This is execution number 1 of process CCC\n",
      "This is execution number 2 of process CCC\n",
      "End of process CCC\n"
     ]
    }
   ],
   "source": [
    "print_delays(3,1, 'AAA')\n",
    "print_delays(3,1, 'BBB')\n",
    "print_delays(3,1, 'CCC')"
   ]
  },
  {
   "cell_type": "markdown",
   "metadata": {},
   "source": [
    "Using threads to run them simultaneously"
   ]
  },
  {
   "cell_type": "code",
   "execution_count": 32,
   "metadata": {},
   "outputs": [
    {
     "name": "stdout",
     "output_type": "stream",
     "text": [
      "This is execution number 0 of process AAA\n",
      "This is execution number 0 of process BBB\n",
      "This is execution number 0 of process CCCprogram ends here!\n",
      "\n",
      "This is execution number 1 of process AAA\n",
      "This is execution number 1 of process BBB\n",
      "This is execution number 1 of process CCC\n",
      "This is execution number 2 of process AAA\n",
      "This is execution number 2 of process BBB\n",
      "This is execution number 2 of process CCC\n",
      "End of process AAA\n",
      "End of process BBB\n",
      "End of process CCC\n"
     ]
    }
   ],
   "source": [
    "t1 = th.Thread(target=print_delays, args=[3,1,'AAA'])\n",
    "t2 = th.Thread(target=print_delays, args=[3,1,'BBB'])\n",
    "t3 = th.Thread(target=print_delays, args=[3,1,'CCC'])\n",
    "t1.start()\n",
    "t2.start()\n",
    "t3.start()\n",
    "print('program ends here!')"
   ]
  },
  {
   "cell_type": "markdown",
   "metadata": {},
   "source": [
    "We can use the `join()` method to make the main thread waot fot another before it exits."
   ]
  },
  {
   "cell_type": "code",
   "execution_count": 31,
   "metadata": {},
   "outputs": [
    {
     "name": "stdout",
     "output_type": "stream",
     "text": [
      "This is execution number 0 of process AAA\n",
      "This is execution number 0 of process BBB\n",
      "This is execution number 0 of process CCC\n",
      "This is execution number 1 of process AAA\n",
      "This is execution number 1 of process BBB\n",
      "This is execution number 1 of process CCC\n",
      "This is execution number 2 of process AAA\n",
      "This is execution number 2 of process BBB\n",
      "This is execution number 2 of process CCC\n",
      "End of process AAA\n",
      "program ends here!\n",
      "End of process BBB\n",
      "End of process CCC\n"
     ]
    }
   ],
   "source": [
    "t1 = th.Thread(target=print_delays, args=[3,1,'AAA'])\n",
    "t2 = th.Thread(target=print_delays, args=[3,1,'BBB'])\n",
    "t3 = th.Thread(target=print_delays, args=[3,1,'CCC'])\n",
    "t1.start()\n",
    "t2.start()\n",
    "t3.start()\n",
    "t1.join()\n",
    "print('program ends here!')"
   ]
  },
  {
   "cell_type": "markdown",
   "metadata": {},
   "source": [
    "Let's join all threads to make sure our program ends only after all threads have finished executing"
   ]
  },
  {
   "cell_type": "code",
   "execution_count": 34,
   "metadata": {},
   "outputs": [
    {
     "name": "stdout",
     "output_type": "stream",
     "text": [
      "This is execution number 0 of process AAA\n",
      "This is execution number 0 of process BBB\n",
      "This is execution number 0 of process CCC\n",
      "This is execution number 1 of process AAA\n",
      "This is execution number 1 of process BBB\n",
      "This is execution number 1 of process CCC\n",
      "This is execution number 2 of process AAA\n",
      "This is execution number 2 of process BBB\n",
      "This is execution number 2 of process CCC\n",
      "End of process AAA\n",
      "End of process BBB\n",
      "End of process CCC\n",
      "program ends here!\n"
     ]
    }
   ],
   "source": [
    "t1 = th.Thread(target=print_delays, args=[3,1,'AAA'])\n",
    "t2 = th.Thread(target=print_delays, args=[3,1,'BBB'])\n",
    "t3 = th.Thread(target=print_delays, args=[3,1,'CCC'])\n",
    "t1.start()\n",
    "t2.start()\n",
    "t3.start()\n",
    "t1.join()\n",
    "t2.join()\n",
    "t3.join()\n",
    "print('program ends here!')"
   ]
  },
  {
   "cell_type": "markdown",
   "metadata": {},
   "source": [
    "This works well but results with a lot of duplicated code.<br/> Instead, we can use a \"thread pool executor\" from the `concurrent.futures` module."
   ]
  },
  {
   "cell_type": "code",
   "execution_count": 50,
   "metadata": {},
   "outputs": [
    {
     "name": "stdout",
     "output_type": "stream",
     "text": [
      "program ends here!\n"
     ]
    }
   ],
   "source": [
    "import concurrent.futures\n",
    "\n",
    "with concurrent.futures.ThreadPoolExecutor() as e:\n",
    "    e.map(print_delays, [1,1,1])\n",
    "    \n",
    "print('program ends here!')"
   ]
  },
  {
   "cell_type": "markdown",
   "metadata": {},
   "source": [
    "## Multi Processing"
   ]
  },
  {
   "cell_type": "markdown",
   "metadata": {},
   "source": [
    "The CPU (Central Processing Unit) of our machine is responsible for processing<br/> \n",
    "all the diffrent tasks and managing the requests of all the various applications.<br/>\n",
    "We can divide all those tasks to CPU-Bound and I/O-Bound.<br/>\n",
    "CPU-Bound tasks are computationally intensive tasks the takes a lot of memory<br/> \n",
    "and resources to run. <br/>\n",
    "I/O-Bound are tasks that are less demending and usually depends on user output <br/>\n",
    "or other events to complete. <br/>\n",
    "Threading is great for speeding up programs by running I/O-Bound tasks simultaneously <br/>\n",
    "but won't help much with CPU-Bound tasks because all threads share the same location in memory.<br/>\n",
    "This is where Multiproccessing comes in handy as it allows us to utilize several proccesing <br/>\n",
    "units (cores) of our machine to gain significant performance benefits in certain situations"
   ]
  },
  {
   "cell_type": "code",
   "execution_count": 54,
   "metadata": {},
   "outputs": [
    {
     "name": "stdout",
     "output_type": "stream",
     "text": [
      "starting function\n",
      "ending function\n",
      "starting function\n",
      "ending function\n",
      "starting function\n",
      "ending function\n",
      "Total time: 6.0\n"
     ]
    }
   ],
   "source": [
    "def wait():\n",
    "    print('starting function')\n",
    "    time.sleep(2)\n",
    "    print('ending function')\n",
    "    \n",
    "\n",
    "s = time.perf_counter()\n",
    "wait()\n",
    "wait()\n",
    "wait()\n",
    "e = time.perf_counter()\n",
    "print(f'Total time: {round(e-s,2)}')"
   ]
  },
  {
   "cell_type": "code",
   "execution_count": 56,
   "metadata": {},
   "outputs": [
    {
     "name": "stdout",
     "output_type": "stream",
     "text": [
      "Total time: 0.0\n"
     ]
    }
   ],
   "source": [
    "import multiprocessing as mp\n",
    "\n",
    "s = time.perf_counter()\n",
    "p1 = mp.Process(target=wait)\n",
    "p2 = mp.Process(target=wait)\n",
    "p3 = mp.Process(target=wait)\n",
    "e = time.perf_counter()\n",
    "print(f'Total time: {round(e-s,2)}')"
   ]
  },
  {
   "cell_type": "markdown",
   "metadata": {},
   "source": [
    "In the last example nothing happend because we set the processes but didn't run them<br/>\n",
    "Just like with threads, we can use the `start` method to launch them"
   ]
  },
  {
   "cell_type": "code",
   "execution_count": 60,
   "metadata": {},
   "outputs": [
    {
     "name": "stdout",
     "output_type": "stream",
     "text": [
      "Total time: 0.02\n"
     ]
    }
   ],
   "source": [
    "s = time.perf_counter()\n",
    "p1 = mp.Process(target=wait)\n",
    "p2 = mp.Process(target=wait)\n",
    "p3 = mp.Process(target=wait)\n",
    "p1.start()\n",
    "p2.start()\n",
    "p3.start()\n",
    "e = time.perf_counter()\n",
    "print(f'Total time: {round(e-s,2)}')"
   ]
  },
  {
   "cell_type": "code",
   "execution_count": 59,
   "metadata": {},
   "outputs": [
    {
     "name": "stdout",
     "output_type": "stream",
     "text": [
      "Total time: 0.15\n"
     ]
    }
   ],
   "source": [
    "s = time.perf_counter()\n",
    "p1 = mp.Process(target=wait)\n",
    "#p2 = mp.Process(target=wait)\n",
    "#p3 = mp.Process(target=wait)\n",
    "p1.start()\n",
    "#p2.start()\n",
    "#p3.start()\n",
    "p1.join()\n",
    "#p2.join()\n",
    "#p3.join()\n",
    "e = time.perf_counter()\n",
    "print(f'Total time: {round(e-s,2)}')"
   ]
  },
  {
   "cell_type": "code",
   "execution_count": null,
   "metadata": {},
   "outputs": [],
   "source": []
  }
 ],
 "metadata": {
  "kernelspec": {
   "display_name": "Python 3",
   "language": "python",
   "name": "python3"
  },
  "language_info": {
   "codemirror_mode": {
    "name": "ipython",
    "version": 3
   },
   "file_extension": ".py",
   "mimetype": "text/x-python",
   "name": "python",
   "nbconvert_exporter": "python",
   "pygments_lexer": "ipython3",
   "version": "3.7.3"
  }
 },
 "nbformat": 4,
 "nbformat_minor": 2
}
