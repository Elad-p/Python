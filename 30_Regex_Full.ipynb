{
 "cells": [
  {
   "cell_type": "markdown",
   "metadata": {},
   "source": [
    "# Regualr Expressions\n",
    "\n",
    "Regular Expressions (regex) is a universal type of syntax that exists in many programming languages and is used to search in text, by defining patterns"
   ]
  },
  {
   "cell_type": "code",
   "execution_count": 2,
   "metadata": {},
   "outputs": [],
   "source": [
    "import re"
   ]
  },
  {
   "cell_type": "markdown",
   "metadata": {},
   "source": [
    "# Search\n",
    "\n",
    "search() takes the pattern and text to scan, and returns a `Match object` when the pattern is found.<br/>\n",
    "If the pattern is not found, search() returns None."
   ]
  },
  {
   "cell_type": "code",
   "execution_count": 47,
   "metadata": {},
   "outputs": [
    {
     "name": "stdout",
     "output_type": "stream",
     "text": [
      "<re.Match object; span=(5, 9), match='this'>\n",
      "<class 're.Match'>\n"
     ]
    }
   ],
   "source": [
    "pattern = 'this'\n",
    "text = 'Does this text match the pattern?'\n",
    "\n",
    "print(re.search(pattern,text))\n",
    "print(type(re.search(pattern,text)))"
   ]
  },
  {
   "cell_type": "code",
   "execution_count": 18,
   "metadata": {},
   "outputs": [
    {
     "name": "stdout",
     "output_type": "stream",
     "text": [
      "A match was found\n"
     ]
    }
   ],
   "source": [
    "if re.search(pattern,text):\n",
    "    print ('A match was found')\n",
    "else:\n",
    "    print ('No match was found')"
   ]
  },
  {
   "cell_type": "markdown",
   "metadata": {},
   "source": [
    "### Match object properties\n",
    "The `Match object` holds information about the nature of the match, including the original input string, <br/>\n",
    "the regular expression used, and the location within the original string where the pattern occurs.<br/>\n",
    "The `group` method returns subgroup(s) of the match by indices or names.<br/>\n",
    "0 is the default and will return the entire match."
   ]
  },
  {
   "cell_type": "code",
   "execution_count": 79,
   "metadata": {},
   "outputs": [
    {
     "name": "stdout",
     "output_type": "stream",
     "text": [
      "re.compile('this')\n",
      "Original text: Does this text match this pattern?\n",
      "Matched string starts at: 5\n",
      "Matched string ends at: 9\n",
      "The string that was found: this\n"
     ]
    }
   ],
   "source": [
    "match_object = re.search(pattern,text)\n",
    "print(match_object.re)\n",
    "print(f'Original text: {match_object.string}')\n",
    "print(f'Matched string starts at: {match_object.start()}')\n",
    "print(f'Matched string ends at: {match_object.end()}')\n",
    "print(f'The string that was found: {match_object.group()}')"
   ]
  },
  {
   "cell_type": "markdown",
   "metadata": {},
   "source": [
    "### Searching for multiple patterns within the text"
   ]
  },
  {
   "cell_type": "code",
   "execution_count": 72,
   "metadata": {},
   "outputs": [
    {
     "name": "stdout",
     "output_type": "stream",
     "text": [
      "Looking for \"this\" in \"Does this text match the pattern?\" ->\n",
      "found a match!\n",
      "Looking for \"that\" in \"Does this text match the pattern?\" ->\n",
      "no match\n"
     ]
    }
   ],
   "source": [
    "patterns = [ 'this', 'that' ]\n",
    "text = 'Does this text match the pattern?'\n",
    "\n",
    "for pattern in patterns:\n",
    "    print('Looking for \"{}\" in \"{}\" ->'.format(pattern, text))\n",
    "\n",
    "    if re.search(pattern,  text):\n",
    "        print('found a match!')\n",
    "    else:\n",
    "        print('no match')"
   ]
  },
  {
   "cell_type": "markdown",
   "metadata": {},
   "source": [
    "### findall\n",
    "Many times our patterns may have multiple matches throughout the text. How do we find them all?"
   ]
  },
  {
   "cell_type": "code",
   "execution_count": 81,
   "metadata": {},
   "outputs": [
    {
     "data": {
      "text/plain": [
       "['this', 'this']"
      ]
     },
     "execution_count": 81,
     "metadata": {},
     "output_type": "execute_result"
    }
   ],
   "source": [
    "pattern = 'this'\n",
    "text = 'Does this text match this pattern?'\n",
    "\n",
    "re.findall(pattern, text)"
   ]
  },
  {
   "cell_type": "markdown",
   "metadata": {},
   "source": [
    "`findall` returns a list of all the matches in the string. <br/>By counting the values in that string we can get the number of matches"
   ]
  },
  {
   "cell_type": "code",
   "execution_count": 84,
   "metadata": {},
   "outputs": [
    {
     "name": "stdout",
     "output_type": "stream",
     "text": [
      "The sting \"this\" was found 2 times\n"
     ]
    }
   ],
   "source": [
    "print (f'The sting \"{pattern}\" was found {len(re.findall(pattern, text))} times')"
   ]
  },
  {
   "cell_type": "code",
   "execution_count": 85,
   "metadata": {},
   "outputs": [
    {
     "name": "stdout",
     "output_type": "stream",
     "text": [
      "THIS\n",
      "THIS\n"
     ]
    }
   ],
   "source": [
    "for match in re.findall(pattern, text):\n",
    "    print(match.upper())"
   ]
  },
  {
   "cell_type": "markdown",
   "metadata": {},
   "source": [
    "Use finditer() to iterate through match objects in a given string"
   ]
  },
  {
   "cell_type": "code",
   "execution_count": 88,
   "metadata": {},
   "outputs": [
    {
     "name": "stdout",
     "output_type": "stream",
     "text": [
      "Found \"this\" at location 5-9\n",
      "Found \"this\" at location 21-25\n"
     ]
    }
   ],
   "source": [
    "re.finditer(pattern, text)\n",
    "\n",
    "for match in re.finditer(pattern, text):\n",
    "    s = match.start()\n",
    "    e = match.end()\n",
    "    print (f'Found \"{pattern}\" at location {s}-{e}')"
   ]
  },
  {
   "cell_type": "markdown",
   "metadata": {},
   "source": [
    "# Patterns with special charcters (wild cards)\n",
    "\n",
    "* `.`       - Any Character Except New Line<br/><br/>\n",
    "* `\\d`      - Digit (0-9)<br/><br/>\n",
    "* `\\D`      - Not a Digit (0-9)<br/><br/>\n",
    "* `\\w`      - Word Character (a-z, A-Z, 0-9, _)<br/><br/>\n",
    "* `\\W`      - Not a Word Character<br/><br/>\n",
    "* `\\s`      - Whitespace (space, tab, newline)<br/><br/>\n",
    "* `\\S`      - Not Whitespace (space, tab, newline)<br/><br/>\n",
    "* `\\b`      - Word Boundary<br/><br/>\n",
    "* `\\B`      - Not a Word Boundary<br/><br/>\n",
    "* `^`       - Beginning of a String<br/><br/>\n",
    "* `$`       - End of a String"
   ]
  },
  {
   "cell_type": "code",
   "execution_count": null,
   "metadata": {},
   "outputs": [],
   "source": [
    "def search_patterns(pattern, text):\n",
    "    status = 0\n",
    "    for match in re.finditer(pattern, text):\n",
    "        status = 1\n",
    "        s = match.start()\n",
    "        e = match.end()\n",
    "        print('Found \"{}\" at {}:{}'.format(text[s:e], s, e))\n",
    "    if status == 0:\n",
    "        print('No match was found')\n",
    "\n",
    "\n",
    "text = 'abbaaabbbbaaaaa'"
   ]
  },
  {
   "cell_type": "markdown",
   "metadata": {},
   "source": [
    "The letters \"ab\""
   ]
  },
  {
   "cell_type": "code",
   "execution_count": null,
   "metadata": {},
   "outputs": [],
   "source": [
    "search_patterns('ab', text)"
   ]
  },
  {
   "cell_type": "markdown",
   "metadata": {},
   "source": [
    "The letters \"zz"
   ]
  },
  {
   "cell_type": "code",
   "execution_count": null,
   "metadata": {},
   "outputs": [],
   "source": [
    "search_patterns('zz', text)"
   ]
  },
  {
   "cell_type": "markdown",
   "metadata": {},
   "source": [
    "a followed by zero or more b"
   ]
  },
  {
   "cell_type": "code",
   "execution_count": null,
   "metadata": {},
   "outputs": [],
   "source": [
    "search_patterns('ab*', text)"
   ]
  },
  {
   "cell_type": "markdown",
   "metadata": {},
   "source": [
    "a followed by one or more b"
   ]
  },
  {
   "cell_type": "code",
   "execution_count": null,
   "metadata": {},
   "outputs": [],
   "source": [
    "search_patterns('ab+', text)"
   ]
  },
  {
   "cell_type": "markdown",
   "metadata": {},
   "source": [
    "a followed by zero or one b"
   ]
  },
  {
   "cell_type": "code",
   "execution_count": null,
   "metadata": {},
   "outputs": [],
   "source": [
    "search_patterns('ab?', text)"
   ]
  },
  {
   "cell_type": "markdown",
   "metadata": {},
   "source": [
    "## Quantifiers\n",
    "* `*`       - 0 or More<br/><br/>\n",
    "* `+`       - 1 or More<br/><br/>\n",
    "* `?`       - 0 or One<br/><br/>\n",
    "* `{3}`     - Exact Number<br/><br/>\n",
    "* `{3,4}`   - Range of Numbers (Minimum, Maximum)\n",
    "\n",
    "a followed by three b"
   ]
  },
  {
   "cell_type": "code",
   "execution_count": null,
   "metadata": {},
   "outputs": [],
   "source": [
    "search_patterns('ab{3}', text)"
   ]
  },
  {
   "cell_type": "markdown",
   "metadata": {},
   "source": [
    "a followed by between two to three b"
   ]
  },
  {
   "cell_type": "code",
   "execution_count": null,
   "metadata": {},
   "outputs": [],
   "source": [
    "search_patterns('ab{2,3}', text)"
   ]
  },
  {
   "cell_type": "markdown",
   "metadata": {},
   "source": [
    "Demo 6\n",
    "Turning off Greedy-Behavior\n",
    "\n",
    "The normal processing for a repetition instruction is to consume as much of the input\n",
    "as possible while matching the pattern. This so-called greedy behavior can be turned off by\n",
    "following the repetition instruction with ?"
   ]
  },
  {
   "cell_type": "code",
   "execution_count": null,
   "metadata": {},
   "outputs": [],
   "source": [
    "string = 'abbaaabbbbaaaaa'\n",
    "\n",
    "search_patterns('ab*?', string) # a followed by zero or more b\n",
    "\n",
    "search_patterns('ab+?', string) # a followed by one or more b\n",
    "\n",
    "search_patterns('ab??', string) # a followed by zero or one b\n",
    "\n",
    "search_patterns('ab{3}?', string) # a followed by three b\n",
    "\n",
    "search_patterns('ab{2,3}?', string) # a followed by between two to three b"
   ]
  },
  {
   "cell_type": "markdown",
   "metadata": {},
   "source": [
    "## Sets & Groups\n",
    "\n",
    "* `[]`      - Matches Characters in brackets<br/><br/>\n",
    "* `[^ ]`    - Matches Characters NOT in brackets<br/><br/>\n",
    "* `|`       - Either Or<br/><br/>\n",
    "* `( )`     - Group<br/><br/>\n",
    "* `[a-z]`   - all lowercase letters<br/><br/>\n",
    "* `[A-Z]`   - all uppercase letters<br/><br/>\n",
    "* `[0-9]`   - all digits\n",
    "\n",
    "Demo 7\n",
    "Character Sets"
   ]
  },
  {
   "cell_type": "code",
   "execution_count": null,
   "metadata": {},
   "outputs": [],
   "source": [
    "search_patterns('[ab]', string)    # either a or b\n",
    "\n",
    "search_patterns('a[ab]+', string)  # a followed by one or more a or b"
   ]
  },
  {
   "cell_type": "markdown",
   "metadata": {},
   "source": [
    "Demo 8\n",
    "Except\n",
    "\n",
    "A character set can also be used to exclude specific characters.\n",
    "The special marker ^ means to look for characters not in the set following.\n",
    "This pattern finds all of the substrings that do not contain the characters -, ., or a space."
   ]
  },
  {
   "cell_type": "code",
   "execution_count": null,
   "metadata": {},
   "outputs": [],
   "source": [
    "string = 'This is some text -- with punctuation. Can we remove it? Yes, we can!'\n",
    "\n",
    "search_patterns('[^-.!? ]+', string) # sequences without -,.,!,? or space"
   ]
  },
  {
   "cell_type": "markdown",
   "metadata": {},
   "source": [
    "Demo 9\n",
    "Ranges\n",
    "\n",
    "As character sets grow larger, typing every character that should (or should not)\n",
    "match becomes tedious. A more compact format using character ranges lets you define\n",
    "a character set to include all of the contiguous characters between a start and\n",
    "stop point."
   ]
  },
  {
   "cell_type": "code",
   "execution_count": null,
   "metadata": {},
   "outputs": [],
   "source": [
    "string = 'This is some text -- with punctuation.'\n",
    "\n",
    "search_patterns('[a-z]+',string)  # sequences of lower case letters\n",
    "\n",
    "search_patterns('[A-Z]+',string)  # sequences of upper case letters\n",
    "\n",
    "search_patterns('[a-zA-Z]+',string)  # sequences of lower or upper case letters\n",
    "\n",
    "search_patterns('[A-Z][a-z]+',string)  # one upper case letter followed by lower case letters"
   ]
  },
  {
   "cell_type": "markdown",
   "metadata": {},
   "source": [
    "Demo 10\n",
    "Ranges\n",
    "\n",
    "As a special case of a character set the metacharacter dot, or period (.),\n",
    "indicates that the pattern should match any single character in that position."
   ]
  },
  {
   "cell_type": "code",
   "execution_count": null,
   "metadata": {},
   "outputs": [],
   "source": [
    "string = 'abbaaabbbbaaaaa'\n",
    "\n",
    "search_patterns('a.',string)  # a followed by any one character\n",
    "\n",
    "search_patterns('b.',string)  # b followed by any one character\n",
    "\n",
    "search_patterns('a.*b',string)  # a followed by anything, ending in b"
   ]
  },
  {
   "cell_type": "markdown",
   "metadata": {},
   "source": [
    "Demo 11\n",
    "Escape Codes\n",
    "\n",
    "Escape Codes\n",
    "\\d  a digit\n",
    "\\D  a non-digit\n",
    "\\s  whitespace (tab, space, newline, etc.)\n",
    "\\S  non-whitespace\n",
    "\\w  alphanumeric\n",
    "\\W  non-alphanumeric"
   ]
  },
  {
   "cell_type": "code",
   "execution_count": null,
   "metadata": {},
   "outputs": [],
   "source": [
    "string = 'This is a prime #1 example!'\n",
    "\n",
    "search_patterns(r'\\d+', string)  # sequence of digits\n",
    "\n",
    "search_patterns(r'\\D+', string)  # sequence of non-digits\n",
    "\n",
    "search_patterns(r'\\s+', string)  # sequence of whitespace\n",
    "\n",
    "search_patterns(r'\\S+', string)  # sequence of non-whitespace\n",
    "\n",
    "search_patterns(r'\\w+', string)  # alphanumeric characters\n",
    "\n",
    "search_patterns(r'\\W+', string)  # non-alphanumeric"
   ]
  },
  {
   "cell_type": "markdown",
   "metadata": {},
   "source": [
    "Demo 13\n",
    "Anchoring\n",
    "\n",
    "Escape Codes\n",
    "\\d  a digit\n",
    "\\D  a non-digit\n",
    "\\s  whitespace (tab, space, newline, etc.)\n",
    "\\S  non-whitespace\n",
    "\\w  alphanumeric\n",
    "\\W  non-alphanumeric\n",
    "\n",
    "Anchors\n",
    "^   start of string, or line\n",
    "$   end of string, or line\n",
    "\\A  start of string\n",
    "\\Z  end of string\n",
    "\\b  empty string at the beginning or end of a word\n",
    "\\B  empty string not at the beginning or end of a word"
   ]
  },
  {
   "cell_type": "code",
   "execution_count": null,
   "metadata": {},
   "outputs": [],
   "source": [
    "string = 'This is some text -- with punctuation.'\n",
    "\n",
    "search_patterns(r'^\\w+',string)  # word at start of string\n",
    "\n",
    "search_patterns(r'\\A\\w+',string)  # word at start of string\n",
    "\n",
    "search_patterns(r'\\w+\\S*$',string)  # word at end of string, with optional punctuation\n",
    "\n",
    "search_patterns(r'\\w+\\S*\\Z',string)  # word at end of string, with optional punctuation\n",
    "\n",
    "search_patterns(r'\\w*t\\w*',string)  # word containing 't'\n",
    "\n",
    "search_patterns(r'\\bt\\w+',string)  # 't' at start of word\n",
    "\n",
    "search_patterns(r'\\w+t\\b', string)  # 't' at end of word"
   ]
  },
  {
   "cell_type": "markdown",
   "metadata": {},
   "source": [
    "Demo 14\n",
    "Dissecting Matches with Groups"
   ]
  },
  {
   "cell_type": "code",
   "execution_count": null,
   "metadata": {},
   "outputs": [],
   "source": [
    "text = 'This is some text -- with punctuation.'"
   ]
  },
  {
   "cell_type": "code",
   "execution_count": null,
   "metadata": {},
   "outputs": [],
   "source": [
    "print(text)"
   ]
  },
  {
   "cell_type": "code",
   "execution_count": null,
   "metadata": {},
   "outputs": [],
   "source": [
    "for pattern in [ r'^(\\w+)',           # word at start of string\n",
    "                 r'(\\w+)\\S*$',        # word at end of string, with optional punctuation\n",
    "                 r'(\\bt\\w+)\\W+(\\w+)', # word starting with 't' then another word\n",
    "                 r'(\\w+t)\\b',         # word ending with 't'\n",
    "                 ]:\n",
    "    regex = re.compile(pattern)\n",
    "    match = regex.search(text)\n",
    "    print ('Matching \"{}\"'.format(pattern))\n",
    "    print ('  ', match.groups())\n",
    "    "
   ]
  },
  {
   "cell_type": "markdown",
   "metadata": {},
   "source": [
    "Demo 15\n",
    "Dissecting Matches with Groups"
   ]
  },
  {
   "cell_type": "code",
   "execution_count": null,
   "metadata": {},
   "outputs": [],
   "source": [
    "text = 'This is some text -- with punctuation.'"
   ]
  },
  {
   "cell_type": "code",
   "execution_count": null,
   "metadata": {},
   "outputs": [],
   "source": [
    "print ('Input text : \"{}\"'.format(text))"
   ]
  },
  {
   "cell_type": "markdown",
   "metadata": {},
   "source": [
    "word starting with 't' then another word"
   ]
  },
  {
   "cell_type": "code",
   "execution_count": null,
   "metadata": {},
   "outputs": [],
   "source": [
    "regex = re.compile(r'(\\bt\\w+)\\W+(\\w+)')"
   ]
  },
  {
   "cell_type": "code",
   "execution_count": null,
   "metadata": {},
   "outputs": [],
   "source": [
    "print ('Pattern : \"{}\"'.format(regex.pattern))"
   ]
  },
  {
   "cell_type": "code",
   "execution_count": null,
   "metadata": {},
   "outputs": [],
   "source": [
    "match = regex.search(text)"
   ]
  },
  {
   "cell_type": "code",
   "execution_count": null,
   "metadata": {},
   "outputs": [],
   "source": [
    "print ('Entire match          :', match.group(0))"
   ]
  },
  {
   "cell_type": "code",
   "execution_count": null,
   "metadata": {},
   "outputs": [],
   "source": [
    "print ('Word starting with \"t\":', match.group(1))"
   ]
  },
  {
   "cell_type": "code",
   "execution_count": null,
   "metadata": {},
   "outputs": [],
   "source": [
    "print ('Word after \"t\" word   :', match.group(2))"
   ]
  },
  {
   "cell_type": "code",
   "execution_count": null,
   "metadata": {},
   "outputs": [],
   "source": [
    "print(match.groups())"
   ]
  },
  {
   "cell_type": "code",
   "execution_count": 20,
   "metadata": {},
   "outputs": [],
   "source": [
    "text = 'this is some text!'"
   ]
  },
  {
   "cell_type": "code",
   "execution_count": 36,
   "metadata": {},
   "outputs": [
    {
     "name": "stdout",
     "output_type": "stream",
     "text": [
      "<re.Match object; span=(8, 12), match='some'>\n"
     ]
    }
   ],
   "source": [
    "print(re.search('sOme', text, re.I))"
   ]
  },
  {
   "cell_type": "code",
   "execution_count": 38,
   "metadata": {},
   "outputs": [],
   "source": [
    "mo = re.search('some', text)"
   ]
  },
  {
   "cell_type": "code",
   "execution_count": 44,
   "metadata": {},
   "outputs": [
    {
     "ename": "IndexError",
     "evalue": "no such group",
     "output_type": "error",
     "traceback": [
      "\u001b[1;31m---------------------------------------------------------------------------\u001b[0m",
      "\u001b[1;31mIndexError\u001b[0m                                Traceback (most recent call last)",
      "\u001b[1;32m<ipython-input-44-9532e7de76d9>\u001b[0m in \u001b[0;36m<module>\u001b[1;34m()\u001b[0m\n\u001b[1;32m----> 1\u001b[1;33m \u001b[0mmo\u001b[0m\u001b[1;33m.\u001b[0m\u001b[0mgroup\u001b[0m\u001b[1;33m(\u001b[0m\u001b[1;36m1\u001b[0m\u001b[1;33m)\u001b[0m\u001b[1;33m\u001b[0m\u001b[1;33m\u001b[0m\u001b[0m\n\u001b[0m",
      "\u001b[1;31mIndexError\u001b[0m: no such group"
     ]
    }
   ],
   "source": [
    "mo.group(1)"
   ]
  },
  {
   "cell_type": "markdown",
   "metadata": {},
   "source": [
    "# Finditer"
   ]
  },
  {
   "cell_type": "code",
   "execution_count": 18,
   "metadata": {},
   "outputs": [
    {
     "name": "stdout",
     "output_type": "stream",
     "text": [
      "<re.Match object; span=(0, 14), match='www.ynet.co.il'>\n",
      "<re.Match object; span=(15, 29), match='www.google.com'>\n",
      "<re.Match object; span=(45, 57), match='www.bing.com'>\n",
      "<re.Match object; span=(66, 81), match='learnpython.edu'>\n"
     ]
    }
   ],
   "source": [
    "urls = ['www.ynet.co.il', 'www.google.com', 'abc.edf', 'http://www.bing.com', 'https://learnpython.edu']\n",
    "pat = re.compile('[a-z]+\\.?[a-z]+\\.(com|co\\.il|edu)')\n",
    "for match in pat.finditer('-'.join(urls)):\n",
    "    print(match)"
   ]
  },
  {
   "cell_type": "code",
   "execution_count": 23,
   "metadata": {},
   "outputs": [
    {
     "data": {
      "text/plain": [
       "['co.il', 'com', 'com', 'edu']"
      ]
     },
     "execution_count": 23,
     "metadata": {},
     "output_type": "execute_result"
    }
   ],
   "source": [
    "pat.findall(''.join(urls))"
   ]
  },
  {
   "cell_type": "code",
   "execution_count": 25,
   "metadata": {},
   "outputs": [
    {
     "data": {
      "text/plain": [
       "'www.ynet.co.il-www.google.com-abc.edf-http://www.bing.com-https://learnpython.edu'"
      ]
     },
     "execution_count": 25,
     "metadata": {},
     "output_type": "execute_result"
    }
   ],
   "source": [
    "'-'.join(urls)"
   ]
  },
  {
   "cell_type": "code",
   "execution_count": 26,
   "metadata": {},
   "outputs": [],
   "source": [
    "def sqr_gen(num):\n",
    "    for i in range(num):\n",
    "        yield i**2"
   ]
  },
  {
   "cell_type": "code",
   "execution_count": 35,
   "metadata": {},
   "outputs": [],
   "source": [
    "sqr_count = sqr_gen(10)"
   ]
  },
  {
   "cell_type": "markdown",
   "metadata": {},
   "source": [
    "## Flags\n",
    "\n",
    "* `re.IGNORECASE` makes the pattern case insensitive so that it matches strings of different capitalizations\n",
    "* `re.MULTILINE` is necessary if your input string has newline characters (\\n),<br/> this flag allows the start and end metacharacter (^ and $ respectively) to match<br/> at the beginning and end of each line instead of at the beginning and end of the whole input string\n",
    "* `re.DOTALL` allows the dot (.) metacharacter match all characters, including the newline character (\\n)"
   ]
  },
  {
   "cell_type": "code",
   "execution_count": null,
   "metadata": {},
   "outputs": [],
   "source": []
  }
 ],
 "metadata": {
  "kernelspec": {
   "display_name": "Python 3",
   "language": "python",
   "name": "python3"
  },
  "language_info": {
   "codemirror_mode": {
    "name": "ipython",
    "version": 3
   },
   "file_extension": ".py",
   "mimetype": "text/x-python",
   "name": "python",
   "nbconvert_exporter": "python",
   "pygments_lexer": "ipython3",
   "version": "3.7.3"
  }
 },
 "nbformat": 4,
 "nbformat_minor": 2
}
