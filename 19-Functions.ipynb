{
 "cells": [
  {
   "cell_type": "markdown",
   "metadata": {},
   "source": [
    "# <font color=\"blue\"> Chapter 19 - Functions in Python </font>\n",
    "\n",
    "\n",
    "* Functions allow you to bundle a set of instructions that you want \n",
    "  to use repeatedly or that, because of their complexity, are better \n",
    "  self-contained in a sub-program and called when needed. \n",
    "* To carry out that specific task, the function might or might not \n",
    "  need multiple inputs. \n",
    "* When the task is carried out, the function can or can not return \n",
    "  one or more values.\n",
    "\n",
    "* There are three types of functions in Python:\n",
    "  * Built-in functions, such as  min(), len(), or print() \n",
    "  * User-Defined Functions (UDFs), which are functions that users create\n",
    "  * Anonymous functions - which are also called lambda functions \n",
    "    which are not declared with the standard def keyword."
   ]
  },
  {
   "cell_type": "markdown",
   "metadata": {},
   "source": [
    "Defining a function:"
   ]
  },
  {
   "cell_type": "code",
   "execution_count": 1,
   "metadata": {},
   "outputs": [],
   "source": [
    "def useless_func():\n",
    "    pass"
   ]
  },
  {
   "cell_type": "markdown",
   "metadata": {},
   "source": [
    "* Naming Conventions \n",
    "  Function names should be lowercase, with words separated by underscores \n",
    "  as necessary to improve readability.\n",
    "\n",
    "* pass is used when a statement is required syntactically, but you do not \n",
    "  want any command or code to execute. The pass statement is a null operation; \n",
    "  nothing happens when it executes. "
   ]
  },
  {
   "cell_type": "code",
   "execution_count": 2,
   "metadata": {},
   "outputs": [],
   "source": [
    "useless_func()"
   ]
  },
  {
   "cell_type": "markdown",
   "metadata": {},
   "source": [
    "* We can also use commands such as print() within our function"
   ]
  },
  {
   "cell_type": "code",
   "execution_count": 3,
   "metadata": {},
   "outputs": [
    {
     "name": "stdout",
     "output_type": "stream",
     "text": [
      "Not entirely uselss..\n"
     ]
    }
   ],
   "source": [
    "def useless_func():\n",
    "    print(\"Not entirely uselss..\")\n",
    "\n",
    "useless_func()"
   ]
  },
  {
   "cell_type": "markdown",
   "metadata": {},
   "source": [
    "Arguments"
   ]
  },
  {
   "cell_type": "code",
   "execution_count": 6,
   "metadata": {},
   "outputs": [
    {
     "name": "stdout",
     "output_type": "stream",
     "text": [
      "15\n"
     ]
    }
   ],
   "source": [
    "def add_nums(arg1, arg2):\n",
    "    print(arg1 + arg2)\n",
    "\n",
    "# add_nums()  # Error\n",
    "\n",
    "add_nums(5, 10) # call it with the arguments"
   ]
  },
  {
   "cell_type": "markdown",
   "metadata": {},
   "source": [
    "or"
   ]
  },
  {
   "cell_type": "code",
   "execution_count": 7,
   "metadata": {},
   "outputs": [
    {
     "name": "stdout",
     "output_type": "stream",
     "text": [
      "5\n"
     ]
    }
   ],
   "source": [
    "add_nums(arg1=2, arg2=3) # call it with the arguments"
   ]
  },
  {
   "cell_type": "markdown",
   "metadata": {},
   "source": [
    "what will Happen if we put a string in one of the arguments?"
   ]
  },
  {
   "cell_type": "code",
   "execution_count": 9,
   "metadata": {},
   "outputs": [],
   "source": [
    "# add_nums(3, 'not a number!')"
   ]
  },
  {
   "cell_type": "markdown",
   "metadata": {},
   "source": [
    "What will happen if both arguments are strings?"
   ]
  },
  {
   "cell_type": "code",
   "execution_count": 10,
   "metadata": {},
   "outputs": [
    {
     "name": "stdout",
     "output_type": "stream",
     "text": [
      "not a number! also not a number!\n"
     ]
    }
   ],
   "source": [
    "add_nums('not a number!', ' also not a number!')"
   ]
  },
  {
   "cell_type": "markdown",
   "metadata": {},
   "source": [
    "Return\n",
    "\n",
    "printing is nice but usually not practical enough."
   ]
  },
  {
   "cell_type": "code",
   "execution_count": 11,
   "metadata": {},
   "outputs": [
    {
     "name": "stdout",
     "output_type": "stream",
     "text": [
      "6\n",
      "6\n"
     ]
    }
   ],
   "source": [
    "def multiply(arg1, arg2):\n",
    "    print(arg1 * arg2)\n",
    "\n",
    "multiply(2, 3)\n",
    "\n",
    "x = multiply(2, 3)"
   ]
  },
  {
   "cell_type": "code",
   "execution_count": 12,
   "metadata": {},
   "outputs": [
    {
     "name": "stdout",
     "output_type": "stream",
     "text": [
      "None\n"
     ]
    }
   ],
   "source": [
    "print(x)"
   ]
  },
  {
   "cell_type": "markdown",
   "metadata": {},
   "source": [
    "* x does not contain anything. \n",
    "  If we want to continue working with the result of the \n",
    "  calculation we did in the function, we have to use another way.\n",
    "\n",
    "* The 'return' command allows us to output a value \n",
    "  so we can work with it or store it in a variable"
   ]
  },
  {
   "cell_type": "code",
   "execution_count": 13,
   "metadata": {},
   "outputs": [],
   "source": [
    "def multiply(arg1, arg2):\n",
    "    return arg1 * arg2"
   ]
  },
  {
   "cell_type": "code",
   "execution_count": 14,
   "metadata": {},
   "outputs": [
    {
     "name": "stdout",
     "output_type": "stream",
     "text": [
      "6\n"
     ]
    }
   ],
   "source": [
    "print (multiply(2, 3))"
   ]
  },
  {
   "cell_type": "code",
   "execution_count": 15,
   "metadata": {},
   "outputs": [],
   "source": [
    "x = multiply(2, 3)"
   ]
  },
  {
   "cell_type": "code",
   "execution_count": 16,
   "metadata": {},
   "outputs": [
    {
     "name": "stdout",
     "output_type": "stream",
     "text": [
      "6\n"
     ]
    }
   ],
   "source": [
    "print(x)"
   ]
  },
  {
   "cell_type": "markdown",
   "metadata": {},
   "source": [
    "<b> Demo 1 </b>"
   ]
  },
  {
   "cell_type": "code",
   "execution_count": 17,
   "metadata": {},
   "outputs": [],
   "source": [
    "def numVowels(string):\n",
    "    string = string.lower()\n",
    "    count = 0\n",
    "    for i in range(len(string)):\n",
    "        if string[i] == \"a\" or string[i] == \"e\" \\\n",
    "                or string[i] == \"i\" or string[i] == \"u\" \\\n",
    "                or string[i] == \"u\":\n",
    "            count += 1\n",
    "    return count"
   ]
  },
  {
   "cell_type": "markdown",
   "metadata": {},
   "source": [
    "<b> Demo 2 </b>\n",
    "\n",
    "The asterisk (*) allows to define a function with unlimited parameters"
   ]
  },
  {
   "cell_type": "code",
   "execution_count": 18,
   "metadata": {},
   "outputs": [],
   "source": [
    "def multiply(*nums):\n",
    "    total = 1\n",
    "    for num in nums:\n",
    "        total *= num\n",
    "    return total"
   ]
  },
  {
   "cell_type": "code",
   "execution_count": 19,
   "metadata": {},
   "outputs": [
    {
     "name": "stdout",
     "output_type": "stream",
     "text": [
      "120\n"
     ]
    }
   ],
   "source": [
    "print(multiply(1,2,3,4,5))"
   ]
  }
 ],
 "metadata": {
  "kernelspec": {
   "display_name": "Python 3",
   "language": "python",
   "name": "python3"
  },
  "language_info": {
   "codemirror_mode": {
    "name": "ipython",
    "version": 3
   },
   "file_extension": ".py",
   "mimetype": "text/x-python",
   "name": "python",
   "nbconvert_exporter": "python",
   "pygments_lexer": "ipython3",
   "version": "3.6.4"
  }
 },
 "nbformat": 4,
 "nbformat_minor": 2
}
