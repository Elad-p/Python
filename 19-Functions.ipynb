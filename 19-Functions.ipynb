{
 "cells": [
  {
   "cell_type": "markdown",
   "metadata": {},
   "source": [
    "# <font color=\"blue\"> Chapter 19 - Functions in Python </font>\n",
    "\n",
    "\n",
    "* Functions allows us to bundle a set of instructions that we want <br/>\n",
    "  to use repeatedly or that, because of their complexity, are better <br/>\n",
    "  self-contained in a sub-program and called when needed. <br/>\n",
    "  This helps simplefy our code and keep it \"DRY\"\n",
    "  (Don't Repeat Yourself)\n",
    "* To carry out that specific task, the function might or might not \n",
    "  need multiple inputs from us. <br/>These inputs are called parameteres, or arguments. \n",
    "* When the task is carried out, the function may or may not return \n",
    "  one or more values.\n",
    "\n",
    "* There are three types of functions in Python:\n",
    "  * Built-in functions, such as  min(), len(), or print() \n",
    "  * User-Defined Functions (UDFs), which are functions that users create\n",
    "  * Anonymous functions - which are also called lambda functions \n",
    "    which are not declared with the standard def keyword.<br/> (more on these on a later notebook)"
   ]
  },
  {
   "cell_type": "code",
   "execution_count": 1,
   "metadata": {},
   "outputs": [
    {
     "data": {
      "text/html": [
       "<iframe width=\"840\" height=\"473\" src=\"https://www.youtube.com/embed/o0wyYsNbJeY\" frameborder=\"0\" allow=\"accelerometer; autoplay; encrypted-media; gyroscope; picture-in-picture\" allowfullscreen></iframe>\n"
      ],
      "text/plain": [
       "<IPython.core.display.HTML object>"
      ]
     },
     "metadata": {},
     "output_type": "display_data"
    }
   ],
   "source": [
    "%%html\n",
    "<iframe width=\"840\" height=\"473\" src=\"https://www.youtube.com/embed/o0wyYsNbJeY\" frameborder=\"0\" allow=\"accelerometer; autoplay; encrypted-media; gyroscope; picture-in-picture\" allowfullscreen></iframe>"
   ]
  },
  {
   "cell_type": "markdown",
   "metadata": {},
   "source": [
    "### Defining a function:"
   ]
  },
  {
   "cell_type": "code",
   "execution_count": 2,
   "metadata": {},
   "outputs": [],
   "source": [
    "def useless_func():\n",
    "    pass"
   ]
  },
  {
   "cell_type": "markdown",
   "metadata": {},
   "source": [
    "***Naming Conventions***\n",
    "* Function names should be in lowercase, with words separated by underscores \n",
    "  as necessary to improve readability.\n",
    "\n",
    "* pass is used when a statement is required syntactically, but we do not \n",
    "  want any command or code to execute. <br/>The pass statement is a null operation; \n",
    "  nothing happens when it executes. "
   ]
  },
  {
   "cell_type": "code",
   "execution_count": 4,
   "metadata": {},
   "outputs": [
    {
     "name": "stdout",
     "output_type": "stream",
     "text": [
      "None\n"
     ]
    }
   ],
   "source": [
    "print(useless_func())"
   ]
  },
  {
   "cell_type": "markdown",
   "metadata": {},
   "source": [
    "* We can also use commands such as print() within our function"
   ]
  },
  {
   "cell_type": "code",
   "execution_count": 3,
   "metadata": {},
   "outputs": [
    {
     "name": "stdout",
     "output_type": "stream",
     "text": [
      "Not entirely uselss..\n"
     ]
    }
   ],
   "source": [
    "def useless_func():\n",
    "    print(\"Not entirely uselss..\")\n",
    "\n",
    "useless_func()"
   ]
  },
  {
   "cell_type": "markdown",
   "metadata": {},
   "source": [
    "### Arguments"
   ]
  },
  {
   "cell_type": "code",
   "execution_count": 2,
   "metadata": {},
   "outputs": [
    {
     "data": {
      "text/html": [
       "<iframe width=\"840\" height=\"473\" src=\"https://www.youtube.com/embed/wdzLNeeiz_A\" frameborder=\"0\" allow=\"accelerometer; autoplay; encrypted-media; gyroscope; picture-in-picture\" allowfullscreen></iframe>\n"
      ],
      "text/plain": [
       "<IPython.core.display.HTML object>"
      ]
     },
     "metadata": {},
     "output_type": "display_data"
    }
   ],
   "source": [
    "%%html\n",
    "<iframe width=\"840\" height=\"473\" src=\"https://www.youtube.com/embed/wdzLNeeiz_A\" frameborder=\"0\" allow=\"accelerometer; autoplay; encrypted-media; gyroscope; picture-in-picture\" allowfullscreen></iframe>"
   ]
  },
  {
   "cell_type": "code",
   "execution_count": 6,
   "metadata": {},
   "outputs": [
    {
     "name": "stdout",
     "output_type": "stream",
     "text": [
      "15\n"
     ]
    }
   ],
   "source": [
    "def add_nums(arg1, arg2):\n",
    "    print(arg1 + arg2)\n",
    "\n",
    "# add_nums()  # Error\n",
    "\n",
    "add_nums(5, 10) # call it with the arguments"
   ]
  },
  {
   "cell_type": "markdown",
   "metadata": {},
   "source": [
    "or"
   ]
  },
  {
   "cell_type": "code",
   "execution_count": 7,
   "metadata": {},
   "outputs": [
    {
     "name": "stdout",
     "output_type": "stream",
     "text": [
      "5\n"
     ]
    }
   ],
   "source": [
    "add_nums(arg1=2, arg2=3) # call it with the arguments"
   ]
  },
  {
   "cell_type": "markdown",
   "metadata": {},
   "source": [
    "what will Happen if we put a string in one of the arguments?"
   ]
  },
  {
   "cell_type": "code",
   "execution_count": 9,
   "metadata": {},
   "outputs": [],
   "source": [
    "# add_nums(3, 'not a number!')"
   ]
  },
  {
   "cell_type": "markdown",
   "metadata": {},
   "source": [
    "What will happen if both arguments are strings?"
   ]
  },
  {
   "cell_type": "code",
   "execution_count": 10,
   "metadata": {},
   "outputs": [
    {
     "name": "stdout",
     "output_type": "stream",
     "text": [
      "not a number! also not a number!\n"
     ]
    }
   ],
   "source": [
    "add_nums('not a number!', ' also not a number!')"
   ]
  },
  {
   "cell_type": "markdown",
   "metadata": {},
   "source": [
    "Arguments in python are \"typeless\", meaning we can call a function with any argument with any type - We can't define a specific type for an argument, and we don't have a way fr the function to check for type validity (unless we explicitly write the code to do so within the body of the function itself. **However**, we do have a way to \"signal\" what the type of each argument **shoud** be, as well as what type the function should be returning\""
   ]
  },
  {
   "cell_type": "code",
   "execution_count": 6,
   "metadata": {},
   "outputs": [
    {
     "name": "stdout",
     "output_type": "stream",
     "text": [
      "13\n"
     ]
    }
   ],
   "source": [
    "def add_nums(arg1: int, arg2: int) -> int:\n",
    "    print(arg1 + arg2)\n",
    "    \n",
    "add_nums(5,8)"
   ]
  },
  {
   "cell_type": "markdown",
   "metadata": {},
   "source": [
    "### Return\n",
    "\n",
    "printing is nice but usually not practical enough."
   ]
  },
  {
   "cell_type": "code",
   "execution_count": 3,
   "metadata": {},
   "outputs": [
    {
     "data": {
      "text/html": [
       "<iframe width=\"840\" height=\"473\" src=\"https://www.youtube.com/embed/FCz-aGYdzP8\" frameborder=\"0\" allow=\"accelerometer; autoplay; encrypted-media; gyroscope; picture-in-picture\" allowfullscreen></iframe>\n"
      ],
      "text/plain": [
       "<IPython.core.display.HTML object>"
      ]
     },
     "metadata": {},
     "output_type": "display_data"
    }
   ],
   "source": [
    "%%html\n",
    "<iframe width=\"840\" height=\"473\" src=\"https://www.youtube.com/embed/FCz-aGYdzP8\" frameborder=\"0\" allow=\"accelerometer; autoplay; encrypted-media; gyroscope; picture-in-picture\" allowfullscreen></iframe>"
   ]
  },
  {
   "cell_type": "code",
   "execution_count": 11,
   "metadata": {},
   "outputs": [
    {
     "name": "stdout",
     "output_type": "stream",
     "text": [
      "6\n",
      "6\n"
     ]
    }
   ],
   "source": [
    "def multiply(arg1, arg2):\n",
    "    print(arg1 * arg2)\n",
    "\n",
    "multiply(2, 3)\n",
    "\n",
    "x = multiply(2, 3)"
   ]
  },
  {
   "cell_type": "code",
   "execution_count": 12,
   "metadata": {},
   "outputs": [
    {
     "name": "stdout",
     "output_type": "stream",
     "text": [
      "None\n"
     ]
    }
   ],
   "source": [
    "print(x)"
   ]
  },
  {
   "cell_type": "markdown",
   "metadata": {},
   "source": [
    "* x does not contain anything. \n",
    "  If we want to continue working with the result of the \n",
    "  calculation we did in the function, we have to use another way.\n",
    "\n",
    "* The 'return' command allows us to output a value \n",
    "  so we can work with it or store it in a variable"
   ]
  },
  {
   "cell_type": "code",
   "execution_count": 13,
   "metadata": {},
   "outputs": [],
   "source": [
    "def multiply(arg1, arg2):\n",
    "    return arg1 * arg2"
   ]
  },
  {
   "cell_type": "code",
   "execution_count": 14,
   "metadata": {},
   "outputs": [
    {
     "name": "stdout",
     "output_type": "stream",
     "text": [
      "6\n"
     ]
    }
   ],
   "source": [
    "print (multiply(2, 3))"
   ]
  },
  {
   "cell_type": "code",
   "execution_count": 15,
   "metadata": {},
   "outputs": [],
   "source": [
    "x = multiply(2, 3)"
   ]
  },
  {
   "cell_type": "code",
   "execution_count": 16,
   "metadata": {},
   "outputs": [
    {
     "name": "stdout",
     "output_type": "stream",
     "text": [
      "6\n"
     ]
    }
   ],
   "source": [
    "print(x)"
   ]
  },
  {
   "cell_type": "markdown",
   "metadata": {},
   "source": [
    "**Demo** - Count the number of vowels in a text"
   ]
  },
  {
   "cell_type": "code",
   "execution_count": 8,
   "metadata": {},
   "outputs": [
    {
     "name": "stdout",
     "output_type": "stream",
     "text": [
      "11\n"
     ]
    }
   ],
   "source": [
    "def CountVowels(string):\n",
    "    count = 0\n",
    "    for letter in string.lower():\n",
    "        if letter in ['a','e','i','u','o']:\n",
    "            count += 1\n",
    "    return count\n",
    "\n",
    "print(CountVowels('How many vowels are in this sentence?'))"
   ]
  },
  {
   "cell_type": "markdown",
   "metadata": {},
   "source": [
    "### Docstring\n",
    "We can specify a description text right after the def statementand before the body of the function. This is known as \"docstring\" and is used to give more information on the purpuse of the function and how it operates."
   ]
  },
  {
   "cell_type": "code",
   "execution_count": 11,
   "metadata": {},
   "outputs": [],
   "source": [
    "def CountVowels(string):\n",
    "    '''This function accepts a string as an input and return the number of vowels in that string'''\n",
    "    count = 0\n",
    "    for letter in string.lower():\n",
    "        if letter in ['a','e','i','u','o']:\n",
    "            count += 1\n",
    "    return count"
   ]
  },
  {
   "cell_type": "markdown",
   "metadata": {},
   "source": [
    "In each IDE or other development environment, we can observe information about functions in different ways. In Jupyter we can do that by using the Shift+Tab shortkey, or type an **?** before the name of the function. Notice the docstring apears in both cases."
   ]
  },
  {
   "cell_type": "code",
   "execution_count": 14,
   "metadata": {},
   "outputs": [],
   "source": [
    "?CountVowels"
   ]
  },
  {
   "cell_type": "markdown",
   "metadata": {},
   "source": [
    "### args & kwargs\n",
    "**args** (Arguments) and **kwargs** (Keyword Arguments) are conventions for specifying arrays of unlimited amounts of parameters we can get for our functions. They can be named anything but they have a prefix of an astrisk (arguments in a tuple) and two asterisks (arguments in a dictionary)"
   ]
  },
  {
   "cell_type": "code",
   "execution_count": 16,
   "metadata": {},
   "outputs": [
    {
     "name": "stdout",
     "output_type": "stream",
     "text": [
      "362880\n"
     ]
    }
   ],
   "source": [
    "def multiply_numbers(*args):\n",
    "    total = 1\n",
    "    for num in args:\n",
    "        total *= num\n",
    "    return total\n",
    "\n",
    "print(multiply_numbers(1,2,3,4,5,6,7,8,9))"
   ]
  },
  {
   "cell_type": "markdown",
   "metadata": {},
   "source": [
    "We can use the \"unpacking technique on 1 or more arrays"
   ]
  },
  {
   "cell_type": "code",
   "execution_count": 20,
   "metadata": {},
   "outputs": [
    {
     "name": "stdout",
     "output_type": "stream",
     "text": [
      "362880\n"
     ]
    }
   ],
   "source": [
    "numbers = [1,2,3]\n",
    "numbers2 = [4,5,6]\n",
    "numbers3 = [7,8,9]\n",
    "print(multiply_numbers(*numbers,*numbers2, *numbers3))"
   ]
  },
  {
   "cell_type": "code",
   "execution_count": 22,
   "metadata": {},
   "outputs": [
    {
     "name": "stdout",
     "output_type": "stream",
     "text": [
      "size 20\n",
      "font Arial\n",
      "color Blue\n",
      "margin 1.5\n"
     ]
    }
   ],
   "source": [
    "def format_text(**kwargs):\n",
    "    for feature, value in kwargs.items():\n",
    "        print(feature, value)\n",
    "        \n",
    "format_text(size = 20, font = 'Arial', color = 'Blue', margin = 1.5)"
   ]
  },
  {
   "cell_type": "code",
   "execution_count": null,
   "metadata": {},
   "outputs": [],
   "source": []
  }
 ],
 "metadata": {
  "kernelspec": {
   "display_name": "Python 3",
   "language": "python",
   "name": "python3"
  },
  "language_info": {
   "codemirror_mode": {
    "name": "ipython",
    "version": 3
   },
   "file_extension": ".py",
   "mimetype": "text/x-python",
   "name": "python",
   "nbconvert_exporter": "python",
   "pygments_lexer": "ipython3",
   "version": "3.8.5"
  }
 },
 "nbformat": 4,
 "nbformat_minor": 2
}
