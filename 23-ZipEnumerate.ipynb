{
 "cells": [
  {
   "cell_type": "markdown",
   "metadata": {},
   "source": [
    "# Zip & Enumerate"
   ]
  },
  {
   "cell_type": "code",
   "execution_count": 1,
   "metadata": {},
   "outputs": [
    {
     "data": {
      "text/html": [
       "<iframe width=\"840\" height=\"473\" src=\"https://www.youtube.com/embed/tKippVMbsEI\" frameborder=\"0\" allow=\"accelerometer; autoplay; encrypted-media; gyroscope; picture-in-picture\" allowfullscreen></iframe>"
      ],
      "text/plain": [
       "<IPython.core.display.HTML object>"
      ]
     },
     "metadata": {},
     "output_type": "display_data"
    }
   ],
   "source": [
    "%%html\n",
    "<iframe width=\"840\" height=\"473\" src=\"https://www.youtube.com/embed/tKippVMbsEI\" frameborder=\"0\" allow=\"accelerometer; autoplay; encrypted-media; gyroscope; picture-in-picture\" allowfullscreen></iframe>"
   ]
  },
  {
   "cell_type": "markdown",
   "metadata": {
    "hide_input": false
   },
   "source": [
    "<b> Zip </b>\n",
    "\n",
    "The Zip function makes an iterator that aggregates elements from each of the iterables."
   ]
  },
  {
   "cell_type": "code",
   "execution_count": 2,
   "metadata": {},
   "outputs": [],
   "source": [
    "l1_first_name = ['Rick', 'Mark', 'Morty']\n",
    "l2_last_name = ['Sanchez', 'Johnson', 'Smith']\n",
    "l3_employee_code = [60321234, 83234321, 93233343]"
   ]
  },
  {
   "cell_type": "markdown",
   "metadata": {},
   "source": [
    "Returned object\n",
    "\n",
    "zip object\n",
    "In Python3, zip methods returns a zip object instead of a tuple.\n",
    "This zip object is an iterator. Iterators are lazily evaluated."
   ]
  },
  {
   "cell_type": "code",
   "execution_count": 3,
   "metadata": {},
   "outputs": [
    {
     "name": "stdout",
     "output_type": "stream",
     "text": [
      "<zip object at 0x056821E8>\n"
     ]
    }
   ],
   "source": [
    "print(zip(l1_first_name,l2_last_name, l3_employee_code))"
   ]
  },
  {
   "cell_type": "markdown",
   "metadata": {},
   "source": [
    "return it as a list"
   ]
  },
  {
   "cell_type": "code",
   "execution_count": 4,
   "metadata": {},
   "outputs": [
    {
     "name": "stdout",
     "output_type": "stream",
     "text": [
      "[('Rick', 'Sanchez'), ('Mark', 'Johnson'), ('Morty', 'Smith')]\n"
     ]
    }
   ],
   "source": [
    "print(list(zip(l1_first_name, l2_last_name)))"
   ]
  },
  {
   "cell_type": "code",
   "execution_count": 5,
   "metadata": {},
   "outputs": [
    {
     "name": "stdout",
     "output_type": "stream",
     "text": [
      "[('Rick', 'Sanchez', 60321234), ('Mark', 'Johnson', 83234321), ('Morty', 'Smith', 93233343)]\n"
     ]
    }
   ],
   "source": [
    "print(list(zip(l1_first_name, l2_last_name, l3_employee_code)))"
   ]
  },
  {
   "cell_type": "markdown",
   "metadata": {},
   "source": [
    "return it as a tuple"
   ]
  },
  {
   "cell_type": "code",
   "execution_count": 6,
   "metadata": {},
   "outputs": [
    {
     "name": "stdout",
     "output_type": "stream",
     "text": [
      "(('Rick', 'Sanchez', 60321234), ('Mark', 'Johnson', 83234321), ('Morty', 'Smith', 93233343))\n"
     ]
    }
   ],
   "source": [
    "print(tuple(zip(l1_first_name, l2_last_name, l3_employee_code)))"
   ]
  },
  {
   "cell_type": "markdown",
   "metadata": {},
   "source": [
    "retrun it as a dictionary\n",
    "\n",
    "Error - cannot create a dictionary from more than 2 items\n",
    "print(dict(zip(l1_first_name, l2_last_name, l3_employee_code)))"
   ]
  },
  {
   "cell_type": "code",
   "execution_count": 7,
   "metadata": {},
   "outputs": [
    {
     "name": "stdout",
     "output_type": "stream",
     "text": [
      "{60321234: 'Sanchez', 83234321: 'Johnson', 93233343: 'Smith'}\n"
     ]
    }
   ],
   "source": [
    "print(dict(zip(l3_employee_code, l2_last_name)))"
   ]
  },
  {
   "cell_type": "markdown",
   "metadata": {},
   "source": [
    "Zip a tuple"
   ]
  },
  {
   "cell_type": "code",
   "execution_count": 8,
   "metadata": {},
   "outputs": [],
   "source": [
    "l1_first_name = ('Rick', 'Mark', 'Morty')\n",
    "l2_last_name = ('Sanchez', 'Johnson', 'Smith')\n",
    "l3_employee_code = (60321234, 83234321, 93233343)"
   ]
  },
  {
   "cell_type": "code",
   "execution_count": 9,
   "metadata": {},
   "outputs": [
    {
     "name": "stdout",
     "output_type": "stream",
     "text": [
      "(('Rick', 'Sanchez', 60321234), ('Mark', 'Johnson', 83234321), ('Morty', 'Smith', 93233343))\n"
     ]
    }
   ],
   "source": [
    "print(tuple(zip(l1_first_name, l2_last_name, l3_employee_code)))"
   ]
  },
  {
   "cell_type": "markdown",
   "metadata": {},
   "source": [
    "Zip a dictionary"
   ]
  },
  {
   "cell_type": "code",
   "execution_count": 10,
   "metadata": {},
   "outputs": [],
   "source": [
    "l1_first_name = {1:'Rick', 2:'Mark', 3:'Morty'}\n",
    "l2_last_name = {1:'Sanchez', 2:'Johnson', 3:'Smith'}\n",
    "l3_employee_code = {1:60321234, 2:83234321, 3:93233343}"
   ]
  },
  {
   "cell_type": "markdown",
   "metadata": {},
   "source": [
    "Zip keys"
   ]
  },
  {
   "cell_type": "code",
   "execution_count": 11,
   "metadata": {},
   "outputs": [
    {
     "name": "stdout",
     "output_type": "stream",
     "text": [
      "[(1, 1, 1), (2, 2, 2), (3, 3, 3)]\n"
     ]
    }
   ],
   "source": [
    "print(list(zip(l1_first_name, l2_last_name, l3_employee_code)))"
   ]
  },
  {
   "cell_type": "code",
   "execution_count": 12,
   "metadata": {},
   "outputs": [
    {
     "name": "stdout",
     "output_type": "stream",
     "text": [
      "[(1, 1, 1), (2, 2, 2), (3, 3, 3)]\n"
     ]
    }
   ],
   "source": [
    "print(list(zip(l1_first_name.keys(), l2_last_name.keys(), l3_employee_code.keys())))"
   ]
  },
  {
   "cell_type": "markdown",
   "metadata": {},
   "source": [
    "Zip Values"
   ]
  },
  {
   "cell_type": "code",
   "execution_count": 13,
   "metadata": {},
   "outputs": [
    {
     "name": "stdout",
     "output_type": "stream",
     "text": [
      "[('Rick', 'Sanchez', 60321234), ('Mark', 'Johnson', 83234321), ('Morty', 'Smith', 93233343)]\n"
     ]
    }
   ],
   "source": [
    "print(list(zip(l1_first_name.values(), l2_last_name.values(), l3_employee_code.values())))"
   ]
  },
  {
   "cell_type": "markdown",
   "metadata": {},
   "source": [
    "combine key and values"
   ]
  },
  {
   "cell_type": "code",
   "execution_count": 14,
   "metadata": {},
   "outputs": [],
   "source": [
    "list_values = list(zip(l1_first_name.values(), l2_last_name.values(), l3_employee_code.values()))\n",
    "list_keys = l1_first_name.keys()"
   ]
  },
  {
   "cell_type": "code",
   "execution_count": 15,
   "metadata": {},
   "outputs": [
    {
     "name": "stdout",
     "output_type": "stream",
     "text": [
      "[(1, ('Rick', 'Sanchez', 60321234)), (2, ('Mark', 'Johnson', 83234321)), (3, ('Morty', 'Smith', 93233343))]\n"
     ]
    }
   ],
   "source": [
    "print(list(zip(list_keys, list_values)))"
   ]
  },
  {
   "cell_type": "markdown",
   "metadata": {},
   "source": [
    "Zip unequal number of items\n",
    "If the sequences have different lengths, zip will be limited by the shortest one"
   ]
  },
  {
   "cell_type": "code",
   "execution_count": 16,
   "metadata": {},
   "outputs": [],
   "source": [
    "l1_first_name = ['Rick', 'Mark', 'Morty']\n",
    "l2_last_name = ['Sanchez', 'Johnson', 'Smith']\n",
    "l3_employee_code = [60321234, 83234321, 93233343]\n",
    "l4_city = ['Tel-Aviv','London','New York','Tveria']"
   ]
  },
  {
   "cell_type": "code",
   "execution_count": 17,
   "metadata": {},
   "outputs": [
    {
     "name": "stdout",
     "output_type": "stream",
     "text": [
      "[('Rick', 'Sanchez', 60321234, 'Tel-Aviv'), ('Mark', 'Johnson', 83234321, 'London'), ('Morty', 'Smith', 93233343, 'New York')]\n"
     ]
    }
   ],
   "source": [
    "print(list(zip(l1_first_name, l2_last_name, l3_employee_code, l4_city)))"
   ]
  },
  {
   "cell_type": "markdown",
   "metadata": {},
   "source": [
    "Loop through a zip\n",
    "Use a loop on zip to find the biggest from each sequence"
   ]
  },
  {
   "cell_type": "code",
   "execution_count": 19,
   "metadata": {},
   "outputs": [],
   "source": [
    "s1 = (1, 5, 7, 2, 9)\n",
    "s2 = (3, 8, 4, 7, 1)\n",
    "s3 = (6, 2, 9, 1, 6)\n",
    "\n",
    "my_list = list(zip(s1, s2, s3))"
   ]
  },
  {
   "cell_type": "code",
   "execution_count": 20,
   "metadata": {},
   "outputs": [
    {
     "name": "stdout",
     "output_type": "stream",
     "text": [
      "[(1, 3, 6), (5, 8, 2), (7, 4, 9), (2, 7, 1), (9, 1, 6)]\n"
     ]
    }
   ],
   "source": [
    "print(my_list)"
   ]
  },
  {
   "cell_type": "code",
   "execution_count": 21,
   "metadata": {},
   "outputs": [
    {
     "name": "stdout",
     "output_type": "stream",
     "text": [
      "6\n",
      "8\n",
      "9\n",
      "7\n",
      "9\n"
     ]
    }
   ],
   "source": [
    "for sub_list in my_list:\n",
    "    highest_num = 0\n",
    "    for item in sub_list:\n",
    "        if item > highest_num:\n",
    "            highest_num = item\n",
    "    print(highest_num)"
   ]
  },
  {
   "cell_type": "markdown",
   "metadata": {},
   "source": [
    "<b> Enumerate </b>\n",
    "\n",
    "* A very common task in Python is defining a counter to display our position within\n",
    "  a sequence or just keep track of it for variuos reasons\n",
    "\n",
    "* The enumerate() function adds a counter to an iterable.\n",
    "  <br> So for each element in cursor, a tuple is produced with (counter, element);\n",
    "  the for loop binds that to row_number and row, respectively."
   ]
  },
  {
   "cell_type": "code",
   "execution_count": 22,
   "metadata": {},
   "outputs": [
    {
     "name": "stdout",
     "output_type": "stream",
     "text": [
      "Hello 0\n",
      "how 1\n",
      "are 2\n",
      "you 3\n"
     ]
    }
   ],
   "source": [
    "some_words = ['Hello', 'how', 'are', 'you']\n",
    "\n",
    "counter = 0\n",
    "for word in some_words:\n",
    "    print(word, counter)\n",
    "    counter += 1"
   ]
  },
  {
   "cell_type": "markdown",
   "metadata": {},
   "source": [
    "We can use enumerate to simplify this process"
   ]
  },
  {
   "cell_type": "code",
   "execution_count": 23,
   "metadata": {},
   "outputs": [
    {
     "name": "stdout",
     "output_type": "stream",
     "text": [
      "Hello 0\n",
      "how 1\n",
      "are 2\n",
      "you 3\n"
     ]
    }
   ],
   "source": [
    "for i, word in enumerate(some_words):\n",
    "    print(word, i)"
   ]
  },
  {
   "cell_type": "markdown",
   "metadata": {},
   "source": [
    "Useally you want the counter to start from 0 (the default) <br>\n",
    "If you want to change that, you can give a second argument to enumerate."
   ]
  },
  {
   "cell_type": "markdown",
   "metadata": {},
   "source": [
    "`i` starts from 250"
   ]
  },
  {
   "cell_type": "code",
   "execution_count": 25,
   "metadata": {},
   "outputs": [
    {
     "name": "stdout",
     "output_type": "stream",
     "text": [
      "10 250\n",
      "12 251\n",
      "14 252\n",
      "16 253\n",
      "18 254\n",
      "20 255\n",
      "22 256\n",
      "24 257\n",
      "26 258\n",
      "28 259\n"
     ]
    }
   ],
   "source": [
    "for i, num in enumerate(range(10, 30, 2),250):\n",
    "    print(num,i)\n",
    "    if i == 7:\n",
    "        break"
   ]
  },
  {
   "cell_type": "markdown",
   "metadata": {},
   "source": [
    "`i` starts from 250, increment by 2"
   ]
  },
  {
   "cell_type": "code",
   "execution_count": 26,
   "metadata": {},
   "outputs": [
    {
     "name": "stdout",
     "output_type": "stream",
     "text": [
      "10 252\n",
      "12 253\n",
      "14 254\n",
      "16 255\n",
      "18 256\n",
      "20 257\n",
      "22 258\n",
      "24 259\n",
      "26 260\n",
      "28 261\n"
     ]
    }
   ],
   "source": [
    "for i, num in enumerate(range(10, 30, 2),250):\n",
    "    print(num,i+2)\n",
    "    if i == 7:\n",
    "        break"
   ]
  },
  {
   "cell_type": "markdown",
   "metadata": {},
   "source": [
    "`i` starts from 250, increment by -1"
   ]
  },
  {
   "cell_type": "code",
   "execution_count": 27,
   "metadata": {},
   "outputs": [
    {
     "name": "stdout",
     "output_type": "stream",
     "text": [
      "10 250\n",
      "12 249\n",
      "14 248\n",
      "16 247\n",
      "18 246\n",
      "20 245\n",
      "22 244\n",
      "24 243\n",
      "26 242\n",
      "28 241\n"
     ]
    }
   ],
   "source": [
    "start_pos = 250\n",
    "for i, num in enumerate(range(10, 30, 2),start_pos):\n",
    "    print(num,start_pos*2-i)\n",
    "    if i == 7:\n",
    "        break"
   ]
  },
  {
   "cell_type": "markdown",
   "metadata": {},
   "source": [
    "You can also use it to pairs of values"
   ]
  },
  {
   "cell_type": "code",
   "execution_count": 28,
   "metadata": {},
   "outputs": [],
   "source": [
    "some_words = ['Hello', 'how', 'are', 'you']"
   ]
  },
  {
   "cell_type": "code",
   "execution_count": 29,
   "metadata": {},
   "outputs": [
    {
     "name": "stdout",
     "output_type": "stream",
     "text": [
      "<enumerate object at 0x000002DB4D734BD0>\n"
     ]
    }
   ],
   "source": [
    "print(enumerate(some_words))  # enumerate object"
   ]
  },
  {
   "cell_type": "code",
   "execution_count": 30,
   "metadata": {},
   "outputs": [
    {
     "name": "stdout",
     "output_type": "stream",
     "text": [
      "[(0, 'Hello'), (1, 'how'), (2, 'are'), (3, 'you')]\n"
     ]
    }
   ],
   "source": [
    "print(list(enumerate(some_words)))  # list of tuples"
   ]
  },
  {
   "cell_type": "code",
   "execution_count": 31,
   "metadata": {},
   "outputs": [
    {
     "name": "stdout",
     "output_type": "stream",
     "text": [
      "((0, 'Hello'), (1, 'how'), (2, 'are'), (3, 'you'))\n"
     ]
    }
   ],
   "source": [
    "print(tuple(enumerate(some_words)))  # nested tuple"
   ]
  },
  {
   "cell_type": "code",
   "execution_count": 32,
   "metadata": {},
   "outputs": [
    {
     "name": "stdout",
     "output_type": "stream",
     "text": [
      "{0: 'Hello', 1: 'how', 2: 'are', 3: 'you'}\n"
     ]
    }
   ],
   "source": [
    "print(dict(enumerate(some_words)))  # or even a dictionary"
   ]
  }
 ],
 "metadata": {
  "kernelspec": {
   "display_name": "Python 3",
   "language": "python",
   "name": "python3"
  },
  "language_info": {
   "codemirror_mode": {
    "name": "ipython",
    "version": 3
   },
   "file_extension": ".py",
   "mimetype": "text/x-python",
   "name": "python",
   "nbconvert_exporter": "python",
   "pygments_lexer": "ipython3",
   "version": "3.6.5"
  }
 },
 "nbformat": 4,
 "nbformat_minor": 2
}
