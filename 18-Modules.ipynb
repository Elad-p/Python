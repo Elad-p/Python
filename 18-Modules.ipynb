{
 "cells": [
  {
   "cell_type": "markdown",
   "metadata": {},
   "source": [
    "# <font color=\"blue\"> Chapter 18 - Modules </font>\n",
    "\n",
    "* A module is a Python file that (generally) has only definitions of variables,\n",
    "  functions, and classes.\n",
    "* Python code in one module gains access to the code in another module by\n",
    "  the process of importing it.\n",
    "* The import statement is the most common way of invoking the import machinery"
   ]
  },
  {
   "cell_type": "markdown",
   "metadata": {},
   "source": [
    "<b> Built-in Modules </b>\n",
    "\n",
    ".py files located under the lib directory (for example C:\\Python36\\Lib)"
   ]
  },
  {
   "cell_type": "code",
   "execution_count": 2,
   "metadata": {},
   "outputs": [],
   "source": [
    "import random"
   ]
  },
  {
   "cell_type": "code",
   "execution_count": 3,
   "metadata": {},
   "outputs": [
    {
     "name": "stdout",
     "output_type": "stream",
     "text": [
      "C:\\Users\\Ram\\Anaconda3\\lib\\random.py\n"
     ]
    }
   ],
   "source": [
    "print(random.__file__)"
   ]
  },
  {
   "cell_type": "code",
   "execution_count": 4,
   "metadata": {},
   "outputs": [],
   "source": [
    "randomNum = random.randint(1, 100)"
   ]
  },
  {
   "cell_type": "code",
   "execution_count": 5,
   "metadata": {},
   "outputs": [
    {
     "name": "stdout",
     "output_type": "stream",
     "text": [
      "90\n"
     ]
    }
   ],
   "source": [
    "print(randomNum)"
   ]
  },
  {
   "cell_type": "markdown",
   "metadata": {},
   "source": [
    "Giving alias to a module"
   ]
  },
  {
   "cell_type": "code",
   "execution_count": 6,
   "metadata": {},
   "outputs": [],
   "source": [
    "import random as rd\n",
    "randomNum = rd.randint(1, 100)"
   ]
  },
  {
   "cell_type": "code",
   "execution_count": 7,
   "metadata": {},
   "outputs": [
    {
     "name": "stdout",
     "output_type": "stream",
     "text": [
      "5\n"
     ]
    }
   ],
   "source": [
    "print(randomNum)"
   ]
  },
  {
   "cell_type": "markdown",
   "metadata": {},
   "source": [
    "Import specific function from a module."
   ]
  },
  {
   "cell_type": "code",
   "execution_count": 8,
   "metadata": {},
   "outputs": [],
   "source": [
    "from random import randint\n",
    "randomNum = randint(1, 100)  # module name is not required in this case"
   ]
  },
  {
   "cell_type": "code",
   "execution_count": 9,
   "metadata": {},
   "outputs": [
    {
     "name": "stdout",
     "output_type": "stream",
     "text": [
      "57\n"
     ]
    }
   ],
   "source": [
    "print(randomNum)"
   ]
  },
  {
   "cell_type": "markdown",
   "metadata": {},
   "source": [
    "Import all of the functions from a specific module"
   ]
  },
  {
   "cell_type": "code",
   "execution_count": 10,
   "metadata": {},
   "outputs": [],
   "source": [
    "from random import *\n",
    "\n",
    "randomNum = randint(1, 100)  # Again, module name is not required in this case"
   ]
  },
  {
   "cell_type": "code",
   "execution_count": 11,
   "metadata": {},
   "outputs": [
    {
     "name": "stdout",
     "output_type": "stream",
     "text": [
      "74\n"
     ]
    }
   ],
   "source": [
    "print(randomNum)"
   ]
  },
  {
   "cell_type": "markdown",
   "metadata": {},
   "source": [
    "When we import a module Python looks for that module in a number of places, starting from the scripts current location which we can find by using the \"pwd\" command (Jupyter Notebook only)\n",
    "The rest of the locations can be viewed as a list of paths with the help of the sys module"
   ]
  },
  {
   "cell_type": "code",
   "execution_count": 2,
   "metadata": {},
   "outputs": [],
   "source": [
    "import sys\n",
    "\n",
    "print(sys.path)"
   ]
  },
  {
   "cell_type": "markdown",
   "metadata": {},
   "source": [
    "We can add addiotional locations by adding more values to this list"
   ]
  },
  {
   "cell_type": "code",
   "execution_count": 6,
   "metadata": {},
   "outputs": [],
   "source": [
    "sys.path.append('D:\\\\Python')"
   ]
  },
  {
   "cell_type": "markdown",
   "metadata": {},
   "source": [
    "<b> User Defined Modules </b>\n",
    "\n",
    "Simply create a .py file in the lib directory and import it"
   ]
  },
  {
   "cell_type": "code",
   "execution_count": null,
   "metadata": {},
   "outputs": [],
   "source": [
    "\"\"\"\n",
    "mymodule.py\n",
    "\"\"\"\n",
    "\n",
    "def my_avg(x,y):\n",
    "    return (x+y)/2\n",
    "\n",
    "import mymodule as md\n",
    "\n",
    "md.my_avg(6,3)"
   ]
  },
  {
   "cell_type": "markdown",
   "metadata": {},
   "source": [
    "<b> Packages </b>\n",
    "\n",
    "* A package is just a directory tree with some Python files in it.\n",
    "  If you want to tell Python that a certain directory is a package\n",
    "  then create a file called __init__.py and just place it in there.\n",
    "\n",
    "* __init__.py can be an empty file but it is often used to perform\n",
    " setup needed for the package(import things, load things into path, etc).\n",
    "\n",
    "* One common thing to do in your __init__.py is to import selected Classes,\n",
    "  functions, etc into the package level so they can be convieniently\n",
    "  imported from the package."
   ]
  },
  {
   "cell_type": "code",
   "execution_count": null,
   "metadata": {},
   "outputs": [],
   "source": [
    "\"\"\"\n",
    "C:\\Python36\\Lib\\mypckg>tree /F\n",
    "Folder PATH listing for volume OS\n",
    "Volume serial number is 908F-40C2\n",
    "C:.\n",
    "├───lib1\n",
    "│       mymodule.py\n",
    "│       __init__.py\n",
    "│\n",
    "└───lib2\n",
    "        mymodule.py\n",
    "        __init__.py\n",
    "\"\"\"\n",
    "\n",
    "import lib1.mymodule as pck\n",
    "\n",
    "pck.x(4)"
   ]
  },
  {
   "cell_type": "markdown",
   "metadata": {},
   "source": [
    "How imports should be written :\n",
    "\n",
    "https://www.python.org/dev/peps/pep-0008/#imports\n",
    "\n",
    "* Imports should usually be on separate lines, e.g.: \n",
    "\n",
    "`import os`<br/>\n",
    "`import sys`\n",
    "\n",
    "* No:  `import sys, os`\n",
    "* It's okay to say this though: `from subprocess import Popen, PIPE`\n",
    "\n",
    "* Imports are always put at the top of the file, just after any module comments and docstrings, and before module globals and constants"
   ]
  },
  {
   "cell_type": "code",
   "execution_count": null,
   "metadata": {},
   "outputs": [],
   "source": []
  }
 ],
 "metadata": {
  "kernelspec": {
   "display_name": "Python 3",
   "language": "python",
   "name": "python3"
  },
  "language_info": {
   "codemirror_mode": {
    "name": "ipython",
    "version": 3
   },
   "file_extension": ".py",
   "mimetype": "text/x-python",
   "name": "python",
   "nbconvert_exporter": "python",
   "pygments_lexer": "ipython3",
   "version": "3.7.3"
  }
 },
 "nbformat": 4,
 "nbformat_minor": 2
}
