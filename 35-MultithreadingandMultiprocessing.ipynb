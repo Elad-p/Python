{
 "cells": [
  {
   "cell_type": "markdown",
   "metadata": {},
   "source": [
    "MultiProcessing and Multi-threading. \n",
    "\n",
    "MultiProcessing and Multi-threading\n",
    "\n",
    "Multi-threading\n",
    "* Multiple threads live in the same process in the same space, each thread will do a\n",
    "  specific task, have its own code, own stack memory, instruction pointer,\n",
    "  and share heap memory. If a thread has a memory leak it can damage the other threads\n",
    "  and parent process.\n",
    "* One problem arises because threads use the same memory heap, multiple threads can\n",
    "  write to the same location in the memory heap which is why the global\n",
    "  interpreter lock(GIL) in CPython was created as a mutex to prevent it from happening\n",
    "\n",
    "MultiProcessing\n",
    "* In multi-processing different processes have different address space.\n",
    "  Thus creating multiple processes is costly compare to threads\n",
    "\n",
    "Multi-threading\n",
    "\n",
    "Demo 1 - Sequential Processing  "
   ]
  },
  {
   "cell_type": "code",
   "execution_count": null,
   "metadata": {
    "collapsed": false
   },
   "outputs": [],
   "source": [
    "import time\n",
    "import threading\n",
    "\n",
    "def calc_square(numbers):\n",
    "    print(\"calculate square numbers\")\n",
    "    for n in numbers:\n",
    "        time.sleep(0.2)\n",
    "        print('square:',n*n)\n",
    "\n",
    "\n",
    "def calc_cube(numbers):\n",
    "    print(\"calculate cube of numbers\")\n",
    "    for n in numbers:\n",
    "        time.sleep(0.2)\n",
    "        print('cube:',n*n*n)\n",
    "\n",
    "arr = [2,3,8,9]\n",
    "\n",
    "t = time.time()\n",
    "\n",
    "calc_square(arr)\n",
    "calc_cube(arr)"
   ]
  },
  {
   "cell_type": "code",
   "execution_count": null,
   "metadata": {
    "collapsed": false
   },
   "outputs": [],
   "source": [
    "print(\"done in : \",time.time()-t)"
   ]
  },
  {
   "cell_type": "markdown",
   "metadata": {},
   "source": [
    "Demo 2 - Initializing a Thread "
   ]
  },
  {
   "cell_type": "code",
   "execution_count": null,
   "metadata": {
    "collapsed": false
   },
   "outputs": [],
   "source": [
    "import threading\n",
    "import time\n",
    "\n",
    "def calc_square(numbers):\n",
    "    print(\"calculate square numbers\")\n",
    "    for n in numbers:\n",
    "        time.sleep(0.3)\n",
    "        print('square:',n*n)\n",
    "\n",
    "arr = [2,3,8,9]\n",
    "\n",
    "t1= threading.Thread(target=calc_square, args=(arr,))\n",
    "\n",
    "t1.start()"
   ]
  },
  {
   "cell_type": "code",
   "execution_count": null,
   "metadata": {
    "collapsed": false
   },
   "outputs": [],
   "source": [
    "print(\"Main Thread - Print this line while 'calc_square' is being executed ...\")"
   ]
  },
  {
   "cell_type": "markdown",
   "metadata": {},
   "source": [
    "Demo 3 - Using the join() Method "
   ]
  },
  {
   "cell_type": "code",
   "execution_count": null,
   "metadata": {
    "collapsed": false
   },
   "outputs": [],
   "source": [
    "import threading\n",
    "import time\n",
    "\n",
    "def calc_square(numbers):\n",
    "    print(\"calculate square numbers\")\n",
    "    for n in numbers:\n",
    "        time.sleep(0.3)\n",
    "        print('square:',n*n)\n",
    "\n",
    "arr = [2,3,8,9]\n",
    "\n",
    "t1= threading.Thread(target=calc_square, args=(arr,))\n",
    "\n",
    "t1.start()\n",
    "t1.join()"
   ]
  },
  {
   "cell_type": "code",
   "execution_count": null,
   "metadata": {
    "collapsed": false
   },
   "outputs": [],
   "source": [
    "print(\"Main Thread - Print this line after 'calc_square' was executed ...\")"
   ]
  },
  {
   "cell_type": "markdown",
   "metadata": {},
   "source": [
    "Demo 4 -  Multithreading"
   ]
  },
  {
   "cell_type": "code",
   "execution_count": null,
   "metadata": {
    "collapsed": false
   },
   "outputs": [],
   "source": [
    "import time\n",
    "import threading\n",
    "\n",
    "def calc_square(numbers):\n",
    "    print(\"calculate square numbers\")\n",
    "    for n in numbers:\n",
    "        time.sleep(0.2)\n",
    "        print('square:',n*n)\n",
    "\n",
    "\n",
    "def calc_cube(numbers):\n",
    "    print(\"calculate cube of numbers\")\n",
    "    for n in numbers:\n",
    "        time.sleep(0.2)\n",
    "        print('cube:',n*n*n)\n",
    "\n",
    "arr = [2,3,8,9]\n",
    "\n",
    "t = time.time()\n",
    "\n",
    "t1= threading.Thread(target=calc_square, args=(arr,))\n",
    "t2= threading.Thread(target=calc_cube, args=(arr,))\n",
    "\n",
    "t1.start()\n",
    "t2.start()\n",
    "\n",
    "t1.join()\n",
    "t2.join()"
   ]
  },
  {
   "cell_type": "code",
   "execution_count": null,
   "metadata": {
    "collapsed": false
   },
   "outputs": [],
   "source": [
    "print(\"done in : \",time.time()-t)"
   ]
  },
  {
   "cell_type": "markdown",
   "metadata": {},
   "source": [
    "Demo 5 -  Daemon Threads, Part 1\n",
    "Presenting the problem "
   ]
  },
  {
   "cell_type": "code",
   "execution_count": null,
   "metadata": {
    "collapsed": false
   },
   "outputs": [],
   "source": [
    "import threading\n",
    "import time\n",
    "\n",
    "total = 4\n",
    "\n",
    "def creates_items_1():\n",
    "    global total\n",
    "    for i in range(10):\n",
    "        time.sleep(1)\n",
    "        total += 1\n",
    "        print('creates_items_1 : added item, total is now {}'.format(total))\n",
    "    print('---------- creates_items_1 : Done ----------')"
   ]
  },
  {
   "cell_type": "markdown",
   "metadata": {},
   "source": [
    "creates_items_1()"
   ]
  },
  {
   "cell_type": "code",
   "execution_count": null,
   "metadata": {
    "collapsed": false
   },
   "outputs": [],
   "source": [
    "def creates_items_2():\n",
    "    global total\n",
    "    for i in range(7):\n",
    "        time.sleep(1)\n",
    "        total += 1\n",
    "        print('creates_items_2 : added item, total is now {}'.format(total))\n",
    "    print('---------- creates_items_2 : Done ----------')"
   ]
  },
  {
   "cell_type": "markdown",
   "metadata": {},
   "source": [
    "creates_items_2()"
   ]
  },
  {
   "cell_type": "code",
   "execution_count": null,
   "metadata": {
    "collapsed": false
   },
   "outputs": [],
   "source": [
    "def limits_items():\n",
    "\n",
    "    global total\n",
    "    while True:\n",
    "        if total > 5:\n",
    "\n",
    "            print('limits_items : overload')\n",
    "            total -= 3\n",
    "            print('limits_items : subtracted 3')\n",
    "        else:\n",
    "            time.sleep(1)\n",
    "            print('limits_items : waiting')\n",
    "\n",
    "creator1 = threading.Thread(target=creates_items_1)\n",
    "creator2 = threading.Thread(target=creates_items_2)\n",
    "limitor = threading.Thread(target=limits_items)\n",
    "\n",
    "creator1.start()\n",
    "creator2.start()\n",
    "limitor.start()\n",
    "\n",
    "creator1.join()\n",
    "creator2.join()\n",
    "limitor.join()"
   ]
  },
  {
   "cell_type": "markdown",
   "metadata": {},
   "source": [
    "we'll never get to the end of the program "
   ]
  },
  {
   "cell_type": "code",
   "execution_count": null,
   "metadata": {
    "collapsed": false
   },
   "outputs": [],
   "source": [
    "print('---------- End of Program ----------')"
   ]
  },
  {
   "cell_type": "markdown",
   "metadata": {},
   "source": [
    "Demo 6 -  Daemon Threads, Part 2\n",
    "Removing limitor.join()"
   ]
  },
  {
   "cell_type": "code",
   "execution_count": null,
   "metadata": {
    "collapsed": false
   },
   "outputs": [],
   "source": [
    "import threading\n",
    "import time\n",
    "\n",
    "total = 4\n",
    "\n",
    "def creates_items_1():\n",
    "    global total\n",
    "    for i in range(10):\n",
    "        time.sleep(1)\n",
    "        total += 1\n",
    "        print('creates_items_1 : added item, total is now {}'.format(total))\n",
    "    print('---------- creates_items_1 : Done ----------')"
   ]
  },
  {
   "cell_type": "markdown",
   "metadata": {},
   "source": [
    "creates_items_1()"
   ]
  },
  {
   "cell_type": "code",
   "execution_count": null,
   "metadata": {
    "collapsed": false
   },
   "outputs": [],
   "source": [
    "def creates_items_2():\n",
    "    global total\n",
    "    for i in range(7):\n",
    "        time.sleep(1)\n",
    "        total += 1\n",
    "        print('creates_items_2 : added item, total is now {}'.format(total))\n",
    "    print('---------- creates_items_2 : Done ----------')"
   ]
  },
  {
   "cell_type": "markdown",
   "metadata": {},
   "source": [
    "creates_items_2()"
   ]
  },
  {
   "cell_type": "code",
   "execution_count": null,
   "metadata": {
    "collapsed": false
   },
   "outputs": [],
   "source": [
    "def limits_items():\n",
    "\n",
    "    global total\n",
    "    while True:\n",
    "        if total > 5:\n",
    "\n",
    "            print('limits_items : overload')\n",
    "            total -= 3\n",
    "            print('limits_items : subtracted 3')\n",
    "        else:\n",
    "            time.sleep(1)\n",
    "            print('limits_items : waiting')\n",
    "\n",
    "creator1 = threading.Thread(target=creates_items_1)\n",
    "creator2 = threading.Thread(target=creates_items_2)\n",
    "limitor = threading.Thread(target=limits_items)\n",
    "\n",
    "creator1.start()\n",
    "creator2.start()\n",
    "limitor.start()\n",
    "\n",
    "creator1.join()\n",
    "creator2.join()"
   ]
  },
  {
   "cell_type": "markdown",
   "metadata": {},
   "source": [
    "limitor.join()\n",
    "\n",
    "Now this line will be printed, but still  limitor.join() will continue to run endlessly "
   ]
  },
  {
   "cell_type": "code",
   "execution_count": null,
   "metadata": {
    "collapsed": false
   },
   "outputs": [],
   "source": [
    "print('---------- End of Program ----------')"
   ]
  },
  {
   "cell_type": "markdown",
   "metadata": {},
   "source": [
    "Demo 7 -  Daemon Threads, Part 3\n",
    "Adding daemon=True"
   ]
  },
  {
   "cell_type": "code",
   "execution_count": null,
   "metadata": {
    "collapsed": false
   },
   "outputs": [],
   "source": [
    "import threading\n",
    "import time\n",
    "\n",
    "total = 4\n",
    "\n",
    "\n",
    "def creates_items_1():\n",
    "    global total\n",
    "    for i in range(10):\n",
    "        time.sleep(1)\n",
    "        total += 1\n",
    "        print('creates_items_1 : added item, total is now {}'.format(total))\n",
    "    print('---------- creates_items_1 : Done ----------')"
   ]
  },
  {
   "cell_type": "markdown",
   "metadata": {},
   "source": [
    "creates_items_1()"
   ]
  },
  {
   "cell_type": "code",
   "execution_count": null,
   "metadata": {
    "collapsed": false
   },
   "outputs": [],
   "source": [
    "def creates_items_2():\n",
    "    global total\n",
    "    for i in range(7):\n",
    "        time.sleep(1)\n",
    "        total += 1\n",
    "        print('creates_items_2 : added item, total is now {}'.format(total))\n",
    "    print('---------- creates_items_2 : Done ----------')"
   ]
  },
  {
   "cell_type": "markdown",
   "metadata": {},
   "source": [
    "creates_items_2()"
   ]
  },
  {
   "cell_type": "code",
   "execution_count": null,
   "metadata": {
    "collapsed": false
   },
   "outputs": [],
   "source": [
    "def limits_items():\n",
    "\n",
    "    global total\n",
    "    while True:\n",
    "        if total > 5:\n",
    "\n",
    "            print('limits_items : overload')\n",
    "            total -= 3\n",
    "            print('limits_items : subtracted 3')\n",
    "        else:\n",
    "            time.sleep(1)\n",
    "            print('limits_items : waiting')\n",
    "\n",
    "\n",
    "creator1 = threading.Thread(target=creates_items_1)\n",
    "creator2 = threading.Thread(target=creates_items_2)\n",
    "limitor = threading.Thread(target=limits_items, daemon=True)\n",
    "\n",
    "creator1.start()\n",
    "creator2.start()\n",
    "limitor.start()\n",
    "\n",
    "creator1.join()\n",
    "creator2.join()"
   ]
  },
  {
   "cell_type": "markdown",
   "metadata": {},
   "source": [
    "limitor.join()"
   ]
  },
  {
   "cell_type": "code",
   "execution_count": null,
   "metadata": {
    "collapsed": false
   },
   "outputs": [],
   "source": [
    "print('---------- End of Program ----------')"
   ]
  },
  {
   "cell_type": "markdown",
   "metadata": {},
   "source": [
    "MultiProcessing \n",
    "\n",
    "Demo 1 - Simple MultiProcessing "
   ]
  },
  {
   "cell_type": "code",
   "execution_count": null,
   "metadata": {
    "collapsed": false
   },
   "outputs": [],
   "source": [
    "import time\n",
    "import multiprocessing\n",
    "\n",
    "\n",
    "def calc_square(numbers):\n",
    "    for n in numbers:\n",
    "        time.sleep(1)\n",
    "        print('square ' + str(n * n))\n",
    "\n",
    "\n",
    "def calc_cube(numbers):\n",
    "    for n in numbers:\n",
    "        time.sleep(1)\n",
    "        print('cube ' + str(n * n * n))\n",
    "\n",
    "\n",
    "if __name__ == \"__main__\":\n",
    "    arr = [2, 3, 8, 16, 32, 41, 53]\n",
    "    p1 = multiprocessing.Process(target=calc_square, args=(arr,))\n",
    "    p2 = multiprocessing.Process(target=calc_cube, args=(arr,))\n",
    "\n",
    "    p1.start()\n",
    "    p2.start()\n",
    "\n",
    "    p1.join()\n",
    "    p2.join()\n",
    "\n",
    "    print(\"Done!\")"
   ]
  },
  {
   "cell_type": "markdown",
   "metadata": {},
   "source": [
    "Demo 2 - Store the result in a global variable"
   ]
  },
  {
   "cell_type": "code",
   "execution_count": null,
   "metadata": {
    "collapsed": false
   },
   "outputs": [],
   "source": [
    "import time\n",
    "import multiprocessing\n",
    "\n",
    "\n",
    "square_result = []\n",
    "\n",
    "\n",
    "def calc_square(numbers):\n",
    "    global square_result\n",
    "    for n in numbers:\n",
    "        time.sleep(1)\n",
    "        print('square ' + str(n * n))\n",
    "        square_result.append(n*n)\n",
    "    print(\"Outside the process - square_result : {}\".format(square_result))\n",
    "\n",
    "\n",
    "if __name__ == \"__main__\":\n",
    "    arr = [2, 3, 8, 16]\n",
    "    p1 = multiprocessing.Process(target=calc_square, args=(arr,))\n",
    "\n",
    "    p1.start()\n",
    "    p1.join()\n",
    "\n",
    "    print(\"Done!\")\n",
    "    print(\"Outside the process - square_result : {}\".format(square_result))"
   ]
  },
  {
   "cell_type": "markdown",
   "metadata": {},
   "source": [
    "Demo 3 - Share Data \n",
    "Option 1 - Shared Array"
   ]
  },
  {
   "cell_type": "code",
   "execution_count": null,
   "metadata": {
    "collapsed": false
   },
   "outputs": [],
   "source": [
    "import multiprocessing\n",
    "\n",
    "\n",
    "def calc_square(numbers, result):\n",
    "    for idx, n in enumerate(numbers):\n",
    "        result[idx] = n*n\n",
    "\n",
    "\n",
    "if __name__ == \"__main__\":\n",
    "    numbers = [2,3,5]\n",
    "    result = multiprocessing.Array('i',3) # i stands for integer, d for float (double)\n",
    "    p = multiprocessing.Process(target=calc_square, args=(numbers, result))\n",
    "\n",
    "    p.start()\n",
    "    p.join()\n",
    "\n",
    "    print(list(result))"
   ]
  },
  {
   "cell_type": "markdown",
   "metadata": {},
   "source": [
    "Demo 4 - Share Data \n",
    "Option 2 - Shared Value"
   ]
  },
  {
   "cell_type": "code",
   "execution_count": null,
   "metadata": {
    "collapsed": false
   },
   "outputs": [],
   "source": [
    "import multiprocessing\n",
    "\n",
    "\n",
    "def calc_square(numbers, shared_array, shared_value):\n",
    "    shared_value.value = 3.54\n",
    "    for idx, n in enumerate(numbers):\n",
    "        shared_array[idx] = n*n\n",
    "\n",
    "\n",
    "if __name__ == \"__main__\":\n",
    "    numbers = [2,3,5]\n",
    "    shared_array = multiprocessing.Array('i',3) # i stands for integer, d for float (double)\n",
    "    shared_value = multiprocessing.Value('d', 0.0)\n",
    "    p = multiprocessing.Process(target=calc_square, args=(numbers, shared_array, shared_value))\n",
    "\n",
    "    p.start()\n",
    "    p.join()\n",
    "\n",
    "    print(list(shared_array))\n",
    "    print(shared_value.value)"
   ]
  },
  {
   "cell_type": "markdown",
   "metadata": {},
   "source": [
    "Demo 5 - Share Data \n",
    "Option 3 - Shared Queue"
   ]
  },
  {
   "cell_type": "code",
   "execution_count": null,
   "metadata": {
    "collapsed": false
   },
   "outputs": [],
   "source": [
    "import multiprocessing\n",
    "\n",
    "\n",
    "def calc_square(numbers, q):\n",
    "    for n in numbers:\n",
    "        q.put(n*n)\n",
    "\n",
    "\n",
    "if __name__ == \"__main__\":\n",
    "    numbers = [2,3,5]\n",
    "    q = multiprocessing.Queue()\n",
    "    p = multiprocessing.Process(target=calc_square, args=(numbers,q))\n",
    "\n",
    "    p.start()\n",
    "    p.join()\n",
    "\n",
    "    while q.empty() is False:\n",
    "        print(q.get())"
   ]
  },
  {
   "cell_type": "markdown",
   "metadata": {},
   "source": [
    "Demo 6 - Locks\n",
    "Introducing the problem "
   ]
  },
  {
   "cell_type": "code",
   "execution_count": null,
   "metadata": {
    "collapsed": false
   },
   "outputs": [],
   "source": [
    "import time\n",
    "import multiprocessing\n",
    "\n",
    "def deposit(balance, lock):\n",
    "    for i in range(100):\n",
    "        time.sleep(0.01)\n",
    "        balance.value = balance.value + 1\n",
    "\n",
    "\n",
    "def withdraw(balance, lock):\n",
    "    for i in range(100):\n",
    "        time.sleep(0.01)\n",
    "        balance.value = balance.value - 1\n",
    "\n",
    "if __name__ == '__main__':\n",
    "    balance = multiprocessing.Value('i', 200)\n",
    "    lock = multiprocessing.Lock()\n",
    "    d = multiprocessing.Process(target=deposit, args=(balance,lock))\n",
    "    w = multiprocessing.Process(target=withdraw, args=(balance,lock))\n",
    "    d.start()\n",
    "    w.start()\n",
    "    d.join()\n",
    "    w.join()\n",
    "    print(balance.value)"
   ]
  },
  {
   "cell_type": "markdown",
   "metadata": {},
   "source": [
    "Demo 7 - Locks\n",
    "lock.acquire() & lock.release()"
   ]
  },
  {
   "cell_type": "code",
   "execution_count": null,
   "metadata": {
    "collapsed": false
   },
   "outputs": [],
   "source": [
    "import time\n",
    "import multiprocessing\n",
    "\n",
    "def deposit(balance, lock):\n",
    "    for i in range(100):\n",
    "        time.sleep(0.01)\n",
    "        lock.acquire()\n",
    "        balance.value = balance.value + 1\n",
    "        lock.release()\n",
    "\n",
    "def withdraw(balance, lock):\n",
    "    for i in range(100):\n",
    "        time.sleep(0.01)\n",
    "        lock.acquire()\n",
    "        balance.value = balance.value - 1\n",
    "        lock.release()\n",
    "\n",
    "if __name__ == '__main__':\n",
    "    balance = multiprocessing.Value('i', 200)\n",
    "    lock = multiprocessing.Lock()\n",
    "    d = multiprocessing.Process(target=deposit, args=(balance,lock))\n",
    "    w = multiprocessing.Process(target=withdraw, args=(balance,lock))\n",
    "    d.start()\n",
    "    w.start()\n",
    "    d.join()\n",
    "    w.join()\n",
    "    print(balance.value)"
   ]
  },
  {
   "cell_type": "markdown",
   "metadata": {},
   "source": [
    "Demo 8 - Locks\n",
    "with lock "
   ]
  },
  {
   "cell_type": "code",
   "execution_count": null,
   "metadata": {
    "collapsed": false
   },
   "outputs": [],
   "source": [
    "import time\n",
    "import multiprocessing\n",
    "\n",
    "def deposit(balance, lock):\n",
    "    for i in range(100):\n",
    "        time.sleep(0.01)\n",
    "        with lock:\n",
    "            balance.value = balance.value + 1\n",
    "\n",
    "def withdraw(balance, lock):\n",
    "    for i in range(100):\n",
    "        time.sleep(0.01)\n",
    "        with lock:\n",
    "            balance.value = balance.value - 1\n",
    "\n",
    "if __name__ == '__main__':\n",
    "    balance = multiprocessing.Value('i', 200)\n",
    "    lock = multiprocessing.Lock()\n",
    "    d = multiprocessing.Process(target=deposit, args=(balance,lock))\n",
    "    w = multiprocessing.Process(target=withdraw, args=(balance,lock))\n",
    "    d.start()\n",
    "    w.start()\n",
    "    d.join()\n",
    "    w.join()\n",
    "    print(balance.value)"
   ]
  },
  {
   "cell_type": "markdown",
   "metadata": {},
   "source": [
    "Demo 9 - Parallel Processing (MultiProcessing Pool)\n",
    "Utilizing a single cpu  "
   ]
  },
  {
   "cell_type": "code",
   "execution_count": null,
   "metadata": {
    "collapsed": false
   },
   "outputs": [],
   "source": [
    "my_arr = [1,2,3,4,5]\n",
    "output = []\n",
    "\n",
    "def f(n):\n",
    "    return n*n\n",
    "\n",
    "for number in my_arr:\n",
    "    output.append(f(number))"
   ]
  },
  {
   "cell_type": "code",
   "execution_count": null,
   "metadata": {
    "collapsed": false
   },
   "outputs": [],
   "source": [
    "print(output)"
   ]
  },
  {
   "cell_type": "markdown",
   "metadata": {},
   "source": [
    "Demo 10 - Parallel Processing (MultiProcessing Pool)\n",
    "Parallel Processing"
   ]
  },
  {
   "cell_type": "code",
   "execution_count": null,
   "metadata": {
    "collapsed": false
   },
   "outputs": [],
   "source": [
    "from multiprocessing import Pool\n",
    "import time\n",
    "\n",
    "def f(n):\n",
    "    # time.sleep(1) sleep to watch the processes in Task Manager\n",
    "    return n * n\n",
    "\n",
    "if __name__ == \"__main__\":\n",
    "    p = Pool(processes=3)\n",
    "    result = p.map(f, [1, 2, 3, 4, 5])\n",
    "    for n in result:\n",
    "        print(n)\n",
    "    p.close()\n",
    "    p.join()\n",
    "    print(\"End of program\")"
   ]
  },
  {
   "cell_type": "markdown",
   "metadata": {},
   "source": [
    "Demo 11 - Parallel Processing (MultiProcessing Pool)\n",
    "Performance Test"
   ]
  },
  {
   "cell_type": "code",
   "execution_count": null,
   "metadata": {
    "collapsed": false
   },
   "outputs": [],
   "source": [
    "from multiprocessing import Pool\n",
    "import time\n",
    "\n",
    "def f(n):\n",
    "    return n * n\n",
    "\n",
    "arr = list(range(10000000))\n",
    "\n",
    "if __name__ == \"__main__\":\n",
    "    p = Pool(processes=8)\n",
    "    t = time.time()\n",
    "    result = p.map(f, arr)\n",
    "    print(\"Time to complete : {}\".format(time.time() - t))\n",
    "    p.close()\n",
    "    p.join()\n",
    "    print(\"End of program\")"
   ]
  }
 ],
 "metadata": {},
 "nbformat": 4,
 "nbformat_minor": 2
}
