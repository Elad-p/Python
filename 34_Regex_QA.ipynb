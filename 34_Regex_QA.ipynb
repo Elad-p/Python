{
 "cells": [
  {
   "cell_type": "code",
   "execution_count": null,
   "metadata": {
    "collapsed": false
   },
   "outputs": [],
   "source": [
    "import re"
   ]
  },
  {
   "cell_type": "markdown",
   "metadata": {},
   "source": [
    "Demo 1 - sub ()\n",
    "sub()\n",
    "Return the string obtained by replacing the leftmost non-overlapping occurrences of the\n",
    "pattern in string by the replacement repl"
   ]
  },
  {
   "cell_type": "code",
   "execution_count": null,
   "metadata": {
    "collapsed": false
   },
   "outputs": [],
   "source": [
    "pattern = 'this'\n",
    "text = 'THIS Does this text match this pattern?'\n",
    "\n",
    "re.sub(pattern, 'that', text)"
   ]
  },
  {
   "cell_type": "markdown",
   "metadata": {},
   "source": [
    "Using count (count = 1, replace only the first occurrence)"
   ]
  },
  {
   "cell_type": "code",
   "execution_count": null,
   "metadata": {
    "collapsed": false
   },
   "outputs": [],
   "source": [
    "re.sub(pattern, 'that', text, count =1)"
   ]
  },
  {
   "cell_type": "markdown",
   "metadata": {},
   "source": [
    "Using flags, flags change the default behavior of the match"
   ]
  },
  {
   "cell_type": "code",
   "execution_count": null,
   "metadata": {
    "collapsed": false
   },
   "outputs": [],
   "source": [
    "re.sub(pattern, 'that', text, count =1, flags = re.IGNORECASE)"
   ]
  },
  {
   "cell_type": "markdown",
   "metadata": {},
   "source": [
    "subn()\n",
    "Return a 2-tuple containing (new_string, number).\n",
    "new_string is the string obtained by replacing the leftmost non-overlapping occurrences of the\n",
    "pattern in the source string by the replacement repl"
   ]
  },
  {
   "cell_type": "code",
   "execution_count": null,
   "metadata": {
    "collapsed": false
   },
   "outputs": [],
   "source": [
    "re.subn(pattern, 'that', text)\n",
    "\n",
    "re.subn(pattern, 'that', text, count =1, flags = re.IGNORECASE)"
   ]
  },
  {
   "cell_type": "markdown",
   "metadata": {},
   "source": [
    "Demo 2 - search ()\n",
    "\n",
    "search() takes the pattern and text to scan, and returns a Match object when the pattern is found.\n",
    "If the pattern is not found, search() returns None."
   ]
  },
  {
   "cell_type": "code",
   "execution_count": null,
   "metadata": {
    "collapsed": false
   },
   "outputs": [],
   "source": [
    "pattern = 'this'\n",
    "text = 'Does this text match the pattern?'\n",
    "\n",
    "re.search(pattern,text)"
   ]
  },
  {
   "cell_type": "code",
   "execution_count": null,
   "metadata": {
    "collapsed": false
   },
   "outputs": [],
   "source": [
    "print (re.search(pattern,text))"
   ]
  },
  {
   "cell_type": "code",
   "execution_count": null,
   "metadata": {
    "collapsed": false
   },
   "outputs": [],
   "source": [
    "if re.search(pattern,text):\n",
    "    print ('A match was found')\n",
    "else:\n",
    "    print ('No match was found')"
   ]
  },
  {
   "cell_type": "markdown",
   "metadata": {},
   "source": [
    "Demo 3 - search ()"
   ]
  },
  {
   "cell_type": "code",
   "execution_count": null,
   "metadata": {
    "collapsed": false
   },
   "outputs": [],
   "source": [
    "patterns = [ 'this', 'that' ]\n",
    "text = 'Does this text match the pattern?'\n",
    "\n",
    "for pattern in patterns:\n",
    "    print('Looking for \"{}\" in \"{}\" ->'.format(pattern, text))\n",
    "\n",
    "    if re.search(pattern,  text):\n",
    "        print('found a match!')\n",
    "    else:\n",
    "        print('no match')"
   ]
  },
  {
   "cell_type": "markdown",
   "metadata": {},
   "source": [
    "Demo 4\n",
    "match.start() / match.end()\n",
    "\n",
    "The Match object returned by search() holds information about the\n",
    "nature of the match, including the original input string, the regular\n",
    "expression used, and the location within the original string where the\n",
    "pattern occurs."
   ]
  },
  {
   "cell_type": "code",
   "execution_count": null,
   "metadata": {
    "collapsed": false
   },
   "outputs": [],
   "source": [
    "pattern = 'this'\n",
    "text = 'Does this text match this pattern?'\n",
    "\n",
    "match = re.search(pattern, text)\n",
    "\n",
    "s = match.start()\n",
    "e = match.end()"
   ]
  },
  {
   "cell_type": "code",
   "execution_count": null,
   "metadata": {
    "collapsed": false
   },
   "outputs": [],
   "source": [
    "print ('Found \"{}\" in \"{}\" from {} to {} (\"{}\")'.format(pattern, match.string, s, e, text[s:e]))"
   ]
  },
  {
   "cell_type": "markdown",
   "metadata": {},
   "source": [
    "Demo 5\n",
    "Multiple Matches\n",
    "Note that in the last example we had two \"this\" occurrences. How do we find them all ?"
   ]
  },
  {
   "cell_type": "code",
   "execution_count": null,
   "metadata": {
    "collapsed": false
   },
   "outputs": [],
   "source": [
    "pattern = 'this'\n",
    "text = 'Does this text match this pattern?'\n",
    "\n",
    "re.findall(pattern, text)"
   ]
  },
  {
   "cell_type": "code",
   "execution_count": null,
   "metadata": {
    "collapsed": false
   },
   "outputs": [],
   "source": [
    "print ('\"{}\" was found {} times'.format(pattern, len(re.findall(pattern, text))))"
   ]
  },
  {
   "cell_type": "code",
   "execution_count": null,
   "metadata": {
    "collapsed": false
   },
   "outputs": [],
   "source": [
    "for match in re.findall(pattern, text):\n",
    "    print(match.upper())"
   ]
  },
  {
   "cell_type": "markdown",
   "metadata": {},
   "source": [
    "Use finditer() to iterate through match objects in a given string"
   ]
  },
  {
   "cell_type": "code",
   "execution_count": null,
   "metadata": {
    "collapsed": false
   },
   "outputs": [],
   "source": [
    "re.finditer(pattern, text)\n",
    "\n",
    "for match in re.finditer(pattern, text):\n",
    "    s = match.start()\n",
    "    e = match.end()\n",
    "    print ('Found \"{}\" at {}:{}'.format(text[s:e], s, e))"
   ]
  },
  {
   "cell_type": "markdown",
   "metadata": {},
   "source": [
    "Demo 6\n",
    "Patterns"
   ]
  },
  {
   "cell_type": "code",
   "execution_count": null,
   "metadata": {
    "collapsed": false
   },
   "outputs": [],
   "source": [
    "def search_patterns(pattern, text):\n",
    "    status = 0\n",
    "    for match in re.finditer(pattern, text):\n",
    "        status = 1\n",
    "        s = match.start()\n",
    "        e = match.end()\n",
    "        print('Found \"{}\" at {}:{}'.format(text[s:e], s, e))\n",
    "    if status == 0:\n",
    "        print('No match was found')\n",
    "\n",
    "\n",
    "text = 'abbaaabbbbaaaaa'"
   ]
  },
  {
   "cell_type": "markdown",
   "metadata": {},
   "source": [
    "The letters \"ab\""
   ]
  },
  {
   "cell_type": "code",
   "execution_count": null,
   "metadata": {
    "collapsed": false
   },
   "outputs": [],
   "source": [
    "search_patterns('ab', text)"
   ]
  },
  {
   "cell_type": "markdown",
   "metadata": {},
   "source": [
    "The letters \"zz"
   ]
  },
  {
   "cell_type": "code",
   "execution_count": null,
   "metadata": {
    "collapsed": false
   },
   "outputs": [],
   "source": [
    "search_patterns('zz', text)"
   ]
  },
  {
   "cell_type": "markdown",
   "metadata": {},
   "source": [
    "a followed by zero or more b"
   ]
  },
  {
   "cell_type": "code",
   "execution_count": null,
   "metadata": {
    "collapsed": false
   },
   "outputs": [],
   "source": [
    "search_patterns('ab*', text)"
   ]
  },
  {
   "cell_type": "markdown",
   "metadata": {},
   "source": [
    "a followed by one or more b"
   ]
  },
  {
   "cell_type": "code",
   "execution_count": null,
   "metadata": {
    "collapsed": false
   },
   "outputs": [],
   "source": [
    "search_patterns('ab+', text)"
   ]
  },
  {
   "cell_type": "markdown",
   "metadata": {},
   "source": [
    "a followed by zero or one b"
   ]
  },
  {
   "cell_type": "code",
   "execution_count": null,
   "metadata": {
    "collapsed": false
   },
   "outputs": [],
   "source": [
    "search_patterns('ab?', text)"
   ]
  },
  {
   "cell_type": "markdown",
   "metadata": {},
   "source": [
    "a followed by three b"
   ]
  },
  {
   "cell_type": "code",
   "execution_count": null,
   "metadata": {
    "collapsed": false
   },
   "outputs": [],
   "source": [
    "search_patterns('ab{3}', text)"
   ]
  },
  {
   "cell_type": "markdown",
   "metadata": {},
   "source": [
    "a followed by between two to three b"
   ]
  },
  {
   "cell_type": "code",
   "execution_count": null,
   "metadata": {
    "collapsed": false
   },
   "outputs": [],
   "source": [
    "search_patterns('ab{2,3}', text)"
   ]
  },
  {
   "cell_type": "markdown",
   "metadata": {},
   "source": [
    "Demo 7 - Character Sets"
   ]
  },
  {
   "cell_type": "code",
   "execution_count": null,
   "metadata": {
    "collapsed": false
   },
   "outputs": [],
   "source": [
    "search_patterns('[ab]', string)    # either a or b\n",
    "\n",
    "search_patterns('a[ab]+', string)  # a followed by one or more a or b"
   ]
  },
  {
   "cell_type": "markdown",
   "metadata": {},
   "source": [
    "Demo 8 - Except\n",
    "\n",
    "A character set can also be used to exclude specific characters.\n",
    "The special marker ^ means to look for characters not in the set following.\n",
    "This pattern finds all of the substrings that do not contain the characters -, ., or a space."
   ]
  },
  {
   "cell_type": "code",
   "execution_count": null,
   "metadata": {
    "collapsed": false
   },
   "outputs": [],
   "source": [
    "string = 'This is some text -- with punctuation. Can we remove it? Yes, we can!'\n",
    "\n",
    "search_patterns('[^-.!? ]+', string) # sequences without -,.,!,? or space"
   ]
  },
  {
   "cell_type": "markdown",
   "metadata": {},
   "source": [
    "Demo 9 - Ranges\n",
    "\n",
    "As character sets grow larger, typing every character that should (or should not)\n",
    "match becomes tedious. A more compact format using character ranges lets you define\n",
    "a character set to include all of the contiguous characters between a start and\n",
    "stop point."
   ]
  },
  {
   "cell_type": "code",
   "execution_count": null,
   "metadata": {
    "collapsed": false
   },
   "outputs": [],
   "source": [
    "string = 'This is some text -- with punctuation.'\n",
    "\n",
    "search_patterns('[a-z]+',string)  # sequences of lower case letters\n",
    "\n",
    "search_patterns('[A-Z]+',string)  # sequences of upper case letters\n",
    "\n",
    "search_patterns('[a-zA-Z]+',string)  # sequences of lower or upper case letters\n",
    "\n",
    "search_patterns('[A-Z][a-z]+',string)  # one upper case letter followed by lower case letters"
   ]
  },
  {
   "cell_type": "markdown",
   "metadata": {},
   "source": [
    "Demo 10 - Ranges\n",
    "\n",
    "As a special case of a character set the metacharacter dot, or period (.),\n",
    "indicates that the pattern should match any single character in that position."
   ]
  },
  {
   "cell_type": "code",
   "execution_count": null,
   "metadata": {
    "collapsed": false
   },
   "outputs": [],
   "source": [
    "string = 'abbaaabbbbaaaaa'\n",
    "\n",
    "search_patterns('a.',string)  # a followed by any one character\n",
    "\n",
    "search_patterns('b.',string)  # b followed by any one character\n",
    "\n",
    "search_patterns('a.*b',string)  # a followed by anything, ending in b"
   ]
  },
  {
   "cell_type": "markdown",
   "metadata": {},
   "source": [
    "Demo 11 - Escape Codes\n",
    "\n",
    "Escape Codes\n",
    "\\d  a digit\n",
    "\\D  a non-digit\n",
    "\\s  whitespace (tab, space, newline, etc.)\n",
    "\\S  non-whitespace\n",
    "\\w  alphanumeric\n",
    "\\W  non-alphanumeric"
   ]
  },
  {
   "cell_type": "code",
   "execution_count": null,
   "metadata": {
    "collapsed": false
   },
   "outputs": [],
   "source": [
    "string = 'This is a prime #1 example!'\n",
    "\n",
    "search_patterns(r'\\d+', string)  # sequence of digits\n",
    "\n",
    "search_patterns(r'\\D+', string)  # sequence of non-digits\n",
    "\n",
    "search_patterns(r'\\s+', string)  # sequence of whitespace\n",
    "\n",
    "search_patterns(r'\\S+', string)  # sequence of non-whitespace\n",
    "\n",
    "search_patterns(r'\\w+', string)  # alphanumeric characters\n",
    "\n",
    "search_patterns(r'\\W+', string)  # non-alphanumeric"
   ]
  },
  {
   "cell_type": "markdown",
   "metadata": {},
   "source": [
    "Demo 12 - Anchoring\n",
    "\n",
    "Escape Codes\n",
    "\\d  a digit\n",
    "\\D  a non-digit\n",
    "\\s  whitespace (tab, space, newline, etc.)\n",
    "\\S  non-whitespace\n",
    "\\w  alphanumeric\n",
    "\\W  non-alphanumeric\n",
    "\n",
    "Anchors\n",
    "^   start of string, or line\n",
    "$   end of string, or line\n",
    "\\A  start of string\n",
    "\\Z  end of string\n",
    "\\b  empty string at the beginning or end of a word\n",
    "\\B  empty string not at the beginning or end of a word"
   ]
  },
  {
   "cell_type": "code",
   "execution_count": null,
   "metadata": {
    "collapsed": false
   },
   "outputs": [],
   "source": [
    "string = 'This is some text -- with punctuation.'\n",
    "\n",
    "search_patterns(r'^\\w+',string)  # word at start of string\n",
    "\n",
    "search_patterns(r'\\A\\w+',string)  # word at start of string\n",
    "\n",
    "search_patterns(r'\\w+\\S*$',string)  # word at end of string, with optional punctuation\n",
    "\n",
    "search_patterns(r'\\w+\\S*\\Z',string)  # word at end of string, with optional punctuation\n",
    "\n",
    "search_patterns(r'\\w*t\\w*',string)  # word containing 't'\n",
    "\n",
    "search_patterns(r'\\bt\\w+',string)  # 't' at start of word\n",
    "\n",
    "search_patterns(r'\\w+t\\b', string)  # 't' at end of word"
   ]
  },
  {
   "cell_type": "markdown",
   "metadata": {},
   "source": [
    "Demo 13 - Split"
   ]
  },
  {
   "cell_type": "code",
   "execution_count": null,
   "metadata": {
    "collapsed": false
   },
   "outputs": [],
   "source": [
    "string = 'root:0.0:superuser,/root;/bin/sh'\n",
    "\n",
    "re.split('[:.,;]', string)"
   ]
  }
 ],
 "metadata": {},
 "nbformat": 4,
 "nbformat_minor": 2
}
