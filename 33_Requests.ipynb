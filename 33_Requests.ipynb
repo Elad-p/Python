{
 "cells": [
  {
   "cell_type": "markdown",
   "metadata": {},
   "source": [
    "# Requests\n",
    "Install the library"
   ]
  },
  {
   "cell_type": "code",
   "execution_count": null,
   "metadata": {},
   "outputs": [],
   "source": [
    "!pip3 install requests"
   ]
  },
  {
   "cell_type": "markdown",
   "metadata": {},
   "source": [
    "Import the library"
   ]
  },
  {
   "cell_type": "code",
   "execution_count": 1,
   "metadata": {},
   "outputs": [],
   "source": [
    "import requests as req"
   ]
  },
  {
   "cell_type": "code",
   "execution_count": 23,
   "metadata": {},
   "outputs": [
    {
     "data": {
      "text/plain": [
       "<Response [200]>"
      ]
     },
     "execution_count": 23,
     "metadata": {},
     "output_type": "execute_result"
    }
   ],
   "source": [
    "url = 'https://facebook.com'\n",
    "req.get(url)"
   ]
  },
  {
   "cell_type": "markdown",
   "metadata": {},
   "source": [
    "http response codes are divided to a few categories:\n",
    "- 200s mark a success\n",
    "- 300s mark redirects\n",
    "- 400s are client (user) errors (like typing a wrong address or trying to access a page you don't have permission to view)\n",
    "- 500s are server errors (like a site crash, server down etc.)"
   ]
  },
  {
   "cell_type": "code",
   "execution_count": 28,
   "metadata": {},
   "outputs": [
    {
     "data": {
      "text/plain": [
       "200"
      ]
     },
     "execution_count": 28,
     "metadata": {},
     "output_type": "execute_result"
    }
   ],
   "source": [
    "facebook = req.get(url)\n",
    "facebook.status_code"
   ]
  },
  {
   "cell_type": "markdown",
   "metadata": {},
   "source": [
    "We can also check to see if we got an ok reponse (anything below 400 is considered a success)"
   ]
  },
  {
   "cell_type": "code",
   "execution_count": 35,
   "metadata": {},
   "outputs": [
    {
     "data": {
      "text/plain": [
       "True"
      ]
     },
     "execution_count": 35,
     "metadata": {},
     "output_type": "execute_result"
    }
   ],
   "source": [
    "facebook.ok"
   ]
  },
  {
   "cell_type": "markdown",
   "metadata": {},
   "source": [
    "***headers*** will get us a dictionary that contains data on various properties of out ***get*** object"
   ]
  },
  {
   "cell_type": "code",
   "execution_count": 37,
   "metadata": {},
   "outputs": [
    {
     "name": "stdout",
     "output_type": "stream",
     "text": [
      "{'Content-Encoding': 'gzip', 'Cache-Control': 'private, no-cache, no-store, must-revalidate', 'Pragma': 'no-cache', 'Strict-Transport-Security': 'max-age=15552000; preload', 'Vary': 'Accept-Encoding', 'X-Content-Type-Options': 'nosniff', 'X-Frame-Options': 'DENY', 'X-XSS-Protection': '0', 'Expires': 'Sat, 01 Jan 2000 00:00:00 GMT', 'Set-Cookie': 'fr=18jspIgATrz0nHH9X..BdB4DO.QS.AAA.0.0.BdB4DO.AWXfSKlQ; expires=Tue, 16-Jun-2020 12:00:14 GMT; Max-Age=31536000; path=/; domain=.facebook.com; secure; httponly, sb=zoAHXTUz5w84jwLBzkYMhvl7; expires=Wed, 16-Jun-2021 12:00:14 GMT; Max-Age=63072000; path=/; domain=.facebook.com; secure; httponly', 'Content-Type': 'text/html; charset=\"utf-8\"', 'X-FB-Debug': 'gQXEgtg/GPyk4XjoAQ5OV7gSsxFXejO1FfHcZfcGN9gLg9Xa5HDp8gXRapWDLV4QPVH/efwe/ZsbHz3EmTSKOg==', 'Date': 'Mon, 17 Jun 2019 12:00:14 GMT', 'Transfer-Encoding': 'chunked', 'Connection': 'keep-alive'}\n"
     ]
    }
   ],
   "source": [
    "if facebook.ok:\n",
    "    print(facebook.headers)"
   ]
  },
  {
   "cell_type": "code",
   "execution_count": 2,
   "metadata": {},
   "outputs": [],
   "source": [
    "url = 'https://geekandpoke.typepad.com/.a/6a00d8341d3df553ef01157073a04e970c-pi'\n",
    "img = req.get(url)"
   ]
  },
  {
   "cell_type": "markdown",
   "metadata": {},
   "source": [
    "We can also use ***text*** to get the HTML content (utf-8 format) and ***content*** to get the contents in bytes format (good for getting images)"
   ]
  },
  {
   "cell_type": "code",
   "execution_count": 3,
   "metadata": {},
   "outputs": [],
   "source": [
    "with open('image.png','wb') as f:\n",
    "    f.write(img.content)"
   ]
  },
  {
   "cell_type": "markdown",
   "metadata": {},
   "source": [
    "# Connecting to an API\n",
    "Request library allows us to access various APIs and pulling data from them easily<br/>\n",
    "A good source of finding new APIs: https://apilist.fun/\n",
    "\n",
    "For this demonstration we'll use the website https://financialmodelingprep.com\n",
    "Full API documentation can be found here: https://financialmodelingprep.com/developer/docs"
   ]
  },
  {
   "cell_type": "code",
   "execution_count": 4,
   "metadata": {},
   "outputs": [],
   "source": [
    "url = 'https://financialmodelingprep.com/api/v3/company/profile/AAPL'\n",
    "apple = req.get(url)"
   ]
  },
  {
   "cell_type": "code",
   "execution_count": 5,
   "metadata": {},
   "outputs": [
    {
     "data": {
      "text/plain": [
       "'{\\n  \"symbol\" : \"AAPL\",\\n  \"profile\" : {\\n    \"price\" : 265.44,\\n    \"beta\" : \"1.139593\",\\n    \"volAvg\" : \"36724977\",\\n    \"mktCap\" : \"1225734767790.00\",\\n    \"lastDiv\" : \"2.92\",\\n    \"range\" : \"142-233.47\",\\n    \"changes\" : 0.5,\\n    \"changesPercentage\" : \"(+0.19%)\",\\n    \"companyName\" : \"Apple Inc.\",\\n    \"exchange\" : \"Nasdaq Global Select\",\\n    \"industry\" : \"Computer Hardware\",\\n    \"website\" : \"http://www.apple.com\",\\n    \"description\" : \"Apple Inc is designs, manufactures and markets mobile communication and media devices and personal computers, and sells a variety of related software, services, accessories, networking solutions and third-party digital content and applications.\",\\n    \"ceo\" : \"Timothy D. Cook\",\\n    \"sector\" : \"Technology\",\\n    \"image\" : \"https://financialmodelingprep.com/images-New-jpg/AAPL.jpg\"\\n  }\\n}'"
      ]
     },
     "execution_count": 5,
     "metadata": {},
     "output_type": "execute_result"
    }
   ],
   "source": [
    "apple.text"
   ]
  },
  {
   "cell_type": "code",
   "execution_count": 9,
   "metadata": {},
   "outputs": [
    {
     "name": "stdout",
     "output_type": "stream",
     "text": [
      "{\n",
      "  \"symbol\": \"AAPL\",\n",
      "  \"profile\": {\n",
      "    \"price\": 265.44,\n",
      "    \"beta\": \"1.139593\",\n",
      "    \"volAvg\": \"36724977\",\n",
      "    \"mktCap\": \"1225734767790.00\",\n",
      "    \"lastDiv\": \"2.92\",\n",
      "    \"range\": \"142-233.47\",\n",
      "    \"changes\": 0.5,\n",
      "    \"changesPercentage\": \"(+0.19%)\",\n",
      "    \"companyName\": \"Apple Inc.\",\n",
      "    \"exchange\": \"Nasdaq Global Select\",\n",
      "    \"industry\": \"Computer Hardware\",\n",
      "    \"website\": \"http://www.apple.com\",\n",
      "    \"description\": \"Apple Inc is designs, manufactures and markets mobile communication and media devices and personal computers, and sells a variety of related software, services, accessories, networking solutions and third-party digital content and applications.\",\n",
      "    \"ceo\": \"Timothy D. Cook\",\n",
      "    \"sector\": \"Technology\",\n",
      "    \"image\": \"https://financialmodelingprep.com/images-New-jpg/AAPL.jpg\"\n",
      "  }\n",
      "}\n"
     ]
    }
   ],
   "source": [
    "import json\n",
    "stock_data = json.loads(apple.text)\n",
    "print(json.dumps(stock_data, indent=2))"
   ]
  },
  {
   "cell_type": "code",
   "execution_count": 17,
   "metadata": {},
   "outputs": [],
   "source": [
    "url ='https://financialmodelingprep.com/api/v3/historical-price-full/AAPL'\n",
    "args = {'from': '2018-01-01', 'to':'2018-01-05'}\n",
    "stock_data = req.get(url, params=args)"
   ]
  },
  {
   "cell_type": "code",
   "execution_count": 18,
   "metadata": {},
   "outputs": [
    {
     "data": {
      "text/plain": [
       "'https://financialmodelingprep.com/api/v3/historical-price-full/AAPL?from=2018-01-01&to=2018-01-05'"
      ]
     },
     "execution_count": 18,
     "metadata": {},
     "output_type": "execute_result"
    }
   ],
   "source": [
    "stock_data.url"
   ]
  },
  {
   "cell_type": "code",
   "execution_count": 19,
   "metadata": {},
   "outputs": [
    {
     "data": {
      "text/plain": [
       "'{\\n  \"symbol\" : \"AAPL\",\\n  \"historical\" : [ {\\n    \"date\" : \"2018-01-02\",\\n    \"open\" : 170.16,\\n    \"high\" : 172.3,\\n    \"low\" : 169.26,\\n    \"close\" : 172.26,\\n    \"volume\" : 2.55559E7,\\n    \"unadjustedVolume\" : 2.55559E7,\\n    \"change\" : -2.1,\\n    \"changePercent\" : -1.234,\\n    \"vwap\" : 171.27333,\\n    \"label\" : \"January 02, 18\",\\n    \"changeOverTime\" : -0.01234\\n  }, {\\n    \"date\" : \"2018-01-03\",\\n    \"open\" : 172.53,\\n    \"high\" : 174.55,\\n    \"low\" : 171.96,\\n    \"close\" : 172.23,\\n    \"volume\" : 2.95179E7,\\n    \"unadjustedVolume\" : 2.95179E7,\\n    \"change\" : 0.3,\\n    \"changePercent\" : 0.174,\\n    \"vwap\" : 172.91333,\\n    \"label\" : \"January 03, 18\",\\n    \"changeOverTime\" : 0.00174\\n  }, {\\n    \"date\" : \"2018-01-04\",\\n    \"open\" : 172.54,\\n    \"high\" : 173.47,\\n    \"low\" : 172.08,\\n    \"close\" : 173.03,\\n    \"volume\" : 2.24346E7,\\n    \"unadjustedVolume\" : 2.24346E7,\\n    \"change\" : -0.49,\\n    \"changePercent\" : -0.284,\\n    \"vwap\" : 172.86,\\n    \"label\" : \"January 04, 18\",\\n    \"changeOverTime\" : -0.00284\\n  }, {\\n    \"date\" : \"2018-01-05\",\\n    \"open\" : 173.44,\\n    \"high\" : 175.37,\\n    \"low\" : 173.05,\\n    \"close\" : 175.0,\\n    \"volume\" : 2.366E7,\\n    \"unadjustedVolume\" : 2.366E7,\\n    \"change\" : -1.56,\\n    \"changePercent\" : -0.899,\\n    \"vwap\" : 174.47333,\\n    \"label\" : \"January 05, 18\",\\n    \"changeOverTime\" : -0.00899\\n  } ]\\n}'"
      ]
     },
     "execution_count": 19,
     "metadata": {},
     "output_type": "execute_result"
    }
   ],
   "source": [
    "stock_data.text"
   ]
  },
  {
   "cell_type": "code",
   "execution_count": null,
   "metadata": {},
   "outputs": [],
   "source": []
  }
 ],
 "metadata": {
  "kernelspec": {
   "display_name": "Python 3",
   "language": "python",
   "name": "python3"
  },
  "language_info": {
   "codemirror_mode": {
    "name": "ipython",
    "version": 3
   },
   "file_extension": ".py",
   "mimetype": "text/x-python",
   "name": "python",
   "nbconvert_exporter": "python",
   "pygments_lexer": "ipython3",
   "version": "3.7.3"
  }
 },
 "nbformat": 4,
 "nbformat_minor": 2
}
