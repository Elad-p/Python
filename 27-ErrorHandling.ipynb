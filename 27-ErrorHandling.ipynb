{
 "cells": [
  {
   "cell_type": "markdown",
   "metadata": {},
   "source": [
    "Error Handling and Exceptions\n",
    "\n",
    "Basics\n",
    "\n",
    "Using try / except\n",
    "\n",
    "A simple error"
   ]
  },
  {
   "cell_type": "code",
   "execution_count": null,
   "metadata": {
    "collapsed": false
   },
   "outputs": [],
   "source": [
    "word = 'Python'\n",
    "int(word)"
   ]
  },
  {
   "cell_type": "markdown",
   "metadata": {},
   "source": [
    "Avoiding it using try"
   ]
  },
  {
   "cell_type": "code",
   "execution_count": null,
   "metadata": {
    "collapsed": false
   },
   "outputs": [],
   "source": [
    "try:\n",
    "    word = 'Python'\n",
    "    int(word)"
   ]
  },
  {
   "cell_type": "markdown",
   "metadata": {},
   "source": [
    "Avoiding it using try / except"
   ]
  },
  {
   "cell_type": "code",
   "execution_count": null,
   "metadata": {
    "collapsed": false
   },
   "outputs": [],
   "source": [
    "try:\n",
    "    word = 'Python'\n",
    "    int(word)\n",
    "except:\n",
    "    print('Probably not a number!')"
   ]
  },
  {
   "cell_type": "markdown",
   "metadata": {},
   "source": [
    "Indicating Exceptions\n",
    "\n",
    "1. Avoiding the error using try / except\n",
    "2. Indicating specific_exception"
   ]
  },
  {
   "cell_type": "code",
   "execution_count": null,
   "metadata": {
    "collapsed": false
   },
   "outputs": [],
   "source": [
    "try:\n",
    "    word = 'Python'\n",
    "    int(word)\n",
    "except ValueError:\n",
    "    print('Probably not a number!')"
   ]
  },
  {
   "cell_type": "markdown",
   "metadata": {},
   "source": [
    "Using References\n",
    "\n",
    "1. Avoiding the error using try / except\n",
    "2. Indicating specific_exception\n",
    "3. Using a reference"
   ]
  },
  {
   "cell_type": "code",
   "execution_count": null,
   "metadata": {
    "collapsed": false
   },
   "outputs": [],
   "source": [
    "try:\n",
    "    word = 'Python'\n",
    "    int(word)\n",
    "except ValueError as e:\n",
    "    print('Probably not a number!')\n",
    "    print(e)"
   ]
  },
  {
   "cell_type": "markdown",
   "metadata": {},
   "source": [
    "Using Else\n",
    "\n",
    "1. Avoiding the error using try / except\n",
    "2. Indicating specific_exception\n",
    "3. Using reference\n",
    "4. Using Else in case everything went as expected"
   ]
  },
  {
   "cell_type": "code",
   "execution_count": null,
   "metadata": {
    "collapsed": false
   },
   "outputs": [],
   "source": [
    "try:\n",
    "    word = 'Python'\n",
    "except ValueError as e:\n",
    "    print('Probably not a number!')\n",
    "    print(e)\n",
    "else:\n",
    "    print(word, 'Conversion successful!')"
   ]
  },
  {
   "cell_type": "markdown",
   "metadata": {},
   "source": [
    "Indicating specific exceptions\n",
    "\n",
    "1. Avoiding it using try / except\n",
    "2.1 Indicating specific_exception (1)\n",
    "2.2 Indicating specific_exception (2)\n",
    "3. Using reference\n",
    "4. Using Else in case everything went as expected"
   ]
  },
  {
   "cell_type": "code",
   "execution_count": null,
   "metadata": {
    "collapsed": false
   },
   "outputs": [],
   "source": [
    "try:\n",
    "    word = 'Python'\n",
    "    # int(word)\n",
    "    numbers = range(6)\n",
    "    x = numbers[6]\n",
    "except ValueError as e :\n",
    "    print ('Probably not a number!')\n",
    "    print (e)\n",
    "except IndexError as e :\n",
    "    print ('Your value is not in range!')\n",
    "    print(e)\n",
    "else:\n",
    "    print (word, 'Conversion successful!')"
   ]
  },
  {
   "cell_type": "markdown",
   "metadata": {},
   "source": [
    "https://docs.python.org/3/library/exceptions.html\n",
    "\n",
    "Using broad-general exception\n",
    "\n",
    "1. Avoiding the error using try / except\n",
    "2.1 Indicating specific_exception (1)\n",
    "2.2 Indicating specific_exception (1)\n",
    "2.3 Indicating broad-general exception\n",
    "3. Using reference\n",
    "4. Using Else in case everything went as expected"
   ]
  },
  {
   "cell_type": "code",
   "execution_count": null,
   "metadata": {
    "collapsed": false
   },
   "outputs": [],
   "source": [
    "try:\n",
    "    word = 'Python'\n",
    "    numbers = range(6)\n",
    "    x = (numbers[2])\n",
    "    y = 2/0\n",
    "except ValueError as e :\n",
    "    print ('Probably not a number!')\n",
    "    print(e)\n",
    "except IndexError as e :\n",
    "    print ('Your value is not in range!')\n",
    "    print(e)\n",
    "except:\n",
    "    print('Something bad happened here...')\n",
    "else:\n",
    "    print (word, 'Conversion successful!')"
   ]
  },
  {
   "cell_type": "markdown",
   "metadata": {},
   "source": [
    "except Exception as e"
   ]
  },
  {
   "cell_type": "code",
   "execution_count": null,
   "metadata": {
    "collapsed": false
   },
   "outputs": [],
   "source": [
    "try:\n",
    "    word = 'Python'\n",
    "    numbers = range(6)\n",
    "    x = (numbers[2])\n",
    "    y = 2/0\n",
    "except ValueError as e :\n",
    "    print ('Probably not a number!')\n",
    "    print(e)\n",
    "except IndexError as e :\n",
    "    print ('Your value is not in range!')\n",
    "    print(e)\n",
    "except Exception as e:\n",
    "    print('Something bad happened here...')\n",
    "    print(e)\n",
    "else:\n",
    "    print (word, 'Conversion successful!')"
   ]
  },
  {
   "cell_type": "markdown",
   "metadata": {},
   "source": [
    "Using Finally\n",
    "\n",
    "1. Avoiding the error using try / except\n",
    "2.1 Indicating specific_exception (1)\n",
    "2.2 Indicating specific_exception (2)\n",
    "2.3 Indicating general exception\n",
    "3. Using reference\n",
    "4. Using Else in case everything went as expected\n",
    "5. Define a 'finally' clause that will run either way"
   ]
  },
  {
   "cell_type": "code",
   "execution_count": null,
   "metadata": {
    "collapsed": false
   },
   "outputs": [],
   "source": [
    "try:\n",
    "    word = 'Python'\n",
    "    numbers = range(6)\n",
    "    x = (numbers[2])\n",
    "    y = 2/0\n",
    "except ValueError as e :\n",
    "    print ('Probably not a number!')\n",
    "    print(e)\n",
    "except IndexError as e :\n",
    "    print ('Your value is not in range!')\n",
    "    print(e)\n",
    "except:\n",
    "    print('Something bad happened here...')\n",
    "else:\n",
    "    print (word, 'Conversion successful!')\n",
    "finally:\n",
    "    print('This will always get printed...')"
   ]
  },
  {
   "cell_type": "markdown",
   "metadata": {},
   "source": [
    "Implementing error handling in a function\n",
    "\n",
    "A function that returns a price with VAT for a given user"
   ]
  },
  {
   "cell_type": "code",
   "execution_count": null,
   "metadata": {
    "collapsed": false
   },
   "outputs": [],
   "source": [
    "def final_price():\n",
    "    p = float(input('Please enter a price'))\n",
    "    return p * 1.17\n",
    "\n",
    "p_w_v = final_price()"
   ]
  },
  {
   "cell_type": "code",
   "execution_count": null,
   "metadata": {
    "collapsed": false
   },
   "outputs": [],
   "source": [
    "print(p_w_v)"
   ]
  },
  {
   "cell_type": "markdown",
   "metadata": {},
   "source": [
    "What happens if we enter a string?"
   ]
  },
  {
   "cell_type": "code",
   "execution_count": null,
   "metadata": {
    "collapsed": false
   },
   "outputs": [],
   "source": [
    "p_w_v = final_price()"
   ]
  },
  {
   "cell_type": "code",
   "execution_count": null,
   "metadata": {
    "collapsed": false
   },
   "outputs": [],
   "source": [
    "print(p_w_v)"
   ]
  },
  {
   "cell_type": "markdown",
   "metadata": {},
   "source": [
    "Use error handling to prevent this problem"
   ]
  },
  {
   "cell_type": "code",
   "execution_count": null,
   "metadata": {
    "collapsed": false
   },
   "outputs": [],
   "source": [
    "def final_price():\n",
    "    p = input('Please enter a price')\n",
    "    while True:\n",
    "        try:\n",
    "            p = float(p)\n",
    "        except:\n",
    "            p = input('This does not appear to be a valid number. Please try again...')\n",
    "            continue\n",
    "        else:\n",
    "            break\n",
    "    return p * 1.17\n",
    "\n",
    "p_w_v = final_price()"
   ]
  },
  {
   "cell_type": "code",
   "execution_count": null,
   "metadata": {
    "collapsed": false
   },
   "outputs": [],
   "source": [
    "print(p_w_v)"
   ]
  },
  {
   "cell_type": "markdown",
   "metadata": {},
   "source": [
    "User Defined Exceptions\n",
    "\n",
    "UDE - simple raise exception\n",
    "we can define our own exceptions"
   ]
  },
  {
   "cell_type": "code",
   "execution_count": null,
   "metadata": {
    "collapsed": false
   },
   "outputs": [],
   "source": [
    "number = int(input('Please enter an even number'))\n",
    "\n",
    "if number % 2 != 0:\n",
    "    raise Exception('This is not an even number!')\n",
    "else:\n",
    "    print('That\\'s a great number')"
   ]
  },
  {
   "cell_type": "markdown",
   "metadata": {},
   "source": [
    "UDE - using try / catch\n",
    "We can also catch these exceptions using except / try"
   ]
  },
  {
   "cell_type": "code",
   "execution_count": null,
   "metadata": {
    "collapsed": false
   },
   "outputs": [],
   "source": [
    "number = int(input('Please enter an even number'))\n",
    "\n",
    "try:\n",
    "    if number % 2 != 0:\n",
    "        raise Exception('This is not an even number!')\n",
    "    else:\n",
    "        print('That\\'s a great number')\n",
    "except:\n",
    "    print('Something bad happened')"
   ]
  },
  {
   "cell_type": "markdown",
   "metadata": {},
   "source": [
    "UDE - building our own exception (1)\n",
    "Also, we can define our own exception\n",
    "\n",
    "In Python, users can define such exceptions by creating a new class.\n",
    "This exception class has to be derived, either directly or indirectly, from Exception class."
   ]
  },
  {
   "cell_type": "code",
   "execution_count": null,
   "metadata": {
    "collapsed": false
   },
   "outputs": [],
   "source": [
    "class NotEven(Exception):\n",
    "    def __str__(self):\n",
    "        return \"That is not an even number !! what da hell are you doing ? \"\n",
    "\n",
    "raise NotEven()\n",
    "\n",
    "number = 3\n",
    "\n",
    "try:\n",
    "    if number % 2 != 0:\n",
    "        raise NotEven\n",
    "    else:\n",
    "        print('That\\'s a great number')\n",
    "except NotEven as e :\n",
    "    print('Something bad happened here..')\n",
    "    print(e)"
   ]
  },
  {
   "cell_type": "markdown",
   "metadata": {},
   "source": [
    "UDE - building our own exception (2)\n",
    "Using args"
   ]
  },
  {
   "cell_type": "code",
   "execution_count": null,
   "metadata": {
    "collapsed": false
   },
   "outputs": [],
   "source": [
    "class NotEven(Exception):\n",
    "    pass\n",
    "    def __init__(self, some_var):\n",
    "        self.some_var = some_var\n",
    "    def __str__(self):\n",
    "        return \"That is not an even number !! what da hell are you doing ? \"\n",
    "\n",
    "var = ''\n",
    "raise NotEven('hello')\n",
    "\n",
    "number = 3\n",
    "\n",
    "try:\n",
    "    if number % 2 != 0:\n",
    "        raise NotEven('Some Value')\n",
    "    else:\n",
    "        print('That\\'s a great number')\n",
    "except NotEven as e :\n",
    "    print('Something bad happened here..')\n",
    "    print(e)\n",
    "    print(e.args)"
   ]
  }
 ],
 "metadata": {},
 "nbformat": 4,
 "nbformat_minor": 2
}
