{
 "cells": [
  {
   "cell_type": "markdown",
   "metadata": {},
   "source": [
    "# Error Handling and Exceptions\n",
    "\n",
    "A simple error:"
   ]
  },
  {
   "cell_type": "code",
   "execution_count": 1,
   "metadata": {},
   "outputs": [
    {
     "ename": "ValueError",
     "evalue": "invalid literal for int() with base 10: 'Python'",
     "output_type": "error",
     "traceback": [
      "\u001b[1;31m---------------------------------------------------------------------------\u001b[0m",
      "\u001b[1;31mValueError\u001b[0m                                Traceback (most recent call last)",
      "\u001b[1;32m<ipython-input-1-85ac930d6bbb>\u001b[0m in \u001b[0;36m<module>\u001b[1;34m()\u001b[0m\n\u001b[0;32m      1\u001b[0m \u001b[0mword\u001b[0m \u001b[1;33m=\u001b[0m \u001b[1;34m'Python'\u001b[0m\u001b[1;33m\u001b[0m\u001b[1;33m\u001b[0m\u001b[0m\n\u001b[1;32m----> 2\u001b[1;33m \u001b[0mint\u001b[0m\u001b[1;33m(\u001b[0m\u001b[0mword\u001b[0m\u001b[1;33m)\u001b[0m\u001b[1;33m\u001b[0m\u001b[1;33m\u001b[0m\u001b[0m\n\u001b[0m",
      "\u001b[1;31mValueError\u001b[0m: invalid literal for int() with base 10: 'Python'"
     ]
    }
   ],
   "source": [
    "word = 'Python'\n",
    "int(word)"
   ]
  },
  {
   "cell_type": "markdown",
   "metadata": {},
   "source": [
    "Avoiding it using try"
   ]
  },
  {
   "cell_type": "code",
   "execution_count": 5,
   "metadata": {},
   "outputs": [],
   "source": [
    "try:\n",
    "    word = 'Python'\n",
    "    int(word)\n",
    "except:\n",
    "    pass"
   ]
  },
  {
   "cell_type": "markdown",
   "metadata": {},
   "source": [
    "Avoiding it using try / except"
   ]
  },
  {
   "cell_type": "code",
   "execution_count": 6,
   "metadata": {},
   "outputs": [
    {
     "name": "stdout",
     "output_type": "stream",
     "text": [
      "Probably not a number!\n"
     ]
    }
   ],
   "source": [
    "try:\n",
    "    word = 'Python'\n",
    "    int(word)\n",
    "except:\n",
    "    print('Probably not a number!')"
   ]
  },
  {
   "cell_type": "markdown",
   "metadata": {},
   "source": [
    "We can indicate the names of specific Exceptions to address different errors differently"
   ]
  },
  {
   "cell_type": "code",
   "execution_count": null,
   "metadata": {},
   "outputs": [],
   "source": [
    "try:\n",
    "    word = 'Python'\n",
    "    int(word)\n",
    "except ValueError:\n",
    "    print('Probably not a number!')"
   ]
  },
  {
   "cell_type": "markdown",
   "metadata": {},
   "source": [
    "We can add an alias to the Exception and refer to it in our code"
   ]
  },
  {
   "cell_type": "code",
   "execution_count": 11,
   "metadata": {},
   "outputs": [
    {
     "name": "stdout",
     "output_type": "stream",
     "text": [
      "Probably not a number!\n",
      "invalid literal for int() with base 10: 'Python'\n"
     ]
    }
   ],
   "source": [
    "try:\n",
    "    word = 'Python'\n",
    "    int(word)\n",
    "except ValueError as e:\n",
    "    print('Probably not a number!')\n",
    "    print(e)"
   ]
  },
  {
   "cell_type": "markdown",
   "metadata": {},
   "source": [
    "We can use **else**. That code would run in case everything went as expected (no exceptions were caught)"
   ]
  },
  {
   "cell_type": "code",
   "execution_count": null,
   "metadata": {},
   "outputs": [],
   "source": [
    "try:\n",
    "    word = 'Python'\n",
    "except ValueError as e:\n",
    "    print('Probably not a number!')\n",
    "    print(e)\n",
    "else:\n",
    "    print(word, 'Conversion successful!')"
   ]
  },
  {
   "cell_type": "markdown",
   "metadata": {},
   "source": [
    "Indicating multiple specific exceptions\n"
   ]
  },
  {
   "cell_type": "code",
   "execution_count": 12,
   "metadata": {},
   "outputs": [
    {
     "name": "stdout",
     "output_type": "stream",
     "text": [
      "Your value is not in range!\n",
      "range object index out of range\n"
     ]
    }
   ],
   "source": [
    "try:\n",
    "    word = 'Python'\n",
    "    # int(word)\n",
    "    numbers = range(6)\n",
    "    x = numbers[6]\n",
    "except ValueError as e :\n",
    "    print ('Probably not a number!')\n",
    "    print (e)\n",
    "except IndexError as e :\n",
    "    print ('Your value is not in range!')\n",
    "    print(e)\n",
    "else:\n",
    "    print (word, 'Conversion successful!')"
   ]
  },
  {
   "cell_type": "markdown",
   "metadata": {},
   "source": [
    "The names of common Exceptions can be found here: https://docs.python.org/3/library/exceptions.html\n",
    "\n",
    "Using broad-general exception. This cam be used to find out the name of an error without specifying it"
   ]
  },
  {
   "cell_type": "code",
   "execution_count": 14,
   "metadata": {},
   "outputs": [
    {
     "name": "stdout",
     "output_type": "stream",
     "text": [
      "Something bad happened here...\n",
      "ZeroDivisionError\n"
     ]
    }
   ],
   "source": [
    "try:\n",
    "    word = 'Python'\n",
    "    numbers = range(6)\n",
    "    x = (numbers[2])\n",
    "    y = 2/0\n",
    "except ValueError as e :\n",
    "    print ('Probably not a number!')\n",
    "    print(e)\n",
    "except IndexError as e :\n",
    "    print ('Your value is not in range!')\n",
    "    print(e)\n",
    "except Exception as e:\n",
    "    print('Something bad happened here...')\n",
    "    print(type(e).__name__)\n",
    "else:\n",
    "    print (word, 'Conversion successful!')"
   ]
  },
  {
   "cell_type": "markdown",
   "metadata": {},
   "source": [
    "We can define a 'finally' clause that will run regardless to what happened before. <br/> This will be a good place to close database connections, shut down proccesses, remove objects etc."
   ]
  },
  {
   "cell_type": "code",
   "execution_count": null,
   "metadata": {},
   "outputs": [],
   "source": [
    "try:\n",
    "    word = 'Python'\n",
    "    numbers = range(6)\n",
    "    x = (numbers[2])\n",
    "    y = 2/0\n",
    "except ValueError as e :\n",
    "    print ('Probably not a number!')\n",
    "    print(e)\n",
    "except IndexError as e :\n",
    "    print ('Your value is not in range!')\n",
    "    print(e)\n",
    "except:\n",
    "    print('Something bad happened here...')\n",
    "else:\n",
    "    print (word, 'Conversion successful!')\n",
    "finally:\n",
    "    print('This will always get printed...')"
   ]
  },
  {
   "cell_type": "markdown",
   "metadata": {},
   "source": [
    "Implementing error handling in a function\n",
    "\n",
    "A function that returns a price with VAT for a given user"
   ]
  },
  {
   "cell_type": "code",
   "execution_count": 18,
   "metadata": {},
   "outputs": [
    {
     "name": "stdout",
     "output_type": "stream",
     "text": [
      "Please enter a price: 100\n"
     ]
    }
   ],
   "source": [
    "def final_price():\n",
    "    p = float(input('Please enter a price: '))\n",
    "    return p * 1.17\n",
    "\n",
    "p_w_v = final_price()"
   ]
  },
  {
   "cell_type": "code",
   "execution_count": 19,
   "metadata": {},
   "outputs": [
    {
     "name": "stdout",
     "output_type": "stream",
     "text": [
      "117.0\n"
     ]
    }
   ],
   "source": [
    "print(p_w_v)"
   ]
  },
  {
   "cell_type": "markdown",
   "metadata": {},
   "source": [
    "What happens if we enter a string?"
   ]
  },
  {
   "cell_type": "code",
   "execution_count": 20,
   "metadata": {},
   "outputs": [
    {
     "name": "stdout",
     "output_type": "stream",
     "text": [
      "Please enter a price: abc\n"
     ]
    },
    {
     "ename": "ValueError",
     "evalue": "could not convert string to float: 'abc'",
     "output_type": "error",
     "traceback": [
      "\u001b[1;31m---------------------------------------------------------------------------\u001b[0m",
      "\u001b[1;31mValueError\u001b[0m                                Traceback (most recent call last)",
      "\u001b[1;32m<ipython-input-20-113251fc2734>\u001b[0m in \u001b[0;36m<module>\u001b[1;34m()\u001b[0m\n\u001b[1;32m----> 1\u001b[1;33m \u001b[0mp_w_v\u001b[0m \u001b[1;33m=\u001b[0m \u001b[0mfinal_price\u001b[0m\u001b[1;33m(\u001b[0m\u001b[1;33m)\u001b[0m\u001b[1;33m\u001b[0m\u001b[1;33m\u001b[0m\u001b[0m\n\u001b[0m",
      "\u001b[1;32m<ipython-input-18-0b97918e33e3>\u001b[0m in \u001b[0;36mfinal_price\u001b[1;34m()\u001b[0m\n\u001b[0;32m      1\u001b[0m \u001b[1;32mdef\u001b[0m \u001b[0mfinal_price\u001b[0m\u001b[1;33m(\u001b[0m\u001b[1;33m)\u001b[0m\u001b[1;33m:\u001b[0m\u001b[1;33m\u001b[0m\u001b[1;33m\u001b[0m\u001b[0m\n\u001b[1;32m----> 2\u001b[1;33m     \u001b[0mp\u001b[0m \u001b[1;33m=\u001b[0m \u001b[0mfloat\u001b[0m\u001b[1;33m(\u001b[0m\u001b[0minput\u001b[0m\u001b[1;33m(\u001b[0m\u001b[1;34m'Please enter a price: '\u001b[0m\u001b[1;33m)\u001b[0m\u001b[1;33m)\u001b[0m\u001b[1;33m\u001b[0m\u001b[1;33m\u001b[0m\u001b[0m\n\u001b[0m\u001b[0;32m      3\u001b[0m     \u001b[1;32mreturn\u001b[0m \u001b[0mp\u001b[0m \u001b[1;33m*\u001b[0m \u001b[1;36m1.17\u001b[0m\u001b[1;33m\u001b[0m\u001b[1;33m\u001b[0m\u001b[0m\n\u001b[0;32m      4\u001b[0m \u001b[1;33m\u001b[0m\u001b[0m\n\u001b[0;32m      5\u001b[0m \u001b[0mp_w_v\u001b[0m \u001b[1;33m=\u001b[0m \u001b[0mfinal_price\u001b[0m\u001b[1;33m(\u001b[0m\u001b[1;33m)\u001b[0m\u001b[1;33m\u001b[0m\u001b[1;33m\u001b[0m\u001b[0m\n",
      "\u001b[1;31mValueError\u001b[0m: could not convert string to float: 'abc'"
     ]
    }
   ],
   "source": [
    "p_w_v = final_price()"
   ]
  },
  {
   "cell_type": "markdown",
   "metadata": {},
   "source": [
    "Use error handling to prevent this problem"
   ]
  },
  {
   "cell_type": "code",
   "execution_count": null,
   "metadata": {},
   "outputs": [],
   "source": [
    "def final_price():\n",
    "    p = input('Please enter a price')\n",
    "    while True:\n",
    "        try:\n",
    "            p = float(p)\n",
    "        except:\n",
    "            p = input('This does not appear to be a valid number. Please try again...')\n",
    "            continue\n",
    "        else:\n",
    "            break\n",
    "    return p * 1.17"
   ]
  },
  {
   "cell_type": "code",
   "execution_count": null,
   "metadata": {},
   "outputs": [],
   "source": [
    "print(p_w_v)"
   ]
  },
  {
   "cell_type": "markdown",
   "metadata": {},
   "source": [
    "User Defined Exceptions\n",
    "\n",
    "UDE - simple raise exception\n",
    "we can define our own exceptions"
   ]
  },
  {
   "cell_type": "code",
   "execution_count": null,
   "metadata": {},
   "outputs": [],
   "source": [
    "number = int(input('Please enter an even number'))\n",
    "\n",
    "if number % 2 != 0:\n",
    "    raise Exception('This is not an even number!')\n",
    "else:\n",
    "    print('That\\'s a great number')"
   ]
  },
  {
   "cell_type": "markdown",
   "metadata": {},
   "source": [
    "UDE - using try / catch\n",
    "We can also catch these exceptions using except / try"
   ]
  },
  {
   "cell_type": "code",
   "execution_count": null,
   "metadata": {},
   "outputs": [],
   "source": [
    "number = int(input('Please enter an even number'))\n",
    "\n",
    "try:\n",
    "    if number % 2 != 0:\n",
    "        raise Exception('This is not an even number!')\n",
    "    else:\n",
    "        print('That\\'s a great number')\n",
    "except:\n",
    "    print('Something bad happened')"
   ]
  },
  {
   "cell_type": "markdown",
   "metadata": {},
   "source": [
    "raise errors can be handy for type validation as well"
   ]
  },
  {
   "cell_type": "code",
   "execution_count": 23,
   "metadata": {},
   "outputs": [
    {
     "name": "stdout",
     "output_type": "stream",
     "text": [
      "Please enter only a number! asd\n"
     ]
    },
    {
     "ename": "Exception",
     "evalue": "Not a valid number!",
     "output_type": "error",
     "traceback": [
      "\u001b[1;31m---------------------------------------------------------------------------\u001b[0m",
      "\u001b[1;31mException\u001b[0m                                 Traceback (most recent call last)",
      "\u001b[1;32m<ipython-input-23-0860569c19f3>\u001b[0m in \u001b[0;36m<module>\u001b[1;34m()\u001b[0m\n\u001b[0;32m      4\u001b[0m     \u001b[0mprint\u001b[0m\u001b[1;33m(\u001b[0m\u001b[0mint\u001b[0m\u001b[1;33m(\u001b[0m\u001b[0mnumber\u001b[0m\u001b[1;33m)\u001b[0m\u001b[1;33m)\u001b[0m\u001b[1;33m\u001b[0m\u001b[1;33m\u001b[0m\u001b[0m\n\u001b[0;32m      5\u001b[0m \u001b[1;32melse\u001b[0m\u001b[1;33m:\u001b[0m\u001b[1;33m\u001b[0m\u001b[1;33m\u001b[0m\u001b[0m\n\u001b[1;32m----> 6\u001b[1;33m     \u001b[1;32mraise\u001b[0m \u001b[0mException\u001b[0m\u001b[1;33m(\u001b[0m\u001b[1;34m'Not a valid number!'\u001b[0m\u001b[1;33m)\u001b[0m\u001b[1;33m\u001b[0m\u001b[1;33m\u001b[0m\u001b[0m\n\u001b[0m",
      "\u001b[1;31mException\u001b[0m: Not a valid number!"
     ]
    }
   ],
   "source": [
    "number  = input('Please enter only a number! ')\n",
    "\n",
    "if isinstance(number, int):\n",
    "    print(int(number))\n",
    "else:\n",
    "    raise Exception('Not a valid number!')"
   ]
  },
  {
   "cell_type": "markdown",
   "metadata": {},
   "source": [
    "UDE - building our own exception (1)\n",
    "Also, we can define our own exception\n",
    "\n",
    "In Python, users can define such exceptions by creating a new class.\n",
    "This exception class has to be derived, either directly or indirectly, from Exception class."
   ]
  },
  {
   "cell_type": "code",
   "execution_count": null,
   "metadata": {},
   "outputs": [],
   "source": [
    "class NotEven(Exception):\n",
    "    def __str__(self):\n",
    "        return \"That is not an even number !! what da hell are you doing ? \"\n",
    "\n",
    "raise NotEven()\n",
    "\n",
    "number = 3\n",
    "\n",
    "try:\n",
    "    if number % 2 != 0:\n",
    "        raise NotEven\n",
    "    else:\n",
    "        print('That\\'s a great number')\n",
    "except NotEven as e :\n",
    "    print('Something bad happened here..')\n",
    "    print(e)"
   ]
  },
  {
   "cell_type": "markdown",
   "metadata": {},
   "source": [
    "UDE - building our own exception (2)\n",
    "Using args"
   ]
  },
  {
   "cell_type": "code",
   "execution_count": null,
   "metadata": {},
   "outputs": [],
   "source": [
    "class NotEven(Exception):\n",
    "    pass\n",
    "    def __init__(self, some_var):\n",
    "        self.some_var = some_var\n",
    "    def __str__(self):\n",
    "        return \"That is not an even number !! what da hell are you doing ? \"\n",
    "\n",
    "var = ''\n",
    "raise NotEven('hello')\n",
    "\n",
    "number = 3\n",
    "\n",
    "try:\n",
    "    if number % 2 != 0:\n",
    "        raise NotEven('Some Value')\n",
    "    else:\n",
    "        print('That\\'s a great number')\n",
    "except NotEven as e :\n",
    "    print('Something bad happened here..')\n",
    "    print(e)\n",
    "    print(e.args)"
   ]
  }
 ],
 "metadata": {
  "kernelspec": {
   "display_name": "Python 3",
   "language": "python",
   "name": "python3"
  },
  "language_info": {
   "codemirror_mode": {
    "name": "ipython",
    "version": 3
   },
   "file_extension": ".py",
   "mimetype": "text/x-python",
   "name": "python",
   "nbconvert_exporter": "python",
   "pygments_lexer": "ipython3",
   "version": "3.7.3"
  }
 },
 "nbformat": 4,
 "nbformat_minor": 2
}
