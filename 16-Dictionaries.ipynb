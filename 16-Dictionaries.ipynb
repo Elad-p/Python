{
 "cells": [
  {
   "cell_type": "markdown",
   "metadata": {},
   "source": [
    "# Chapter 16 - Dictionaries"
   ]
  },
  {
   "cell_type": "markdown",
   "metadata": {},
   "source": [
    "With Dictionaries\n",
    "* Key is separated from its value by a colon (:)\n",
    "* Items are separated by commas\n",
    "* The whole dictionary is enclosed in curly braces.\n",
    "* Keys are unique within a dictionary while values may not be. The values of a dictionary can be of any type"
   ]
  },
  {
   "cell_type": "code",
   "execution_count": 9,
   "metadata": {},
   "outputs": [
    {
     "data": {
      "text/html": [
       "<iframe width=\"600\" height=\"337.5\"  src=\"https://www.youtube.com/embed/b3dn4VFN-O4\" frameborder=\"0\" allow=\"accelerometer; autoplay; encrypted-media; gyroscope; picture-in-picture\" allowfullscreen></iframe>"
      ],
      "text/plain": [
       "<IPython.core.display.HTML object>"
      ]
     },
     "metadata": {},
     "output_type": "display_data"
    }
   ],
   "source": [
    "%%html\n",
    "<iframe width=\"600\" height=\"337.5\"  src=\"https://www.youtube.com/embed/b3dn4VFN-O4\" frameborder=\"0\" allow=\"accelerometer; autoplay; encrypted-media; gyroscope; picture-in-picture\" allowfullscreen></iframe>"
   ]
  },
  {
   "cell_type": "markdown",
   "metadata": {},
   "source": [
    "#### Creating an empty dictionary"
   ]
  },
  {
   "cell_type": "code",
   "execution_count": 1,
   "metadata": {},
   "outputs": [],
   "source": [
    "my_empty_dictionary = {}"
   ]
  },
  {
   "cell_type": "code",
   "execution_count": 2,
   "metadata": {},
   "outputs": [
    {
     "name": "stdout",
     "output_type": "stream",
     "text": [
      "{}\n"
     ]
    }
   ],
   "source": [
    "print(my_empty_dictionary)"
   ]
  },
  {
   "cell_type": "code",
   "execution_count": 3,
   "metadata": {},
   "outputs": [
    {
     "name": "stdout",
     "output_type": "stream",
     "text": [
      "<class 'dict'>\n"
     ]
    }
   ],
   "source": [
    "print(type(my_empty_dictionary))"
   ]
  },
  {
   "cell_type": "markdown",
   "metadata": {},
   "source": [
    "Dictionaries are made of keys and values"
   ]
  },
  {
   "cell_type": "code",
   "execution_count": 4,
   "metadata": {},
   "outputs": [],
   "source": [
    "dial_areas = {'03': 'Tel-Aviv', '02': 'Jerusalem', '04': 'Haifa', '08': 'Modiin'}"
   ]
  },
  {
   "cell_type": "code",
   "execution_count": 5,
   "metadata": {},
   "outputs": [
    {
     "name": "stdout",
     "output_type": "stream",
     "text": [
      "{'03': 'Tel-Aviv', '02': 'Jerusalem', '04': 'Haifa', '08': 'Modiin'}\n"
     ]
    }
   ],
   "source": [
    "print(dial_areas)"
   ]
  },
  {
   "cell_type": "markdown",
   "metadata": {},
   "source": [
    "#### Adding / Removing items\n",
    "\n",
    "Add more values"
   ]
  },
  {
   "cell_type": "code",
   "execution_count": 6,
   "metadata": {},
   "outputs": [],
   "source": [
    "dial_areas['07'] = 'Eilat'"
   ]
  },
  {
   "cell_type": "code",
   "execution_count": 7,
   "metadata": {},
   "outputs": [
    {
     "name": "stdout",
     "output_type": "stream",
     "text": [
      "{'03': 'Tel-Aviv', '02': 'Jerusalem', '04': 'Haifa', '08': 'Modiin', '07': 'Eilat'}\n"
     ]
    }
   ],
   "source": [
    "print(dial_areas)"
   ]
  },
  {
   "cell_type": "markdown",
   "metadata": {},
   "source": [
    "Remove values by pop"
   ]
  },
  {
   "cell_type": "code",
   "execution_count": 8,
   "metadata": {},
   "outputs": [],
   "source": [
    "# TypeError: pop expected at least 1 arguments, got 0\n",
    "# val = dial_areas.pop()"
   ]
  },
  {
   "cell_type": "code",
   "execution_count": 9,
   "metadata": {},
   "outputs": [],
   "source": [
    "val = dial_areas.pop('07')"
   ]
  },
  {
   "cell_type": "code",
   "execution_count": 10,
   "metadata": {},
   "outputs": [
    {
     "name": "stdout",
     "output_type": "stream",
     "text": [
      "Eilat\n"
     ]
    }
   ],
   "source": [
    "print(val)"
   ]
  },
  {
   "cell_type": "code",
   "execution_count": 11,
   "metadata": {},
   "outputs": [
    {
     "name": "stdout",
     "output_type": "stream",
     "text": [
      "{'03': 'Tel-Aviv', '02': 'Jerusalem', '04': 'Haifa', '08': 'Modiin'}\n"
     ]
    }
   ],
   "source": [
    "print(dial_areas)"
   ]
  },
  {
   "cell_type": "markdown",
   "metadata": {},
   "source": [
    "Remove values by del"
   ]
  },
  {
   "cell_type": "code",
   "execution_count": 12,
   "metadata": {},
   "outputs": [],
   "source": [
    "del dial_areas['08']"
   ]
  },
  {
   "cell_type": "markdown",
   "metadata": {},
   "source": [
    "#### keys() / values() / items()\n",
    "\n",
    "We can use len() to get the length of a dictionary"
   ]
  },
  {
   "cell_type": "code",
   "execution_count": 13,
   "metadata": {},
   "outputs": [
    {
     "name": "stdout",
     "output_type": "stream",
     "text": [
      "3\n"
     ]
    }
   ],
   "source": [
    "print(len(dial_areas))"
   ]
  },
  {
   "cell_type": "markdown",
   "metadata": {},
   "source": [
    "The function \"keys\" will return all keys in a dictionary as a list"
   ]
  },
  {
   "cell_type": "code",
   "execution_count": 14,
   "metadata": {},
   "outputs": [
    {
     "name": "stdout",
     "output_type": "stream",
     "text": [
      "dict_keys(['03', '02', '04'])\n"
     ]
    }
   ],
   "source": [
    "print(dial_areas.keys())"
   ]
  },
  {
   "cell_type": "code",
   "execution_count": 15,
   "metadata": {},
   "outputs": [
    {
     "name": "stdout",
     "output_type": "stream",
     "text": [
      "03\n",
      "02\n",
      "04\n"
     ]
    }
   ],
   "source": [
    "for key in dial_areas.keys():\n",
    "    print(key)"
   ]
  },
  {
   "cell_type": "markdown",
   "metadata": {},
   "source": [
    "The function \"values\" will return all values in a dictionary as a list"
   ]
  },
  {
   "cell_type": "code",
   "execution_count": 16,
   "metadata": {},
   "outputs": [
    {
     "name": "stdout",
     "output_type": "stream",
     "text": [
      "dict_values(['Tel-Aviv', 'Jerusalem', 'Haifa'])\n"
     ]
    }
   ],
   "source": [
    "print(dial_areas.values())"
   ]
  },
  {
   "cell_type": "code",
   "execution_count": 17,
   "metadata": {},
   "outputs": [
    {
     "name": "stdout",
     "output_type": "stream",
     "text": [
      "Tel-Aviv\n",
      "Jerusalem\n",
      "Haifa\n"
     ]
    }
   ],
   "source": [
    "for value in dial_areas.values():\n",
    "    print(value)"
   ]
  },
  {
   "cell_type": "markdown",
   "metadata": {},
   "source": [
    "items() display entire dictionary. Each key-value pair is displayed as a tuple"
   ]
  },
  {
   "cell_type": "code",
   "execution_count": 18,
   "metadata": {},
   "outputs": [
    {
     "name": "stdout",
     "output_type": "stream",
     "text": [
      "dict_items([('03', 'Tel-Aviv'), ('02', 'Jerusalem'), ('04', 'Haifa')])\n"
     ]
    }
   ],
   "source": [
    "print(dial_areas.items())"
   ]
  },
  {
   "cell_type": "code",
   "execution_count": 19,
   "metadata": {},
   "outputs": [
    {
     "name": "stdout",
     "output_type": "stream",
     "text": [
      "03\n",
      "Tel-Aviv\n",
      "02\n",
      "Jerusalem\n",
      "04\n",
      "Haifa\n"
     ]
    }
   ],
   "source": [
    "for (key, value) in dial_areas.items():\n",
    "    print(key)\n",
    "    print(value)"
   ]
  },
  {
   "cell_type": "markdown",
   "metadata": {},
   "source": [
    "<b> Python items() evolution : </b>\n",
    "* Originally, Python items() built a real list of tuples and returned that. That could potentially take a lot of extra memory.\n",
    "* Then, generators were introduced to the language in general, and that method was reimplemented as an iterator-generator method named iteritems(). \n",
    "* The original remains for backwards compatibility.\n",
    "* One of Python 3’s changes is that  items() now return iterators, and a list is never fully built. \n",
    "* bottom line : in python 3 use items() instead of iteritems()"
   ]
  },
  {
   "cell_type": "markdown",
   "metadata": {},
   "source": [
    "#### Selecting Dictionary items\n",
    "\n",
    "We can get value by key"
   ]
  },
  {
   "cell_type": "code",
   "execution_count": 20,
   "metadata": {},
   "outputs": [
    {
     "name": "stdout",
     "output_type": "stream",
     "text": [
      "Haifa\n"
     ]
    }
   ],
   "source": [
    "print(dial_areas['04'])"
   ]
  },
  {
   "cell_type": "markdown",
   "metadata": {},
   "source": [
    "But we can't get key by value"
   ]
  },
  {
   "cell_type": "code",
   "execution_count": 21,
   "metadata": {},
   "outputs": [],
   "source": [
    "# KeyError: 'Haifa'\n",
    "# print(dial_areas['Haifa'])"
   ]
  },
  {
   "cell_type": "markdown",
   "metadata": {},
   "source": [
    "Verify whether a key exists"
   ]
  },
  {
   "cell_type": "code",
   "execution_count": 22,
   "metadata": {},
   "outputs": [
    {
     "name": "stdout",
     "output_type": "stream",
     "text": [
      "True\n"
     ]
    }
   ],
   "source": [
    "print('04' in dial_areas.keys())"
   ]
  },
  {
   "cell_type": "markdown",
   "metadata": {},
   "source": [
    "If we search for a non-existent value we'll get an error"
   ]
  },
  {
   "cell_type": "code",
   "execution_count": 23,
   "metadata": {},
   "outputs": [],
   "source": [
    "# KeyError: '100'\n",
    "# print(dial_areas['100'])"
   ]
  },
  {
   "cell_type": "markdown",
   "metadata": {},
   "source": [
    "We can avoid this error by using the 'get' function"
   ]
  },
  {
   "cell_type": "code",
   "execution_count": 24,
   "metadata": {},
   "outputs": [
    {
     "name": "stdout",
     "output_type": "stream",
     "text": [
      "None\n"
     ]
    }
   ],
   "source": [
    "print(dial_areas.get('100'))"
   ]
  },
  {
   "cell_type": "markdown",
   "metadata": {},
   "source": [
    "We can even give a default if value don't exist"
   ]
  },
  {
   "cell_type": "code",
   "execution_count": 25,
   "metadata": {},
   "outputs": [
    {
     "name": "stdout",
     "output_type": "stream",
     "text": [
      "No City in this code\n"
     ]
    }
   ],
   "source": [
    "print(dial_areas.get('100', 'No City in this code'))"
   ]
  },
  {
   "cell_type": "markdown",
   "metadata": {},
   "source": [
    "#### Using setdefault()\n",
    "\n",
    "Check for a key. If key not exists insert with new value"
   ]
  },
  {
   "cell_type": "code",
   "execution_count": 26,
   "metadata": {},
   "outputs": [
    {
     "data": {
      "text/plain": [
       "'Hertzliya'"
      ]
     },
     "execution_count": 26,
     "metadata": {},
     "output_type": "execute_result"
    }
   ],
   "source": [
    "dial_areas.setdefault('09', 'Hertzliya')"
   ]
  },
  {
   "cell_type": "code",
   "execution_count": 27,
   "metadata": {},
   "outputs": [
    {
     "name": "stdout",
     "output_type": "stream",
     "text": [
      "Hertzliya\n"
     ]
    }
   ],
   "source": [
    "print(dial_areas['09'])"
   ]
  },
  {
   "cell_type": "markdown",
   "metadata": {},
   "source": [
    "If a already exists, setdefault() does nothing"
   ]
  },
  {
   "cell_type": "code",
   "execution_count": 28,
   "metadata": {},
   "outputs": [
    {
     "data": {
      "text/plain": [
       "'Hertzliya'"
      ]
     },
     "execution_count": 28,
     "metadata": {},
     "output_type": "execute_result"
    }
   ],
   "source": [
    "dial_areas.setdefault('09', 'Petach Tikva')"
   ]
  },
  {
   "cell_type": "code",
   "execution_count": 29,
   "metadata": {},
   "outputs": [
    {
     "name": "stdout",
     "output_type": "stream",
     "text": [
      "Hertzliya\n"
     ]
    }
   ],
   "source": [
    "print(dial_areas['09'])"
   ]
  },
  {
   "cell_type": "markdown",
   "metadata": {},
   "source": [
    "Count the number of each letter in a string"
   ]
  },
  {
   "cell_type": "code",
   "execution_count": 31,
   "metadata": {},
   "outputs": [
    {
     "name": "stdout",
     "output_type": "stream",
     "text": [
      "Type a string : hello world\n"
     ]
    }
   ],
   "source": [
    "user_string = input(\"Type a string : \")\n",
    "letter_count = {}"
   ]
  },
  {
   "cell_type": "markdown",
   "metadata": {},
   "source": [
    "using setdefault() for letter-count"
   ]
  },
  {
   "cell_type": "code",
   "execution_count": 32,
   "metadata": {},
   "outputs": [],
   "source": [
    "for letter in user_string:\n",
    "    # print(letter, letter_count)\n",
    "    letter_count.setdefault(letter, 0)\n",
    "    letter_count[letter] += 1"
   ]
  },
  {
   "cell_type": "code",
   "execution_count": 33,
   "metadata": {},
   "outputs": [
    {
     "name": "stdout",
     "output_type": "stream",
     "text": [
      "{'h': 1, 'e': 1, 'l': 3, 'o': 2, ' ': 1, 'w': 1, 'r': 1, 'd': 1}\n"
     ]
    }
   ],
   "source": [
    "print(letter_count)"
   ]
  },
  {
   "cell_type": "markdown",
   "metadata": {},
   "source": [
    "Merge dictionaries using update()\n",
    " \n",
    "If there are identical keys, their value will be replaced"
   ]
  },
  {
   "cell_type": "code",
   "execution_count": 34,
   "metadata": {},
   "outputs": [],
   "source": [
    "d1 = {'a': 100, 'b': 200}\n",
    "d2 = {'x': 300, 'y': 200, 'a': 55}\n",
    "d1.update(d2)"
   ]
  },
  {
   "cell_type": "code",
   "execution_count": 35,
   "metadata": {},
   "outputs": [
    {
     "name": "stdout",
     "output_type": "stream",
     "text": [
      "{'a': 55, 'b': 200, 'x': 300, 'y': 200}\n"
     ]
    }
   ],
   "source": [
    "print(d1)"
   ]
  },
  {
   "cell_type": "code",
   "execution_count": 36,
   "metadata": {},
   "outputs": [],
   "source": [
    "d1 = {'a': 100, 'b': 200}\n",
    "d2 = {'x': 300, 'y': 200, 'a': 55}\n",
    "d2.update(d1)"
   ]
  },
  {
   "cell_type": "code",
   "execution_count": 37,
   "metadata": {},
   "outputs": [
    {
     "name": "stdout",
     "output_type": "stream",
     "text": [
      "{'x': 300, 'y': 200, 'a': 100, 'b': 200}\n"
     ]
    }
   ],
   "source": [
    "print(d2)"
   ]
  },
  {
   "cell_type": "markdown",
   "metadata": {},
   "source": [
    "#### Sorting dictionaries:"
   ]
  },
  {
   "cell_type": "code",
   "execution_count": 38,
   "metadata": {},
   "outputs": [],
   "source": [
    "products = {'Smartphone': 3000, 'Tablet': 3500, 'Laptop': 5000, 'SmartTV': 8000,\n",
    "            'Headset': 350, 'Sound System': 1500, 'Keyboard': 50}"
   ]
  },
  {
   "cell_type": "code",
   "execution_count": 39,
   "metadata": {},
   "outputs": [
    {
     "name": "stdout",
     "output_type": "stream",
     "text": [
      "{'Smartphone': 3000, 'Tablet': 3500, 'Laptop': 5000, 'SmartTV': 8000, 'Headset': 350, 'Sound System': 1500, 'Keyboard': 50}\n"
     ]
    }
   ],
   "source": [
    "print(products)"
   ]
  },
  {
   "cell_type": "markdown",
   "metadata": {},
   "source": [
    "#### Sort by key"
   ]
  },
  {
   "cell_type": "code",
   "execution_count": 40,
   "metadata": {},
   "outputs": [
    {
     "name": "stdout",
     "output_type": "stream",
     "text": [
      "['Headset', 'Keyboard', 'Laptop', 'SmartTV', 'Smartphone', 'Sound System', 'Tablet']\n"
     ]
    }
   ],
   "source": [
    "print(sorted(products.keys()))"
   ]
  },
  {
   "cell_type": "code",
   "execution_count": 41,
   "metadata": {},
   "outputs": [
    {
     "name": "stdout",
     "output_type": "stream",
     "text": [
      "['Tablet', 'Sound System', 'Smartphone', 'SmartTV', 'Laptop', 'Keyboard', 'Headset']\n"
     ]
    }
   ],
   "source": [
    "print(sorted(products.keys(), reverse=True))"
   ]
  },
  {
   "cell_type": "code",
   "execution_count": 42,
   "metadata": {},
   "outputs": [
    {
     "name": "stdout",
     "output_type": "stream",
     "text": [
      "Tablet 3500\n",
      "Sound System 1500\n",
      "Smartphone 3000\n",
      "SmartTV 8000\n",
      "Laptop 5000\n",
      "Keyboard 50\n",
      "Headset 350\n"
     ]
    }
   ],
   "source": [
    "for key in sorted(products.keys(), reverse=True):\n",
    "    print(key, products[key])"
   ]
  },
  {
   "cell_type": "code",
   "execution_count": 43,
   "metadata": {},
   "outputs": [
    {
     "name": "stdout",
     "output_type": "stream",
     "text": [
      "{'Smartphone': 3000, 'Tablet': 3500, 'Laptop': 5000, 'SmartTV': 8000, 'Headset': 350, 'Sound System': 1500, 'Keyboard': 50}\n"
     ]
    }
   ],
   "source": [
    "print(products)"
   ]
  },
  {
   "cell_type": "markdown",
   "metadata": {},
   "source": [
    "Please note:\n",
    "* It is not possible to sort a dict, only to get a representation of a dict that is sorted. \n",
    "* Dicts are inherently orderless, but other types, such as lists are not. "
   ]
  },
  {
   "cell_type": "markdown",
   "metadata": {},
   "source": [
    "#### Sort by value"
   ]
  },
  {
   "cell_type": "code",
   "execution_count": 44,
   "metadata": {},
   "outputs": [
    {
     "name": "stdout",
     "output_type": "stream",
     "text": [
      "[50, 350, 1500, 3000, 3500, 5000, 8000]\n"
     ]
    }
   ],
   "source": [
    "print(sorted(products.values()))"
   ]
  },
  {
   "cell_type": "code",
   "execution_count": 45,
   "metadata": {},
   "outputs": [
    {
     "name": "stdout",
     "output_type": "stream",
     "text": [
      "[8000, 5000, 3500, 3000, 1500, 350, 50]\n"
     ]
    }
   ],
   "source": [
    "print(sorted(products.values(), reverse=True))"
   ]
  },
  {
   "cell_type": "code",
   "execution_count": 46,
   "metadata": {},
   "outputs": [
    {
     "name": "stdout",
     "output_type": "stream",
     "text": [
      "8000\n",
      "5000\n",
      "3500\n",
      "3000\n",
      "1500\n",
      "350\n",
      "50\n"
     ]
    }
   ],
   "source": [
    "for value in sorted(products.values(), reverse=True):\n",
    "    print(value)"
   ]
  },
  {
   "cell_type": "markdown",
   "metadata": {},
   "source": [
    "Display keys sorted by values:"
   ]
  },
  {
   "cell_type": "code",
   "execution_count": 47,
   "metadata": {},
   "outputs": [],
   "source": [
    "from operator import itemgetter"
   ]
  },
  {
   "cell_type": "code",
   "execution_count": 48,
   "metadata": {},
   "outputs": [
    {
     "name": "stdout",
     "output_type": "stream",
     "text": [
      "[('SmartTV', 8000), ('Laptop', 5000), ('Tablet', 3500), ('Smartphone', 3000), ('Sound System', 1500), ('Headset', 350), ('Keyboard', 50)]\n"
     ]
    }
   ],
   "source": [
    "print(sorted(products.items(), key=itemgetter(1), reverse=True))"
   ]
  },
  {
   "cell_type": "code",
   "execution_count": 50,
   "metadata": {},
   "outputs": [
    {
     "name": "stdout",
     "output_type": "stream",
     "text": [
      "SmartTV 8000\n",
      "Laptop 5000\n",
      "Tablet 3500\n",
      "Smartphone 3000\n",
      "Sound System 1500\n",
      "Headset 350\n",
      "Keyboard 50\n"
     ]
    }
   ],
   "source": [
    "for key, value in sorted(products.items(), key=itemgetter(1), reverse=True):\n",
    "    print(key, value)"
   ]
  },
  {
   "cell_type": "markdown",
   "metadata": {},
   "source": [
    "What just happened ? In simple words:\n",
    "The key= parameter of sort requires a key function (to be applied to be objects to be sorted) \n",
    "rather than a single key value.\n",
    "That is just what operator.itemgetter(1) will give you: \n",
    "A function that grabs the first item from a list-like object."
   ]
  },
  {
   "cell_type": "markdown",
   "metadata": {},
   "source": [
    "Dictionaries with different data types\n",
    "DIctionaries are the most flexible data structure in Python.\n",
    "Any dictionary can contain for a key or a value any data type"
   ]
  },
  {
   "cell_type": "code",
   "execution_count": null,
   "metadata": {},
   "outputs": [],
   "source": [
    "data_types = {1: 'one', 'Two and a half': 2.5, 3.14: 'pie'}"
   ]
  },
  {
   "cell_type": "markdown",
   "metadata": {},
   "source": [
    "Dictionaries can contain entire data structures as value or even key!"
   ]
  },
  {
   "cell_type": "code",
   "execution_count": null,
   "metadata": {},
   "outputs": [],
   "source": [
    "complex_dict = {}\n",
    "complex_dict[1] = (1, 2, 3)\n",
    "\n",
    "complex_dict['one', 'two', 'three'] = 5.67\n",
    "\n",
    "complex_dict['subDict'] = {'subSubDict': {'innerDict': 'innerValue'}}"
   ]
  },
  {
   "cell_type": "code",
   "execution_count": null,
   "metadata": {},
   "outputs": [],
   "source": [
    "print(complex_dict)"
   ]
  },
  {
   "cell_type": "markdown",
   "metadata": {},
   "source": [
    "Using copy()"
   ]
  },
  {
   "cell_type": "code",
   "execution_count": null,
   "metadata": {},
   "outputs": [],
   "source": [
    "dial_areas = {'03': 'Tel-Aviv', '02': 'Jerusalem', '04': 'Haifa', '08': 'Modiin'}\n",
    "dial_areas_c = dial_areas\n",
    "del  dial_areas_c['03']"
   ]
  },
  {
   "cell_type": "code",
   "execution_count": null,
   "metadata": {},
   "outputs": [],
   "source": [
    "print(dial_areas)"
   ]
  },
  {
   "cell_type": "code",
   "execution_count": null,
   "metadata": {},
   "outputs": [],
   "source": [
    "print(dial_areas_c)"
   ]
  },
  {
   "cell_type": "code",
   "execution_count": null,
   "metadata": {},
   "outputs": [],
   "source": [
    "dial_areas = {'03': 'Tel-Aviv', '02': 'Jerusalem', '04': 'Haifa', '08': 'Modiin'}\n",
    "dial_areas_c = dial_areas.copy()\n",
    "del  dial_areas_c['03']"
   ]
  },
  {
   "cell_type": "code",
   "execution_count": null,
   "metadata": {},
   "outputs": [],
   "source": [
    "print(dial_areas)"
   ]
  },
  {
   "cell_type": "code",
   "execution_count": null,
   "metadata": {},
   "outputs": [],
   "source": [
    "print(dial_areas_c)"
   ]
  }
 ],
 "metadata": {
  "kernelspec": {
   "display_name": "Python 3",
   "language": "python",
   "name": "python3"
  },
  "language_info": {
   "codemirror_mode": {
    "name": "ipython",
    "version": 3
   },
   "file_extension": ".py",
   "mimetype": "text/x-python",
   "name": "python",
   "nbconvert_exporter": "python",
   "pygments_lexer": "ipython3",
   "version": "3.6.5"
  }
 },
 "nbformat": 4,
 "nbformat_minor": 2
}
