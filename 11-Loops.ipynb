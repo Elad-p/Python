{
 "cells": [
  {
   "cell_type": "markdown",
   "metadata": {},
   "source": [
    "# <font color=\"blue\"> Chapter 11 - Loops </font>"
   ]
  },
  {
   "cell_type": "markdown",
   "metadata": {},
   "source": [
    "### Loops in Python \n",
    "<ul>\n",
    "<li> Loops are used to execute the same code multiple times </li>\n",
    "<li> Loops can be divided into count-controlled and event-controlled loops </li>\n",
    "<li> In python we can write loops using 2 different methods: `while` loops and `for` loops </li> \n",
    "</ul>"
   ]
  },
  {
   "cell_type": "markdown",
   "metadata": {},
   "source": [
    "### <font color=\"blue\"> while loops </font>"
   ]
  },
  {
   "cell_type": "markdown",
   "metadata": {},
   "source": [
    "#### Demo 1"
   ]
  },
  {
   "cell_type": "code",
   "execution_count": 1,
   "metadata": {},
   "outputs": [
    {
     "name": "stdout",
     "output_type": "stream",
     "text": [
      "1\n",
      "2\n",
      "3\n",
      "4\n",
      "5\n",
      "6\n",
      "7\n",
      "8\n",
      "9\n",
      "10\n"
     ]
    }
   ],
   "source": [
    "\"\"\"\n",
    "while [expression]:\n",
    "    [sub program]\n",
    "\"\"\"\n",
    "\n",
    "number = 1\n",
    "\n",
    "while number < 11:\n",
    "    print(number)\n",
    "    number = number + 1"
   ]
  },
  {
   "cell_type": "markdown",
   "metadata": {},
   "source": [
    "#### Demo 2"
   ]
  },
  {
   "cell_type": "code",
   "execution_count": 2,
   "metadata": {},
   "outputs": [
    {
     "name": "stdout",
     "output_type": "stream",
     "text": [
      "5 more seconds to launch...\n",
      "4 more seconds to launch...\n",
      "3 more seconds to launch...\n",
      "2 more seconds to launch...\n",
      "1 more seconds to launch...\n",
      "LAUNCH!\n"
     ]
    }
   ],
   "source": [
    "import time\n",
    "seconds = 5\n",
    "\n",
    "while seconds > 0:\n",
    "    time.sleep(1)\n",
    "    print(str(seconds) + ' more seconds to launch...')\n",
    "    seconds -= 1\n",
    "else:\n",
    "    time.sleep(1)\n",
    "    print('LAUNCH!')"
   ]
  },
  {
   "cell_type": "markdown",
   "metadata": {},
   "source": [
    "#### Demo 3\n",
    "\n",
    "Factorial calculation <br> \n",
    "\n",
    "* In mathematics, the factorial of a non-negative integer n, denoted by n! <br>\n",
    "* A factorial is the product of all positive integers less than or equal to n <br>\n",
    "* For example: 5! = 5 * 4 * 3 * 2 * 1 = 120"
   ]
  },
  {
   "cell_type": "code",
   "execution_count": 3,
   "metadata": {},
   "outputs": [
    {
     "name": "stdout",
     "output_type": "stream",
     "text": [
      "1 1\n",
      "2 2\n",
      "3 6\n",
      "4 24\n",
      "5 120\n",
      "6 720\n",
      "7 5040\n",
      "8 40320\n",
      "9 362880\n",
      "10 3628800\n"
     ]
    }
   ],
   "source": [
    "total = 1\n",
    "number = 1\n",
    "\n",
    "while number < 11:\n",
    "    total *= number\n",
    "    print(number, total)\n",
    "    number += 1"
   ]
  },
  {
   "cell_type": "markdown",
   "metadata": {},
   "source": [
    "#### Demo 4\n",
    "\n",
    "* This Program will ask for names until user enters a name that does not begin with M <br>\n",
    "* The program will also print the number of names that were entered."
   ]
  },
  {
   "cell_type": "code",
   "execution_count": 8,
   "metadata": {},
   "outputs": [
    {
     "name": "stdout",
     "output_type": "stream",
     "text": [
      "Please type a name : Ram\n",
      "This is name number: 1 and it does not start with M, type another one\n",
      "Please type a name : Tomer\n",
      "This is name number: 2 and it does not start with M, type another one\n",
      "Please type a name : Elad\n",
      "This is name number: 3 and it does not start with M, type another one\n",
      "Please type a name : Moshe\n",
      "You have typed 4 names\n"
     ]
    }
   ],
   "source": [
    "counter = 1\n",
    "name = input(\"Please type a name : \")\n",
    "\n",
    "while not name.startswith('M'):\n",
    "    print('This is name number: ' + str(counter) + ' and it does not start with M, type another one')\n",
    "    counter += 1\n",
    "    name = input(\"Please type a name : \")\n",
    "print('You have typed ' + str(counter) + ' names')"
   ]
  },
  {
   "cell_type": "markdown",
   "metadata": {},
   "source": [
    "####  Demo 5\n",
    "* This Program will get numbers from user until users enters 0. <br>\n",
    "* The program will print how many numbers were entered and their average."
   ]
  },
  {
   "cell_type": "code",
   "execution_count": 10,
   "metadata": {},
   "outputs": [
    {
     "name": "stdout",
     "output_type": "stream",
     "text": [
      "Please enter a number (print(0 to stop program) : 4\n",
      "Please enter another number (0 to exit) : 3\n",
      "Please enter another number (0 to exit) : 4\n",
      "Please enter another number (0 to exit) : 5\n",
      "Please enter another number (0 to exit) : 0\n",
      "You have entered 4 numbers. The average is:  4.0\n"
     ]
    }
   ],
   "source": [
    "total = 0\n",
    "numCount = 0\n",
    "\n",
    "number = int(input('Please enter a number (print(0 to stop program) : '))\n",
    "\n",
    "while number != 0:\n",
    "    total += number\n",
    "    numCount += 1\n",
    "    number = int(input('Please enter another number (0 to exit) : '))\n",
    "print('You have entered', numCount, 'numbers. The average is: ', total / numCount)"
   ]
  },
  {
   "cell_type": "markdown",
   "metadata": {},
   "source": [
    "### <font color=\"blue\"> for loops </font>"
   ]
  },
  {
   "cell_type": "code",
   "execution_count": null,
   "metadata": {},
   "outputs": [],
   "source": [
    "\"\"\"\n",
    "for < target > in < sequence >:\n",
    "    < statements >\n",
    "\"\"\""
   ]
  },
  {
   "cell_type": "markdown",
   "metadata": {},
   "source": [
    "#### Demo 1\n",
    "\n",
    "Simple for loop\n",
    "* We use a list of numbers to determine how many times the loop will run. <br>\n",
    "* Numbers are pulled automatically and no need to increase the value of the counter"
   ]
  },
  {
   "cell_type": "code",
   "execution_count": 11,
   "metadata": {},
   "outputs": [
    {
     "name": "stdout",
     "output_type": "stream",
     "text": [
      "1\n",
      "2\n",
      "3\n",
      "4\n",
      "5\n"
     ]
    }
   ],
   "source": [
    "for i in [1, 2, 3, 4, 5]:\n",
    "    print(i)"
   ]
  },
  {
   "cell_type": "markdown",
   "metadata": {},
   "source": [
    "#### Demo 2\n",
    "\n",
    "Using a data structure to define the loop\n",
    "This will produce the same result as the previous example"
   ]
  },
  {
   "cell_type": "code",
   "execution_count": 12,
   "metadata": {},
   "outputs": [
    {
     "name": "stdout",
     "output_type": "stream",
     "text": [
      "1\n",
      "2\n",
      "3\n",
      "4\n",
      "5\n"
     ]
    }
   ],
   "source": [
    "loop_list = [1, 2, 3, 4, 5]\n",
    "for i in loop_list:\n",
    "    print(i)"
   ]
  },
  {
   "cell_type": "markdown",
   "metadata": {},
   "source": [
    "#### Demo 3\n",
    "\n",
    "Can we use non-continuous numbers?"
   ]
  },
  {
   "cell_type": "code",
   "execution_count": 13,
   "metadata": {},
   "outputs": [
    {
     "name": "stdout",
     "output_type": "stream",
     "text": [
      "2\n",
      "5\n",
      "9\n",
      "24\n",
      "15\n"
     ]
    }
   ],
   "source": [
    "loop_list = [2, 5, 9, 24, 15]\n",
    "for i in loop_list:\n",
    "    print(i)"
   ]
  },
  {
   "cell_type": "markdown",
   "metadata": {},
   "source": [
    "#### Demo 4\n",
    "\n",
    "Can we use strings?"
   ]
  },
  {
   "cell_type": "code",
   "execution_count": 14,
   "metadata": {},
   "outputs": [
    {
     "name": "stdout",
     "output_type": "stream",
     "text": [
      "a\n",
      "b\n",
      "c\n"
     ]
    }
   ],
   "source": [
    "loop_list = ['a', 'b', 'c']\n",
    "for i in loop_list:\n",
    "    print(i)"
   ]
  },
  {
   "cell_type": "markdown",
   "metadata": {},
   "source": [
    "#### Demo 5\n",
    "\n",
    "We can use the range() function to define loop iterations easily"
   ]
  },
  {
   "cell_type": "code",
   "execution_count": 16,
   "metadata": {},
   "outputs": [
    {
     "name": "stdout",
     "output_type": "stream",
     "text": [
      "0\n",
      "1\n",
      "2\n",
      "3\n",
      "4\n"
     ]
    }
   ],
   "source": [
    "for i in range(5):\n",
    "    print(i)"
   ]
  },
  {
   "cell_type": "code",
   "execution_count": 17,
   "metadata": {},
   "outputs": [
    {
     "name": "stdout",
     "output_type": "stream",
     "text": [
      "20\n",
      "25\n",
      "30\n",
      "35\n",
      "40\n",
      "45\n",
      "50\n"
     ]
    }
   ],
   "source": [
    "for i in range(20, 55, 5):\n",
    "    print(i)"
   ]
  },
  {
   "cell_type": "markdown",
   "metadata": {},
   "source": [
    "#### Demo 6\n",
    "\n",
    "Calculate a number's factorial"
   ]
  },
  {
   "cell_type": "code",
   "execution_count": 22,
   "metadata": {},
   "outputs": [
    {
     "name": "stdout",
     "output_type": "stream",
     "text": [
      "Please enter a number : 5\n",
      "Factorial equals: 120\n"
     ]
    }
   ],
   "source": [
    "number = int(input('Please enter a number : '))\n",
    "fact = 1\n",
    "\n",
    "for i in range(0, number):\n",
    "    fact *= (number - i)\n",
    "    \n",
    "print('Factorial equals:', fact)"
   ]
  },
  {
   "cell_type": "markdown",
   "metadata": {},
   "source": [
    "#### Demo 7"
   ]
  },
  {
   "cell_type": "code",
   "execution_count": 23,
   "metadata": {},
   "outputs": [
    {
     "name": "stdout",
     "output_type": "stream",
     "text": [
      "5  - \n",
      "This number is odd\n",
      "2  - \n",
      "This number is even\n",
      "8  - \n",
      "This number is even\n",
      "12  - \n",
      "This number is even\n",
      "78  - \n",
      "This number is even\n",
      "34  - \n",
      "This number is even\n",
      "57  - \n",
      "This number is odd\n",
      "20  - \n",
      "This number is even\n",
      "105  - \n",
      "This number is odd\n",
      "46  - \n",
      "This number is even\n"
     ]
    }
   ],
   "source": [
    "num_list = [5, 2, 8, 12, 78, 34, 57, 20, 105, 46]\n",
    "for number in num_list:\n",
    "    print(number, ' - ',)\n",
    "    if number % 2 == 0:\n",
    "        print('This number is even')\n",
    "    else:\n",
    "        print('This number is odd')"
   ]
  },
  {
   "cell_type": "markdown",
   "metadata": {},
   "source": [
    "We can tell the program to check any 3rd number only:"
   ]
  },
  {
   "cell_type": "code",
   "execution_count": 24,
   "metadata": {},
   "outputs": [
    {
     "name": "stdout",
     "output_type": "stream",
     "text": [
      "5  - \n",
      "This number is odd\n",
      "12  - \n",
      "This number is even\n",
      "57  - \n",
      "This number is odd\n",
      "46  - \n",
      "This number is even\n"
     ]
    }
   ],
   "source": [
    "num_list = [5, 2, 8, 12, 78, 34, 57, 20, 105, 46]\n",
    "for number in num_list[::3]:\n",
    "    print(number, ' - ',)\n",
    "    if number % 2 == 0:\n",
    "        print('This number is even')\n",
    "    else:\n",
    "        print('This number is odd')"
   ]
  },
  {
   "cell_type": "markdown",
   "metadata": {},
   "source": [
    "#### Demo 8\n",
    "We can also use a string as a list of values"
   ]
  },
  {
   "cell_type": "code",
   "execution_count": 25,
   "metadata": {},
   "outputs": [
    {
     "name": "stdout",
     "output_type": "stream",
     "text": [
      "P\n",
      "y\n",
      "t\n",
      "h\n",
      "o\n",
      "n\n"
     ]
    }
   ],
   "source": [
    "name = 'Python'\n",
    "for i in name:\n",
    "    print(i)"
   ]
  },
  {
   "cell_type": "markdown",
   "metadata": {},
   "source": [
    "Count the number of vowels in a sentence"
   ]
  },
  {
   "cell_type": "code",
   "execution_count": 27,
   "metadata": {},
   "outputs": [
    {
     "name": "stdout",
     "output_type": "stream",
     "text": [
      "The number of vowels is:  11\n"
     ]
    }
   ],
   "source": [
    "sentence = 'How many vowels are in this sentence?'\n",
    "count = 0\n",
    "\n",
    "for letter in sentence:\n",
    "    if letter in ('a', 'e', 'i', 'o', 'u'):\n",
    "        count += 1\n",
    "print('The number of vowels is: ', count)"
   ]
  },
  {
   "cell_type": "markdown",
   "metadata": {},
   "source": [
    "#### Demo 9\n",
    "\n",
    "Nested loops"
   ]
  },
  {
   "cell_type": "code",
   "execution_count": 29,
   "metadata": {},
   "outputs": [
    {
     "name": "stdout",
     "output_type": "stream",
     "text": [
      "0\n",
      "* A\n",
      "* B\n",
      "* C\n",
      "* D\n",
      "* E\n",
      "1\n",
      "* A\n",
      "* B\n",
      "* C\n",
      "* D\n",
      "* E\n"
     ]
    }
   ],
   "source": [
    "for number in range(2):\n",
    "    print(number)\n",
    "    for letter in 'ABCDE':\n",
    "        print('* ' + letter)"
   ]
  },
  {
   "cell_type": "markdown",
   "metadata": {},
   "source": [
    "### <font color=\"blue\"> Using `continue` </font>"
   ]
  },
  {
   "cell_type": "code",
   "execution_count": 30,
   "metadata": {},
   "outputs": [
    {
     "name": "stdout",
     "output_type": "stream",
     "text": [
      "2\n",
      "4\n",
      "6\n",
      "8\n",
      "10\n",
      "12\n",
      "14\n",
      "16\n",
      "18\n",
      "20\n",
      "22\n",
      "24\n",
      "26\n",
      "28\n",
      "30\n"
     ]
    }
   ],
   "source": [
    "number = 0\n",
    "\n",
    "while number <= 30:\n",
    "    number += 1\n",
    "    if number % 2 == 1:\n",
    "        continue\n",
    "    print(number)"
   ]
  },
  {
   "cell_type": "markdown",
   "metadata": {},
   "source": [
    "### <font color=\"blue\"> Using `break` </font> "
   ]
  },
  {
   "cell_type": "code",
   "execution_count": 32,
   "metadata": {},
   "outputs": [
    {
     "name": "stdout",
     "output_type": "stream",
     "text": [
      "0\n",
      "1\n",
      "2\n",
      "3\n",
      "4\n",
      "5\n",
      "6\n",
      "7\n",
      "Boom!\n"
     ]
    }
   ],
   "source": [
    "number = 0\n",
    "\n",
    "while number < 100:\n",
    "    print(number)\n",
    "    if number == 7:\n",
    "        print('Boom!')\n",
    "        break\n",
    "    number += 1"
   ]
  },
  {
   "cell_type": "markdown",
   "metadata": {},
   "source": [
    "### <font color=\"blue\"> Using `pass` </font>\n",
    "The pass statement does nothing in particular but can act as a placeholder"
   ]
  },
  {
   "cell_type": "code",
   "execution_count": 33,
   "metadata": {},
   "outputs": [
    {
     "name": "stdout",
     "output_type": "stream",
     "text": [
      "Current Letter : P\n",
      "Current Letter : y\n",
      "Current Letter : t\n",
      "This is pass block\n",
      "Current Letter : h\n",
      "Current Letter : o\n",
      "Current Letter : n\n"
     ]
    }
   ],
   "source": [
    "for letter in 'Python':\n",
    "   if letter == 'h':\n",
    "      pass\n",
    "      print ('This is pass block')\n",
    "   print ('Current Letter :', letter)"
   ]
  }
 ],
 "metadata": {
  "kernelspec": {
   "display_name": "Python 3",
   "language": "python",
   "name": "python3"
  },
  "language_info": {
   "codemirror_mode": {
    "name": "ipython",
    "version": 3
   },
   "file_extension": ".py",
   "mimetype": "text/x-python",
   "name": "python",
   "nbconvert_exporter": "python",
   "pygments_lexer": "ipython3",
   "version": "3.6.4"
  }
 },
 "nbformat": 4,
 "nbformat_minor": 2
}
