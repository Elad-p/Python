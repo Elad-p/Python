{
 "cells": [
  {
   "cell_type": "code",
   "execution_count": 1,
   "metadata": {},
   "outputs": [],
   "source": [
    "import pandas as pd"
   ]
  },
  {
   "cell_type": "markdown",
   "metadata": {},
   "source": [
    "## Create A `Series` Object from A Python List\n",
    "Series is a one dimentional object with an index that can be specified (a bit like keys and values in a dictionary)"
   ]
  },
  {
   "cell_type": "code",
   "execution_count": 3,
   "metadata": {},
   "outputs": [
    {
     "data": {
      "text/plain": [
       "0     1\n",
       "1     2\n",
       "2     5\n",
       "3    19\n",
       "4    27\n",
       "5    15\n",
       "dtype: int64"
      ]
     },
     "execution_count": 3,
     "metadata": {},
     "output_type": "execute_result"
    }
   ],
   "source": [
    "numbers = [1, 2, 5, 19, 27, 15]\n",
    "\n",
    "pd.Series(numbers)"
   ]
  },
  {
   "cell_type": "markdown",
   "metadata": {},
   "source": [
    "Series can contain any type but all values need to share the same one"
   ]
  },
  {
   "cell_type": "code",
   "execution_count": 4,
   "metadata": {},
   "outputs": [
    {
     "data": {
      "text/plain": [
       "0         Orange\n",
       "1         Banana\n",
       "2          Apple\n",
       "3    Water Melon\n",
       "4         Grapes\n",
       "dtype: object"
      ]
     },
     "execution_count": 4,
     "metadata": {},
     "output_type": "execute_result"
    }
   ],
   "source": [
    "fruits = [\"Orange\", \"Banana\", \"Apple\", \"Water Melon\", \"Grapes\"]\n",
    "\n",
    "pd.Series(fruits)"
   ]
  },
  {
   "cell_type": "markdown",
   "metadata": {},
   "source": [
    "## Create A `Series` Object from a Dictionary"
   ]
  },
  {
   "cell_type": "code",
   "execution_count": 2,
   "metadata": {},
   "outputs": [
    {
     "data": {
      "text/plain": [
       "Cat         Mammal\n",
       "Spider      Insect\n",
       "Lizard     Reptile\n",
       "peacock       Bird\n",
       "dtype: object"
      ]
     },
     "execution_count": 2,
     "metadata": {},
     "output_type": "execute_result"
    }
   ],
   "source": [
    "Animals = {\"Cat\" : \"Mammal\",\n",
    "           \"Spider\" : \"Insect\",\n",
    "           \"Lizard\" : \"Reptile\",\n",
    "           \"peacock\": \"Bird\"}\n",
    "\n",
    "Animals = pd.Series(Animals)\n",
    "Animals"
   ]
  },
  {
   "cell_type": "markdown",
   "metadata": {},
   "source": [
    "## Series Attributes"
   ]
  },
  {
   "cell_type": "code",
   "execution_count": 7,
   "metadata": {},
   "outputs": [
    {
     "data": {
      "text/plain": [
       "array(['Mammal', 'Insect', 'Reptile', 'Bird'], dtype=object)"
      ]
     },
     "execution_count": 7,
     "metadata": {},
     "output_type": "execute_result"
    }
   ],
   "source": [
    "Animals.values"
   ]
  },
  {
   "cell_type": "code",
   "execution_count": 19,
   "metadata": {},
   "outputs": [
    {
     "data": {
      "text/plain": [
       "Index(['Cat', 'Spider', 'Lizard', 'peacock'], dtype='object')"
      ]
     },
     "execution_count": 19,
     "metadata": {},
     "output_type": "execute_result"
    }
   ],
   "source": [
    "Animals.index"
   ]
  },
  {
   "cell_type": "code",
   "execution_count": 14,
   "metadata": {},
   "outputs": [
    {
     "data": {
      "text/plain": [
       "dtype('O')"
      ]
     },
     "execution_count": 14,
     "metadata": {},
     "output_type": "execute_result"
    }
   ],
   "source": [
    "Animals.dtype"
   ]
  },
  {
   "cell_type": "markdown",
   "metadata": {},
   "source": [
    "## Basic Statistics"
   ]
  },
  {
   "cell_type": "code",
   "execution_count": 13,
   "metadata": {},
   "outputs": [
    {
     "data": {
      "text/plain": [
       "0    2.99\n",
       "1    4.45\n",
       "2    1.36\n",
       "dtype: float64"
      ]
     },
     "execution_count": 13,
     "metadata": {},
     "output_type": "execute_result"
    }
   ],
   "source": [
    "prices = [2.99, 4.45, 1.36]\n",
    "prices = pd.Series(prices)\n",
    "prices"
   ]
  },
  {
   "cell_type": "code",
   "execution_count": 14,
   "metadata": {},
   "outputs": [
    {
     "data": {
      "text/plain": [
       "8.8"
      ]
     },
     "execution_count": 14,
     "metadata": {},
     "output_type": "execute_result"
    }
   ],
   "source": [
    "prices.sum()"
   ]
  },
  {
   "cell_type": "code",
   "execution_count": 15,
   "metadata": {},
   "outputs": [
    {
     "data": {
      "text/plain": [
       "18.095480000000006"
      ]
     },
     "execution_count": 15,
     "metadata": {},
     "output_type": "execute_result"
    }
   ],
   "source": [
    "prices.product()"
   ]
  },
  {
   "cell_type": "code",
   "execution_count": 16,
   "metadata": {},
   "outputs": [
    {
     "data": {
      "text/plain": [
       "2.9333333333333336"
      ]
     },
     "execution_count": 16,
     "metadata": {},
     "output_type": "execute_result"
    }
   ],
   "source": [
    "prices.mean()"
   ]
  },
  {
   "cell_type": "code",
   "execution_count": 3,
   "metadata": {},
   "outputs": [
    {
     "data": {
      "text/plain": [
       "Date\n",
       "2014-04-30    12303.323\n",
       "2014-03-31    12329.103\n",
       "2014-02-28    12330.786\n",
       "2014-01-31    12126.413\n",
       "2013-12-31    12266.032\n",
       "Name: Value, dtype: float64"
      ]
     },
     "execution_count": 3,
     "metadata": {},
     "output_type": "execute_result"
    }
   ],
   "source": [
    "labour = pd.read_csv(\"Labour-Force-Monthly-Australia.csv\", index_col='Date',squeeze = True)\n",
    "labour.head()"
   ]
  },
  {
   "cell_type": "markdown",
   "metadata": {},
   "source": [
    "The count method will only count actuall value so if there are empty (Nan) values in the Series they won't be counted"
   ]
  },
  {
   "cell_type": "code",
   "execution_count": 8,
   "metadata": {},
   "outputs": [
    {
     "data": {
      "text/plain": [
       "160"
      ]
     },
     "execution_count": 8,
     "metadata": {},
     "output_type": "execute_result"
    }
   ],
   "source": [
    "labour.count()"
   ]
  },
  {
   "cell_type": "code",
   "execution_count": 6,
   "metadata": {},
   "outputs": [
    {
     "data": {
      "text/plain": [
       "160"
      ]
     },
     "execution_count": 6,
     "metadata": {},
     "output_type": "execute_result"
    }
   ],
   "source": [
    "len(labour)"
   ]
  },
  {
   "cell_type": "code",
   "execution_count": 4,
   "metadata": {},
   "outputs": [
    {
     "data": {
      "text/plain": [
       "10937.191824999998"
      ]
     },
     "execution_count": 4,
     "metadata": {},
     "output_type": "execute_result"
    }
   ],
   "source": [
    "labour.mean()"
   ]
  },
  {
   "cell_type": "code",
   "execution_count": 5,
   "metadata": {},
   "outputs": [
    {
     "data": {
      "text/plain": [
       "10937.191824999998"
      ]
     },
     "execution_count": 5,
     "metadata": {},
     "output_type": "execute_result"
    }
   ],
   "source": [
    "labour.sum() / labour.count()"
   ]
  },
  {
   "cell_type": "code",
   "execution_count": 7,
   "metadata": {},
   "outputs": [
    {
     "data": {
      "text/plain": [
       "854.5062601802221"
      ]
     },
     "execution_count": 7,
     "metadata": {},
     "output_type": "execute_result"
    }
   ],
   "source": [
    "labour.std()"
   ]
  },
  {
   "cell_type": "code",
   "execution_count": 8,
   "metadata": {},
   "outputs": [
    {
     "data": {
      "text/plain": [
       "9460.687"
      ]
     },
     "execution_count": 8,
     "metadata": {},
     "output_type": "execute_result"
    }
   ],
   "source": [
    "labour.min()"
   ]
  },
  {
   "cell_type": "code",
   "execution_count": 9,
   "metadata": {},
   "outputs": [
    {
     "data": {
      "text/plain": [
       "12330.786"
      ]
     },
     "execution_count": 9,
     "metadata": {},
     "output_type": "execute_result"
    }
   ],
   "source": [
    "labour.max()"
   ]
  },
  {
   "cell_type": "code",
   "execution_count": 10,
   "metadata": {},
   "outputs": [
    {
     "data": {
      "text/plain": [
       "10932.617999999999"
      ]
     },
     "execution_count": 10,
     "metadata": {},
     "output_type": "execute_result"
    }
   ],
   "source": [
    "labour.median()"
   ]
  },
  {
   "cell_type": "code",
   "execution_count": 12,
   "metadata": {},
   "outputs": [
    {
     "data": {
      "text/plain": [
       "0    9460.687\n",
       "1    9606.247\n",
       "2    9610.032\n",
       "3    9621.300\n",
       "4    9660.729\n",
       "dtype: float64"
      ]
     },
     "execution_count": 12,
     "metadata": {},
     "output_type": "execute_result"
    }
   ],
   "source": [
    "labour.mode().head()"
   ]
  },
  {
   "cell_type": "markdown",
   "metadata": {},
   "source": [
    "### describe\n",
    "***describe*** would show us a \"mini report\" containing a few important statistics on our Series"
   ]
  },
  {
   "cell_type": "code",
   "execution_count": 13,
   "metadata": {},
   "outputs": [
    {
     "data": {
      "text/plain": [
       "count      160.000000\n",
       "mean     10937.191825\n",
       "std        854.506260\n",
       "min       9460.687000\n",
       "25%      10074.903500\n",
       "50%      10932.618000\n",
       "75%      11733.583500\n",
       "max      12330.786000\n",
       "Name: Value, dtype: float64"
      ]
     },
     "execution_count": 13,
     "metadata": {},
     "output_type": "execute_result"
    }
   ],
   "source": [
    "labour.describe()"
   ]
  },
  {
   "cell_type": "markdown",
   "metadata": {},
   "source": [
    "We can customize the report a bit by passing a list with the precentiles we want to see"
   ]
  },
  {
   "cell_type": "code",
   "execution_count": 14,
   "metadata": {},
   "outputs": [
    {
     "data": {
      "text/plain": [
       "count      160.000000\n",
       "mean     10937.191825\n",
       "std        854.506260\n",
       "min       9460.687000\n",
       "10%       9787.400000\n",
       "20%       9991.945800\n",
       "30%      10291.299600\n",
       "40%      10591.726000\n",
       "50%      10932.618000\n",
       "60%      11334.239000\n",
       "70%      11584.858100\n",
       "80%      11822.131200\n",
       "90%      12054.887200\n",
       "max      12330.786000\n",
       "Name: Value, dtype: float64"
      ]
     },
     "execution_count": 14,
     "metadata": {},
     "output_type": "execute_result"
    }
   ],
   "source": [
    "labour.describe(percentiles=[0.1,0.2,0.3,0.4,0.5,0.6,0.7,0.8,0.9])"
   ]
  },
  {
   "cell_type": "markdown",
   "metadata": {},
   "source": [
    "### idxmax / idxmin\n",
    "We can use these methods to get the index label of the highest / lowest values"
   ]
  },
  {
   "cell_type": "code",
   "execution_count": 15,
   "metadata": {},
   "outputs": [
    {
     "data": {
      "text/plain": [
       "'2014-02-28'"
      ]
     },
     "execution_count": 15,
     "metadata": {},
     "output_type": "execute_result"
    }
   ],
   "source": [
    "labour.idxmax()"
   ]
  },
  {
   "cell_type": "markdown",
   "metadata": {},
   "source": [
    "We can verify the label we got by using it in a slicer to actually get the largest value"
   ]
  },
  {
   "cell_type": "code",
   "execution_count": 16,
   "metadata": {},
   "outputs": [
    {
     "data": {
      "text/plain": [
       "12330.786"
      ]
     },
     "execution_count": 16,
     "metadata": {},
     "output_type": "execute_result"
    }
   ],
   "source": [
    "labour['2014-02-28']"
   ]
  },
  {
   "cell_type": "code",
   "execution_count": 17,
   "metadata": {},
   "outputs": [
    {
     "data": {
      "text/plain": [
       "'2001-01-31'"
      ]
     },
     "execution_count": 17,
     "metadata": {},
     "output_type": "execute_result"
    }
   ],
   "source": [
    "labour.idxmin()"
   ]
  },
  {
   "cell_type": "code",
   "execution_count": 18,
   "metadata": {},
   "outputs": [
    {
     "data": {
      "text/plain": [
       "9460.687"
      ]
     },
     "execution_count": 18,
     "metadata": {},
     "output_type": "execute_result"
    }
   ],
   "source": [
    "labour['2001-01-31']"
   ]
  },
  {
   "cell_type": "markdown",
   "metadata": {},
   "source": [
    "## Specifying the index of a series"
   ]
  },
  {
   "cell_type": "code",
   "execution_count": 21,
   "metadata": {},
   "outputs": [
    {
     "data": {
      "text/plain": [
       "Jan       Tom\n",
       "Feb    Daniel\n",
       "Mar      John\n",
       "Apr      Mike\n",
       "May       Ben\n",
       "dtype: object"
      ]
     },
     "execution_count": 21,
     "metadata": {},
     "output_type": "execute_result"
    }
   ],
   "source": [
    "Names = [\"Tom\", \"Daniel\", \"John\", \"Mike\", \"Ben\"]\n",
    "Months = [\"Jan\", \"Feb\", \"Mar\", \"Apr\", \"May\"]\n",
    "\n",
    "pd.Series(Names, Months)"
   ]
  },
  {
   "cell_type": "markdown",
   "metadata": {},
   "source": [
    "We can specify the actual names of the parameters "
   ]
  },
  {
   "cell_type": "code",
   "execution_count": 22,
   "metadata": {},
   "outputs": [
    {
     "data": {
      "text/plain": [
       "Jan       Tom\n",
       "Feb    Daniel\n",
       "Mar      John\n",
       "Apr      Mike\n",
       "May       Ben\n",
       "dtype: object"
      ]
     },
     "execution_count": 22,
     "metadata": {},
     "output_type": "execute_result"
    }
   ],
   "source": [
    "Names = [\"Tom\", \"Daniel\", \"John\", \"Mike\", \"Ben\"]\n",
    "Months = [\"Jan\", \"Feb\", \"Mar\", \"Apr\", \"May\"]\n",
    "\n",
    "pd.Series(data = Names, index = Months)"
   ]
  },
  {
   "cell_type": "markdown",
   "metadata": {},
   "source": [
    "### head / tail\n",
    "We can use the ***head*** and tail methods to display the top / bottom values of a Series (default is 5)"
   ]
  },
  {
   "cell_type": "code",
   "execution_count": 3,
   "metadata": {},
   "outputs": [
    {
     "data": {
      "text/plain": [
       "0    100\n",
       "1    110\n",
       "2    120\n",
       "dtype: int64"
      ]
     },
     "execution_count": 3,
     "metadata": {},
     "output_type": "execute_result"
    }
   ],
   "source": [
    "numeric_series = pd.Series(range(100,999,10))\n",
    "numeric_series.head(3)"
   ]
  },
  {
   "cell_type": "code",
   "execution_count": 4,
   "metadata": {},
   "outputs": [
    {
     "data": {
      "text/plain": [
       "87    970\n",
       "88    980\n",
       "89    990\n",
       "dtype: int64"
      ]
     },
     "execution_count": 4,
     "metadata": {},
     "output_type": "execute_result"
    }
   ],
   "source": [
    "numeric_series.tail(3)"
   ]
  },
  {
   "cell_type": "markdown",
   "metadata": {},
   "source": [
    "## Import `Series` with the `read_csv` Method"
   ]
  },
  {
   "cell_type": "code",
   "execution_count": 16,
   "metadata": {},
   "outputs": [
    {
     "data": {
      "text/html": [
       "<div>\n",
       "<style scoped>\n",
       "    .dataframe tbody tr th:only-of-type {\n",
       "        vertical-align: middle;\n",
       "    }\n",
       "\n",
       "    .dataframe tbody tr th {\n",
       "        vertical-align: top;\n",
       "    }\n",
       "\n",
       "    .dataframe thead th {\n",
       "        text-align: right;\n",
       "    }\n",
       "</style>\n",
       "<table border=\"1\" class=\"dataframe\">\n",
       "  <thead>\n",
       "    <tr style=\"text-align: right;\">\n",
       "      <th></th>\n",
       "      <th>Date</th>\n",
       "      <th>Value</th>\n",
       "    </tr>\n",
       "  </thead>\n",
       "  <tbody>\n",
       "    <tr>\n",
       "      <th>0</th>\n",
       "      <td>2014-04-30</td>\n",
       "      <td>12303.323</td>\n",
       "    </tr>\n",
       "    <tr>\n",
       "      <th>1</th>\n",
       "      <td>2014-03-31</td>\n",
       "      <td>12329.103</td>\n",
       "    </tr>\n",
       "    <tr>\n",
       "      <th>2</th>\n",
       "      <td>2014-02-28</td>\n",
       "      <td>12330.786</td>\n",
       "    </tr>\n",
       "  </tbody>\n",
       "</table>\n",
       "</div>"
      ],
      "text/plain": [
       "         Date      Value\n",
       "0  2014-04-30  12303.323\n",
       "1  2014-03-31  12329.103\n",
       "2  2014-02-28  12330.786"
      ]
     },
     "execution_count": 16,
     "metadata": {},
     "output_type": "execute_result"
    }
   ],
   "source": [
    "labour = pd.read_csv(\"Labour-Force-Monthly-Australia.csv\")\n",
    "labour.head(3)"
   ]
  },
  {
   "cell_type": "markdown",
   "metadata": {},
   "source": [
    "### usecols, squeeze\n",
    "***usecols*** is used to specify which column (or columns) to extract from data source. Column names should be written in a list format (even if it's a single name)\n",
    "***squeeze*** is used to \"squeeze\" the output dataframe into a series. will work only if the dataframe contains a single column of values"
   ]
  },
  {
   "cell_type": "code",
   "execution_count": 18,
   "metadata": {},
   "outputs": [
    {
     "data": {
      "text/plain": [
       "0    12303.323\n",
       "1    12329.103\n",
       "2    12330.786\n",
       "Name: Value, dtype: float64"
      ]
     },
     "execution_count": 18,
     "metadata": {},
     "output_type": "execute_result"
    }
   ],
   "source": [
    "labour = pd.read_csv(\"Labour-Force-Monthly-Australia.csv\", usecols=['Value'], squeeze=True)\n",
    "labour.head(3)"
   ]
  },
  {
   "cell_type": "markdown",
   "metadata": {},
   "source": [
    "### index_col\n",
    "We can use the ***index_col*** parameter to specify a name of a column from the data source to serve as the index of the dataframe"
   ]
  },
  {
   "cell_type": "code",
   "execution_count": 2,
   "metadata": {},
   "outputs": [
    {
     "data": {
      "text/plain": [
       "Date\n",
       "2014-04-30    12303.323\n",
       "2014-03-31    12329.103\n",
       "2014-02-28    12330.786\n",
       "Name: Value, dtype: float64"
      ]
     },
     "execution_count": 2,
     "metadata": {},
     "output_type": "execute_result"
    }
   ],
   "source": [
    "labour = pd.read_csv(\"Labour-Force-Monthly-Australia.csv\", index_col='Date', squeeze=True)\n",
    "labour.head(3)"
   ]
  },
  {
   "cell_type": "markdown",
   "metadata": {},
   "source": [
    "## Built-In Functions\n",
    "Python's built-in functions are general purpose programs we usually use to get the result of a calculation. Built in functions are usually flexible and can work with most object types. "
   ]
  },
  {
   "cell_type": "markdown",
   "metadata": {},
   "source": [
    "### len\n",
    "Returns the number of values in a sequence"
   ]
  },
  {
   "cell_type": "code",
   "execution_count": 3,
   "metadata": {},
   "outputs": [
    {
     "data": {
      "text/plain": [
       "160"
      ]
     },
     "execution_count": 3,
     "metadata": {},
     "output_type": "execute_result"
    }
   ],
   "source": [
    "len(labour)"
   ]
  },
  {
   "cell_type": "markdown",
   "metadata": {},
   "source": [
    "### type\n",
    "Returns the 'type' (what kind is it) of an object"
   ]
  },
  {
   "cell_type": "code",
   "execution_count": 4,
   "metadata": {},
   "outputs": [
    {
     "data": {
      "text/plain": [
       "pandas.core.series.Series"
      ]
     },
     "execution_count": 4,
     "metadata": {},
     "output_type": "execute_result"
    }
   ],
   "source": [
    "type(labour)"
   ]
  },
  {
   "cell_type": "markdown",
   "metadata": {},
   "source": [
    "### dir\n",
    "Returns the full list of actions available for a given object"
   ]
  },
  {
   "cell_type": "code",
   "execution_count": 5,
   "metadata": {
    "collapsed": true
   },
   "outputs": [
    {
     "data": {
      "text/plain": [
       "['T',\n",
       " '_AXIS_ALIASES',\n",
       " '_AXIS_IALIASES',\n",
       " '_AXIS_LEN',\n",
       " '_AXIS_NAMES',\n",
       " '_AXIS_NUMBERS',\n",
       " '_AXIS_ORDERS',\n",
       " '_AXIS_REVERSED',\n",
       " '_AXIS_SLICEMAP',\n",
       " '__abs__',\n",
       " '__add__',\n",
       " '__and__',\n",
       " '__array__',\n",
       " '__array_prepare__',\n",
       " '__array_priority__',\n",
       " '__array_wrap__',\n",
       " '__bool__',\n",
       " '__bytes__',\n",
       " '__class__',\n",
       " '__contains__',\n",
       " '__copy__',\n",
       " '__deepcopy__',\n",
       " '__delattr__',\n",
       " '__delitem__',\n",
       " '__dict__',\n",
       " '__dir__',\n",
       " '__div__',\n",
       " '__divmod__',\n",
       " '__doc__',\n",
       " '__eq__',\n",
       " '__finalize__',\n",
       " '__float__',\n",
       " '__floordiv__',\n",
       " '__format__',\n",
       " '__ge__',\n",
       " '__getattr__',\n",
       " '__getattribute__',\n",
       " '__getitem__',\n",
       " '__getstate__',\n",
       " '__gt__',\n",
       " '__hash__',\n",
       " '__iadd__',\n",
       " '__iand__',\n",
       " '__ifloordiv__',\n",
       " '__imod__',\n",
       " '__imul__',\n",
       " '__init__',\n",
       " '__init_subclass__',\n",
       " '__int__',\n",
       " '__invert__',\n",
       " '__ior__',\n",
       " '__ipow__',\n",
       " '__isub__',\n",
       " '__iter__',\n",
       " '__itruediv__',\n",
       " '__ixor__',\n",
       " '__le__',\n",
       " '__len__',\n",
       " '__long__',\n",
       " '__lt__',\n",
       " '__matmul__',\n",
       " '__mod__',\n",
       " '__module__',\n",
       " '__mul__',\n",
       " '__ne__',\n",
       " '__neg__',\n",
       " '__new__',\n",
       " '__nonzero__',\n",
       " '__or__',\n",
       " '__pos__',\n",
       " '__pow__',\n",
       " '__radd__',\n",
       " '__rand__',\n",
       " '__rdiv__',\n",
       " '__reduce__',\n",
       " '__reduce_ex__',\n",
       " '__repr__',\n",
       " '__rfloordiv__',\n",
       " '__rmatmul__',\n",
       " '__rmod__',\n",
       " '__rmul__',\n",
       " '__ror__',\n",
       " '__round__',\n",
       " '__rpow__',\n",
       " '__rsub__',\n",
       " '__rtruediv__',\n",
       " '__rxor__',\n",
       " '__setattr__',\n",
       " '__setitem__',\n",
       " '__setstate__',\n",
       " '__sizeof__',\n",
       " '__str__',\n",
       " '__sub__',\n",
       " '__subclasshook__',\n",
       " '__truediv__',\n",
       " '__unicode__',\n",
       " '__weakref__',\n",
       " '__xor__',\n",
       " '_accessors',\n",
       " '_add_numeric_operations',\n",
       " '_add_series_only_operations',\n",
       " '_add_series_or_dataframe_operations',\n",
       " '_agg_by_level',\n",
       " '_agg_doc',\n",
       " '_aggregate',\n",
       " '_aggregate_multiple_funcs',\n",
       " '_align_frame',\n",
       " '_align_series',\n",
       " '_binop',\n",
       " '_box_item_values',\n",
       " '_builtin_table',\n",
       " '_can_hold_na',\n",
       " '_check_inplace_setting',\n",
       " '_check_is_chained_assignment_possible',\n",
       " '_check_label_or_level_ambiguity',\n",
       " '_check_percentile',\n",
       " '_check_setitem_copy',\n",
       " '_clear_item_cache',\n",
       " '_clip_with_one_bound',\n",
       " '_clip_with_scalar',\n",
       " '_consolidate',\n",
       " '_consolidate_inplace',\n",
       " '_construct_axes_dict',\n",
       " '_construct_axes_dict_for_slice',\n",
       " '_construct_axes_dict_from',\n",
       " '_construct_axes_from_arguments',\n",
       " '_constructor',\n",
       " '_constructor_expanddim',\n",
       " '_constructor_sliced',\n",
       " '_convert',\n",
       " '_create_indexer',\n",
       " '_cython_table',\n",
       " '_deprecations',\n",
       " '_dir_additions',\n",
       " '_dir_deletions',\n",
       " '_drop_axis',\n",
       " '_drop_labels_or_levels',\n",
       " '_expand_axes',\n",
       " '_find_valid_index',\n",
       " '_formatting_values',\n",
       " '_from_axes',\n",
       " '_get_axis',\n",
       " '_get_axis_name',\n",
       " '_get_axis_number',\n",
       " '_get_axis_resolvers',\n",
       " '_get_block_manager_axis',\n",
       " '_get_bool_data',\n",
       " '_get_cacher',\n",
       " '_get_index_resolvers',\n",
       " '_get_item_cache',\n",
       " '_get_label_or_level_values',\n",
       " '_get_numeric_data',\n",
       " '_get_value',\n",
       " '_get_values',\n",
       " '_get_values_tuple',\n",
       " '_get_with',\n",
       " '_gotitem',\n",
       " '_iget_item_cache',\n",
       " '_index',\n",
       " '_indexed_same',\n",
       " '_info_axis',\n",
       " '_info_axis_name',\n",
       " '_info_axis_number',\n",
       " '_init_dict',\n",
       " '_init_mgr',\n",
       " '_internal_names',\n",
       " '_internal_names_set',\n",
       " '_is_builtin_func',\n",
       " '_is_cached',\n",
       " '_is_copy',\n",
       " '_is_cython_func',\n",
       " '_is_datelike_mixed_type',\n",
       " '_is_label_or_level_reference',\n",
       " '_is_label_reference',\n",
       " '_is_level_reference',\n",
       " '_is_mixed_type',\n",
       " '_is_numeric_mixed_type',\n",
       " '_is_view',\n",
       " '_ix',\n",
       " '_ixs',\n",
       " '_map_values',\n",
       " '_maybe_cache_changed',\n",
       " '_maybe_update_cacher',\n",
       " '_metadata',\n",
       " '_ndarray_values',\n",
       " '_needs_reindex_multi',\n",
       " '_obj_with_exclusions',\n",
       " '_protect_consolidate',\n",
       " '_reduce',\n",
       " '_reindex_axes',\n",
       " '_reindex_axis',\n",
       " '_reindex_indexer',\n",
       " '_reindex_multi',\n",
       " '_reindex_with_indexers',\n",
       " '_repr_data_resource_',\n",
       " '_repr_latex_',\n",
       " '_reset_cache',\n",
       " '_reset_cacher',\n",
       " '_selected_obj',\n",
       " '_selection',\n",
       " '_selection_list',\n",
       " '_selection_name',\n",
       " '_set_as_cached',\n",
       " '_set_axis',\n",
       " '_set_axis_name',\n",
       " '_set_is_copy',\n",
       " '_set_item',\n",
       " '_set_labels',\n",
       " '_set_name',\n",
       " '_set_subtyp',\n",
       " '_set_value',\n",
       " '_set_values',\n",
       " '_set_with',\n",
       " '_set_with_engine',\n",
       " '_setup_axes',\n",
       " '_shallow_copy',\n",
       " '_slice',\n",
       " '_stat_axis',\n",
       " '_stat_axis_name',\n",
       " '_stat_axis_number',\n",
       " '_take',\n",
       " '_to_dict_of_blocks',\n",
       " '_try_aggregate_string_function',\n",
       " '_typ',\n",
       " '_unpickle_series_compat',\n",
       " '_update_inplace',\n",
       " '_validate_dtype',\n",
       " '_values',\n",
       " '_where',\n",
       " '_xs',\n",
       " 'abs',\n",
       " 'add',\n",
       " 'add_prefix',\n",
       " 'add_suffix',\n",
       " 'agg',\n",
       " 'aggregate',\n",
       " 'align',\n",
       " 'all',\n",
       " 'any',\n",
       " 'append',\n",
       " 'apply',\n",
       " 'argmax',\n",
       " 'argmin',\n",
       " 'argsort',\n",
       " 'as_matrix',\n",
       " 'asfreq',\n",
       " 'asof',\n",
       " 'astype',\n",
       " 'at',\n",
       " 'at_time',\n",
       " 'autocorr',\n",
       " 'axes',\n",
       " 'base',\n",
       " 'between',\n",
       " 'between_time',\n",
       " 'bfill',\n",
       " 'bool',\n",
       " 'clip',\n",
       " 'clip_lower',\n",
       " 'clip_upper',\n",
       " 'combine',\n",
       " 'combine_first',\n",
       " 'compound',\n",
       " 'compress',\n",
       " 'copy',\n",
       " 'corr',\n",
       " 'count',\n",
       " 'cov',\n",
       " 'cummax',\n",
       " 'cummin',\n",
       " 'cumprod',\n",
       " 'cumsum',\n",
       " 'data',\n",
       " 'describe',\n",
       " 'diff',\n",
       " 'div',\n",
       " 'divide',\n",
       " 'divmod',\n",
       " 'dot',\n",
       " 'drop',\n",
       " 'drop_duplicates',\n",
       " 'dropna',\n",
       " 'dtype',\n",
       " 'dtypes',\n",
       " 'duplicated',\n",
       " 'empty',\n",
       " 'eq',\n",
       " 'equals',\n",
       " 'ewm',\n",
       " 'expanding',\n",
       " 'factorize',\n",
       " 'ffill',\n",
       " 'fillna',\n",
       " 'filter',\n",
       " 'first',\n",
       " 'first_valid_index',\n",
       " 'flags',\n",
       " 'floordiv',\n",
       " 'from_array',\n",
       " 'ftype',\n",
       " 'ftypes',\n",
       " 'ge',\n",
       " 'get',\n",
       " 'get_dtype_counts',\n",
       " 'get_ftype_counts',\n",
       " 'get_values',\n",
       " 'groupby',\n",
       " 'gt',\n",
       " 'hasnans',\n",
       " 'head',\n",
       " 'hist',\n",
       " 'iat',\n",
       " 'idxmax',\n",
       " 'idxmin',\n",
       " 'iloc',\n",
       " 'imag',\n",
       " 'index',\n",
       " 'infer_objects',\n",
       " 'interpolate',\n",
       " 'is_monotonic',\n",
       " 'is_monotonic_decreasing',\n",
       " 'is_monotonic_increasing',\n",
       " 'is_unique',\n",
       " 'isin',\n",
       " 'isna',\n",
       " 'isnull',\n",
       " 'item',\n",
       " 'items',\n",
       " 'itemsize',\n",
       " 'iteritems',\n",
       " 'ix',\n",
       " 'keys',\n",
       " 'kurt',\n",
       " 'kurtosis',\n",
       " 'last',\n",
       " 'last_valid_index',\n",
       " 'le',\n",
       " 'loc',\n",
       " 'lt',\n",
       " 'mad',\n",
       " 'map',\n",
       " 'mask',\n",
       " 'max',\n",
       " 'mean',\n",
       " 'median',\n",
       " 'memory_usage',\n",
       " 'min',\n",
       " 'mod',\n",
       " 'mode',\n",
       " 'mul',\n",
       " 'multiply',\n",
       " 'name',\n",
       " 'nbytes',\n",
       " 'ndim',\n",
       " 'ne',\n",
       " 'nlargest',\n",
       " 'nonzero',\n",
       " 'notna',\n",
       " 'notnull',\n",
       " 'nsmallest',\n",
       " 'nunique',\n",
       " 'pct_change',\n",
       " 'pipe',\n",
       " 'plot',\n",
       " 'pop',\n",
       " 'pow',\n",
       " 'prod',\n",
       " 'product',\n",
       " 'ptp',\n",
       " 'put',\n",
       " 'quantile',\n",
       " 'radd',\n",
       " 'rank',\n",
       " 'ravel',\n",
       " 'rdiv',\n",
       " 'real',\n",
       " 'reindex',\n",
       " 'reindex_axis',\n",
       " 'reindex_like',\n",
       " 'rename',\n",
       " 'rename_axis',\n",
       " 'reorder_levels',\n",
       " 'repeat',\n",
       " 'replace',\n",
       " 'resample',\n",
       " 'reset_index',\n",
       " 'rfloordiv',\n",
       " 'rmod',\n",
       " 'rmul',\n",
       " 'rolling',\n",
       " 'round',\n",
       " 'rpow',\n",
       " 'rsub',\n",
       " 'rtruediv',\n",
       " 'sample',\n",
       " 'searchsorted',\n",
       " 'select',\n",
       " 'sem',\n",
       " 'set_axis',\n",
       " 'shape',\n",
       " 'shift',\n",
       " 'size',\n",
       " 'skew',\n",
       " 'slice_shift',\n",
       " 'sort_index',\n",
       " 'sort_values',\n",
       " 'squeeze',\n",
       " 'std',\n",
       " 'strides',\n",
       " 'sub',\n",
       " 'subtract',\n",
       " 'sum',\n",
       " 'swapaxes',\n",
       " 'swaplevel',\n",
       " 'tail',\n",
       " 'take',\n",
       " 'to_clipboard',\n",
       " 'to_csv',\n",
       " 'to_dense',\n",
       " 'to_dict',\n",
       " 'to_excel',\n",
       " 'to_frame',\n",
       " 'to_hdf',\n",
       " 'to_json',\n",
       " 'to_latex',\n",
       " 'to_msgpack',\n",
       " 'to_period',\n",
       " 'to_pickle',\n",
       " 'to_sparse',\n",
       " 'to_sql',\n",
       " 'to_string',\n",
       " 'to_timestamp',\n",
       " 'to_xarray',\n",
       " 'tolist',\n",
       " 'transform',\n",
       " 'transpose',\n",
       " 'truediv',\n",
       " 'truncate',\n",
       " 'tshift',\n",
       " 'tz_convert',\n",
       " 'tz_localize',\n",
       " 'unique',\n",
       " 'unstack',\n",
       " 'update',\n",
       " 'value_counts',\n",
       " 'values',\n",
       " 'var',\n",
       " 'view',\n",
       " 'where',\n",
       " 'xs']"
      ]
     },
     "execution_count": 5,
     "metadata": {},
     "output_type": "execute_result"
    }
   ],
   "source": [
    "dir(labour)"
   ]
  },
  {
   "cell_type": "markdown",
   "metadata": {},
   "source": [
    "### sorted\n",
    "Returns a list of all values from a given sequence, sorted from small to large."
   ]
  },
  {
   "cell_type": "code",
   "execution_count": 6,
   "metadata": {
    "collapsed": true
   },
   "outputs": [
    {
     "data": {
      "text/plain": [
       "[9460.687,\n",
       " 9606.247,\n",
       " 9610.032,\n",
       " 9621.3,\n",
       " 9660.729,\n",
       " 9668.858,\n",
       " 9673.37,\n",
       " 9681.951,\n",
       " 9687.27,\n",
       " 9716.578000000001,\n",
       " 9728.218,\n",
       " 9745.45,\n",
       " 9747.514000000001,\n",
       " 9755.23,\n",
       " 9755.525,\n",
       " 9777.167,\n",
       " 9788.537,\n",
       " 9800.487,\n",
       " 9812.184000000001,\n",
       " 9815.319,\n",
       " 9837.163,\n",
       " 9852.662,\n",
       " 9879.314,\n",
       " 9921.543,\n",
       " 9934.935,\n",
       " 9944.725,\n",
       " 9951.144,\n",
       " 9957.997,\n",
       " 9967.605,\n",
       " 9974.440999999999,\n",
       " 9985.96,\n",
       " 9991.440999999999,\n",
       " 9992.072,\n",
       " 10004.964,\n",
       " 10045.788,\n",
       " 10047.115,\n",
       " 10065.403,\n",
       " 10069.894,\n",
       " 10071.561,\n",
       " 10073.879,\n",
       " 10075.245,\n",
       " 10080.618,\n",
       " 10082.245,\n",
       " 10137.024,\n",
       " 10138.799,\n",
       " 10152.36,\n",
       " 10203.325,\n",
       " 10219.886999999999,\n",
       " 10321.905,\n",
       " 10336.625,\n",
       " 10356.914,\n",
       " 10381.444,\n",
       " 10385.884,\n",
       " 10393.681,\n",
       " 10395.733,\n",
       " 10399.155999999999,\n",
       " 10421.38,\n",
       " 10434.185,\n",
       " 10443.735999999999,\n",
       " 10532.276000000002,\n",
       " 10567.867,\n",
       " 10574.008,\n",
       " 10583.229,\n",
       " 10591.431999999999,\n",
       " 10591.921999999999,\n",
       " 10600.534,\n",
       " 10618.96,\n",
       " 10625.403999999999,\n",
       " 10648.306,\n",
       " 10662.015,\n",
       " 10690.668,\n",
       " 10803.983,\n",
       " 10844.149,\n",
       " 10846.241000000002,\n",
       " 10853.188,\n",
       " 10861.198999999999,\n",
       " 10877.28,\n",
       " 10882.889,\n",
       " 10891.271999999999,\n",
       " 10895.303999999998,\n",
       " 10969.931999999999,\n",
       " 10986.442,\n",
       " 11028.223999999998,\n",
       " 11054.325,\n",
       " 11123.266000000001,\n",
       " 11139.805,\n",
       " 11157.072,\n",
       " 11168.598999999998,\n",
       " 11180.903999999999,\n",
       " 11190.339,\n",
       " 11201.787,\n",
       " 11207.684,\n",
       " 11223.216999999999,\n",
       " 11266.083,\n",
       " 11281.038999999999,\n",
       " 11330.795,\n",
       " 11339.405,\n",
       " 11410.502,\n",
       " 11422.132,\n",
       " 11422.68,\n",
       " 11425.658000000001,\n",
       " 11429.753,\n",
       " 11454.317,\n",
       " 11458.87,\n",
       " 11460.648000000001,\n",
       " 11464.02,\n",
       " 11468.18,\n",
       " 11529.3,\n",
       " 11533.105,\n",
       " 11562.041000000001,\n",
       " 11579.696000000002,\n",
       " 11582.846000000001,\n",
       " 11589.553,\n",
       " 11595.476,\n",
       " 11602.524,\n",
       " 11630.069,\n",
       " 11694.714,\n",
       " 11702.778999999999,\n",
       " 11718.78,\n",
       " 11727.636,\n",
       " 11751.426000000001,\n",
       " 11774.753999999999,\n",
       " 11785.47,\n",
       " 11786.017,\n",
       " 11790.13,\n",
       " 11800.973,\n",
       " 11808.864,\n",
       " 11818.601,\n",
       " 11836.252,\n",
       " 11849.621000000001,\n",
       " 11856.493999999999,\n",
       " 11862.658000000001,\n",
       " 11927.038999999999,\n",
       " 11935.123,\n",
       " 11941.582,\n",
       " 11946.315,\n",
       " 11949.275,\n",
       " 11956.443000000001,\n",
       " 11963.315,\n",
       " 11991.656,\n",
       " 11999.916000000001,\n",
       " 12009.204,\n",
       " 12024.964,\n",
       " 12048.43,\n",
       " 12113.002,\n",
       " 12126.413,\n",
       " 12128.473,\n",
       " 12132.96,\n",
       " 12155.612,\n",
       " 12161.747,\n",
       " 12164.385,\n",
       " 12164.611,\n",
       " 12170.788999999999,\n",
       " 12171.525,\n",
       " 12179.187,\n",
       " 12239.493999999999,\n",
       " 12266.032,\n",
       " 12303.323,\n",
       " 12329.103000000001,\n",
       " 12330.786]"
      ]
     },
     "execution_count": 6,
     "metadata": {},
     "output_type": "execute_result"
    }
   ],
   "source": [
    "sorted(labour)"
   ]
  },
  {
   "cell_type": "markdown",
   "metadata": {},
   "source": [
    "We can switch the order with a parameter"
   ]
  },
  {
   "cell_type": "code",
   "execution_count": 7,
   "metadata": {
    "collapsed": true
   },
   "outputs": [
    {
     "data": {
      "text/plain": [
       "[12330.786,\n",
       " 12329.103000000001,\n",
       " 12303.323,\n",
       " 12266.032,\n",
       " 12239.493999999999,\n",
       " 12179.187,\n",
       " 12171.525,\n",
       " 12170.788999999999,\n",
       " 12164.611,\n",
       " 12164.385,\n",
       " 12161.747,\n",
       " 12155.612,\n",
       " 12132.96,\n",
       " 12128.473,\n",
       " 12126.413,\n",
       " 12113.002,\n",
       " 12048.43,\n",
       " 12024.964,\n",
       " 12009.204,\n",
       " 11999.916000000001,\n",
       " 11991.656,\n",
       " 11963.315,\n",
       " 11956.443000000001,\n",
       " 11949.275,\n",
       " 11946.315,\n",
       " 11941.582,\n",
       " 11935.123,\n",
       " 11927.038999999999,\n",
       " 11862.658000000001,\n",
       " 11856.493999999999,\n",
       " 11849.621000000001,\n",
       " 11836.252,\n",
       " 11818.601,\n",
       " 11808.864,\n",
       " 11800.973,\n",
       " 11790.13,\n",
       " 11786.017,\n",
       " 11785.47,\n",
       " 11774.753999999999,\n",
       " 11751.426000000001,\n",
       " 11727.636,\n",
       " 11718.78,\n",
       " 11702.778999999999,\n",
       " 11694.714,\n",
       " 11630.069,\n",
       " 11602.524,\n",
       " 11595.476,\n",
       " 11589.553,\n",
       " 11582.846000000001,\n",
       " 11579.696000000002,\n",
       " 11562.041000000001,\n",
       " 11533.105,\n",
       " 11529.3,\n",
       " 11468.18,\n",
       " 11464.02,\n",
       " 11460.648000000001,\n",
       " 11458.87,\n",
       " 11454.317,\n",
       " 11429.753,\n",
       " 11425.658000000001,\n",
       " 11422.68,\n",
       " 11422.132,\n",
       " 11410.502,\n",
       " 11339.405,\n",
       " 11330.795,\n",
       " 11281.038999999999,\n",
       " 11266.083,\n",
       " 11223.216999999999,\n",
       " 11207.684,\n",
       " 11201.787,\n",
       " 11190.339,\n",
       " 11180.903999999999,\n",
       " 11168.598999999998,\n",
       " 11157.072,\n",
       " 11139.805,\n",
       " 11123.266000000001,\n",
       " 11054.325,\n",
       " 11028.223999999998,\n",
       " 10986.442,\n",
       " 10969.931999999999,\n",
       " 10895.303999999998,\n",
       " 10891.271999999999,\n",
       " 10882.889,\n",
       " 10877.28,\n",
       " 10861.198999999999,\n",
       " 10853.188,\n",
       " 10846.241000000002,\n",
       " 10844.149,\n",
       " 10803.983,\n",
       " 10690.668,\n",
       " 10662.015,\n",
       " 10648.306,\n",
       " 10625.403999999999,\n",
       " 10618.96,\n",
       " 10600.534,\n",
       " 10591.921999999999,\n",
       " 10591.431999999999,\n",
       " 10583.229,\n",
       " 10574.008,\n",
       " 10567.867,\n",
       " 10532.276000000002,\n",
       " 10443.735999999999,\n",
       " 10434.185,\n",
       " 10421.38,\n",
       " 10399.155999999999,\n",
       " 10395.733,\n",
       " 10393.681,\n",
       " 10385.884,\n",
       " 10381.444,\n",
       " 10356.914,\n",
       " 10336.625,\n",
       " 10321.905,\n",
       " 10219.886999999999,\n",
       " 10203.325,\n",
       " 10152.36,\n",
       " 10138.799,\n",
       " 10137.024,\n",
       " 10082.245,\n",
       " 10080.618,\n",
       " 10075.245,\n",
       " 10073.879,\n",
       " 10071.561,\n",
       " 10069.894,\n",
       " 10065.403,\n",
       " 10047.115,\n",
       " 10045.788,\n",
       " 10004.964,\n",
       " 9992.072,\n",
       " 9991.440999999999,\n",
       " 9985.96,\n",
       " 9974.440999999999,\n",
       " 9967.605,\n",
       " 9957.997,\n",
       " 9951.144,\n",
       " 9944.725,\n",
       " 9934.935,\n",
       " 9921.543,\n",
       " 9879.314,\n",
       " 9852.662,\n",
       " 9837.163,\n",
       " 9815.319,\n",
       " 9812.184000000001,\n",
       " 9800.487,\n",
       " 9788.537,\n",
       " 9777.167,\n",
       " 9755.525,\n",
       " 9755.23,\n",
       " 9747.514000000001,\n",
       " 9745.45,\n",
       " 9728.218,\n",
       " 9716.578000000001,\n",
       " 9687.27,\n",
       " 9681.951,\n",
       " 9673.37,\n",
       " 9668.858,\n",
       " 9660.729,\n",
       " 9621.3,\n",
       " 9610.032,\n",
       " 9606.247,\n",
       " 9460.687]"
      ]
     },
     "execution_count": 7,
     "metadata": {},
     "output_type": "execute_result"
    }
   ],
   "source": [
    "sorted(labour, reverse=True)"
   ]
  },
  {
   "cell_type": "markdown",
   "metadata": {},
   "source": [
    "### list\n",
    "creates a list from a given sequence"
   ]
  },
  {
   "cell_type": "code",
   "execution_count": 8,
   "metadata": {
    "collapsed": true
   },
   "outputs": [
    {
     "data": {
      "text/plain": [
       "[12303.323,\n",
       " 12329.103000000001,\n",
       " 12330.786,\n",
       " 12126.413,\n",
       " 12266.032,\n",
       " 12128.473,\n",
       " 12179.187,\n",
       " 12239.493999999999,\n",
       " 12048.43,\n",
       " 12132.96,\n",
       " 12170.788999999999,\n",
       " 12171.525,\n",
       " 12164.611,\n",
       " 12161.747,\n",
       " 12164.385,\n",
       " 11999.916000000001,\n",
       " 12155.612,\n",
       " 11963.315,\n",
       " 12024.964,\n",
       " 12113.002,\n",
       " 11849.621000000001,\n",
       " 11946.315,\n",
       " 11949.275,\n",
       " 12009.204,\n",
       " 11927.038999999999,\n",
       " 11991.656,\n",
       " 11935.123,\n",
       " 11800.973,\n",
       " 11956.443000000001,\n",
       " 11818.601,\n",
       " 11862.658000000001,\n",
       " 11941.582,\n",
       " 11727.636,\n",
       " 11790.13,\n",
       " 11785.47,\n",
       " 11786.017,\n",
       " 11774.753999999999,\n",
       " 11836.252,\n",
       " 11808.864,\n",
       " 11694.714,\n",
       " 11856.493999999999,\n",
       " 11702.778999999999,\n",
       " 11718.78,\n",
       " 11751.426000000001,\n",
       " 11533.105,\n",
       " 11602.524,\n",
       " 11589.553,\n",
       " 11562.041000000001,\n",
       " 11582.846000000001,\n",
       " 11595.476,\n",
       " 11579.696000000002,\n",
       " 11464.02,\n",
       " 11630.069,\n",
       " 11422.68,\n",
       " 11458.87,\n",
       " 11529.3,\n",
       " 11330.795,\n",
       " 11410.502,\n",
       " 11425.658000000001,\n",
       " 11454.317,\n",
       " 11429.753,\n",
       " 11468.18,\n",
       " 11460.648000000001,\n",
       " 11281.038999999999,\n",
       " 11422.132,\n",
       " 11223.216999999999,\n",
       " 11266.083,\n",
       " 11339.405,\n",
       " 11139.805,\n",
       " 11201.787,\n",
       " 11207.684,\n",
       " 11168.598999999998,\n",
       " 11190.339,\n",
       " 11157.072,\n",
       " 11123.266000000001,\n",
       " 11028.223999999998,\n",
       " 11180.903999999999,\n",
       " 10986.442,\n",
       " 10969.931999999999,\n",
       " 11054.325,\n",
       " 10853.188,\n",
       " 10882.889,\n",
       " 10895.303999999998,\n",
       " 10877.28,\n",
       " 10846.241000000002,\n",
       " 10861.198999999999,\n",
       " 10844.149,\n",
       " 10690.668,\n",
       " 10891.271999999999,\n",
       " 10648.306,\n",
       " 10662.015,\n",
       " 10803.983,\n",
       " 10583.229,\n",
       " 10625.403999999999,\n",
       " 10618.96,\n",
       " 10591.921999999999,\n",
       " 10574.008,\n",
       " 10591.431999999999,\n",
       " 10567.867,\n",
       " 10434.185,\n",
       " 10600.534,\n",
       " 10421.38,\n",
       " 10443.735999999999,\n",
       " 10532.276000000002,\n",
       " 10356.914,\n",
       " 10385.884,\n",
       " 10399.155999999999,\n",
       " 10381.444,\n",
       " 10395.733,\n",
       " 10393.681,\n",
       " 10336.625,\n",
       " 10203.325,\n",
       " 10321.905,\n",
       " 10138.799,\n",
       " 10152.36,\n",
       " 10219.886999999999,\n",
       " 9991.440999999999,\n",
       " 10065.403,\n",
       " 10080.618,\n",
       " 10071.561,\n",
       " 10073.879,\n",
       " 10082.245,\n",
       " 10075.245,\n",
       " 9967.605,\n",
       " 10137.024,\n",
       " 9951.144,\n",
       " 9992.072,\n",
       " 10069.894,\n",
       " 9879.314,\n",
       " 9921.543,\n",
       " 9957.997,\n",
       " 9985.96,\n",
       " 9974.440999999999,\n",
       " 10004.964,\n",
       " 10045.788,\n",
       " 9944.725,\n",
       " 10047.115,\n",
       " 9852.662,\n",
       " 9815.319,\n",
       " 9934.935,\n",
       " 9745.45,\n",
       " 9747.514000000001,\n",
       " 9800.487,\n",
       " 9755.525,\n",
       " 9755.23,\n",
       " 9788.537,\n",
       " 9812.184000000001,\n",
       " 9728.218,\n",
       " 9837.163,\n",
       " 9681.951,\n",
       " 9716.578000000001,\n",
       " 9777.167,\n",
       " 9610.032,\n",
       " 9660.729,\n",
       " 9673.37,\n",
       " 9668.858,\n",
       " 9687.27,\n",
       " 9606.247,\n",
       " 9621.3,\n",
       " 9460.687]"
      ]
     },
     "execution_count": 8,
     "metadata": {},
     "output_type": "execute_result"
    }
   ],
   "source": [
    "list(labour)"
   ]
  },
  {
   "cell_type": "code",
   "execution_count": 9,
   "metadata": {
    "collapsed": true
   },
   "outputs": [
    {
     "data": {
      "text/plain": [
       "{'2014-04-30': 12303.323,\n",
       " '2014-03-31': 12329.103000000001,\n",
       " '2014-02-28': 12330.786,\n",
       " '2014-01-31': 12126.413,\n",
       " '2013-12-31': 12266.032,\n",
       " '2013-11-30': 12128.473,\n",
       " '2013-10-31': 12179.187,\n",
       " '2013-09-30': 12239.493999999999,\n",
       " '2013-08-31': 12048.43,\n",
       " '2013-07-31': 12132.96,\n",
       " '2013-06-30': 12170.788999999999,\n",
       " '2013-05-31': 12171.525,\n",
       " '2013-04-30': 12164.611,\n",
       " '2013-03-31': 12161.747,\n",
       " '2013-02-28': 12164.385,\n",
       " '2013-01-31': 11999.916000000001,\n",
       " '2012-12-31': 12155.612,\n",
       " '2012-11-30': 11963.315,\n",
       " '2012-10-31': 12024.964,\n",
       " '2012-09-30': 12113.002,\n",
       " '2012-08-31': 11849.621000000001,\n",
       " '2012-07-31': 11946.315,\n",
       " '2012-06-30': 11949.275,\n",
       " '2012-05-31': 12009.204,\n",
       " '2012-04-30': 11927.038999999999,\n",
       " '2012-03-31': 11991.656,\n",
       " '2012-02-29': 11935.123,\n",
       " '2012-01-31': 11800.973,\n",
       " '2011-12-31': 11956.443000000001,\n",
       " '2011-11-30': 11818.601,\n",
       " '2011-10-31': 11862.658000000001,\n",
       " '2011-09-30': 11941.582,\n",
       " '2011-08-31': 11727.636,\n",
       " '2011-07-31': 11790.13,\n",
       " '2011-06-30': 11785.47,\n",
       " '2011-05-31': 11786.017,\n",
       " '2011-04-30': 11774.753999999999,\n",
       " '2011-03-31': 11836.252,\n",
       " '2011-02-28': 11808.864,\n",
       " '2011-01-31': 11694.714,\n",
       " '2010-12-31': 11856.493999999999,\n",
       " '2010-11-30': 11702.778999999999,\n",
       " '2010-10-31': 11718.78,\n",
       " '2010-09-30': 11751.426000000001,\n",
       " '2010-08-31': 11533.105,\n",
       " '2010-07-31': 11602.524,\n",
       " '2010-06-30': 11589.553,\n",
       " '2010-05-31': 11562.041000000001,\n",
       " '2010-04-30': 11582.846000000001,\n",
       " '2010-03-31': 11595.476,\n",
       " '2010-02-28': 11579.696000000002,\n",
       " '2010-01-31': 11464.02,\n",
       " '2009-12-31': 11630.069,\n",
       " '2009-11-30': 11422.68,\n",
       " '2009-10-31': 11458.87,\n",
       " '2009-09-30': 11529.3,\n",
       " '2009-08-31': 11330.795,\n",
       " '2009-07-31': 11410.502,\n",
       " '2009-06-30': 11425.658000000001,\n",
       " '2009-05-31': 11454.317,\n",
       " '2009-04-30': 11429.753,\n",
       " '2009-03-31': 11468.18,\n",
       " '2009-02-28': 11460.648000000001,\n",
       " '2009-01-31': 11281.038999999999,\n",
       " '2008-12-31': 11422.132,\n",
       " '2008-11-30': 11223.216999999999,\n",
       " '2008-10-31': 11266.083,\n",
       " '2008-09-30': 11339.405,\n",
       " '2008-08-31': 11139.805,\n",
       " '2008-07-31': 11201.787,\n",
       " '2008-06-30': 11207.684,\n",
       " '2008-05-31': 11168.598999999998,\n",
       " '2008-04-30': 11190.339,\n",
       " '2008-03-31': 11157.072,\n",
       " '2008-02-29': 11123.266000000001,\n",
       " '2008-01-31': 11028.223999999998,\n",
       " '2007-12-31': 11180.903999999999,\n",
       " '2007-11-30': 10986.442,\n",
       " '2007-10-31': 10969.931999999999,\n",
       " '2007-09-30': 11054.325,\n",
       " '2007-08-31': 10853.188,\n",
       " '2007-07-31': 10882.889,\n",
       " '2007-06-30': 10895.303999999998,\n",
       " '2007-05-31': 10877.28,\n",
       " '2007-04-30': 10846.241000000002,\n",
       " '2007-03-31': 10861.198999999999,\n",
       " '2007-02-28': 10844.149,\n",
       " '2007-01-31': 10690.668,\n",
       " '2006-12-31': 10891.271999999999,\n",
       " '2006-11-30': 10648.306,\n",
       " '2006-10-31': 10662.015,\n",
       " '2006-09-30': 10803.983,\n",
       " '2006-08-31': 10583.229,\n",
       " '2006-07-31': 10625.403999999999,\n",
       " '2006-06-30': 10618.96,\n",
       " '2006-05-31': 10591.921999999999,\n",
       " '2006-04-30': 10574.008,\n",
       " '2006-03-31': 10591.431999999999,\n",
       " '2006-02-28': 10567.867,\n",
       " '2006-01-31': 10434.185,\n",
       " '2005-12-31': 10600.534,\n",
       " '2005-11-30': 10421.38,\n",
       " '2005-10-31': 10443.735999999999,\n",
       " '2005-09-30': 10532.276000000002,\n",
       " '2005-08-31': 10356.914,\n",
       " '2005-07-31': 10385.884,\n",
       " '2005-06-30': 10399.155999999999,\n",
       " '2005-05-31': 10381.444,\n",
       " '2005-04-30': 10395.733,\n",
       " '2005-03-31': 10393.681,\n",
       " '2005-02-28': 10336.625,\n",
       " '2005-01-31': 10203.325,\n",
       " '2004-12-31': 10321.905,\n",
       " '2004-11-30': 10138.799,\n",
       " '2004-10-31': 10152.36,\n",
       " '2004-09-30': 10219.886999999999,\n",
       " '2004-08-31': 9991.440999999999,\n",
       " '2004-07-31': 10065.403,\n",
       " '2004-06-30': 10080.618,\n",
       " '2004-05-31': 10071.561,\n",
       " '2004-04-30': 10073.879,\n",
       " '2004-03-31': 10082.245,\n",
       " '2004-02-29': 10075.245,\n",
       " '2004-01-31': 9967.605,\n",
       " '2003-12-31': 10137.024,\n",
       " '2003-11-30': 9951.144,\n",
       " '2003-10-31': 9992.072,\n",
       " '2003-09-30': 10069.894,\n",
       " '2003-08-31': 9879.314,\n",
       " '2003-07-31': 9921.543,\n",
       " '2003-06-30': 9957.997,\n",
       " '2003-05-31': 9985.96,\n",
       " '2003-04-30': 9974.440999999999,\n",
       " '2003-03-31': 10004.964,\n",
       " '2003-02-28': 10045.788,\n",
       " '2003-01-31': 9944.725,\n",
       " '2002-12-31': 10047.115,\n",
       " '2002-11-30': 9852.662,\n",
       " '2002-10-31': 9815.319,\n",
       " '2002-09-30': 9934.935,\n",
       " '2002-08-31': 9745.45,\n",
       " '2002-07-31': 9747.514000000001,\n",
       " '2002-06-30': 9800.487,\n",
       " '2002-05-31': 9755.525,\n",
       " '2002-04-30': 9755.23,\n",
       " '2002-03-31': 9788.537,\n",
       " '2002-02-28': 9812.184000000001,\n",
       " '2002-01-31': 9728.218,\n",
       " '2001-12-31': 9837.163,\n",
       " '2001-11-30': 9681.951,\n",
       " '2001-10-31': 9716.578000000001,\n",
       " '2001-09-30': 9777.167,\n",
       " '2001-08-31': 9610.032,\n",
       " '2001-07-31': 9660.729,\n",
       " '2001-06-30': 9673.37,\n",
       " '2001-05-31': 9668.858,\n",
       " '2001-04-30': 9687.27,\n",
       " '2001-03-31': 9606.247,\n",
       " '2001-02-28': 9621.3,\n",
       " '2001-01-31': 9460.687}"
      ]
     },
     "execution_count": 9,
     "metadata": {},
     "output_type": "execute_result"
    }
   ],
   "source": [
    "dict(labour)"
   ]
  },
  {
   "cell_type": "code",
   "execution_count": 10,
   "metadata": {},
   "outputs": [
    {
     "data": {
      "text/plain": [
       "12330.786"
      ]
     },
     "execution_count": 10,
     "metadata": {},
     "output_type": "execute_result"
    }
   ],
   "source": [
    "max(labour)"
   ]
  },
  {
   "cell_type": "code",
   "execution_count": 11,
   "metadata": {},
   "outputs": [
    {
     "data": {
      "text/plain": [
       "9460.687"
      ]
     },
     "execution_count": 11,
     "metadata": {},
     "output_type": "execute_result"
    }
   ],
   "source": [
    "min(labour)"
   ]
  },
  {
   "cell_type": "markdown",
   "metadata": {},
   "source": [
    "## More `Series` Attributes"
   ]
  },
  {
   "cell_type": "code",
   "execution_count": 12,
   "metadata": {},
   "outputs": [],
   "source": [
    "labour = pd.read_csv(\"Labour-Force-Monthly-Australia.csv\", index_col='Date', squeeze=True)"
   ]
  },
  {
   "cell_type": "markdown",
   "metadata": {},
   "source": [
    "### values\n",
    "Get a numpy array containing all of the values in the Series"
   ]
  },
  {
   "cell_type": "code",
   "execution_count": 13,
   "metadata": {},
   "outputs": [
    {
     "data": {
      "text/plain": [
       "array([12303.323, 12329.103, 12330.786, 12126.413, 12266.032, 12128.473,\n",
       "       12179.187, 12239.494, 12048.43 , 12132.96 , 12170.789, 12171.525,\n",
       "       12164.611, 12161.747, 12164.385, 11999.916, 12155.612, 11963.315,\n",
       "       12024.964, 12113.002, 11849.621, 11946.315, 11949.275, 12009.204,\n",
       "       11927.039, 11991.656, 11935.123, 11800.973, 11956.443, 11818.601,\n",
       "       11862.658, 11941.582, 11727.636, 11790.13 , 11785.47 , 11786.017,\n",
       "       11774.754, 11836.252, 11808.864, 11694.714, 11856.494, 11702.779,\n",
       "       11718.78 , 11751.426, 11533.105, 11602.524, 11589.553, 11562.041,\n",
       "       11582.846, 11595.476, 11579.696, 11464.02 , 11630.069, 11422.68 ,\n",
       "       11458.87 , 11529.3  , 11330.795, 11410.502, 11425.658, 11454.317,\n",
       "       11429.753, 11468.18 , 11460.648, 11281.039, 11422.132, 11223.217,\n",
       "       11266.083, 11339.405, 11139.805, 11201.787, 11207.684, 11168.599,\n",
       "       11190.339, 11157.072, 11123.266, 11028.224, 11180.904, 10986.442,\n",
       "       10969.932, 11054.325, 10853.188, 10882.889, 10895.304, 10877.28 ,\n",
       "       10846.241, 10861.199, 10844.149, 10690.668, 10891.272, 10648.306,\n",
       "       10662.015, 10803.983, 10583.229, 10625.404, 10618.96 , 10591.922,\n",
       "       10574.008, 10591.432, 10567.867, 10434.185, 10600.534, 10421.38 ,\n",
       "       10443.736, 10532.276, 10356.914, 10385.884, 10399.156, 10381.444,\n",
       "       10395.733, 10393.681, 10336.625, 10203.325, 10321.905, 10138.799,\n",
       "       10152.36 , 10219.887,  9991.441, 10065.403, 10080.618, 10071.561,\n",
       "       10073.879, 10082.245, 10075.245,  9967.605, 10137.024,  9951.144,\n",
       "        9992.072, 10069.894,  9879.314,  9921.543,  9957.997,  9985.96 ,\n",
       "        9974.441, 10004.964, 10045.788,  9944.725, 10047.115,  9852.662,\n",
       "        9815.319,  9934.935,  9745.45 ,  9747.514,  9800.487,  9755.525,\n",
       "        9755.23 ,  9788.537,  9812.184,  9728.218,  9837.163,  9681.951,\n",
       "        9716.578,  9777.167,  9610.032,  9660.729,  9673.37 ,  9668.858,\n",
       "        9687.27 ,  9606.247,  9621.3  ,  9460.687])"
      ]
     },
     "execution_count": 13,
     "metadata": {},
     "output_type": "execute_result"
    }
   ],
   "source": [
    "labour.values"
   ]
  },
  {
   "cell_type": "markdown",
   "metadata": {},
   "source": [
    "### index\n",
    "Get a sequence containing all the index labels (or a range object if the index wasn't changed)"
   ]
  },
  {
   "cell_type": "code",
   "execution_count": 14,
   "metadata": {},
   "outputs": [
    {
     "data": {
      "text/plain": [
       "Index(['2014-04-30', '2014-03-31', '2014-02-28', '2014-01-31', '2013-12-31',\n",
       "       '2013-11-30', '2013-10-31', '2013-09-30', '2013-08-31', '2013-07-31',\n",
       "       ...\n",
       "       '2001-10-31', '2001-09-30', '2001-08-31', '2001-07-31', '2001-06-30',\n",
       "       '2001-05-31', '2001-04-30', '2001-03-31', '2001-02-28', '2001-01-31'],\n",
       "      dtype='object', name='Date', length=160)"
      ]
     },
     "execution_count": 14,
     "metadata": {},
     "output_type": "execute_result"
    }
   ],
   "source": [
    "labour.index"
   ]
  },
  {
   "cell_type": "markdown",
   "metadata": {},
   "source": [
    "### dtype\n",
    "Get the data type of the Series"
   ]
  },
  {
   "cell_type": "code",
   "execution_count": 15,
   "metadata": {},
   "outputs": [
    {
     "data": {
      "text/plain": [
       "dtype('float64')"
      ]
     },
     "execution_count": 15,
     "metadata": {},
     "output_type": "execute_result"
    }
   ],
   "source": [
    "labour.dtype"
   ]
  },
  {
   "cell_type": "markdown",
   "metadata": {},
   "source": [
    "### is_unique\n",
    "Check to see if the Series doesn't contain any duplicates"
   ]
  },
  {
   "cell_type": "code",
   "execution_count": 16,
   "metadata": {},
   "outputs": [
    {
     "data": {
      "text/plain": [
       "True"
      ]
     },
     "execution_count": 16,
     "metadata": {},
     "output_type": "execute_result"
    }
   ],
   "source": [
    "labour.is_unique"
   ]
  },
  {
   "cell_type": "markdown",
   "metadata": {},
   "source": [
    "### nunique()\n",
    "Get the number of unique values (if is_unique is True than this number will be equal to the size of the Series)"
   ]
  },
  {
   "cell_type": "code",
   "execution_count": 20,
   "metadata": {},
   "outputs": [
    {
     "data": {
      "text/plain": [
       "160"
      ]
     },
     "execution_count": 20,
     "metadata": {},
     "output_type": "execute_result"
    }
   ],
   "source": [
    "labour.nunique()"
   ]
  },
  {
   "cell_type": "markdown",
   "metadata": {},
   "source": [
    "### ndim\n",
    "Number of dimensions (always 1 for a Series)"
   ]
  },
  {
   "cell_type": "code",
   "execution_count": 17,
   "metadata": {},
   "outputs": [
    {
     "data": {
      "text/plain": [
       "1"
      ]
     },
     "execution_count": 17,
     "metadata": {},
     "output_type": "execute_result"
    }
   ],
   "source": [
    "labour.ndim"
   ]
  },
  {
   "cell_type": "code",
   "execution_count": 18,
   "metadata": {},
   "outputs": [
    {
     "data": {
      "text/plain": [
       "(160,)"
      ]
     },
     "execution_count": 18,
     "metadata": {},
     "output_type": "execute_result"
    }
   ],
   "source": [
    "labour.shape"
   ]
  },
  {
   "cell_type": "code",
   "execution_count": 19,
   "metadata": {},
   "outputs": [
    {
     "data": {
      "text/plain": [
       "160"
      ]
     },
     "execution_count": 19,
     "metadata": {},
     "output_type": "execute_result"
    }
   ],
   "source": [
    "labour.size"
   ]
  },
  {
   "cell_type": "code",
   "execution_count": 25,
   "metadata": {},
   "outputs": [
    {
     "data": {
      "text/plain": [
       "count      160.000000\n",
       "mean     10937.191825\n",
       "std        854.506260\n",
       "min       9460.687000\n",
       "25%      10074.903500\n",
       "50%      10932.618000\n",
       "75%      11733.583500\n",
       "max      12330.786000\n",
       "Name: Value, dtype: float64"
      ]
     },
     "execution_count": 25,
     "metadata": {},
     "output_type": "execute_result"
    }
   ],
   "source": [
    "labour.describe()"
   ]
  },
  {
   "cell_type": "code",
   "execution_count": 20,
   "metadata": {},
   "outputs": [],
   "source": [
    "labour.name = \"Labour Force Australia\""
   ]
  },
  {
   "cell_type": "code",
   "execution_count": 22,
   "metadata": {},
   "outputs": [
    {
     "data": {
      "text/plain": [
       "Date\n",
       "2014-04-30    12303.323\n",
       "2014-03-31    12329.103\n",
       "2014-02-28    12330.786\n",
       "2014-01-31    12126.413\n",
       "2013-12-31    12266.032\n",
       "Name: Labour Force Australia, dtype: float64"
      ]
     },
     "execution_count": 22,
     "metadata": {},
     "output_type": "execute_result"
    }
   ],
   "source": [
    "labour.head()"
   ]
  },
  {
   "cell_type": "markdown",
   "metadata": {},
   "source": [
    "## sort_values()\n",
    "The ***sort_values*** method allows us to sort the Series by it's values"
   ]
  },
  {
   "cell_type": "code",
   "execution_count": 95,
   "metadata": {
    "collapsed": true
   },
   "outputs": [],
   "source": [
    "labour = pd.read_csv(\"Labour-Force-Monthly-Australia.csv\", index_col='Date', squeeze=True)"
   ]
  },
  {
   "cell_type": "code",
   "execution_count": 23,
   "metadata": {},
   "outputs": [
    {
     "data": {
      "text/plain": [
       "Date\n",
       "2001-01-31    9460.687\n",
       "2001-03-31    9606.247\n",
       "2001-08-31    9610.032\n",
       "2001-02-28    9621.300\n",
       "2001-07-31    9660.729\n",
       "Name: Labour Force Australia, dtype: float64"
      ]
     },
     "execution_count": 23,
     "metadata": {},
     "output_type": "execute_result"
    }
   ],
   "source": [
    "labour.sort_values().head()"
   ]
  },
  {
   "cell_type": "code",
   "execution_count": 25,
   "metadata": {},
   "outputs": [
    {
     "data": {
      "text/plain": [
       "Date\n",
       "2014-02-28    12330.786\n",
       "2014-03-31    12329.103\n",
       "2014-04-30    12303.323\n",
       "2013-12-31    12266.032\n",
       "2013-09-30    12239.494\n",
       "Name: Labour Force Australia, dtype: float64"
      ]
     },
     "execution_count": 25,
     "metadata": {},
     "output_type": "execute_result"
    }
   ],
   "source": [
    "labour.sort_values(ascending = False).head()"
   ]
  },
  {
   "cell_type": "markdown",
   "metadata": {},
   "source": [
    "### inplace\n",
    "By default changes we make to our series object (like sorting the values) will only be calculated without actually affecting the object. We can change that using the ***inplace*** parameter"
   ]
  },
  {
   "cell_type": "code",
   "execution_count": 35,
   "metadata": {},
   "outputs": [],
   "source": [
    "labour = pd.read_csv(\"Labour-Force-Monthly-Australia.csv\", index_col='Date', squeeze=True)"
   ]
  },
  {
   "cell_type": "code",
   "execution_count": 36,
   "metadata": {},
   "outputs": [
    {
     "data": {
      "text/plain": [
       "Date\n",
       "2001-01-31    9460.687\n",
       "2001-03-31    9606.247\n",
       "2001-08-31    9610.032\n",
       "2001-02-28    9621.300\n",
       "2001-07-31    9660.729\n",
       "Name: Value, dtype: float64"
      ]
     },
     "execution_count": 36,
     "metadata": {},
     "output_type": "execute_result"
    }
   ],
   "source": [
    "labour.sort_values().head()"
   ]
  },
  {
   "cell_type": "markdown",
   "metadata": {},
   "source": [
    "Notice how after sorting the values the order doesn't stick"
   ]
  },
  {
   "cell_type": "code",
   "execution_count": 37,
   "metadata": {},
   "outputs": [
    {
     "data": {
      "text/plain": [
       "Date\n",
       "2014-04-30    12303.323\n",
       "2014-03-31    12329.103\n",
       "2014-02-28    12330.786\n",
       "2014-01-31    12126.413\n",
       "2013-12-31    12266.032\n",
       "Name: Value, dtype: float64"
      ]
     },
     "execution_count": 37,
     "metadata": {},
     "output_type": "execute_result"
    }
   ],
   "source": [
    "labour.head()"
   ]
  },
  {
   "cell_type": "markdown",
   "metadata": {},
   "source": [
    "Using the ***inplace*** parameter will make it permanant (no calculation will appear this time as the code performing the change on the object instead of just calculating it and displaying the result)"
   ]
  },
  {
   "cell_type": "code",
   "execution_count": 31,
   "metadata": {},
   "outputs": [],
   "source": [
    "labour.sort_values(inplace=True)"
   ]
  },
  {
   "cell_type": "code",
   "execution_count": 34,
   "metadata": {},
   "outputs": [
    {
     "data": {
      "text/plain": [
       "Date\n",
       "2001-01-31    9460.687\n",
       "2001-03-31    9606.247\n",
       "2001-08-31    9610.032\n",
       "2001-02-28    9621.300\n",
       "2001-07-31    9660.729\n",
       "Name: Value, dtype: float64"
      ]
     },
     "execution_count": 34,
     "metadata": {},
     "output_type": "execute_result"
    }
   ],
   "source": [
    "labour.head()"
   ]
  },
  {
   "cell_type": "markdown",
   "metadata": {},
   "source": [
    "### sort_index()\n",
    "Allows us to sort the Series by it's index labels"
   ]
  },
  {
   "cell_type": "code",
   "execution_count": 38,
   "metadata": {},
   "outputs": [],
   "source": [
    "labour.sort_index(ascending = True, inplace = True)"
   ]
  },
  {
   "cell_type": "code",
   "execution_count": 39,
   "metadata": {},
   "outputs": [
    {
     "data": {
      "text/plain": [
       "Date\n",
       "2001-01-31    9460.687\n",
       "2001-02-28    9621.300\n",
       "2001-03-31    9606.247\n",
       "2001-04-30    9687.270\n",
       "2001-05-31    9668.858\n",
       "Name: Value, dtype: float64"
      ]
     },
     "execution_count": 39,
     "metadata": {},
     "output_type": "execute_result"
    }
   ],
   "source": [
    "labour.head()"
   ]
  },
  {
   "cell_type": "markdown",
   "metadata": {},
   "source": [
    "### in\n",
    "Using the ***in*** keyword to check for existence in the Series"
   ]
  },
  {
   "cell_type": "code",
   "execution_count": 40,
   "metadata": {},
   "outputs": [],
   "source": [
    "labour = pd.read_csv(\"Labour-Force-Monthly-Australia.csv\", index_col='Date', squeeze=True)"
   ]
  },
  {
   "cell_type": "code",
   "execution_count": 43,
   "metadata": {},
   "outputs": [
    {
     "data": {
      "text/plain": [
       "Date\n",
       "2014-04-30    12303.323\n",
       "2014-03-31    12329.103\n",
       "2014-02-28    12330.786\n",
       "2014-01-31    12126.413\n",
       "2013-12-31    12266.032\n",
       "Name: Value, dtype: float64"
      ]
     },
     "execution_count": 43,
     "metadata": {},
     "output_type": "execute_result"
    }
   ],
   "source": [
    "labour.head()"
   ]
  },
  {
   "cell_type": "code",
   "execution_count": 44,
   "metadata": {},
   "outputs": [
    {
     "data": {
      "text/plain": [
       "True"
      ]
     },
     "execution_count": 44,
     "metadata": {},
     "output_type": "execute_result"
    }
   ],
   "source": [
    "'2014-04-30' in labour"
   ]
  },
  {
   "cell_type": "code",
   "execution_count": 45,
   "metadata": {},
   "outputs": [
    {
     "data": {
      "text/plain": [
       "True"
      ]
     },
     "execution_count": 45,
     "metadata": {},
     "output_type": "execute_result"
    }
   ],
   "source": [
    "'2014-04-30' in labour.index"
   ]
  },
  {
   "cell_type": "code",
   "execution_count": 46,
   "metadata": {},
   "outputs": [
    {
     "data": {
      "text/plain": [
       "False"
      ]
     },
     "execution_count": 46,
     "metadata": {},
     "output_type": "execute_result"
    }
   ],
   "source": [
    "12303.323 in labour"
   ]
  },
  {
   "cell_type": "code",
   "execution_count": 47,
   "metadata": {},
   "outputs": [
    {
     "data": {
      "text/plain": [
       "True"
      ]
     },
     "execution_count": 47,
     "metadata": {},
     "output_type": "execute_result"
    }
   ],
   "source": [
    "12303.323 in labour.values"
   ]
  },
  {
   "cell_type": "markdown",
   "metadata": {},
   "source": [
    "## Extract Values by Index Position"
   ]
  },
  {
   "cell_type": "code",
   "execution_count": 2,
   "metadata": {},
   "outputs": [],
   "source": [
    "regions = pd.read_csv(\"noc_regions.csv\", usecols=['NOC', 'region'], index_col='NOC', squeeze=True)"
   ]
  },
  {
   "cell_type": "code",
   "execution_count": 54,
   "metadata": {},
   "outputs": [
    {
     "data": {
      "text/plain": [
       "NOC\n",
       "AFG       Afghanistan\n",
       "AHO           Curacao\n",
       "ALB           Albania\n",
       "ALG           Algeria\n",
       "AND           Andorra\n",
       "ANG            Angola\n",
       "ANT           Antigua\n",
       "ANZ         Australia\n",
       "ARG         Argentina\n",
       "ARM           Armenia\n",
       "ARU             Aruba\n",
       "ASA    American Samoa\n",
       "AUS         Australia\n",
       "AUT           Austria\n",
       "AZE        Azerbaijan\n",
       "BAH           Bahamas\n",
       "BAN        Bangladesh\n",
       "BAR          Barbados\n",
       "BDI           Burundi\n",
       "BEL           Belgium\n",
       "Name: region, dtype: object"
      ]
     },
     "execution_count": 54,
     "metadata": {},
     "output_type": "execute_result"
    }
   ],
   "source": [
    "regions.head(20)"
   ]
  },
  {
   "cell_type": "markdown",
   "metadata": {},
   "source": [
    "We can use slicers like regular array in numpy even if we replaced the index. Using the index position will return only the value for that label (much like getting a value from a dictionary using it's key)"
   ]
  },
  {
   "cell_type": "code",
   "execution_count": 52,
   "metadata": {},
   "outputs": [
    {
     "data": {
      "text/plain": [
       "'Afghanistan'"
      ]
     },
     "execution_count": 52,
     "metadata": {},
     "output_type": "execute_result"
    }
   ],
   "source": [
    "regions[0]"
   ]
  },
  {
   "cell_type": "markdown",
   "metadata": {},
   "source": [
    "Slicing more then one row will return that part of the series (index + values)"
   ]
  },
  {
   "cell_type": "code",
   "execution_count": 56,
   "metadata": {},
   "outputs": [
    {
     "data": {
      "text/plain": [
       "NOC\n",
       "ALG    Algeria\n",
       "AND    Andorra\n",
       "ANG     Angola\n",
       "ANT    Antigua\n",
       "Name: region, dtype: object"
      ]
     },
     "execution_count": 56,
     "metadata": {},
     "output_type": "execute_result"
    }
   ],
   "source": [
    "regions[3:7]"
   ]
  },
  {
   "cell_type": "code",
   "execution_count": 57,
   "metadata": {},
   "outputs": [
    {
     "data": {
      "text/plain": [
       "NOC\n",
       "AFG    Afghanistan\n",
       "AHO        Curacao\n",
       "ALB        Albania\n",
       "ALG        Algeria\n",
       "AND        Andorra\n",
       "ANG         Angola\n",
       "ANT        Antigua\n",
       "Name: region, dtype: object"
      ]
     },
     "execution_count": 57,
     "metadata": {},
     "output_type": "execute_result"
    }
   ],
   "source": [
    "regions[:7]"
   ]
  },
  {
   "cell_type": "code",
   "execution_count": 59,
   "metadata": {},
   "outputs": [
    {
     "data": {
      "text/plain": [
       "NOC\n",
       "YAR     Yemen\n",
       "YEM     Yemen\n",
       "YMD     Yemen\n",
       "YUG    Serbia\n",
       "Name: region, dtype: object"
      ]
     },
     "execution_count": 59,
     "metadata": {},
     "output_type": "execute_result"
    }
   ],
   "source": [
    "regions[-6:-2]"
   ]
  },
  {
   "cell_type": "code",
   "execution_count": 58,
   "metadata": {},
   "outputs": [
    {
     "data": {
      "text/plain": [
       "NOC\n",
       "ARU      Aruba\n",
       "BEN      Benin\n",
       "BRN    Bahrain\n",
       "ARU      Aruba\n",
       "Name: region, dtype: object"
      ]
     },
     "execution_count": 58,
     "metadata": {},
     "output_type": "execute_result"
    }
   ],
   "source": [
    "regions[[10,20,30,10]]"
   ]
  },
  {
   "cell_type": "markdown",
   "metadata": {},
   "source": [
    "## Extract Values by Index Label\n",
    "In cases where we change the index we can use the original index positions (like shown above) or the new index labels to \"slice\" specific rows and get the value for specified labels"
   ]
  },
  {
   "cell_type": "code",
   "execution_count": 60,
   "metadata": {},
   "outputs": [
    {
     "data": {
      "text/plain": [
       "'Aruba'"
      ]
     },
     "execution_count": 60,
     "metadata": {},
     "output_type": "execute_result"
    }
   ],
   "source": [
    "regions['ARU']"
   ]
  },
  {
   "cell_type": "code",
   "execution_count": 63,
   "metadata": {},
   "outputs": [
    {
     "data": {
      "text/plain": [
       "NOC\n",
       "ARG    Argentina\n",
       "VNM      Vietnam\n",
       "ZIM     Zimbabwe\n",
       "Name: region, dtype: object"
      ]
     },
     "execution_count": 63,
     "metadata": {},
     "output_type": "execute_result"
    }
   ],
   "source": [
    "regions[['ARG', 'VNM', 'ZIM']]"
   ]
  },
  {
   "cell_type": "markdown",
   "metadata": {},
   "source": [
    "We can use labels to define a range. Notice that in these cases the last value is included (unlike numeric ranges)"
   ]
  },
  {
   "cell_type": "code",
   "execution_count": 65,
   "metadata": {},
   "outputs": [
    {
     "data": {
      "text/plain": [
       "NOC\n",
       "ARG         Argentina\n",
       "ARM           Armenia\n",
       "ARU             Aruba\n",
       "ASA    American Samoa\n",
       "AUS         Australia\n",
       "AUT           Austria\n",
       "AZE        Azerbaijan\n",
       "BAH           Bahamas\n",
       "BAN        Bangladesh\n",
       "BAR          Barbados\n",
       "BDI           Burundi\n",
       "BEL           Belgium\n",
       "BEN             Benin\n",
       "BER           Bermuda\n",
       "Name: region, dtype: object"
      ]
     },
     "execution_count": 65,
     "metadata": {},
     "output_type": "execute_result"
    }
   ],
   "source": [
    "regions['ARG':'BER']"
   ]
  },
  {
   "cell_type": "markdown",
   "metadata": {},
   "source": [
    "In case of specifying a wrong label we usually get an error. if the missing label is part of a sequence of labels we will get the result with the missing label getting a ***Nan*** for value"
   ]
  },
  {
   "cell_type": "code",
   "execution_count": 68,
   "metadata": {},
   "outputs": [
    {
     "name": "stderr",
     "output_type": "stream",
     "text": [
      "c:\\users\\eladp\\appdata\\local\\programs\\python\\python36\\lib\\site-packages\\pandas\\core\\series.py:851: FutureWarning: \n",
      "Passing list-likes to .loc or [] with any missing label will raise\n",
      "KeyError in the future, you can use .reindex() as an alternative.\n",
      "\n",
      "See the documentation here:\n",
      "https://pandas.pydata.org/pandas-docs/stable/indexing.html#deprecate-loc-reindex-listlike\n",
      "  return self.loc[key]\n"
     ]
    },
    {
     "data": {
      "text/plain": [
       "NOC\n",
       "USA       USA\n",
       "ISR    Israel\n",
       "ENG       NaN\n",
       "Name: region, dtype: object"
      ]
     },
     "execution_count": 68,
     "metadata": {},
     "output_type": "execute_result"
    }
   ],
   "source": [
    "regions[['USA', 'ISR', 'ENG']]"
   ]
  },
  {
   "cell_type": "markdown",
   "metadata": {},
   "source": [
    "### .get()\n",
    "Used to avoide key error in case of nonexistent index label"
   ]
  },
  {
   "cell_type": "code",
   "execution_count": 69,
   "metadata": {},
   "outputs": [
    {
     "data": {
      "text/plain": [
       "NOC\n",
       "AFG    Afghanistan\n",
       "AHO        Curacao\n",
       "ALB        Albania\n",
       "ALG        Algeria\n",
       "AND        Andorra\n",
       "Name: region, dtype: object"
      ]
     },
     "execution_count": 69,
     "metadata": {},
     "output_type": "execute_result"
    }
   ],
   "source": [
    "regions = pd.read_csv(\"noc_regions.csv\", usecols=['NOC', 'region'], index_col='NOC', squeeze=True)\n",
    "regions.head()"
   ]
  },
  {
   "cell_type": "code",
   "execution_count": 71,
   "metadata": {},
   "outputs": [
    {
     "data": {
      "text/plain": [
       "'Afghanistan'"
      ]
     },
     "execution_count": 71,
     "metadata": {},
     "output_type": "execute_result"
    }
   ],
   "source": [
    "regions.get(key = \"AFG\")"
   ]
  },
  {
   "cell_type": "code",
   "execution_count": 70,
   "metadata": {},
   "outputs": [
    {
     "data": {
      "text/plain": [
       "NOC\n",
       "AFG    Afghanistan\n",
       "AND        Andorra\n",
       "Name: region, dtype: object"
      ]
     },
     "execution_count": 70,
     "metadata": {},
     "output_type": "execute_result"
    }
   ],
   "source": [
    "regions.get(key = [\"AFG\", \"AND\"])"
   ]
  },
  {
   "cell_type": "code",
   "execution_count": 72,
   "metadata": {},
   "outputs": [],
   "source": [
    "regions.get(key = \"TLV\")"
   ]
  },
  {
   "cell_type": "code",
   "execution_count": 3,
   "metadata": {},
   "outputs": [
    {
     "data": {
      "text/plain": [
       "'Invalid Location Code'"
      ]
     },
     "execution_count": 3,
     "metadata": {},
     "output_type": "execute_result"
    }
   ],
   "source": [
    "regions.get(key = \"TLV\", default='Invalid Location Code')"
   ]
  },
  {
   "cell_type": "markdown",
   "metadata": {},
   "source": [
    "### value_counts\n",
    "Returns a summary of the Series that shows how many occurances of each value are in the Series. Results are also sorted in descending error"
   ]
  },
  {
   "cell_type": "code",
   "execution_count": 7,
   "metadata": {},
   "outputs": [
    {
     "data": {
      "text/plain": [
       "Customer ID\n",
       "100000001             England\n",
       "400000002    Northern Ireland\n",
       "100000003             England\n",
       "300000004               Wales\n",
       "100000005             England\n",
       "Name: Region, dtype: object"
      ]
     },
     "execution_count": 7,
     "metadata": {},
     "output_type": "execute_result"
    }
   ],
   "source": [
    "customers = pd.read_csv('UK_Bank_Customers.csv', usecols=['Customer ID', 'Region'], index_col='Customer ID', squeeze=True)\n",
    "customers.head()"
   ]
  },
  {
   "cell_type": "code",
   "execution_count": 10,
   "metadata": {},
   "outputs": [
    {
     "data": {
      "text/plain": [
       "England             2159\n",
       "Scotland            1124\n",
       "Wales                520\n",
       "Northern Ireland     211\n",
       "Name: Region, dtype: int64"
      ]
     },
     "execution_count": 10,
     "metadata": {},
     "output_type": "execute_result"
    }
   ],
   "source": [
    "customers.value_counts()"
   ]
  },
  {
   "cell_type": "code",
   "execution_count": 11,
   "metadata": {},
   "outputs": [
    {
     "data": {
      "text/plain": [
       "4014"
      ]
     },
     "execution_count": 11,
     "metadata": {},
     "output_type": "execute_result"
    }
   ],
   "source": [
    "customers.value_counts().sum()"
   ]
  },
  {
   "cell_type": "code",
   "execution_count": 12,
   "metadata": {},
   "outputs": [
    {
     "data": {
      "text/plain": [
       "4014"
      ]
     },
     "execution_count": 12,
     "metadata": {},
     "output_type": "execute_result"
    }
   ],
   "source": [
    "customers.count()"
   ]
  },
  {
   "cell_type": "code",
   "execution_count": 13,
   "metadata": {},
   "outputs": [
    {
     "data": {
      "text/plain": [
       "Northern Ireland     211\n",
       "Wales                520\n",
       "Scotland            1124\n",
       "England             2159\n",
       "Name: Region, dtype: int64"
      ]
     },
     "execution_count": 13,
     "metadata": {},
     "output_type": "execute_result"
    }
   ],
   "source": [
    "customers.value_counts(ascending = True)"
   ]
  },
  {
   "cell_type": "markdown",
   "metadata": {},
   "source": [
    "### apply()\n",
    "The ***apply*** method gets a function as argument and will apply it to each value in the Series"
   ]
  },
  {
   "cell_type": "code",
   "execution_count": 18,
   "metadata": {},
   "outputs": [
    {
     "data": {
      "text/plain": [
       "Customer ID\n",
       "100000001    113810.15\n",
       "400000002     36919.73\n",
       "100000003    101536.83\n",
       "300000004      1421.52\n",
       "100000005     35639.79\n",
       "Name: Balance, dtype: float64"
      ]
     },
     "execution_count": 18,
     "metadata": {},
     "output_type": "execute_result"
    }
   ],
   "source": [
    "customers = pd.read_csv('UK_Bank_Customers.csv', usecols=['Customer ID', 'Balance'], index_col='Customer ID', squeeze=True)\n",
    "customers.head()"
   ]
  },
  {
   "cell_type": "code",
   "execution_count": 19,
   "metadata": {},
   "outputs": [],
   "source": [
    "def customer_priority(balance):\n",
    "    if balance <= 1000:\n",
    "        return \"Low\"\n",
    "    elif 1000 < balance <= 20000:\n",
    "        return \"Medium\"\n",
    "    elif 20000 < balance <= 100000:\n",
    "        return \"High\"\n",
    "    else:\n",
    "        return \"VIP\""
   ]
  },
  {
   "cell_type": "code",
   "execution_count": 20,
   "metadata": {},
   "outputs": [
    {
     "data": {
      "text/plain": [
       "Customer ID\n",
       "100000001       VIP\n",
       "400000002      High\n",
       "100000003       VIP\n",
       "300000004    Medium\n",
       "100000005      High\n",
       "300000006       VIP\n",
       "100000007      High\n",
       "200000008      High\n",
       "300000009      High\n",
       "100000010    Medium\n",
       "100000011      High\n",
       "100000012      High\n",
       "100000013      High\n",
       "200000014      High\n",
       "300000015    Medium\n",
       "Name: Balance, dtype: object"
      ]
     },
     "execution_count": 20,
     "metadata": {},
     "output_type": "execute_result"
    }
   ],
   "source": [
    "customers.apply(customer_priority).head(15)"
   ]
  },
  {
   "cell_type": "code",
   "execution_count": 22,
   "metadata": {},
   "outputs": [
    {
     "data": {
      "text/plain": [
       "Customer ID\n",
       "100001320    Low\n",
       "400000075    Low\n",
       "200000775    Low\n",
       "400002046    Low\n",
       "300003468    Low\n",
       "Name: Balance, dtype: object"
      ]
     },
     "execution_count": 22,
     "metadata": {},
     "output_type": "execute_result"
    }
   ],
   "source": [
    "customers.sort_values().apply(customer_priority).head()"
   ]
  },
  {
   "cell_type": "markdown",
   "metadata": {},
   "source": [
    "Instead of writing an entire function we can use Lambda expressions"
   ]
  },
  {
   "cell_type": "code",
   "execution_count": 25,
   "metadata": {},
   "outputs": [
    {
     "data": {
      "text/plain": [
       "Customer ID\n",
       "100000001    125191.165\n",
       "400000002     33227.757\n",
       "100000003    111690.513\n",
       "300000004      1279.368\n",
       "100000005     32075.811\n",
       "Name: Balance, dtype: float64"
      ]
     },
     "execution_count": 25,
     "metadata": {},
     "output_type": "execute_result"
    }
   ],
   "source": [
    "customers.apply(lambda balance : balance * 1.1 if balance > 50000 else balance * 0.9).head()"
   ]
  },
  {
   "cell_type": "markdown",
   "metadata": {},
   "source": [
    "### map()"
   ]
  },
  {
   "cell_type": "code",
   "execution_count": 28,
   "metadata": {},
   "outputs": [
    {
     "data": {
      "text/plain": [
       "OrderNumber\n",
       "SO45080    332\n",
       "SO45079    312\n",
       "SO45082    350\n",
       "SO45081    338\n",
       "SO45083    312\n",
       "Name: ProductKey, dtype: int64"
      ]
     },
     "execution_count": 28,
     "metadata": {},
     "output_type": "execute_result"
    }
   ],
   "source": [
    "sales = pd.read_csv('AdventureWorks-Sales-2015.csv', usecols=['OrderNumber', 'ProductKey'], index_col='OrderNumber', squeeze=True)\n",
    "sales.head()"
   ]
  },
  {
   "cell_type": "code",
   "execution_count": 30,
   "metadata": {},
   "outputs": [
    {
     "data": {
      "text/plain": [
       "ProductKey\n",
       "214      Sport-100 Helmet, Red\n",
       "215    Sport-100 Helmet, Black\n",
       "218     Mountain Bike Socks, M\n",
       "219     Mountain Bike Socks, L\n",
       "220     Sport-100 Helmet, Blue\n",
       "Name: ProductName, dtype: object"
      ]
     },
     "execution_count": 30,
     "metadata": {},
     "output_type": "execute_result"
    }
   ],
   "source": [
    "products = pd.read_csv('AdventureWorks-Products.csv', usecols=['ProductKey', 'ProductName'], index_col='ProductKey', squeeze=True)\n",
    "products.head()"
   ]
  },
  {
   "cell_type": "code",
   "execution_count": 31,
   "metadata": {},
   "outputs": [
    {
     "data": {
      "text/plain": [
       "OrderNumber\n",
       "SO45080        Road-650 Black, 58\n",
       "SO45079          Road-150 Red, 48\n",
       "SO45082    Mountain-100 Black, 44\n",
       "SO45081        Road-650 Black, 44\n",
       "SO45083          Road-150 Red, 48\n",
       "Name: ProductKey, dtype: object"
      ]
     },
     "execution_count": 31,
     "metadata": {},
     "output_type": "execute_result"
    }
   ],
   "source": [
    "sales.map(products).head()"
   ]
  }
 ],
 "metadata": {
  "anaconda-cloud": {},
  "kernelspec": {
   "display_name": "Python 3",
   "language": "python",
   "name": "python3"
  },
  "language_info": {
   "codemirror_mode": {
    "name": "ipython",
    "version": 3
   },
   "file_extension": ".py",
   "mimetype": "text/x-python",
   "name": "python",
   "nbconvert_exporter": "python",
   "pygments_lexer": "ipython3",
   "version": "3.6.5"
  }
 },
 "nbformat": 4,
 "nbformat_minor": 1
}
