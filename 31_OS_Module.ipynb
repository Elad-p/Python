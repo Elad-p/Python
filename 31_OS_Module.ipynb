{
 "cells": [
  {
   "cell_type": "markdown",
   "metadata": {},
   "source": [
    "# The OS Module"
   ]
  },
  {
   "cell_type": "code",
   "execution_count": 1,
   "metadata": {},
   "outputs": [
    {
     "data": {
      "text/html": [
       "<iframe width=\"840\" height=\"473\" src=\"https://www.youtube.com/embed/STXUU1yB30w\" title=\"YouTube video player\" frameborder=\"0\" allow=\"accelerometer; autoplay; clipboard-write; encrypted-media; gyroscope; picture-in-picture\" allowfullscreen></iframe>\n"
      ],
      "text/plain": [
       "<IPython.core.display.HTML object>"
      ]
     },
     "metadata": {},
     "output_type": "display_data"
    }
   ],
   "source": [
    "%%html\n",
    "<iframe width=\"840\" height=\"473\" src=\"https://www.youtube.com/embed/STXUU1yB30w\" title=\"YouTube video player\" frameborder=\"0\" allow=\"accelerometer; autoplay; clipboard-write; encrypted-media; gyroscope; picture-in-picture\" allowfullscreen></iframe>"
   ]
  },
  {
   "cell_type": "markdown",
   "metadata": {},
   "source": [
    "Import the module"
   ]
  },
  {
   "cell_type": "code",
   "execution_count": 1,
   "metadata": {},
   "outputs": [],
   "source": [
    "import os"
   ]
  },
  {
   "cell_type": "markdown",
   "metadata": {},
   "source": [
    "Find current working directory. This is the folder that Python reffers to as \"root\".<br/> In the case of Jupyter it's also the physical location of the notebook"
   ]
  },
  {
   "cell_type": "code",
   "execution_count": 7,
   "metadata": {},
   "outputs": [
    {
     "data": {
      "text/plain": [
       "'d:\\\\Python\\\\MyProject'"
      ]
     },
     "execution_count": 7,
     "metadata": {},
     "output_type": "execute_result"
    }
   ],
   "source": [
    "os.getcwd()"
   ]
  },
  {
   "cell_type": "markdown",
   "metadata": {},
   "source": [
    "We can change that setting with the `chdir` (change directory) function.<br/>\n",
    "If not changed, this setting will apply through the rest of this session<br/>\n",
    "Use the `r` prefix to indicate \"raw\" text and avoid special meaning of different character combinations"
   ]
  },
  {
   "cell_type": "code",
   "execution_count": 9,
   "metadata": {},
   "outputs": [
    {
     "data": {
      "text/plain": [
       "'D:\\\\Python\\\\MyOtherProject'"
      ]
     },
     "execution_count": 9,
     "metadata": {},
     "output_type": "execute_result"
    }
   ],
   "source": [
    "os.chdir(r'D:\\Python\\MyOtherProject')\n",
    "os.getcwd()"
   ]
  },
  {
   "cell_type": "markdown",
   "metadata": {},
   "source": [
    "Non-existent path will generate an error"
   ]
  },
  {
   "cell_type": "code",
   "execution_count": 10,
   "metadata": {},
   "outputs": [
    {
     "ename": "FileNotFoundError",
     "evalue": "[WinError 2] The system cannot find the file specified: 'D:\\\\Python\\\\NewProject'",
     "output_type": "error",
     "traceback": [
      "\u001b[1;31m---------------------------------------------------------------------------\u001b[0m",
      "\u001b[1;31mFileNotFoundError\u001b[0m                         Traceback (most recent call last)",
      "\u001b[1;32m<ipython-input-10-fe6e040c0bca>\u001b[0m in \u001b[0;36m<module>\u001b[1;34m()\u001b[0m\n\u001b[1;32m----> 1\u001b[1;33m \u001b[0mos\u001b[0m\u001b[1;33m.\u001b[0m\u001b[0mchdir\u001b[0m\u001b[1;33m(\u001b[0m\u001b[1;34mr'D:\\Python\\NewProject'\u001b[0m\u001b[1;33m)\u001b[0m\u001b[1;33m\u001b[0m\u001b[1;33m\u001b[0m\u001b[0m\n\u001b[0m",
      "\u001b[1;31mFileNotFoundError\u001b[0m: [WinError 2] The system cannot find the file specified: 'D:\\\\Python\\\\NewProject'"
     ]
    }
   ],
   "source": [
    "os.chdir(r'D:\\Python\\NewProject')"
   ]
  },
  {
   "cell_type": "markdown",
   "metadata": {},
   "source": [
    "We can check if directory exists with the `path` function."
   ]
  },
  {
   "cell_type": "code",
   "execution_count": 12,
   "metadata": {},
   "outputs": [
    {
     "name": "stdout",
     "output_type": "stream",
     "text": [
      "True\n",
      "False\n"
     ]
    }
   ],
   "source": [
    "print(os.path.exists(r'D:\\Python\\MyProject'))\n",
    "print(os.path.exists(r'D:\\Python\\NewProject'))"
   ]
  },
  {
   "cell_type": "markdown",
   "metadata": {},
   "source": [
    "The function `mkdir` is used to create new directories.<br/>\n",
    "The following code will check if the path exists, if so will make it rootand if not, generate it and then make it root"
   ]
  },
  {
   "cell_type": "code",
   "execution_count": 4,
   "metadata": {},
   "outputs": [
    {
     "data": {
      "text/plain": [
       "'D:\\\\Python\\\\NewProject'"
      ]
     },
     "execution_count": 4,
     "metadata": {},
     "output_type": "execute_result"
    }
   ],
   "source": [
    "folder = r'D:\\Python\\NewProject'\n",
    "if os.path.exists(folder):\n",
    "    os.chdir(folder)\n",
    "else:\n",
    "    os.mkdir(folder)\n",
    "    os.chdir(folder)\n",
    "    \n",
    "os.getcwd()"
   ]
  },
  {
   "cell_type": "markdown",
   "metadata": {},
   "source": [
    "Use the `listdir` function to get the contents of a folder as a list.<br/>\n",
    "The default path is `'.'` which reffers to current location (currnet root).\n",
    "In this case the folder is empty because we just created it."
   ]
  },
  {
   "cell_type": "code",
   "execution_count": 16,
   "metadata": {},
   "outputs": [
    {
     "data": {
      "text/plain": [
       "[]"
      ]
     },
     "execution_count": 16,
     "metadata": {},
     "output_type": "execute_result"
    }
   ],
   "source": [
    "os.listdir()"
   ]
  },
  {
   "cell_type": "markdown",
   "metadata": {},
   "source": [
    "But we can give the function any other location as relative of absolute path. Let's go up one folder and then down to the original folder that was used in this notebook"
   ]
  },
  {
   "cell_type": "code",
   "execution_count": 18,
   "metadata": {},
   "outputs": [
    {
     "data": {
      "text/plain": [
       "['file1.txt', 'file2.txt', 'file3.txt']"
      ]
     },
     "execution_count": 18,
     "metadata": {},
     "output_type": "execute_result"
    }
   ],
   "source": [
    "os.listdir(r'..\\MyProject')"
   ]
  },
  {
   "cell_type": "markdown",
   "metadata": {},
   "source": [
    "`mkdir` can create a single folder inside an already existing folder but if we want to create a deeper path we will get an error"
   ]
  },
  {
   "cell_type": "code",
   "execution_count": 21,
   "metadata": {},
   "outputs": [
    {
     "ename": "FileNotFoundError",
     "evalue": "[WinError 3] The system cannot find the path specified: 'NewFolder/NewSubFolder'",
     "output_type": "error",
     "traceback": [
      "\u001b[1;31m---------------------------------------------------------------------------\u001b[0m",
      "\u001b[1;31mFileNotFoundError\u001b[0m                         Traceback (most recent call last)",
      "\u001b[1;32m<ipython-input-21-c9cbc48689a2>\u001b[0m in \u001b[0;36m<module>\u001b[1;34m()\u001b[0m\n\u001b[1;32m----> 1\u001b[1;33m \u001b[0mos\u001b[0m\u001b[1;33m.\u001b[0m\u001b[0mmkdir\u001b[0m\u001b[1;33m(\u001b[0m\u001b[1;34mr'NewFolder/NewSubFolder'\u001b[0m\u001b[1;33m)\u001b[0m\u001b[1;33m\u001b[0m\u001b[1;33m\u001b[0m\u001b[0m\n\u001b[0m",
      "\u001b[1;31mFileNotFoundError\u001b[0m: [WinError 3] The system cannot find the path specified: 'NewFolder/NewSubFolder'"
     ]
    }
   ],
   "source": [
    "os.mkdir(r'NewFolder\\NewSubFolder')"
   ]
  },
  {
   "cell_type": "markdown",
   "metadata": {},
   "source": [
    "This is where we can use `makedirs` to create our nested folder and all the folders above it that do not currently exists"
   ]
  },
  {
   "cell_type": "code",
   "execution_count": 35,
   "metadata": {},
   "outputs": [
    {
     "data": {
      "text/plain": [
       "['NewFolder']"
      ]
     },
     "execution_count": 35,
     "metadata": {},
     "output_type": "execute_result"
    }
   ],
   "source": [
    "os.makedirs(r'NewFolder\\NewSubFolder')\n",
    "os.listdir()"
   ]
  },
  {
   "cell_type": "markdown",
   "metadata": {},
   "source": [
    "We can remove a single, empty folder with `rmdir` (we get an error if it contain other files or nested folders)"
   ]
  },
  {
   "cell_type": "code",
   "execution_count": 36,
   "metadata": {},
   "outputs": [
    {
     "data": {
      "text/plain": [
       "['NewFolder']"
      ]
     },
     "execution_count": 36,
     "metadata": {},
     "output_type": "execute_result"
    }
   ],
   "source": [
    "os.rmdir(r'NewFolder\\NewSubFolder')\n",
    "os.listdir()"
   ]
  },
  {
   "cell_type": "markdown",
   "metadata": {},
   "source": [
    "NewFolder still exists (only last level was deleted)<br/><br/>\n",
    "\n",
    "We can rename files or folders with the `rename` function. If it's a file we have to remember to include the file extension as well"
   ]
  },
  {
   "cell_type": "code",
   "execution_count": 42,
   "metadata": {},
   "outputs": [
    {
     "data": {
      "text/plain": [
       "['OldFolder']"
      ]
     },
     "execution_count": 42,
     "metadata": {},
     "output_type": "execute_result"
    }
   ],
   "source": [
    "os.rename('NewFolder', 'OldFolder')\n",
    "os.listdir()"
   ]
  },
  {
   "cell_type": "markdown",
   "metadata": {},
   "source": [
    "We can get more information about specific files using `stat`"
   ]
  },
  {
   "cell_type": "code",
   "execution_count": 54,
   "metadata": {},
   "outputs": [
    {
     "name": "stdout",
     "output_type": "stream",
     "text": [
      "['file1.txt', 'file2.txt', 'file3.txt']\n",
      "<class 'os.stat_result'>\n"
     ]
    }
   ],
   "source": [
    "print(os.listdir(r'..\\MyProject'))\n",
    "file_info = os.stat(r'..\\MyProject\\file1.txt')\n",
    "print(type(file_info))"
   ]
  },
  {
   "cell_type": "markdown",
   "metadata": {},
   "source": [
    "Now we can view details such as the file's size, creation date or modification date"
   ]
  },
  {
   "cell_type": "code",
   "execution_count": 55,
   "metadata": {},
   "outputs": [
    {
     "name": "stdout",
     "output_type": "stream",
     "text": [
      "size in bytes:\t35428\n",
      "file creation time:\t1573588101.0728343\n",
      "file's last modification time:\t1573599480.3227842\n"
     ]
    }
   ],
   "source": [
    "print(f'size in bytes:\\t{file_info.st_size}')\n",
    "print(f'file creation time:\\t{file_info.st_ctime}')\n",
    "print(f'file\\'s last modification time:\\t{file_info.st_mtime}')"
   ]
  },
  {
   "cell_type": "markdown",
   "metadata": {},
   "source": [
    "These time stamps are not very helpful. We can fix that by converting them into readble dates"
   ]
  },
  {
   "cell_type": "code",
   "execution_count": 58,
   "metadata": {},
   "outputs": [
    {
     "name": "stdout",
     "output_type": "stream",
     "text": [
      "file creation time:\t2019-11-12 21:48:21.072834\n",
      "file's last modification time:\t2019-11-13 00:58:00.322784\n"
     ]
    }
   ],
   "source": [
    "import datetime as dt\n",
    "\n",
    "creation_time = dt.datetime.fromtimestamp(file_info.st_ctime)\n",
    "print(f'file creation time:\\t{creation_time}')\n",
    "\n",
    "mod_time = dt.datetime.fromtimestamp(file_info.st_mtime)\n",
    "print(f'file\\'s last modification time:\\t{mod_time}')"
   ]
  },
  {
   "cell_type": "markdown",
   "metadata": {},
   "source": [
    "Get all the names and values of the system's environment variables with `environ` (output returns as distionary)"
   ]
  },
  {
   "cell_type": "code",
   "execution_count": 6,
   "metadata": {},
   "outputs": [
    {
     "name": "stdout",
     "output_type": "stream",
     "text": [
      "ALLUSERSPROFILE\n",
      "APPDATA\n",
      "ASL.LOG\n",
      "COMMONPROGRAMFILES\n",
      "COMMONPROGRAMFILES(X86)\n",
      "COMMONPROGRAMW6432\n",
      "COMPUTERNAME\n",
      "COMSPEC\n",
      "DASHLANE_DLL_DIR\n",
      "DRIVERDATA\n",
      "FPS_BROWSER_APP_PROFILE_STRING\n",
      "FPS_BROWSER_USER_PROFILE_STRING\n",
      "HOMEDRIVE\n",
      "HOMEPATH\n",
      "JD2_HOME\n",
      "LOCALAPPDATA\n",
      "LOGONSERVER\n",
      "MSMPI_BIN\n",
      "NUMBER_OF_PROCESSORS\n",
      "ONEDRIVE\n",
      "ONEDRIVECONSUMER\n",
      "OS\n",
      "PATH\n",
      "PATHEXT\n",
      "PROCESSOR_ARCHITECTURE\n",
      "PROCESSOR_ARCHITEW6432\n",
      "PROCESSOR_IDENTIFIER\n",
      "PROCESSOR_LEVEL\n",
      "PROCESSOR_REVISION\n",
      "PROGRAMDATA\n",
      "PROGRAMFILES\n",
      "PROGRAMFILES(X86)\n",
      "PROGRAMW6432\n",
      "PROMPT\n",
      "PSMODULEPATH\n",
      "PUBLIC\n",
      "SESSIONNAME\n",
      "SYSTEMDRIVE\n",
      "SYSTEMROOT\n",
      "TEMP\n",
      "TMP\n",
      "USERDOMAIN\n",
      "USERDOMAIN_ROAMINGPROFILE\n",
      "USERNAME\n",
      "USERPROFILE\n",
      "VBOX_MSI_INSTALL_PATH\n",
      "WINDIR\n",
      "JPY_INTERRUPT_EVENT\n",
      "IPY_INTERRUPT_EVENT\n",
      "JPY_PARENT_PID\n",
      "TERM\n",
      "CLICOLOR\n",
      "PAGER\n",
      "GIT_PAGER\n",
      "MPLBACKEND\n"
     ]
    }
   ],
   "source": [
    "for var_name in os.environ:\n",
    "    print(var_name)"
   ]
  },
  {
   "cell_type": "markdown",
   "metadata": {},
   "source": [
    "Like any dictionary, we can use the `get` method to get the value of a specific variable"
   ]
  },
  {
   "cell_type": "code",
   "execution_count": 8,
   "metadata": {},
   "outputs": [
    {
     "data": {
      "text/plain": [
       "'\\\\Users\\\\eladp'"
      ]
     },
     "execution_count": 8,
     "metadata": {},
     "output_type": "execute_result"
    }
   ],
   "source": [
    "os.environ.get('HOMEPATH')"
   ]
  },
  {
   "cell_type": "markdown",
   "metadata": {},
   "source": [
    "## walk\n",
    "`walk` takes a folder path and fetches the entire directory tree under that main folder by returning an iterable of 3-valued tuples comprised of the directory, all folders under that directory and all files under each directory it finds, recursivly"
   ]
  },
  {
   "cell_type": "code",
   "execution_count": 28,
   "metadata": {},
   "outputs": [
    {
     "name": "stdout",
     "output_type": "stream",
     "text": [
      "Current Directory Name: ..\\MyProject\n",
      "Nested Directories: ['Project Files']\n",
      "Files: ['file1.txt', 'file2.txt', 'file3.txt']\n",
      "\n",
      "\n",
      "Current Directory Name: ..\\MyProject\\Project Files\n",
      "Nested Directories: ['Folder1', 'Folder2', 'Folder3']\n",
      "Files: []\n",
      "\n",
      "\n",
      "Current Directory Name: ..\\MyProject\\Project Files\\Folder1\n",
      "Nested Directories: []\n",
      "Files: ['file1.1.txt', 'file1.2.txt', 'file1.3.txt']\n",
      "\n",
      "\n",
      "Current Directory Name: ..\\MyProject\\Project Files\\Folder2\n",
      "Nested Directories: []\n",
      "Files: ['file2.1.txt', 'file2.2.txt', 'file2.3.txt']\n",
      "\n",
      "\n",
      "Current Directory Name: ..\\MyProject\\Project Files\\Folder3\n",
      "Nested Directories: []\n",
      "Files: ['file3.1.txt', 'file3.2.txt', 'file3.3.txt']\n",
      "\n",
      "\n"
     ]
    }
   ],
   "source": [
    "path = '..\\MyProject'\n",
    "for current_dir, nested_dirs, file_names in os.walk(path):\n",
    "    print(f'Current Directory Name: {current_dir}')\n",
    "    print(f'Nested Directories: {nested_dirs}')\n",
    "    print(f'Files: {file_names}\\n\\n')"
   ]
  },
  {
   "cell_type": "markdown",
   "metadata": {},
   "source": [
    "## path\n",
    "The `path` fucntion contains a lot of useful commands\n",
    "\n",
    "use `path.join` to easily generate valid path strings"
   ]
  },
  {
   "cell_type": "code",
   "execution_count": 8,
   "metadata": {},
   "outputs": [
    {
     "data": {
      "text/plain": [
       "'D:\\\\Python\\\\NewProject\\\\file_name.txt'"
      ]
     },
     "execution_count": 8,
     "metadata": {},
     "output_type": "execute_result"
    }
   ],
   "source": [
    "os.path.join(os.getcwd(), 'file_name.txt')"
   ]
  },
  {
   "cell_type": "markdown",
   "metadata": {},
   "source": [
    "Print entire path of all the files in the root directory tree"
   ]
  },
  {
   "cell_type": "code",
   "execution_count": 61,
   "metadata": {},
   "outputs": [
    {
     "name": "stdout",
     "output_type": "stream",
     "text": [
      "..\\MyProject\\file1.txt\n",
      "..\\MyProject\\file2.txt\n",
      "..\\MyProject\\file3.txt\n",
      "..\\MyProject\\Project Files\\Folder1\\file1.1.txt\n",
      "..\\MyProject\\Project Files\\Folder1\\file1.2.txt\n",
      "..\\MyProject\\Project Files\\Folder1\\file1.3.txt\n",
      "..\\MyProject\\Project Files\\Folder2\\file2.1.txt\n",
      "..\\MyProject\\Project Files\\Folder2\\file2.2.txt\n",
      "..\\MyProject\\Project Files\\Folder2\\file2.3.txt\n",
      "..\\MyProject\\Project Files\\Folder3\\file3.1.txt\n",
      "..\\MyProject\\Project Files\\Folder3\\file3.2.txt\n",
      "..\\MyProject\\Project Files\\Folder3\\file3.3.txt\n"
     ]
    }
   ],
   "source": [
    "for current_folder, nested_folders,files in os.walk(path):\n",
    "    for file in files:\n",
    "        print(os.path.join(current_folder,file))"
   ]
  },
  {
   "cell_type": "markdown",
   "metadata": {},
   "source": [
    "The `basename` will return only the lowest level out of a path"
   ]
  },
  {
   "cell_type": "code",
   "execution_count": 57,
   "metadata": {},
   "outputs": [
    {
     "name": "stdout",
     "output_type": "stream",
     "text": [
      "Folder2\n",
      "file2.1.txt\n"
     ]
    }
   ],
   "source": [
    "print(os.path.basename(r'..\\MyProject\\Project Files\\Folder2'))\n",
    "print(os.path.basename(r'..\\MyProject\\Project Files\\Folder2\\file2.1.txt'))"
   ]
  },
  {
   "cell_type": "markdown",
   "metadata": {},
   "source": [
    "`dirname` will do the opposite and return all the path up to lowest level"
   ]
  },
  {
   "cell_type": "code",
   "execution_count": 55,
   "metadata": {},
   "outputs": [
    {
     "name": "stdout",
     "output_type": "stream",
     "text": [
      "..\\MyProject\\Project Files\n",
      "..\\MyProject\\Project Files\\Folder2\n"
     ]
    }
   ],
   "source": [
    "print(os.path.dirname(r'..\\MyProject\\Project Files\\Folder2'))\n",
    "print(os.path.dirname(r'..\\MyProject\\Project Files\\Folder2\\file2.1.txt'))"
   ]
  },
  {
   "cell_type": "markdown",
   "metadata": {},
   "source": [
    "`split` returns both parts as a tuple"
   ]
  },
  {
   "cell_type": "code",
   "execution_count": 56,
   "metadata": {},
   "outputs": [
    {
     "name": "stdout",
     "output_type": "stream",
     "text": [
      "('..\\\\MyProject\\\\Project Files', 'Folder2')\n",
      "('..\\\\MyProject\\\\Project Files\\\\Folder2', 'file2.1.txt')\n"
     ]
    }
   ],
   "source": [
    "print(os.path.split(r'..\\MyProject\\Project Files\\Folder2'))\n",
    "print(os.path.split(r'..\\MyProject\\Project Files\\Folder2\\file2.1.txt'))"
   ]
  },
  {
   "cell_type": "code",
   "execution_count": 54,
   "metadata": {},
   "outputs": [
    {
     "name": "stdout",
     "output_type": "stream",
     "text": [
      "True\n",
      "True\n",
      "False\n"
     ]
    }
   ],
   "source": [
    "print(os.path.exists(r'..\\MyProject\\Project Files\\Folder2'))\n",
    "print(os.path.exists(r'..\\MyProject\\Project Files\\Folder2\\file2.1.txt'))\n",
    "print(os.path.exists(r'..\\MyProject\\Project Files\\Folder2\\file999.txt'))"
   ]
  },
  {
   "cell_type": "markdown",
   "metadata": {},
   "source": [
    "We can check to see if each object in a certain path is a folder or a file"
   ]
  },
  {
   "cell_type": "code",
   "execution_count": 59,
   "metadata": {},
   "outputs": [
    {
     "name": "stdout",
     "output_type": "stream",
     "text": [
      "True\n",
      "True\n"
     ]
    }
   ],
   "source": [
    "print(os.path.isdir(r'..\\MyProject\\Project Files\\Folder2'))\n",
    "print(os.path.isfile(r'..\\MyProject\\Project Files\\Folder2\\file2.1.txt'))"
   ]
  },
  {
   "cell_type": "markdown",
   "metadata": {},
   "source": [
    "`splitext` will return the extension of a given file path"
   ]
  },
  {
   "cell_type": "code",
   "execution_count": 63,
   "metadata": {},
   "outputs": [
    {
     "name": "stdout",
     "output_type": "stream",
     "text": [
      "('..\\\\MyProject\\\\Project Files\\\\Folder2\\\\file2.1', '.txt')\n",
      "('..\\\\MyProject\\\\Project Files\\\\Folder2\\\\file2.1', '.csv')\n"
     ]
    }
   ],
   "source": [
    "print(os.path.splitext(r'..\\MyProject\\Project Files\\Folder2\\file2.1.txt'))\n",
    "print(os.path.splitext(r'..\\MyProject\\Project Files\\Folder2\\file2.1.csv'))"
   ]
  }
 ],
 "metadata": {
  "kernelspec": {
   "display_name": "Python 3",
   "language": "python",
   "name": "python3"
  },
  "language_info": {
   "codemirror_mode": {
    "name": "ipython",
    "version": 3
   },
   "file_extension": ".py",
   "mimetype": "text/x-python",
   "name": "python",
   "nbconvert_exporter": "python",
   "pygments_lexer": "ipython3",
   "version": "3.8.9"
  }
 },
 "nbformat": 4,
 "nbformat_minor": 2
}
